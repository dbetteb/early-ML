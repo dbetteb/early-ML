{
 "cells": [
  {
   "cell_type": "markdown",
   "metadata": {
    "slideshow": {
     "slide_type": "slide"
    }
   },
   "source": [
    "<div class=\"jumbotron text-left\"><b>\n",
    "This tutorial describes how to use the SMT toolbox with multifidelity data to build a surrogate model \n",
    "SMT which is a python toolbox for building a surrogate model.</b></div>\n",
    "\n",
    "Mostafa Meliani ISAE-SUPAERO student\n",
    "\n",
    "Nathalie BARTOLI ONERA/DTIS/M2CI - January 2021"
   ]
  },
  {
   "cell_type": "markdown",
   "metadata": {
    "slideshow": {
     "slide_type": "slide"
    }
   },
   "source": [
    "<p class=\"alert alert-success\" style=\"padding:1em\">\n",
    "To use SMT models, please follow this link : https://github.com/SMTorg/SMT/blob/master/README.md. \n",
    "    The doc is available here: http://smt.readthedocs.io/en/latest/\n",
    "</p>\n",
    "\n",
    "\n",
    "For the multifidelity extension, a description of the algorithm is available here https://arc.aiaa.org/doi/pdf/10.2514/6.2019-3236"
   ]
  },
  {
   "cell_type": "code",
   "execution_count": 9,
   "metadata": {
    "slideshow": {
     "slide_type": "subslide"
    }
   },
   "outputs": [
    {
     "name": "stdout",
     "output_type": "stream",
     "text": [
      "Requirement already satisfied: smt in d:\\bartoli\\dev_python3\\smt (0.6.0)\n",
      "Requirement already satisfied: scikit-learn in d:\\bartoli\\anaconda3\\lib\\site-packages (from smt) (0.23.2)\n",
      "Requirement already satisfied: packaging in d:\\bartoli\\anaconda3\\lib\\site-packages (from smt) (20.4)\n",
      "Requirement already satisfied: pyDOE2 in d:\\bartoli\\anaconda3\\lib\\site-packages (from smt) (1.3.0)\n",
      "Requirement already satisfied: matplotlib in d:\\bartoli\\appdata\\roaming\\python\\python38\\site-packages (from smt) (3.3.3)\n",
      "Requirement already satisfied: numpydoc in d:\\bartoli\\anaconda3\\lib\\site-packages (from smt) (1.1.0)\n",
      "Requirement already satisfied: scipy in d:\\bartoli\\anaconda3\\lib\\site-packages (from smt) (1.5.3)\n",
      "Requirement already satisfied: numpy>=1.15 in d:\\bartoli\\anaconda3\\lib\\site-packages (from matplotlib->smt) (1.19.3)\n",
      "Requirement already satisfied: kiwisolver>=1.0.1 in d:\\bartoli\\anaconda3\\lib\\site-packages (from matplotlib->smt) (1.2.0)\n",
      "Requirement already satisfied: cycler>=0.10 in d:\\bartoli\\anaconda3\\lib\\site-packages (from matplotlib->smt) (0.10.0)\n",
      "Requirement already satisfied: python-dateutil>=2.1 in d:\\bartoli\\anaconda3\\lib\\site-packages (from matplotlib->smt) (2.8.1)\n",
      "Requirement already satisfied: pillow>=6.2.0 in d:\\bartoli\\anaconda3\\lib\\site-packages (from matplotlib->smt) (7.2.0)\n",
      "Requirement already satisfied: pyparsing!=2.0.4,!=2.1.2,!=2.1.6,>=2.0.3 in d:\\bartoli\\anaconda3\\lib\\site-packages (from matplotlib->smt) (2.4.7)\n",
      "Requirement already satisfied: six in d:\\bartoli\\anaconda3\\lib\\site-packages (from cycler>=0.10->matplotlib->smt) (1.15.0)\n",
      "Requirement already satisfied: Jinja2>=2.3 in d:\\bartoli\\anaconda3\\lib\\site-packages (from numpydoc->smt) (2.11.2)\n",
      "Requirement already satisfied: sphinx>=1.6.5 in d:\\bartoli\\anaconda3\\lib\\site-packages (from numpydoc->smt) (3.1.2)\n",
      "Requirement already satisfied: MarkupSafe>=0.23 in d:\\bartoli\\anaconda3\\lib\\site-packages (from Jinja2>=2.3->numpydoc->smt) (1.1.1)\n",
      "Requirement already satisfied: sphinxcontrib-devhelp in d:\\bartoli\\anaconda3\\lib\\site-packages (from sphinx>=1.6.5->numpydoc->smt) (1.0.2)\n",
      "Requirement already satisfied: requests>=2.5.0 in d:\\bartoli\\anaconda3\\lib\\site-packages (from sphinx>=1.6.5->numpydoc->smt) (2.24.0)\n",
      "Requirement already satisfied: sphinxcontrib-htmlhelp in d:\\bartoli\\anaconda3\\lib\\site-packages (from sphinx>=1.6.5->numpydoc->smt) (1.0.3)\n",
      "Requirement already satisfied: Pygments>=2.0 in d:\\bartoli\\anaconda3\\lib\\site-packages (from sphinx>=1.6.5->numpydoc->smt) (2.6.1)\n",
      "Requirement already satisfied: colorama>=0.3.5 in d:\\bartoli\\anaconda3\\lib\\site-packages (from sphinx>=1.6.5->numpydoc->smt) (0.4.3)\n",
      "Requirement already satisfied: docutils>=0.12 in d:\\bartoli\\anaconda3\\lib\\site-packages (from sphinx>=1.6.5->numpydoc->smt) (0.16)\n",
      "Requirement already satisfied: snowballstemmer>=1.1 in d:\\bartoli\\anaconda3\\lib\\site-packages (from sphinx>=1.6.5->numpydoc->smt) (2.0.0)\n",
      "Requirement already satisfied: setuptools in d:\\bartoli\\anaconda3\\lib\\site-packages (from sphinx>=1.6.5->numpydoc->smt) (49.2.0.post20200714)\n",
      "Requirement already satisfied: babel>=1.3 in d:\\bartoli\\anaconda3\\lib\\site-packages (from sphinx>=1.6.5->numpydoc->smt) (2.8.0)\n",
      "Requirement already satisfied: sphinxcontrib-applehelp in d:\\bartoli\\anaconda3\\lib\\site-packages (from sphinx>=1.6.5->numpydoc->smt) (1.0.2)\n",
      "Requirement already satisfied: imagesize in d:\\bartoli\\anaconda3\\lib\\site-packages (from sphinx>=1.6.5->numpydoc->smt) (1.2.0)\n",
      "Requirement already satisfied: sphinxcontrib-qthelp in d:\\bartoli\\anaconda3\\lib\\site-packages (from sphinx>=1.6.5->numpydoc->smt) (1.0.3)\n",
      "Requirement already satisfied: sphinxcontrib-jsmath in d:\\bartoli\\anaconda3\\lib\\site-packages (from sphinx>=1.6.5->numpydoc->smt) (1.0.1)\n",
      "Requirement already satisfied: sphinxcontrib-serializinghtml in d:\\bartoli\\anaconda3\\lib\\site-packages (from sphinx>=1.6.5->numpydoc->smt) (1.1.4)\n",
      "Requirement already satisfied: alabaster<0.8,>=0.7 in d:\\bartoli\\anaconda3\\lib\\site-packages (from sphinx>=1.6.5->numpydoc->smt) (0.7.12)\n",
      "Requirement already satisfied: pytz>=2015.7 in d:\\bartoli\\anaconda3\\lib\\site-packages (from babel>=1.3->sphinx>=1.6.5->numpydoc->smt) (2020.1)\n",
      "Requirement already satisfied: chardet<4,>=3.0.2 in d:\\bartoli\\anaconda3\\lib\\site-packages (from requests>=2.5.0->sphinx>=1.6.5->numpydoc->smt) (3.0.4)\n",
      "Requirement already satisfied: urllib3!=1.25.0,!=1.25.1,<1.26,>=1.21.1 in d:\\bartoli\\anaconda3\\lib\\site-packages (from requests>=2.5.0->sphinx>=1.6.5->numpydoc->smt) (1.25.9)\n",
      "Requirement already satisfied: certifi>=2017.4.17 in d:\\bartoli\\anaconda3\\lib\\site-packages (from requests>=2.5.0->sphinx>=1.6.5->numpydoc->smt) (2020.12.5)\n",
      "Requirement already satisfied: idna<3,>=2.5 in d:\\bartoli\\anaconda3\\lib\\site-packages (from requests>=2.5.0->sphinx>=1.6.5->numpydoc->smt) (2.10)\n",
      "Requirement already satisfied: threadpoolctl>=2.0.0 in d:\\bartoli\\anaconda3\\lib\\site-packages (from scikit-learn->smt) (2.1.0)\n",
      "Requirement already satisfied: joblib>=0.11 in d:\\bartoli\\anaconda3\\lib\\site-packages (from scikit-learn->smt) (0.16.0)\n"
     ]
    }
   ],
   "source": [
    "!pip install smt"
   ]
  },
  {
   "cell_type": "markdown",
   "metadata": {
    "slideshow": {
     "slide_type": "slide"
    }
   },
   "source": [
    "\n",
    "\n",
    "\n",
    "# Multi-Fidelity Kriging \n",
    "\n",
    "We are interested in learning a high-fidelity function while using low-fidelity information sources to enhance the model, for that we use Le Gratiet recursive formulation of multi-fidelity Kriging.\n",
    "\n",
    "<p class=\"alert alert-warning\" style=\"padding:1em\">\n",
    "An important assumption by using this recursive formulation is the nested DOE. \n",
    "If we have thow fidelity levels (HF and LF)\n",
    "$$X_{HF} \\subset X_{LF}$$\n",
    " </p>   \n",
    "\n",
    "### Kennedy O'Hagan/Le Gratiet recursive formulation:\n",
    "To perform Le Gratiet's learning, we first learn the lowest fidelity, then we consecutively learn the relationship between every two consecutive fidelity levels (scaling factor $\\rho_{k-1}$ and discrepancy function $\\delta_k(\\cdot)$).\n",
    "\n",
    "$$\\mu_{k} = \\rho_{k-1}\\;\\mu_{k-1} + \\mu_{\\delta_k}\\\\\n",
    "\\sigma^2_{k} = \\rho_{k-1}^2\\;\\sigma^2_{k-1}+\\sigma^2_{\\delta_k}$$\n",
    "\n",
    "![Multi-Fidelity 1-D toy problem](co-krigeage.png)\n",
    "\n",
    "This generally results in a better surrogate model compared to training the high-fidelity alone.\n",
    "\n",
    "### SMT \n",
    "SMT is a joint library between NASA, UoM, ONERA and ISAE-SUPAERO. It offers many surrogate modeling tools with a focus on derivatives. Le Gratiet's formulation was implemented as part of SMT.\n",
    "\n",
    "After dowmloading and installing SMT library from: https://github.com/SMTorg/smt\n",
    "\n",
    "We import the needed packages"
   ]
  },
  {
   "cell_type": "code",
   "execution_count": 10,
   "metadata": {},
   "outputs": [],
   "source": [
    "from smt.applications import MFK\n",
    "import numpy as np\n",
    "from matplotlib import pyplot as plt\n",
    "%matplotlib inline"
   ]
  },
  {
   "cell_type": "markdown",
   "metadata": {},
   "source": [
    "## 1- Build a multifidelity model using two fidelity levels"
   ]
  },
  {
   "cell_type": "code",
   "execution_count": 11,
   "metadata": {},
   "outputs": [],
   "source": [
    "#defining low and high fidelity functions\n",
    "def LF_function(x):\n",
    "    return 0.5*((x*6-2)**2)*np.sin((x*6-2)*2)+(x-0.5)*10. - 5\n",
    "\n",
    "def HF_function(x):\n",
    "    return ((x*6-2)**2)*np.sin((x*6-2)*2)"
   ]
  },
  {
   "cell_type": "code",
   "execution_count": 12,
   "metadata": {},
   "outputs": [
    {
     "data": {
      "text/plain": [
       "Text(0, 0.5, '$y$')"
      ]
     },
     "execution_count": 12,
     "metadata": {},
     "output_type": "execute_result"
    },
    {
     "data": {
      "image/png": "[encoded data removed]",
      "text/plain": [
       "<Figure size 432x288 with 1 Axes>"
      ]
     },
     "metadata": {
      "needs_background": "light"
     },
     "output_type": "display_data"
    }
   ],
   "source": [
    "# Ploting High and low fidelity functions\n",
    "\n",
    "x = np.linspace(0, 1, 101, endpoint = True).reshape(-1,1)\n",
    "plt.figure()\n",
    "\n",
    "plt.plot(x, HF_function(x), label ='High Fidelity')\n",
    "plt.plot(x, LF_function(x), linestyle = '-.' , label ='Low Fidelity')\n",
    "\n",
    "plt.legend(loc=0)\n",
    "plt.ylim(-10,17)\n",
    "plt.xlim(-0.1,1.1)\n",
    "plt.xlabel(r'$x$')\n",
    "plt.ylabel(r'$y$')\n"
   ]
  },
  {
   "cell_type": "markdown",
   "metadata": {},
   "source": [
    "#### Sampling\n",
    "The idea when building a mutli-fidelity design of experiment is to cover as much space as possible with low-fidelity data and use enough high fidelity samples to learn the relationship between fidelity-levels."
   ]
  },
  {
   "cell_type": "code",
   "execution_count": 13,
   "metadata": {},
   "outputs": [
    {
     "data": {
      "text/plain": [
       "<matplotlib.collections.PathCollection at 0x1db808a23d0>"
      ]
     },
     "execution_count": 13,
     "metadata": {},
     "output_type": "execute_result"
    },
    {
     "data": {
      "image/png": "[encoded data removed]",
      "text/plain": [
       "<Figure size 432x288 with 1 Axes>"
      ]
     },
     "metadata": {
      "needs_background": "light"
     },
     "output_type": "display_data"
    }
   ],
   "source": [
    "#Linear sampling\n",
    "ndim=1\n",
    "\n",
    "Xt_c = np.linspace(0, 1, 11, endpoint=True).reshape(-1, ndim)\n",
    "#To have nested DOE\n",
    "Xt_e = np.array([0.0,0.4, 0.7, 1.0]).reshape(-1, ndim)\n",
    "\n",
    "\n",
    "# Evaluate the HF and LF functions\n",
    "yt_e = HF_function(Xt_e)\n",
    "yt_c = LF_function(Xt_c)\n",
    "\n",
    "plt.plot(x, HF_function(x), label ='High Fidelity')\n",
    "plt.plot(x, LF_function(x) , c ='k', label ='Low Fidelity')\n",
    "plt.scatter(Xt_e, yt_e, marker = 'o' , color ='k', label ='HF doe')\n",
    "plt.scatter(Xt_c, yt_c, marker = '*' , color ='g', label ='LF doe')\n"
   ]
  },
  {
   "cell_type": "markdown",
   "metadata": {},
   "source": [
    "Building a SMT object has many options, you can check all the options in the doc website: http://smt.readthedocs.io"
   ]
  },
  {
   "cell_type": "code",
   "execution_count": 15,
   "metadata": {},
   "outputs": [
    {
     "name": "stdout",
     "output_type": "stream",
     "text": [
      "___________________________________________________________________________\n",
      "   \n",
      "                                    MFK\n",
      "___________________________________________________________________________\n",
      "   \n",
      " Problem size\n",
      "   \n",
      "      # training points.        : 4\n",
      "   \n",
      "___________________________________________________________________________\n",
      "   \n",
      " Training\n",
      "   \n",
      "   Training ...\n",
      "   Training - done. Time (sec):  0.1950324\n",
      "___________________________________________________________________________\n",
      "   \n",
      " Evaluation\n",
      "   \n",
      "      # eval points. : 101\n",
      "   \n",
      "   Predicting ...\n",
      "   Predicting - done. Time (sec):  0.0029788\n",
      "   \n",
      "   Prediction time/pt. (sec) :  0.0000295\n",
      "   \n"
     ]
    }
   ],
   "source": [
    "# build the MFK object \n",
    "sm = MFK(theta0=Xt_e.shape[1] * [1.0])\n",
    "\n",
    "# low-fidelity dataset names being integers from 0 to level -1\n",
    "sm.set_training_values(Xt_c, yt_c, name = 0) \n",
    "# high-fidelity dataset without name\n",
    "sm.set_training_values(Xt_e, yt_e) \n",
    "\n",
    "# train the model\n",
    "sm.train()\n",
    "\n",
    "# test training\n",
    "x = np.linspace(0, 1, 101, endpoint = True).reshape(-1,1)\n",
    "\n",
    "# query the outputs\n",
    "y = sm.predict_values(x)"
   ]
  },
  {
   "cell_type": "code",
   "execution_count": 16,
   "metadata": {},
   "outputs": [
    {
     "data": {
      "text/plain": [
       "Text(0, 0.5, '$y$')"
      ]
     },
     "execution_count": 16,
     "metadata": {},
     "output_type": "execute_result"
    },
    {
     "data": {
      "image/png": "[encoded data removed]",
      "text/plain": [
       "<Figure size 432x288 with 1 Axes>"
      ]
     },
     "metadata": {
      "needs_background": "light"
     },
     "output_type": "display_data"
    }
   ],
   "source": [
    "# plot the outputs \n",
    "plt.plot(x, HF_function(x), label ='reference')\n",
    "plt.plot(x, y, linestyle = '-.' , label ='mean_gp')\n",
    "plt.scatter(Xt_e, yt_e, marker = 'o' , color ='k', label ='HF doe')\n",
    "plt.scatter(Xt_c, yt_c, marker = '*' , color ='g', label ='LF doe')\n",
    "\n",
    "plt.legend(loc=0)\n",
    "plt.ylim(-10,17)\n",
    "plt.xlim(-0.1,1.1)\n",
    "plt.xlabel(r'$x$')\n",
    "plt.ylabel(r'$y$')"
   ]
  },
  {
   "cell_type": "code",
   "execution_count": 17,
   "metadata": {},
   "outputs": [
    {
     "name": "stdout",
     "output_type": "stream",
     "text": [
      "___________________________________________________________________________\n",
      "   \n",
      " Evaluation\n",
      "   \n",
      "      # eval points. : 101\n",
      "   \n",
      "   Predicting ...\n",
      "   Predicting - done. Time (sec):  0.0009975\n",
      "   \n",
      "   Prediction time/pt. (sec) :  0.0000099\n",
      "   \n"
     ]
    }
   ],
   "source": [
    "# Accessing the variance and derivative of the model\n",
    "MSE = sm.predict_variances(x)\n",
    "der = sm.predict_derivatives(x, kx=0)"
   ]
  },
  {
   "cell_type": "code",
   "execution_count": 18,
   "metadata": {},
   "outputs": [
    {
     "data": {
      "text/plain": [
       "Text(0, 0.5, '$y$')"
      ]
     },
     "execution_count": 18,
     "metadata": {},
     "output_type": "execute_result"
    },
    {
     "data": {
      "image/png": "[encoded data removed]",
      "text/plain": [
       "<Figure size 432x288 with 1 Axes>"
      ]
     },
     "metadata": {
      "needs_background": "light"
     },
     "output_type": "display_data"
    }
   ],
   "source": [
    "# plot the variance \n",
    "plt.fill_between(np.ravel(x), np.ravel(y-2*np.sqrt(MSE)), np.ravel(y+2*np.sqrt(MSE)),color='grey' ,label ='Confidence Interval')\n",
    "plt.plot(x, y, linestyle = '-.' , label ='mean_gp')\n",
    "plt.scatter(Xt_e, yt_e, marker = 'o' , color ='k', label ='HF doe')\n",
    "plt.scatter(Xt_c, yt_c, marker = '*' , color ='g', label ='LF doe')\n",
    "\n",
    "plt.legend(loc=0)\n",
    "plt.ylim(-10,17)\n",
    "plt.xlim(-0.1,1.1)\n",
    "plt.xlabel(r'$x$')\n",
    "plt.ylabel(r'$y$')"
   ]
  },
  {
   "cell_type": "code",
   "execution_count": null,
   "metadata": {},
   "outputs": [],
   "source": []
  }
 ],
 "metadata": {
  "celltoolbar": "Diaporama",
  "kernelspec": {
   "display_name": "Python 3",
   "language": "python",
   "name": "python3"
  },
  "language_info": {
   "codemirror_mode": {
    "name": "ipython",
    "version": 3
   },
   "file_extension": ".py",
   "mimetype": "text/x-python",
   "name": "python",
   "nbconvert_exporter": "python",
   "pygments_lexer": "ipython3",
   "version": "3.8.3"
  }
 },
 "nbformat": 4,
 "nbformat_minor": 2
}
