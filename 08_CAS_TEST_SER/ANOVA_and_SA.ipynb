{
  "cells": [
    {
      "cell_type": "markdown",
      "metadata": {
        "id": "ky4Voy3f7UUe"
      },
      "source": [
        "# Introduction to ANOVA and Sensitivity Analysis"
      ]
    },
    {
      "cell_type": "markdown",
      "metadata": {
        "id": "Mf2WjM9Q7UUk"
      },
      "source": [
        "## Goal\n",
        "This notebook illustrates ANOVA use and Sensitivity Analysis with OpenTURNS."
      ]
    },
    {
      "cell_type": "markdown",
      "metadata": {
        "id": "mX_WanRt7UUo"
      },
      "source": [
        "It also describes a dataset of EM signatures which can be used to train and compare different metamodels "
      ]
    },
    {
      "cell_type": "markdown",
      "metadata": {
        "id": "29wlLCaL7UUp"
      },
      "source": [
        "## Import modules and data"
      ]
    },
    {
      "cell_type": "code",
      "execution_count": 1,
      "metadata": {
        "id": "-T3z2M2n7UUq"
      },
      "outputs": [],
      "source": [
        "import pandas as pd"
      ]
    },
    {
      "cell_type": "code",
      "execution_count": 2,
      "metadata": {
        "id": "3Gsw9niw7UUr"
      },
      "outputs": [],
      "source": [
        "import numpy as np"
      ]
    },
    {
      "cell_type": "code",
      "execution_count": 3,
      "metadata": {
        "id": "3wTSGG095jf8",
        "outputId": "3c804d4e-dd98-4388-db47-ba5bbbe5f56f",
        "colab": {
          "base_uri": "https://localhost:8080/"
        }
      },
      "outputs": [
        {
          "output_type": "stream",
          "name": "stdout",
          "text": [
            "Populating the interactive namespace from numpy and matplotlib\n"
          ]
        }
      ],
      "source": [
        "%pylab inline"
      ]
    },
    {
      "cell_type": "markdown",
      "metadata": {
        "id": "zWcHnTCd7UUs"
      },
      "source": [
        "We start by importing data, they are stocked in a .csv file with a ; separator - data are already normalized.\n",
        "**2 options, choose the good one**"
      ]
    },
    {
      "cell_type": "markdown",
      "metadata": {
        "id": "aWOyZ9D37UUt"
      },
      "source": [
        "**To read files from google colab**\n",
        "\n",
        "url_name='https://raw.githubusercontent.com/dbetteb/early-ML/master/08_CAS_TEST_SER/data_scaled.csv'\n",
        "\n",
        "xy_tot = pd.read_csv(url_name, header=0,sep=';')"
      ]
    },
    {
      "cell_type": "code",
      "execution_count": 4,
      "metadata": {
        "id": "alU6atlv7mVF"
      },
      "outputs": [],
      "source": [
        "url_name='https://raw.githubusercontent.com/dbetteb/early-ML/master/08_CAS_TEST_SER/data_scaled.csv'\n",
        "xy_tot = pd.read_csv(url_name, header=0,sep=';')"
      ]
    },
    {
      "cell_type": "markdown",
      "metadata": {
        "id": "RBlnOEiVItTo"
      },
      "source": [
        "**If you are on your computer**"
      ]
    },
    {
      "cell_type": "code",
      "execution_count": null,
      "metadata": {
        "id": "0JX88sNC7UUu",
        "outputId": "cdf8faea-be28-412c-85e1-8ab6fb9aa650"
      },
      "outputs": [
        {
          "data": {
            "text/html": [
              "<div>\n",
              "<style scoped>\n",
              "    .dataframe tbody tr th:only-of-type {\n",
              "        vertical-align: middle;\n",
              "    }\n",
              "\n",
              "    .dataframe tbody tr th {\n",
              "        vertical-align: top;\n",
              "    }\n",
              "\n",
              "    .dataframe thead th {\n",
              "        text-align: right;\n",
              "    }\n",
              "</style>\n",
              "<table border=\"1\" class=\"dataframe\">\n",
              "  <thead>\n",
              "    <tr style=\"text-align: right;\">\n",
              "      <th></th>\n",
              "      <th>Logive</th>\n",
              "      <th>Rnez</th>\n",
              "      <th>Lfente</th>\n",
              "      <th>Pfente</th>\n",
              "      <th>Dengin</th>\n",
              "      <th>LBB</th>\n",
              "      <th>Pos</th>\n",
              "      <th>Fleche_BA</th>\n",
              "      <th>Fleche_BF</th>\n",
              "      <th>Corde</th>\n",
              "      <th>H</th>\n",
              "      <th>y</th>\n",
              "    </tr>\n",
              "  </thead>\n",
              "  <tbody>\n",
              "    <tr>\n",
              "      <th>count</th>\n",
              "      <td>111.000000</td>\n",
              "      <td>111.000000</td>\n",
              "      <td>111.000000</td>\n",
              "      <td>111.000000</td>\n",
              "      <td>111.000000</td>\n",
              "      <td>111.000000</td>\n",
              "      <td>111.000000</td>\n",
              "      <td>111.000000</td>\n",
              "      <td>111.000000</td>\n",
              "      <td>111.000000</td>\n",
              "      <td>111.000000</td>\n",
              "      <td>1.110000e+02</td>\n",
              "    </tr>\n",
              "    <tr>\n",
              "      <th>mean</th>\n",
              "      <td>0.497335</td>\n",
              "      <td>0.499360</td>\n",
              "      <td>0.498114</td>\n",
              "      <td>0.500438</td>\n",
              "      <td>0.497902</td>\n",
              "      <td>0.502162</td>\n",
              "      <td>0.496423</td>\n",
              "      <td>0.503372</td>\n",
              "      <td>0.500216</td>\n",
              "      <td>0.500145</td>\n",
              "      <td>0.503438</td>\n",
              "      <td>1.801801e-11</td>\n",
              "    </tr>\n",
              "    <tr>\n",
              "      <th>std</th>\n",
              "      <td>0.291364</td>\n",
              "      <td>0.294132</td>\n",
              "      <td>0.291572</td>\n",
              "      <td>0.290533</td>\n",
              "      <td>0.293118</td>\n",
              "      <td>0.290416</td>\n",
              "      <td>0.292513</td>\n",
              "      <td>0.290781</td>\n",
              "      <td>0.293343</td>\n",
              "      <td>0.290855</td>\n",
              "      <td>0.290823</td>\n",
              "      <td>1.000000e+00</td>\n",
              "    </tr>\n",
              "    <tr>\n",
              "      <th>min</th>\n",
              "      <td>0.000000</td>\n",
              "      <td>0.000000</td>\n",
              "      <td>0.000000</td>\n",
              "      <td>0.000000</td>\n",
              "      <td>0.000000</td>\n",
              "      <td>0.000000</td>\n",
              "      <td>0.000000</td>\n",
              "      <td>0.000000</td>\n",
              "      <td>0.000000</td>\n",
              "      <td>0.000000</td>\n",
              "      <td>0.000000</td>\n",
              "      <td>-2.144837e+00</td>\n",
              "    </tr>\n",
              "    <tr>\n",
              "      <th>25%</th>\n",
              "      <td>0.249340</td>\n",
              "      <td>0.248046</td>\n",
              "      <td>0.251255</td>\n",
              "      <td>0.254569</td>\n",
              "      <td>0.245518</td>\n",
              "      <td>0.259067</td>\n",
              "      <td>0.244946</td>\n",
              "      <td>0.257116</td>\n",
              "      <td>0.250675</td>\n",
              "      <td>0.255086</td>\n",
              "      <td>0.258540</td>\n",
              "      <td>-7.387808e-01</td>\n",
              "    </tr>\n",
              "    <tr>\n",
              "      <th>50%</th>\n",
              "      <td>0.495338</td>\n",
              "      <td>0.501609</td>\n",
              "      <td>0.497895</td>\n",
              "      <td>0.500335</td>\n",
              "      <td>0.498257</td>\n",
              "      <td>0.501992</td>\n",
              "      <td>0.497005</td>\n",
              "      <td>0.503145</td>\n",
              "      <td>0.500258</td>\n",
              "      <td>0.500010</td>\n",
              "      <td>0.504185</td>\n",
              "      <td>1.914246e-02</td>\n",
              "    </tr>\n",
              "    <tr>\n",
              "      <th>75%</th>\n",
              "      <td>0.742680</td>\n",
              "      <td>0.750742</td>\n",
              "      <td>0.749488</td>\n",
              "      <td>0.748856</td>\n",
              "      <td>0.749841</td>\n",
              "      <td>0.745628</td>\n",
              "      <td>0.745938</td>\n",
              "      <td>0.750699</td>\n",
              "      <td>0.751053</td>\n",
              "      <td>0.744964</td>\n",
              "      <td>0.751018</td>\n",
              "      <td>7.946404e-01</td>\n",
              "    </tr>\n",
              "    <tr>\n",
              "      <th>max</th>\n",
              "      <td>1.000000</td>\n",
              "      <td>1.000000</td>\n",
              "      <td>1.000000</td>\n",
              "      <td>1.000000</td>\n",
              "      <td>1.000000</td>\n",
              "      <td>1.000000</td>\n",
              "      <td>1.000000</td>\n",
              "      <td>1.000000</td>\n",
              "      <td>1.000000</td>\n",
              "      <td>1.000000</td>\n",
              "      <td>1.000000</td>\n",
              "      <td>2.625505e+00</td>\n",
              "    </tr>\n",
              "  </tbody>\n",
              "</table>\n",
              "</div>"
            ],
            "text/plain": [
              "           Logive        Rnez      Lfente      Pfente      Dengin         LBB  \\\n",
              "count  111.000000  111.000000  111.000000  111.000000  111.000000  111.000000   \n",
              "mean     0.497335    0.499360    0.498114    0.500438    0.497902    0.502162   \n",
              "std      0.291364    0.294132    0.291572    0.290533    0.293118    0.290416   \n",
              "min      0.000000    0.000000    0.000000    0.000000    0.000000    0.000000   \n",
              "25%      0.249340    0.248046    0.251255    0.254569    0.245518    0.259067   \n",
              "50%      0.495338    0.501609    0.497895    0.500335    0.498257    0.501992   \n",
              "75%      0.742680    0.750742    0.749488    0.748856    0.749841    0.745628   \n",
              "max      1.000000    1.000000    1.000000    1.000000    1.000000    1.000000   \n",
              "\n",
              "              Pos   Fleche_BA   Fleche_BF       Corde           H  \\\n",
              "count  111.000000  111.000000  111.000000  111.000000  111.000000   \n",
              "mean     0.496423    0.503372    0.500216    0.500145    0.503438   \n",
              "std      0.292513    0.290781    0.293343    0.290855    0.290823   \n",
              "min      0.000000    0.000000    0.000000    0.000000    0.000000   \n",
              "25%      0.244946    0.257116    0.250675    0.255086    0.258540   \n",
              "50%      0.497005    0.503145    0.500258    0.500010    0.504185   \n",
              "75%      0.745938    0.750699    0.751053    0.744964    0.751018   \n",
              "max      1.000000    1.000000    1.000000    1.000000    1.000000   \n",
              "\n",
              "                  y  \n",
              "count  1.110000e+02  \n",
              "mean   1.801801e-11  \n",
              "std    1.000000e+00  \n",
              "min   -2.144837e+00  \n",
              "25%   -7.387808e-01  \n",
              "50%    1.914246e-02  \n",
              "75%    7.946404e-01  \n",
              "max    2.625505e+00  "
            ]
          },
          "execution_count": 3,
          "metadata": {},
          "output_type": "execute_result"
        }
      ],
      "source": [
        "file_name=\"data_scaled.csv\"\n",
        "xy_tot=pd.read_csv(file_name,header=0,sep=';')\n",
        "xy_tot.describe()"
      ]
    },
    {
      "cell_type": "markdown",
      "metadata": {
        "id": "W7s_H7AI7UUw"
      },
      "source": [
        "Visualization"
      ]
    },
    {
      "cell_type": "code",
      "execution_count": 5,
      "metadata": {
        "colab": {
          "base_uri": "https://localhost:8080/"
        },
        "id": "HZTc4_cS7UUw",
        "outputId": "2f581c87-9558-41f8-c7e6-2804fb50deb8"
      },
      "outputs": [
        {
          "output_type": "stream",
          "name": "stdout",
          "text": [
            "       Logive      Rnez    Lfente    Pfente    Dengin       LBB       Pos  \\\n",
            "0    0.495338  0.000000  0.497895  0.500335  0.498257  0.501992  0.000000   \n",
            "1    0.839713  0.797224  0.544219  0.117688  0.386605  0.936888  0.859441   \n",
            "2    0.718764  0.462412  0.122786  0.000000  0.148126  0.284999  0.572958   \n",
            "3    0.232614  0.964583  0.208857  0.493698  0.087776  0.514571  0.915970   \n",
            "4    0.328525  0.360263  0.771815  0.737518  0.032510  0.805642  0.444953   \n",
            "..        ...       ...       ...       ...       ...       ...       ...   \n",
            "106  0.893357  0.616894  0.666424  0.040633  0.112727  0.749508  0.408983   \n",
            "107  0.954314  0.544326  0.619205  0.588434  0.649281  0.113298  0.877323   \n",
            "108  0.673615  0.753639  0.953679  0.019827  0.826220  0.468277  0.894760   \n",
            "109  0.655463  0.940585  0.931341  0.540705  0.040912  0.268522  0.286047   \n",
            "110  0.018758  0.603489  0.405507  0.007256  0.637778  0.919163  0.230755   \n",
            "\n",
            "     Fleche_BA  Fleche_BF     Corde         H         y  \n",
            "0     0.503145   0.500258  0.500010  0.504185  1.026548  \n",
            "1     0.194467   0.114811  0.062737  0.516893  0.982029  \n",
            "2     0.379216   0.623774  0.823282  0.887550  0.928365  \n",
            "3     0.275082   0.452346  0.397045  0.031743 -0.995189  \n",
            "4     0.019859   0.754753  0.160963  0.593623  1.025108  \n",
            "..         ...        ...       ...       ...       ...  \n",
            "106   0.107998   0.285757  0.521913  0.072636  0.316804  \n",
            "107   0.332553   0.740613  0.927965  0.388065 -0.399315  \n",
            "108   0.621598   0.656678  0.288987  0.342212 -0.708425  \n",
            "109   0.140695   0.598644  0.711866  0.261593 -0.297182  \n",
            "110   0.371382   0.432367  0.674970  0.733691  1.508639  \n",
            "\n",
            "[111 rows x 12 columns]\n"
          ]
        }
      ],
      "source": [
        "print(xy_tot)"
      ]
    },
    {
      "cell_type": "markdown",
      "metadata": {
        "id": "yt6jFPkz7UU1"
      },
      "source": [
        "Data shape"
      ]
    },
    {
      "cell_type": "code",
      "execution_count": 6,
      "metadata": {
        "colab": {
          "base_uri": "https://localhost:8080/"
        },
        "id": "Vl78PBGJ7UU2",
        "outputId": "e735828b-3e44-435e-e0b8-6bab5b872c78"
      },
      "outputs": [
        {
          "output_type": "execute_result",
          "data": {
            "text/plain": [
              "(111, 12)"
            ]
          },
          "metadata": {},
          "execution_count": 6
        }
      ],
      "source": [
        "xy_tot.shape"
      ]
    },
    {
      "cell_type": "markdown",
      "metadata": {
        "id": "L-SgdHLT7UU4"
      },
      "source": [
        "## ANOVA"
      ]
    },
    {
      "cell_type": "code",
      "execution_count": 7,
      "metadata": {
        "id": "QKMbf_l_7UU4"
      },
      "outputs": [],
      "source": [
        "import statsmodels.api as sm\n",
        "from statsmodels.formula.api import ols"
      ]
    },
    {
      "cell_type": "code",
      "execution_count": 8,
      "metadata": {
        "id": "bQ3iawJq7UU6"
      },
      "outputs": [],
      "source": [
        "results = ols('y ~ Logive+Rnez+Lfente+Pfente+Dengin+LBB+Pos+Fleche_BA+Fleche_BF+Corde+H', data=xy_tot).fit()"
      ]
    },
    {
      "cell_type": "code",
      "execution_count": 9,
      "metadata": {
        "colab": {
          "base_uri": "https://localhost:8080/",
          "height": 426
        },
        "id": "npprUagw7UU6",
        "outputId": "f1e50a34-6207-4b4a-b9ef-171821dfaed8"
      },
      "outputs": [
        {
          "output_type": "execute_result",
          "data": {
            "text/plain": [
              "              sum_sq    df           F        PR(>F)\n",
              "Logive      3.764760   1.0   63.855565  2.509619e-12\n",
              "Rnez        0.060988   1.0    1.034434  3.115987e-01\n",
              "Lfente      0.020915   1.0    0.354749  5.527961e-01\n",
              "Pfente      0.009864   1.0    0.167303  6.834035e-01\n",
              "Dengin      0.485694   1.0    8.238044  5.016189e-03\n",
              "LBB        51.942016   1.0  881.008801  4.402781e-51\n",
              "Pos         0.669155   1.0   11.349801  1.076363e-03\n",
              "Fleche_BA   6.925141   1.0  117.460019  1.640449e-18\n",
              "Fleche_BF   0.772318   1.0   13.099585  4.674633e-04\n",
              "Corde      10.236574   1.0  173.626527  1.666877e-23\n",
              "H          28.388367   1.0  481.506172  8.284227e-40\n",
              "Residual    5.836786  99.0         NaN           NaN"
            ],
            "text/html": [
              "\n",
              "  <div id=\"df-c9460c1b-0c5e-4f61-ada0-c7731441c6b4\">\n",
              "    <div class=\"colab-df-container\">\n",
              "      <div>\n",
              "<style scoped>\n",
              "    .dataframe tbody tr th:only-of-type {\n",
              "        vertical-align: middle;\n",
              "    }\n",
              "\n",
              "    .dataframe tbody tr th {\n",
              "        vertical-align: top;\n",
              "    }\n",
              "\n",
              "    .dataframe thead th {\n",
              "        text-align: right;\n",
              "    }\n",
              "</style>\n",
              "<table border=\"1\" class=\"dataframe\">\n",
              "  <thead>\n",
              "    <tr style=\"text-align: right;\">\n",
              "      <th></th>\n",
              "      <th>sum_sq</th>\n",
              "      <th>df</th>\n",
              "      <th>F</th>\n",
              "      <th>PR(&gt;F)</th>\n",
              "    </tr>\n",
              "  </thead>\n",
              "  <tbody>\n",
              "    <tr>\n",
              "      <th>Logive</th>\n",
              "      <td>3.764760</td>\n",
              "      <td>1.0</td>\n",
              "      <td>63.855565</td>\n",
              "      <td>2.509619e-12</td>\n",
              "    </tr>\n",
              "    <tr>\n",
              "      <th>Rnez</th>\n",
              "      <td>0.060988</td>\n",
              "      <td>1.0</td>\n",
              "      <td>1.034434</td>\n",
              "      <td>3.115987e-01</td>\n",
              "    </tr>\n",
              "    <tr>\n",
              "      <th>Lfente</th>\n",
              "      <td>0.020915</td>\n",
              "      <td>1.0</td>\n",
              "      <td>0.354749</td>\n",
              "      <td>5.527961e-01</td>\n",
              "    </tr>\n",
              "    <tr>\n",
              "      <th>Pfente</th>\n",
              "      <td>0.009864</td>\n",
              "      <td>1.0</td>\n",
              "      <td>0.167303</td>\n",
              "      <td>6.834035e-01</td>\n",
              "    </tr>\n",
              "    <tr>\n",
              "      <th>Dengin</th>\n",
              "      <td>0.485694</td>\n",
              "      <td>1.0</td>\n",
              "      <td>8.238044</td>\n",
              "      <td>5.016189e-03</td>\n",
              "    </tr>\n",
              "    <tr>\n",
              "      <th>LBB</th>\n",
              "      <td>51.942016</td>\n",
              "      <td>1.0</td>\n",
              "      <td>881.008801</td>\n",
              "      <td>4.402781e-51</td>\n",
              "    </tr>\n",
              "    <tr>\n",
              "      <th>Pos</th>\n",
              "      <td>0.669155</td>\n",
              "      <td>1.0</td>\n",
              "      <td>11.349801</td>\n",
              "      <td>1.076363e-03</td>\n",
              "    </tr>\n",
              "    <tr>\n",
              "      <th>Fleche_BA</th>\n",
              "      <td>6.925141</td>\n",
              "      <td>1.0</td>\n",
              "      <td>117.460019</td>\n",
              "      <td>1.640449e-18</td>\n",
              "    </tr>\n",
              "    <tr>\n",
              "      <th>Fleche_BF</th>\n",
              "      <td>0.772318</td>\n",
              "      <td>1.0</td>\n",
              "      <td>13.099585</td>\n",
              "      <td>4.674633e-04</td>\n",
              "    </tr>\n",
              "    <tr>\n",
              "      <th>Corde</th>\n",
              "      <td>10.236574</td>\n",
              "      <td>1.0</td>\n",
              "      <td>173.626527</td>\n",
              "      <td>1.666877e-23</td>\n",
              "    </tr>\n",
              "    <tr>\n",
              "      <th>H</th>\n",
              "      <td>28.388367</td>\n",
              "      <td>1.0</td>\n",
              "      <td>481.506172</td>\n",
              "      <td>8.284227e-40</td>\n",
              "    </tr>\n",
              "    <tr>\n",
              "      <th>Residual</th>\n",
              "      <td>5.836786</td>\n",
              "      <td>99.0</td>\n",
              "      <td>NaN</td>\n",
              "      <td>NaN</td>\n",
              "    </tr>\n",
              "  </tbody>\n",
              "</table>\n",
              "</div>\n",
              "      <button class=\"colab-df-convert\" onclick=\"convertToInteractive('df-c9460c1b-0c5e-4f61-ada0-c7731441c6b4')\"\n",
              "              title=\"Convert this dataframe to an interactive table.\"\n",
              "              style=\"display:none;\">\n",
              "        \n",
              "  <svg xmlns=\"http://www.w3.org/2000/svg\" height=\"24px\"viewBox=\"0 0 24 24\"\n",
              "       width=\"24px\">\n",
              "    <path d=\"M0 0h24v24H0V0z\" fill=\"none\"/>\n",
              "    <path d=\"M18.56 5.44l.94 2.06.94-2.06 2.06-.94-2.06-.94-.94-2.06-.94 2.06-2.06.94zm-11 1L8.5 8.5l.94-2.06 2.06-.94-2.06-.94L8.5 2.5l-.94 2.06-2.06.94zm10 10l.94 2.06.94-2.06 2.06-.94-2.06-.94-.94-2.06-.94 2.06-2.06.94z\"/><path d=\"M17.41 7.96l-1.37-1.37c-.4-.4-.92-.59-1.43-.59-.52 0-1.04.2-1.43.59L10.3 9.45l-7.72 7.72c-.78.78-.78 2.05 0 2.83L4 21.41c.39.39.9.59 1.41.59.51 0 1.02-.2 1.41-.59l7.78-7.78 2.81-2.81c.8-.78.8-2.07 0-2.86zM5.41 20L4 18.59l7.72-7.72 1.47 1.35L5.41 20z\"/>\n",
              "  </svg>\n",
              "      </button>\n",
              "      \n",
              "  <style>\n",
              "    .colab-df-container {\n",
              "      display:flex;\n",
              "      flex-wrap:wrap;\n",
              "      gap: 12px;\n",
              "    }\n",
              "\n",
              "    .colab-df-convert {\n",
              "      background-color: #E8F0FE;\n",
              "      border: none;\n",
              "      border-radius: 50%;\n",
              "      cursor: pointer;\n",
              "      display: none;\n",
              "      fill: #1967D2;\n",
              "      height: 32px;\n",
              "      padding: 0 0 0 0;\n",
              "      width: 32px;\n",
              "    }\n",
              "\n",
              "    .colab-df-convert:hover {\n",
              "      background-color: #E2EBFA;\n",
              "      box-shadow: 0px 1px 2px rgba(60, 64, 67, 0.3), 0px 1px 3px 1px rgba(60, 64, 67, 0.15);\n",
              "      fill: #174EA6;\n",
              "    }\n",
              "\n",
              "    [theme=dark] .colab-df-convert {\n",
              "      background-color: #3B4455;\n",
              "      fill: #D2E3FC;\n",
              "    }\n",
              "\n",
              "    [theme=dark] .colab-df-convert:hover {\n",
              "      background-color: #434B5C;\n",
              "      box-shadow: 0px 1px 3px 1px rgba(0, 0, 0, 0.15);\n",
              "      filter: drop-shadow(0px 1px 2px rgba(0, 0, 0, 0.3));\n",
              "      fill: #FFFFFF;\n",
              "    }\n",
              "  </style>\n",
              "\n",
              "      <script>\n",
              "        const buttonEl =\n",
              "          document.querySelector('#df-c9460c1b-0c5e-4f61-ada0-c7731441c6b4 button.colab-df-convert');\n",
              "        buttonEl.style.display =\n",
              "          google.colab.kernel.accessAllowed ? 'block' : 'none';\n",
              "\n",
              "        async function convertToInteractive(key) {\n",
              "          const element = document.querySelector('#df-c9460c1b-0c5e-4f61-ada0-c7731441c6b4');\n",
              "          const dataTable =\n",
              "            await google.colab.kernel.invokeFunction('convertToInteractive',\n",
              "                                                     [key], {});\n",
              "          if (!dataTable) return;\n",
              "\n",
              "          const docLinkHtml = 'Like what you see? Visit the ' +\n",
              "            '<a target=\"_blank\" href=https://colab.research.google.com/notebooks/data_table.ipynb>data table notebook</a>'\n",
              "            + ' to learn more about interactive tables.';\n",
              "          element.innerHTML = '';\n",
              "          dataTable['output_type'] = 'display_data';\n",
              "          await google.colab.output.renderOutput(dataTable, element);\n",
              "          const docLink = document.createElement('div');\n",
              "          docLink.innerHTML = docLinkHtml;\n",
              "          element.appendChild(docLink);\n",
              "        }\n",
              "      </script>\n",
              "    </div>\n",
              "  </div>\n",
              "  "
            ]
          },
          "metadata": {},
          "execution_count": 9
        }
      ],
      "source": [
        "aov_table = sm.stats.anova_lm(results, typ=2)\n",
        "aov_table"
      ]
    },
    {
      "cell_type": "markdown",
      "metadata": {
        "id": "siHnQBSt7UVJ"
      },
      "source": [
        "## Sensitivity Analysis"
      ]
    },
    {
      "cell_type": "markdown",
      "metadata": {
        "id": "ZBB5uisq7UVK"
      },
      "source": [
        "We are going to use OpenTURNS and the 3 first PCA components"
      ]
    },
    {
      "cell_type": "markdown",
      "metadata": {
        "id": "HOyGOAte7UVK"
      },
      "source": [
        "For Colab"
      ]
    },
    {
      "cell_type": "code",
      "execution_count": 10,
      "metadata": {
        "id": "AYofobkX7UVL",
        "colab": {
          "base_uri": "https://localhost:8080/"
        },
        "outputId": "b3d7095a-74e4-44d9-e2ad-21eef67d2b0f"
      },
      "outputs": [
        {
          "output_type": "stream",
          "name": "stdout",
          "text": [
            "Looking in indexes: https://pypi.org/simple, https://us-python.pkg.dev/colab-wheels/public/simple/\n",
            "Collecting openturns\n",
            "  Downloading openturns-1.19.post1-cp37-cp37m-manylinux1_x86_64.manylinux_2_5_x86_64.whl (52.3 MB)\n",
            "\u001b[K     |████████████████████████████████| 52.3 MB 246 kB/s \n",
            "\u001b[?25hRequirement already satisfied: dill in /usr/local/lib/python3.7/dist-packages (from openturns) (0.3.6)\n",
            "Requirement already satisfied: psutil in /usr/local/lib/python3.7/dist-packages (from openturns) (5.4.8)\n",
            "Installing collected packages: openturns\n",
            "Successfully installed openturns-1.19.post1\n"
          ]
        }
      ],
      "source": [
        "!pip install openturns"
      ]
    },
    {
      "cell_type": "code",
      "execution_count": 14,
      "metadata": {
        "id": "lu8r2wA_5jgz"
      },
      "outputs": [],
      "source": [
        "import openturns as ot\n",
        "import openturns.viewer as otv"
      ]
    },
    {
      "cell_type": "code",
      "execution_count": 11,
      "metadata": {
        "id": "i-zGXRI57UVM"
      },
      "outputs": [],
      "source": [
        "#To read files from google colab\n",
        "url_name='https://raw.githubusercontent.com/dbetteb/early-ML/master/08_CAS_TEST_SER/data_scaled2.csv'\n",
        "xy_tot = pd.read_csv(url_name, header=0,sep=';')"
      ]
    },
    {
      "cell_type": "code",
      "execution_count": null,
      "metadata": {
        "id": "QjyQXhFH7UVN"
      },
      "outputs": [],
      "source": [
        "#from local file\n",
        "file_name=\"data_scaled2.csv\"\n",
        "xy_tot=pd.read_csv(file_name,header=0,sep=';')\n",
        "xy_tot.describe()"
      ]
    },
    {
      "cell_type": "markdown",
      "metadata": {
        "id": "XGUrqRbt7UVO"
      },
      "source": [
        "We extract the 3 outputs, that is to say the values associated to the 3 first components of PCA"
      ]
    },
    {
      "cell_type": "code",
      "execution_count": 12,
      "metadata": {
        "colab": {
          "base_uri": "https://localhost:8080/",
          "height": 460
        },
        "id": "Ij0f3R9C7UVO",
        "outputId": "79422f96-d862-4ffc-b634-6684cadca217"
      },
      "outputs": [
        {
          "output_type": "stream",
          "name": "stderr",
          "text": [
            "/usr/local/lib/python3.7/dist-packages/ipykernel_launcher.py:1: FutureWarning: In a future version of pandas all arguments of concat except for the argument 'objs' will be keyword-only\n",
            "  \"\"\"Entry point for launching an IPython kernel.\n"
          ]
        },
        {
          "output_type": "execute_result",
          "data": {
            "text/plain": [
              "            y1         y2        y3\n",
              "0    15.082215  -5.248569  0.048376\n",
              "1    14.428133  17.671144  1.892574\n",
              "2    13.639695 -23.445469  1.156799\n",
              "3   -14.621491   0.000358  4.929759\n",
              "4    15.061054   1.235525  4.753541\n",
              "..         ...        ...       ...\n",
              "106   4.654538   7.894375  5.374924\n",
              "107  -5.866806 -13.270626 -2.350050\n",
              "108 -10.408305   8.893657 -2.098407\n",
              "109  -4.366241 -12.467366  4.576693\n",
              "110  22.165178   1.701722 -1.998712\n",
              "\n",
              "[111 rows x 3 columns]"
            ],
            "text/html": [
              "\n",
              "  <div id=\"df-53b6e295-0363-48a1-8967-a85623da513d\">\n",
              "    <div class=\"colab-df-container\">\n",
              "      <div>\n",
              "<style scoped>\n",
              "    .dataframe tbody tr th:only-of-type {\n",
              "        vertical-align: middle;\n",
              "    }\n",
              "\n",
              "    .dataframe tbody tr th {\n",
              "        vertical-align: top;\n",
              "    }\n",
              "\n",
              "    .dataframe thead th {\n",
              "        text-align: right;\n",
              "    }\n",
              "</style>\n",
              "<table border=\"1\" class=\"dataframe\">\n",
              "  <thead>\n",
              "    <tr style=\"text-align: right;\">\n",
              "      <th></th>\n",
              "      <th>y1</th>\n",
              "      <th>y2</th>\n",
              "      <th>y3</th>\n",
              "    </tr>\n",
              "  </thead>\n",
              "  <tbody>\n",
              "    <tr>\n",
              "      <th>0</th>\n",
              "      <td>15.082215</td>\n",
              "      <td>-5.248569</td>\n",
              "      <td>0.048376</td>\n",
              "    </tr>\n",
              "    <tr>\n",
              "      <th>1</th>\n",
              "      <td>14.428133</td>\n",
              "      <td>17.671144</td>\n",
              "      <td>1.892574</td>\n",
              "    </tr>\n",
              "    <tr>\n",
              "      <th>2</th>\n",
              "      <td>13.639695</td>\n",
              "      <td>-23.445469</td>\n",
              "      <td>1.156799</td>\n",
              "    </tr>\n",
              "    <tr>\n",
              "      <th>3</th>\n",
              "      <td>-14.621491</td>\n",
              "      <td>0.000358</td>\n",
              "      <td>4.929759</td>\n",
              "    </tr>\n",
              "    <tr>\n",
              "      <th>4</th>\n",
              "      <td>15.061054</td>\n",
              "      <td>1.235525</td>\n",
              "      <td>4.753541</td>\n",
              "    </tr>\n",
              "    <tr>\n",
              "      <th>...</th>\n",
              "      <td>...</td>\n",
              "      <td>...</td>\n",
              "      <td>...</td>\n",
              "    </tr>\n",
              "    <tr>\n",
              "      <th>106</th>\n",
              "      <td>4.654538</td>\n",
              "      <td>7.894375</td>\n",
              "      <td>5.374924</td>\n",
              "    </tr>\n",
              "    <tr>\n",
              "      <th>107</th>\n",
              "      <td>-5.866806</td>\n",
              "      <td>-13.270626</td>\n",
              "      <td>-2.350050</td>\n",
              "    </tr>\n",
              "    <tr>\n",
              "      <th>108</th>\n",
              "      <td>-10.408305</td>\n",
              "      <td>8.893657</td>\n",
              "      <td>-2.098407</td>\n",
              "    </tr>\n",
              "    <tr>\n",
              "      <th>109</th>\n",
              "      <td>-4.366241</td>\n",
              "      <td>-12.467366</td>\n",
              "      <td>4.576693</td>\n",
              "    </tr>\n",
              "    <tr>\n",
              "      <th>110</th>\n",
              "      <td>22.165178</td>\n",
              "      <td>1.701722</td>\n",
              "      <td>-1.998712</td>\n",
              "    </tr>\n",
              "  </tbody>\n",
              "</table>\n",
              "<p>111 rows × 3 columns</p>\n",
              "</div>\n",
              "      <button class=\"colab-df-convert\" onclick=\"convertToInteractive('df-53b6e295-0363-48a1-8967-a85623da513d')\"\n",
              "              title=\"Convert this dataframe to an interactive table.\"\n",
              "              style=\"display:none;\">\n",
              "        \n",
              "  <svg xmlns=\"http://www.w3.org/2000/svg\" height=\"24px\"viewBox=\"0 0 24 24\"\n",
              "       width=\"24px\">\n",
              "    <path d=\"M0 0h24v24H0V0z\" fill=\"none\"/>\n",
              "    <path d=\"M18.56 5.44l.94 2.06.94-2.06 2.06-.94-2.06-.94-.94-2.06-.94 2.06-2.06.94zm-11 1L8.5 8.5l.94-2.06 2.06-.94-2.06-.94L8.5 2.5l-.94 2.06-2.06.94zm10 10l.94 2.06.94-2.06 2.06-.94-2.06-.94-.94-2.06-.94 2.06-2.06.94z\"/><path d=\"M17.41 7.96l-1.37-1.37c-.4-.4-.92-.59-1.43-.59-.52 0-1.04.2-1.43.59L10.3 9.45l-7.72 7.72c-.78.78-.78 2.05 0 2.83L4 21.41c.39.39.9.59 1.41.59.51 0 1.02-.2 1.41-.59l7.78-7.78 2.81-2.81c.8-.78.8-2.07 0-2.86zM5.41 20L4 18.59l7.72-7.72 1.47 1.35L5.41 20z\"/>\n",
              "  </svg>\n",
              "      </button>\n",
              "      \n",
              "  <style>\n",
              "    .colab-df-container {\n",
              "      display:flex;\n",
              "      flex-wrap:wrap;\n",
              "      gap: 12px;\n",
              "    }\n",
              "\n",
              "    .colab-df-convert {\n",
              "      background-color: #E8F0FE;\n",
              "      border: none;\n",
              "      border-radius: 50%;\n",
              "      cursor: pointer;\n",
              "      display: none;\n",
              "      fill: #1967D2;\n",
              "      height: 32px;\n",
              "      padding: 0 0 0 0;\n",
              "      width: 32px;\n",
              "    }\n",
              "\n",
              "    .colab-df-convert:hover {\n",
              "      background-color: #E2EBFA;\n",
              "      box-shadow: 0px 1px 2px rgba(60, 64, 67, 0.3), 0px 1px 3px 1px rgba(60, 64, 67, 0.15);\n",
              "      fill: #174EA6;\n",
              "    }\n",
              "\n",
              "    [theme=dark] .colab-df-convert {\n",
              "      background-color: #3B4455;\n",
              "      fill: #D2E3FC;\n",
              "    }\n",
              "\n",
              "    [theme=dark] .colab-df-convert:hover {\n",
              "      background-color: #434B5C;\n",
              "      box-shadow: 0px 1px 3px 1px rgba(0, 0, 0, 0.15);\n",
              "      filter: drop-shadow(0px 1px 2px rgba(0, 0, 0, 0.3));\n",
              "      fill: #FFFFFF;\n",
              "    }\n",
              "  </style>\n",
              "\n",
              "      <script>\n",
              "        const buttonEl =\n",
              "          document.querySelector('#df-53b6e295-0363-48a1-8967-a85623da513d button.colab-df-convert');\n",
              "        buttonEl.style.display =\n",
              "          google.colab.kernel.accessAllowed ? 'block' : 'none';\n",
              "\n",
              "        async function convertToInteractive(key) {\n",
              "          const element = document.querySelector('#df-53b6e295-0363-48a1-8967-a85623da513d');\n",
              "          const dataTable =\n",
              "            await google.colab.kernel.invokeFunction('convertToInteractive',\n",
              "                                                     [key], {});\n",
              "          if (!dataTable) return;\n",
              "\n",
              "          const docLinkHtml = 'Like what you see? Visit the ' +\n",
              "            '<a target=\"_blank\" href=https://colab.research.google.com/notebooks/data_table.ipynb>data table notebook</a>'\n",
              "            + ' to learn more about interactive tables.';\n",
              "          element.innerHTML = '';\n",
              "          dataTable['output_type'] = 'display_data';\n",
              "          await google.colab.output.renderOutput(dataTable, element);\n",
              "          const docLink = document.createElement('div');\n",
              "          docLink.innerHTML = docLinkHtml;\n",
              "          element.appendChild(docLink);\n",
              "        }\n",
              "      </script>\n",
              "    </div>\n",
              "  </div>\n",
              "  "
            ]
          },
          "metadata": {},
          "execution_count": 12
        }
      ],
      "source": [
        "y_tot = pd.concat([xy_tot.pop(x) for x in ['y1', 'y2','y3']], 1)\n",
        "y_tot"
      ]
    },
    {
      "cell_type": "markdown",
      "metadata": {
        "id": "0cd0RmQp7UVP"
      },
      "source": [
        "We build the training data following a uniform distribution and assuming all input data are independent. All input data are normalized between 0 and 1."
      ]
    },
    {
      "cell_type": "code",
      "execution_count": 15,
      "metadata": {
        "id": "44mI3VUL7UVP"
      },
      "outputs": [],
      "source": [
        "distribution = ot.ComposedDistribution([ot.Uniform(0.0, 1.0)] * 11)\n",
        "dimension = distribution.getDimension()\n",
        "distribution.setDescription([\"Logive\", \"Rnez\", \"Lfente\", \"Pfente\", \"Dengin\", \"LBB\", \"Pos\",\"Fleche_BA\", \"Fleche_BF\", \"Corde\", \"H\"])"
      ]
    },
    {
      "cell_type": "code",
      "execution_count": 16,
      "metadata": {
        "colab": {
          "base_uri": "https://localhost:8080/"
        },
        "id": "j7EFqC-C7UVQ",
        "outputId": "4ac6068b-17a4-47ac-8d8e-77257ac1fd72"
      },
      "outputs": [
        {
          "output_type": "execute_result",
          "data": {
            "text/plain": [
              "130000"
            ]
          },
          "metadata": {},
          "execution_count": 16
        }
      ],
      "source": [
        "ot.RandomGenerator.SetSeed(0)\n",
        "size = 10000\n",
        "inputDesign = ot.SobolIndicesExperiment(distribution, size, False).generate()\n",
        "inputDesign.getSize()"
      ]
    },
    {
      "cell_type": "markdown",
      "metadata": {
        "id": "soJtjU7O7UVQ"
      },
      "source": [
        "**Description cf OpenTURNS website** : Sensitivity algorithms rely on the definition of specific designs. The method generates designs that can be used for Saltelli, Jansen, Martinez and MauntzKucherenko methods. This precomputes such input designs using distribution or experiment by generating a MC sample of twice the dimension by duplicating the distribution into a 2d distribution with repeated marginals, in order to also work with non-iid samples such as those generated by LHSExperiment or LowDiscrepancyExperiment. The sampling is done according to the given experiment, then it is split into samples A and B and the columns of these ones are mixed to define the huge sample (design). If computeSecondOrder is set to False, the result design is of size N(d+2) where d is the dimension of the distribution. If computeSecondOrder is set to True, the design size is N(2d+2).\n"
      ]
    },
    {
      "cell_type": "markdown",
      "metadata": {
        "id": "3Ixkreb-7UVS"
      },
      "source": [
        "=> Inputs for pick and freeze"
      ]
    },
    {
      "cell_type": "markdown",
      "metadata": {
        "id": "FOdxYu-b7UVS"
      },
      "source": [
        "We are going to use a metamodel to estimate the values at all sampling points - here a linear metamodel **with interactions**"
      ]
    },
    {
      "cell_type": "code",
      "execution_count": 18,
      "metadata": {
        "id": "ve5thvyc7UVS"
      },
      "outputs": [],
      "source": [
        "import sklearn.linear_model as lm\n",
        "from sklearn.pipeline import Pipeline\n",
        "from sklearn.preprocessing import PolynomialFeatures"
      ]
    },
    {
      "cell_type": "code",
      "execution_count": 19,
      "metadata": {
        "id": "vajruhOQ7UVU"
      },
      "outputs": [],
      "source": [
        "interaction = PolynomialFeatures(degree=2, include_bias=False, interaction_only=True)\n",
        "poly_inter=Pipeline([\n",
        "             ('poly',interaction),\n",
        "             ('regressor',lm.LinearRegression())])\n",
        "\n"
      ]
    },
    {
      "cell_type": "markdown",
      "metadata": {
        "id": "SjS6ICV37UVV"
      },
      "source": [
        "**We consider a linear metamodel with interactions for each component**"
      ]
    },
    {
      "cell_type": "code",
      "execution_count": 20,
      "metadata": {
        "colab": {
          "base_uri": "https://localhost:8080/"
        },
        "id": "cG0PY75B7UVV",
        "outputId": "611b69bf-271a-4de8-a90f-b2d3e56fadb1"
      },
      "outputs": [
        {
          "output_type": "execute_result",
          "data": {
            "text/plain": [
              "Pipeline(steps=[('poly',\n",
              "                 PolynomialFeatures(include_bias=False, interaction_only=True)),\n",
              "                ('regressor', LinearRegression())])"
            ]
          },
          "metadata": {},
          "execution_count": 20
        }
      ],
      "source": [
        "poly_inter.fit(xy_tot, y_tot)"
      ]
    },
    {
      "cell_type": "markdown",
      "metadata": {
        "id": "rzDO3Duy7UVW"
      },
      "source": [
        "We assert the prediction quality"
      ]
    },
    {
      "cell_type": "code",
      "execution_count": 21,
      "metadata": {
        "colab": {
          "base_uri": "https://localhost:8080/",
          "height": 283
        },
        "id": "SIEQZJvg7UVW",
        "outputId": "dbb74aa9-dd7d-4875-c185-3888b7d08336"
      },
      "outputs": [
        {
          "output_type": "execute_result",
          "data": {
            "text/plain": [
              "[<matplotlib.lines.Line2D at 0x7f3587d9b450>]"
            ]
          },
          "metadata": {},
          "execution_count": 21
        },
        {
          "output_type": "display_data",
          "data": {
            "text/plain": [
              "<Figure size 432x288 with 1 Axes>"
            ],
            "image/png": "[encoded data removed]"
          },
          "metadata": {
            "needs_background": "light"
          }
        }
      ],
      "source": [
        "import matplotlib.pyplot as plt\n",
        "plt.plot(y_tot['y1'],poly_inter.predict(xy_tot)[:,0],'o')"
      ]
    },
    {
      "cell_type": "code",
      "execution_count": 22,
      "metadata": {
        "colab": {
          "base_uri": "https://localhost:8080/",
          "height": 283
        },
        "id": "G800Abc_7UVX",
        "outputId": "3af88ce5-1b1b-4ac4-ad0d-30d7ee40728d"
      },
      "outputs": [
        {
          "output_type": "execute_result",
          "data": {
            "text/plain": [
              "[<matplotlib.lines.Line2D at 0x7f3587883990>]"
            ]
          },
          "metadata": {},
          "execution_count": 22
        },
        {
          "output_type": "display_data",
          "data": {
            "text/plain": [
              "<Figure size 432x288 with 1 Axes>"
            ],
            "image/png": "[encoded data removed]"
          },
          "metadata": {
            "needs_background": "light"
          }
        }
      ],
      "source": [
        "plt.plot(y_tot['y2'],poly_inter.predict(xy_tot)[:,1],'o')"
      ]
    },
    {
      "cell_type": "code",
      "execution_count": 23,
      "metadata": {
        "colab": {
          "base_uri": "https://localhost:8080/",
          "height": 283
        },
        "id": "XeEXogOl7UVX",
        "outputId": "aa09a496-c7bd-4cc6-9f28-00c781e1d648"
      },
      "outputs": [
        {
          "output_type": "execute_result",
          "data": {
            "text/plain": [
              "[<matplotlib.lines.Line2D at 0x7f35877f56d0>]"
            ]
          },
          "metadata": {},
          "execution_count": 23
        },
        {
          "output_type": "display_data",
          "data": {
            "text/plain": [
              "<Figure size 432x288 with 1 Axes>"
            ],
            "image/png": "[encoded data removed]"
          },
          "metadata": {
            "needs_background": "light"
          }
        }
      ],
      "source": [
        "plt.plot(y_tot['y3'],poly_inter.predict(xy_tot)[:,2],'o')"
      ]
    },
    {
      "cell_type": "code",
      "execution_count": 24,
      "metadata": {
        "colab": {
          "base_uri": "https://localhost:8080/"
        },
        "id": "AA52yc4o7UVY",
        "outputId": "e08291c8-a471-4028-f29f-15d2ff2ac81b"
      },
      "outputs": [
        {
          "output_type": "execute_result",
          "data": {
            "text/plain": [
              "0.9634662718960828"
            ]
          },
          "metadata": {},
          "execution_count": 24
        }
      ],
      "source": [
        "poly_inter.score(xy_tot,y_tot)"
      ]
    },
    {
      "cell_type": "markdown",
      "metadata": {
        "id": "wO1koRGJ7UVa"
      },
      "source": [
        "**We calculate the predictions for all sampling points**"
      ]
    },
    {
      "cell_type": "code",
      "execution_count": 25,
      "metadata": {
        "id": "2I_FX5OT7UVb",
        "colab": {
          "base_uri": "https://localhost:8080/"
        },
        "outputId": "c50edfa8-302f-42e1-8eb8-fefd2b9c1d12"
      },
      "outputs": [
        {
          "output_type": "stream",
          "name": "stderr",
          "text": [
            "/usr/local/lib/python3.7/dist-packages/sklearn/base.py:451: UserWarning: X does not have valid feature names, but PolynomialFeatures was fitted with feature names\n",
            "  \"X does not have valid feature names, but\"\n"
          ]
        }
      ],
      "source": [
        "outputDesign=np.zeros((np.shape(inputDesign)[0],3))\n",
        "outputDesign = poly_inter.predict(inputDesign)"
      ]
    },
    {
      "cell_type": "code",
      "execution_count": 26,
      "metadata": {
        "id": "xuAP4rlm7UVb"
      },
      "outputs": [],
      "source": [
        "outputDesign1=ot.Sample(outputDesign)"
      ]
    },
    {
      "cell_type": "markdown",
      "metadata": {
        "id": "bgxATPQx7UVc"
      },
      "source": [
        "**We estimate principal and total sensitivity indices with associated confidence intervals using Martinez method, for the 1st component**"
      ]
    },
    {
      "cell_type": "code",
      "execution_count": 27,
      "metadata": {
        "id": "sJQc3dgq5jhE"
      },
      "outputs": [],
      "source": [
        "sensitivityAnalysis = ot.MartinezSensitivityAlgorithm(inputDesign, outputDesign1.getMarginal([0]), size)\n",
        "first_indice = sensitivityAnalysis.getFirstOrderIndices()\n",
        "total_indice = sensitivityAnalysis.getTotalOrderIndices()\n",
        "first_indiceIC = sensitivityAnalysis.getFirstOrderIndicesInterval()\n",
        "total_indiceIC = sensitivityAnalysis.getTotalOrderIndicesInterval()"
      ]
    },
    {
      "cell_type": "code",
      "execution_count": 28,
      "metadata": {
        "colab": {
          "base_uri": "https://localhost:8080/"
        },
        "id": "DxHbiYs97UVe",
        "outputId": "494f4499-2142-4525-afaf-ec12a5df15c1"
      },
      "outputs": [
        {
          "output_type": "stream",
          "name": "stdout",
          "text": [
            "[0.022531,-0.014248,-0.0140205,-0.0133593,-0.0112318,0.473554,-0.00514327,0.053375,-0.00422653,0.0730302,0.261011]#11\n",
            "[0.0447973,0.0156877,0.00125672,0.00597272,0.00910463,0.491434,0.0130709,0.0731795,0.0187353,0.102983,0.282423]#11\n",
            "[-0.000233452, 0.0461605]\n",
            "[-0.0367245, 0.00939048]\n",
            "[-0.0367918, 0.00911211]\n",
            "[-0.035165, 0.00948617]\n",
            "[-0.0339717, 0.0121772]\n",
            "[0.458676, 0.486185]\n",
            "[-0.0286338, 0.0180825]\n",
            "[0.0299223, 0.0753763]\n",
            "[-0.0279425, 0.0196564]\n",
            "[0.0484278, 0.0971254]\n",
            "[0.239584, 0.281736]\n",
            "[0.0128929, 0.075024]\n",
            "[-0.0159514, 0.0452715]\n",
            "[-0.0298046, 0.0304058]\n",
            "[-0.0251899, 0.0352313]\n",
            "[-0.0223945, 0.0387036]\n",
            "[0.450296, 0.53096]\n",
            "[-0.018276, 0.0426964]\n",
            "[0.0395589, 0.103404]\n",
            "[-0.0126653, 0.048192]\n",
            "[0.0692628, 0.134671]\n",
            "[0.243399, 0.31973]\n"
          ]
        }
      ],
      "source": [
        "print(first_indice)\n",
        "print(total_indice)\n",
        "print(first_indiceIC)\n",
        "print(total_indiceIC)"
      ]
    },
    {
      "cell_type": "code",
      "execution_count": 29,
      "metadata": {
        "colab": {
          "base_uri": "https://localhost:8080/",
          "height": 773
        },
        "id": "ES_du_zW7UVf",
        "outputId": "d1211146-ba03-44be-fa6b-ade4a10512ae"
      },
      "outputs": [
        {
          "output_type": "execute_result",
          "data": {
            "text/plain": [
              "<openturns.viewer.View at 0x7f3587783210>"
            ]
          },
          "metadata": {},
          "execution_count": 29
        },
        {
          "output_type": "display_data",
          "data": {
            "text/plain": [
              "<Figure size 1190x790 with 1 Axes>"
            ],
            "image/png": "[encoded data removed]"
          },
          "metadata": {
            "needs_background": "light"
          }
        }
      ],
      "source": [
        "otv.View(sensitivityAnalysis.draw(), (1200, 800))"
      ]
    },
    {
      "cell_type": "markdown",
      "metadata": {
        "id": "cXdAXpq07UVf"
      },
      "source": [
        "Analysis component by component"
      ]
    },
    {
      "cell_type": "code",
      "execution_count": 30,
      "metadata": {
        "id": "mVo76VTT7UVf"
      },
      "outputs": [],
      "source": [
        "for j in range(1,3):\n",
        "    sensitivityAnalysisb = ot.MartinezSensitivityAlgorithm(inputDesign, outputDesign1.getMarginal([j]), size)\n",
        "    bb = sensitivityAnalysisb.getFirstOrderIndices()\n",
        "    tt = sensitivityAnalysisb.getTotalOrderIndices()\n",
        "    first_indice=np.vstack((first_indice,bb))\n",
        "    total_indice=np.vstack((total_indice,tt))\n"
      ]
    },
    {
      "cell_type": "markdown",
      "metadata": {
        "id": "2axmiL4I7UVg"
      },
      "source": [
        "Figures"
      ]
    },
    {
      "cell_type": "code",
      "execution_count": 31,
      "metadata": {
        "id": "se0o9Jmy7UVg"
      },
      "outputs": [],
      "source": [
        "variables = [\"Logive\", \"Rnez\", \"Lfente\", \"Pfente\", \"Dengin\", \"LBB\", \"Pos\",\"Fleche_BA\", \"Fleche_BF\", \"Corde\", \"H\"]\n",
        "xxx = np.arange(len(variables))  # the label locations\n",
        "width = 0.2  # the width of the bars\n"
      ]
    },
    {
      "cell_type": "code",
      "execution_count": 32,
      "metadata": {
        "id": "1MPakx367UVh",
        "colab": {
          "base_uri": "https://localhost:8080/",
          "height": 284
        },
        "outputId": "f004434a-35e6-427a-b0fc-b88a59fc847f"
      },
      "outputs": [
        {
          "output_type": "execute_result",
          "data": {
            "text/plain": [
              "<matplotlib.legend.Legend at 0x7f3587720dd0>"
            ]
          },
          "metadata": {},
          "execution_count": 32
        },
        {
          "output_type": "display_data",
          "data": {
            "text/plain": [
              "<Figure size 432x288 with 1 Axes>"
            ],
            "image/png": "[encoded data removed]"
          },
          "metadata": {
            "needs_background": "light"
          }
        }
      ],
      "source": [
        "fig, ax = plt.subplots()\n",
        "rects1 = ax.bar(xxx - width, first_indice[0,:], width, color='red',label='Composante1')\n",
        "rects2 = ax.bar(xxx , first_indice[1,:], width, color='blue',label='Composante2')\n",
        "rects3 = ax.bar(xxx + width, first_indice[2,:], width, color='green',label='Composante3')\n",
        "\n",
        "# Add some text for labels, title and custom x-axis tick labels, etc.\n",
        "ax.set_ylabel('First indices')\n",
        "ax.set_xticks(xxx)\n",
        "ax.set_xticklabels(variables)\n",
        "ax.legend()"
      ]
    },
    {
      "cell_type": "code",
      "execution_count": 35,
      "metadata": {
        "id": "a6IZLOFY7UVh",
        "colab": {
          "base_uri": "https://localhost:8080/",
          "height": 284
        },
        "outputId": "f3625080-f113-4694-8453-e1138d487cc6"
      },
      "outputs": [
        {
          "output_type": "execute_result",
          "data": {
            "text/plain": [
              "<matplotlib.legend.Legend at 0x7f35875cedd0>"
            ]
          },
          "metadata": {},
          "execution_count": 35
        },
        {
          "output_type": "display_data",
          "data": {
            "text/plain": [
              "<Figure size 432x288 with 1 Axes>"
            ],
            "image/png": "[encoded data removed]"
          },
          "metadata": {
            "needs_background": "light"
          }
        }
      ],
      "source": [
        "fig, ax = plt.subplots()\n",
        "rects1 = ax.bar(xxx - width, total_indice[0,:], width, color='red',label='Component1')\n",
        "rects2 = ax.bar(xxx , total_indice[1,:], width, color='blue',label='Component2')\n",
        "rects3 = ax.bar(xxx + width, total_indice[2,:], width, color='green',label='Component3')\n",
        "\n",
        "# Add some text for labels, title and custom x-axis tick labels, etc.\n",
        "ax.set_ylabel('Total indices')\n",
        "ax.set_xticks(xxx)\n",
        "ax.set_xticklabels(variables)\n",
        "ax.legend()"
      ]
    },
    {
      "cell_type": "code",
      "execution_count": null,
      "metadata": {
        "id": "F5fpGgz87UVi"
      },
      "outputs": [],
      "source": []
    },
    {
      "cell_type": "markdown",
      "metadata": {
        "id": "z7lsiE0U7UVi"
      },
      "source": [
        "**Global multivariate analysis**"
      ]
    },
    {
      "cell_type": "code",
      "execution_count": 36,
      "metadata": {
        "id": "yYTmZG717UVj"
      },
      "outputs": [],
      "source": [
        "sensitivity_algorithm = ot.MartinezSensitivityAlgorithm(inputDesign, outputDesign1, size)"
      ]
    },
    {
      "cell_type": "code",
      "execution_count": 37,
      "metadata": {
        "colab": {
          "base_uri": "https://localhost:8080/"
        },
        "id": "E-DPWX_m7UVj",
        "outputId": "4d294156-5b39-4145-de3f-28ae91940718"
      },
      "outputs": [
        {
          "output_type": "stream",
          "name": "stdout",
          "text": [
            "[0.0151212,-0.00854355,-0.0104087,-0.0103765,0.0269986,0.416756,-0.00412585,0.0667961,-0.0041967,0.112802,0.200923]#11\n",
            "[0.052845,0.0354414,0.0161217,0.0124949,0.0498801,0.44153,0.0121907,0.088794,0.0367803,0.138965,0.223261]#11\n"
          ]
        }
      ],
      "source": [
        "first_indiceag = sensitivity_algorithm.getAggregatedFirstOrderIndices()\n",
        "total_indiceag = sensitivity_algorithm.getAggregatedTotalOrderIndices()\n",
        "print(first_indiceag)\n",
        "print(total_indiceag)"
      ]
    },
    {
      "cell_type": "markdown",
      "metadata": {
        "id": "y9aN0dA27UVj"
      },
      "source": [
        "Bootstrap estimation of confidence intervals"
      ]
    },
    {
      "cell_type": "code",
      "execution_count": 38,
      "metadata": {
        "colab": {
          "base_uri": "https://localhost:8080/"
        },
        "id": "DO6gYzDl7UVk",
        "outputId": "167d98da-83d6-45e2-c8f9-4fdc54355de2"
      },
      "outputs": [
        {
          "output_type": "stream",
          "name": "stdout",
          "text": [
            "bootstrap intervals\n",
            "Aggregated first order indices interval =  [-0.0012562, 0.0343153]\n",
            "[-0.0260659, 0.0112166]\n",
            "[-0.0273675, 0.00961852]\n",
            "[-0.028188, 0.0105824]\n",
            "[0.00922727, 0.0477072]\n",
            "[0.404945, 0.432543]\n",
            "[-0.0216457, 0.0160362]\n",
            "[0.0478843, 0.0877946]\n",
            "[-0.0213294, 0.0159221]\n",
            "[0.0940227, 0.132184]\n",
            "[0.185767, 0.217862]\n",
            "Aggregated total order indices interval =  [0.0297017, 0.0734331]\n",
            "[0.0122131, 0.0561221]\n",
            "[-0.00589868, 0.0357769]\n",
            "[-0.00965522, 0.0323454]\n",
            "[0.0263733, 0.0708627]\n",
            "[0.408552, 0.470644]\n",
            "[-0.010046, 0.0320897]\n",
            "[0.0646034, 0.109828]\n",
            "[0.0136064, 0.0576918]\n",
            "[0.115469, 0.161093]\n",
            "[0.198225, 0.24455]\n"
          ]
        }
      ],
      "source": [
        "nr_bootstrap = 100\n",
        "confidence_level = 0.95\n",
        "\n",
        "sensitivity_algorithm.setBootstrapSize(nr_bootstrap)\n",
        "sensitivity_algorithm.setConfidenceLevel(confidence_level)\n",
        "sensitivity_algorithm.setUseAsymptoticDistribution(False)\n",
        "interval_fo = sensitivity_algorithm.getFirstOrderIndicesInterval()\n",
        "interval_to = sensitivity_algorithm.getTotalOrderIndicesInterval()\n",
        "print(\"bootstrap intervals\")\n",
        "print(\"Aggregated first order indices interval = \", interval_fo)\n",
        "print(\"Aggregated total order indices interval = \", interval_to)"
      ]
    },
    {
      "cell_type": "markdown",
      "metadata": {
        "id": "DwMSlwSc7UVk"
      },
      "source": [
        "Plot"
      ]
    },
    {
      "cell_type": "code",
      "execution_count": 39,
      "metadata": {
        "colab": {
          "base_uri": "https://localhost:8080/",
          "height": 773
        },
        "id": "Qaia8s3y7UVl",
        "outputId": "d6bdf9e9-820b-406f-a9e0-f33aa8a0ad3f"
      },
      "outputs": [
        {
          "output_type": "execute_result",
          "data": {
            "text/plain": [
              "<openturns.viewer.View at 0x7f35872f8950>"
            ]
          },
          "metadata": {},
          "execution_count": 39
        },
        {
          "output_type": "display_data",
          "data": {
            "text/plain": [
              "<Figure size 1190x790 with 1 Axes>"
            ],
            "image/png": "[encoded data removed]"
          },
          "metadata": {
            "needs_background": "light"
          }
        }
      ],
      "source": [
        "otv.View(sensitivityAnalysis.draw(), (1200, 800))"
      ]
    },
    {
      "cell_type": "code",
      "execution_count": null,
      "metadata": {
        "id": "KKUgXZ-H7UVm"
      },
      "outputs": [],
      "source": []
    }
  ],
  "metadata": {
    "colab": {
      "collapsed_sections": [],
      "provenance": []
    },
    "kernelspec": {
      "display_name": "Python 3",
      "language": "python",
      "name": "python3"
    },
    "language_info": {
      "codemirror_mode": {
        "name": "ipython",
        "version": 3
      },
      "file_extension": ".py",
      "mimetype": "text/x-python",
      "name": "python",
      "nbconvert_exporter": "python",
      "pygments_lexer": "ipython3",
      "version": "3.6.8"
    }
  },
  "nbformat": 4,
  "nbformat_minor": 0
}