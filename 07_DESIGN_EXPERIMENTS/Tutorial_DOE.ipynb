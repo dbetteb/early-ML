{
  "cells": [
    {
      "cell_type": "markdown",
      "metadata": {
        "id": "nQwfRWVkpPlv"
      },
      "source": [
        "# Design of Experiments\n",
        "\n",
        "N. BARTOLI (ONERA/DTIS/M2CI)"
      ]
    },
    {
      "cell_type": "markdown",
      "metadata": {
        "id": "oPwavhxVpPlx"
      },
      "source": [
        "This tutorial describes how to use the pyDOE3 (updated version from pyDOE) library to build a Design of Experiments\n"
      ]
    },
    {
      "cell_type": "markdown",
      "metadata": {
        "id": "yGwMh5TepPlx"
      },
      "source": [
        "<div class=\"alert alert-info fade in\" id=\"d110\">\n",
        "<p>Two means to have a design of experiments</p>\n",
        "<ol> - create a DOE wiyh PyDOE3 toolbox </ol>\n",
        "<ol> - download a database (DOE files) </ol>\n",
        "\n",
        "\n",
        "</div>\n",
        "\n",
        "**October 2025**"
      ]
    },
    {
      "cell_type": "markdown",
      "metadata": {
        "id": "P4ecJ-uWpPly"
      },
      "source": [
        "# 1. Installation of pyDOE3"
      ]
    },
    {
      "cell_type": "markdown",
      "metadata": {
        "id": "nto4eE-FpPly"
      },
      "source": [
        "The package `pyDOE3` which handles the creation of the domain of experiments."
      ]
    },
    {
      "cell_type": "code",
      "source": [
        "!python --version"
      ],
      "metadata": {
        "colab": {
          "base_uri": "https://localhost:8080/"
        },
        "id": "PcAiKYF7rQuE",
        "outputId": "534e03e2-bc48-4add-d0e1-30b233a6c572"
      },
      "execution_count": 11,
      "outputs": [
        {
          "output_type": "stream",
          "name": "stdout",
          "text": [
            "Python 3.12.11\n"
          ]
        }
      ]
    },
    {
      "cell_type": "markdown",
      "source": [
        "**If you use python >= 3.12 there is an issue with pydoe2: need to use pydoe3**\n",
        "\n",
        "\n",
        "**or use lhs from scipy**"
      ],
      "metadata": {
        "id": "KJRx8gYNrLd-"
      }
    },
    {
      "cell_type": "code",
      "execution_count": 19,
      "metadata": {
        "colab": {
          "base_uri": "https://localhost:8080/"
        },
        "id": "4do1Tr-LpPly",
        "outputId": "56be5941-9357-4159-d780-8248bb31b6fb"
      },
      "outputs": [
        {
          "output_type": "stream",
          "name": "stdout",
          "text": [
            "Requirement already satisfied: pyDOE3 in /usr/local/lib/python3.12/dist-packages (1.4.0)\n",
            "Requirement already satisfied: numpy in /usr/local/lib/python3.12/dist-packages (from pyDOE3) (2.0.2)\n",
            "Requirement already satisfied: scipy in /usr/local/lib/python3.12/dist-packages (from pyDOE3) (1.16.2)\n"
          ]
        }
      ],
      "source": [
        "!pip install pyDOE3"
      ]
    },
    {
      "cell_type": "markdown",
      "metadata": {
        "id": "hhxVh5FYpPl0"
      },
      "source": [
        "# 2. Construction of the training points for a 2D example"
      ]
    },
    {
      "cell_type": "markdown",
      "metadata": {
        "id": "gkCJu_1lpPl0"
      },
      "source": [
        "## 2.1 Case 1: the user doesn't have any sample"
      ]
    },
    {
      "cell_type": "code",
      "execution_count": 13,
      "metadata": {
        "colab": {
          "base_uri": "https://localhost:8080/",
          "height": 1000
        },
        "id": "oeprWFMVpPl0",
        "outputId": "80b094cc-5d8f-40e0-fad2-767c33cb6f19"
      },
      "outputs": [
        {
          "output_type": "stream",
          "name": "stdout",
          "text": [
            "[[-1.         -1.        ]\n",
            " [-1.         -0.66666667]\n",
            " [-1.         -0.33333333]\n",
            " [-1.          0.        ]\n",
            " [-1.          0.33333333]\n",
            " [-1.          0.66666667]\n",
            " [-1.          1.        ]\n",
            " [-0.66666667 -1.        ]\n",
            " [-0.66666667 -0.66666667]\n",
            " [-0.66666667 -0.33333333]\n",
            " [-0.66666667  0.        ]\n",
            " [-0.66666667  0.33333333]\n",
            " [-0.66666667  0.66666667]\n",
            " [-0.66666667  1.        ]\n",
            " [-0.33333333 -1.        ]\n",
            " [-0.33333333 -0.66666667]\n",
            " [-0.33333333 -0.33333333]\n",
            " [-0.33333333  0.        ]\n",
            " [-0.33333333  0.33333333]\n",
            " [-0.33333333  0.66666667]\n",
            " [-0.33333333  1.        ]\n",
            " [ 0.         -1.        ]\n",
            " [ 0.         -0.66666667]\n",
            " [ 0.         -0.33333333]\n",
            " [ 0.          0.        ]\n",
            " [ 0.          0.33333333]\n",
            " [ 0.          0.66666667]\n",
            " [ 0.          1.        ]\n",
            " [ 0.33333333 -1.        ]\n",
            " [ 0.33333333 -0.66666667]\n",
            " [ 0.33333333 -0.33333333]\n",
            " [ 0.33333333  0.        ]\n",
            " [ 0.33333333  0.33333333]\n",
            " [ 0.33333333  0.66666667]\n",
            " [ 0.33333333  1.        ]\n",
            " [ 0.66666667 -1.        ]\n",
            " [ 0.66666667 -0.66666667]\n",
            " [ 0.66666667 -0.33333333]\n",
            " [ 0.66666667  0.        ]\n",
            " [ 0.66666667  0.33333333]\n",
            " [ 0.66666667  0.66666667]\n",
            " [ 0.66666667  1.        ]\n",
            " [ 1.         -1.        ]\n",
            " [ 1.         -0.66666667]\n",
            " [ 1.         -0.33333333]\n",
            " [ 1.          0.        ]\n",
            " [ 1.          0.33333333]\n",
            " [ 1.          0.66666667]\n",
            " [ 1.          1.        ]]\n"
          ]
        },
        {
          "output_type": "display_data",
          "data": {
            "text/plain": [
              "<Figure size 640x480 with 1 Axes>"
            ],
            "image/png": "[encoded data removed]"
          },
          "metadata": {}
        }
      ],
      "source": [
        "\n",
        "import numpy as np\n",
        "import matplotlib.pyplot as plt\n",
        "\n",
        "# construction of both test and training points (the user doesn't have any validation point)\n",
        "x_min=[-1 , -1]\n",
        "x_max=[1 , 1]\n",
        "num=7\n",
        "# grid pattern\n",
        "x_array = np.linspace(x_min[1], x_max[1], num)\n",
        "y_array = np.linspace(x_min[1], x_max[1], num)\n",
        "\n",
        "mapping_array = []\n",
        "\n",
        "for i in range(len(x_array)):\n",
        "    for j in range(len(y_array)):\n",
        "        mapping_array.append([x_array[i], y_array[j]])\n",
        "x_train_and_test=np.array(mapping_array);\n",
        "\n",
        "print(x_train_and_test)\n",
        "plt.plot(x_train_and_test[:,0],x_train_and_test[:,1],'.')\n",
        "plt.show()"
      ]
    },
    {
      "cell_type": "code",
      "execution_count": 26,
      "metadata": {
        "colab": {
          "base_uri": "https://localhost:8080/",
          "height": 452
        },
        "id": "5j7urfp9pPl1",
        "outputId": "389a1627-2c7d-44d8-f553-63ccb7317159"
      },
      "outputs": [
        {
          "output_type": "display_data",
          "data": {
            "text/plain": [
              "<Figure size 640x480 with 1 Axes>"
            ],
            "image/png": "[encoded data removed]"
          },
          "metadata": {}
        }
      ],
      "source": [
        "## To replace pyDOE using scipy\n",
        "import numpy as np\n",
        "from scipy.stats import qmc\n",
        "\n",
        "# Define the number of samples and dimensions\n",
        "n_samples = 49\n",
        "n_dims = 2\n",
        "\n",
        "# Create a Latin Hypercube sampler\n",
        "sampler = qmc.LatinHypercube(d=n_dims)\n",
        "\n",
        "# Generate samples in [0, 1]\n",
        "samples = sampler.random(n=n_samples)\n",
        "\n",
        "# Scale samples to your desired range, e.g., [0, 10] for each dimension\n",
        "lower_bounds = np.array([0, 0])\n",
        "upper_bounds = np.array([1, 1])\n",
        "x_train_and_test= qmc.scale(samples, lower_bounds, upper_bounds)\n",
        "plt.plot(x_train_and_test[:,0],x_train_and_test[:,1],'.')\n",
        "plt.title('LHS with scipy')\n",
        "plt.show()\n",
        "\n"
      ]
    },
    {
      "cell_type": "code",
      "source": [
        "\n",
        "from pyDOE3 import lhs\n",
        "\n",
        "dim = 2 # dimension of the problem\n",
        "#DOE with classical LHS\n",
        "x_train_and_test = lhs(dim, samples=49)\n",
        "print(x_train_and_test)\n",
        "plt.plot(x_train_and_test[:,0],x_train_and_test[:,1],'.')\n",
        "plt.title('LHS with pydoe')\n",
        "plt.show()\n",
        "#DOE with classical LHS criterion='center'\n",
        "x_train_and_test = lhs(dim, samples=49, criterion='center')\n",
        "#print(x_train_and_test)\n",
        "plt.plot(x_train_and_test[:,0],x_train_and_test[:,1],'.')\n",
        "plt.title('LHS with pydoe - center')\n",
        "plt.show()\n",
        "#DOE with classical LHS criterion='centermaximin'\n",
        "x_train_and_test = lhs(dim, samples=49, criterion='centermaximin')\n",
        "#print(x_train_and_test)\n",
        "plt.plot(x_train_and_test[:,0],x_train_and_test[:,1],'.')\n",
        "plt.title('LHS with pydoe - centermaximin')\n",
        "plt.show()\n"
      ],
      "metadata": {
        "id": "izPKPpXM07kq",
        "outputId": "0924e2d0-23f1-49fd-e690-6605fd850a37",
        "colab": {
          "base_uri": "https://localhost:8080/",
          "height": 1000
        }
      },
      "execution_count": 27,
      "outputs": [
        {
          "output_type": "stream",
          "name": "stdout",
          "text": [
            "[[2.74197171e-01 9.83043833e-01]\n",
            " [9.84369686e-01 1.83912998e-01]\n",
            " [7.06070387e-01 2.23898440e-01]\n",
            " [7.48264943e-01 5.02592174e-01]\n",
            " [1.91277883e-01 3.28525664e-01]\n",
            " [3.06056911e-01 4.33857991e-01]\n",
            " [1.24425990e-01 3.67316796e-01]\n",
            " [4.25857378e-01 7.89440427e-01]\n",
            " [3.83684281e-01 6.05166334e-01]\n",
            " [9.19753263e-01 2.61816112e-01]\n",
            " [9.15287059e-02 2.92508127e-01]\n",
            " [6.34327470e-01 5.58881331e-01]\n",
            " [7.33738973e-01 6.81811633e-01]\n",
            " [6.88569674e-01 5.36681772e-01]\n",
            " [8.24242181e-01 8.87850704e-02]\n",
            " [2.11256843e-02 8.62070441e-01]\n",
            " [9.60804445e-01 9.70001703e-01]\n",
            " [4.15652174e-03 7.60809078e-01]\n",
            " [4.59619610e-01 8.48053384e-01]\n",
            " [2.60542959e-01 8.23996922e-01]\n",
            " [1.50768951e-01 9.56080943e-01]\n",
            " [4.72399978e-01 1.15287804e-01]\n",
            " [1.05047804e-01 6.90800226e-02]\n",
            " [5.51083851e-01 3.69863054e-01]\n",
            " [7.51059637e-02 4.53021525e-01]\n",
            " [3.11899336e-01 8.98490455e-01]\n",
            " [8.49144633e-01 5.75994193e-01]\n",
            " [3.29947495e-01 5.22036559e-04]\n",
            " [6.72000839e-01 9.34358047e-01]\n",
            " [8.01814446e-01 8.05353310e-01]\n",
            " [5.41784628e-01 7.03162639e-01]\n",
            " [2.40568468e-01 1.23497053e-01]\n",
            " [5.07956838e-01 7.49316398e-01]\n",
            " [8.74849999e-01 5.19546532e-01]\n",
            " [4.29066009e-01 8.92627574e-01]\n",
            " [6.24725118e-01 2.84794335e-01]\n",
            " [7.60432558e-01 3.91354284e-01]\n",
            " [9.50421350e-01 1.62501219e-01]\n",
            " [7.76441242e-01 1.68132718e-01]\n",
            " [2.08293468e-01 4.13108485e-01]\n",
            " [5.83570949e-01 6.35281723e-01]\n",
            " [5.96544809e-01 4.72859669e-02]\n",
            " [3.93105514e-01 2.28978673e-01]\n",
            " [3.47513321e-01 2.04437994e-02]\n",
            " [9.13563244e-01 6.21982525e-01]\n",
            " [8.84991616e-01 7.14956288e-01]\n",
            " [5.12708981e-01 4.72052231e-01]\n",
            " [5.16195790e-02 3.15959990e-01]\n",
            " [1.72949845e-01 6.65399879e-01]]\n"
          ]
        },
        {
          "output_type": "display_data",
          "data": {
            "text/plain": [
              "<Figure size 640x480 with 1 Axes>"
            ],
            "image/png": "[encoded data removed]"
          },
          "metadata": {}
        },
        {
          "output_type": "display_data",
          "data": {
            "text/plain": [
              "<Figure size 640x480 with 1 Axes>"
            ],
            "image/png": "[encoded data removed]"
          },
          "metadata": {}
        },
        {
          "output_type": "display_data",
          "data": {
            "text/plain": [
              "<Figure size 640x480 with 1 Axes>"
            ],
            "image/png": "[encoded data removed]"
          },
          "metadata": {}
        }
      ]
    },
    {
      "cell_type": "markdown",
      "metadata": {
        "id": "xvqxHC_tpPl2"
      },
      "source": [
        "The outputs `y` are created by applying the function we want to model."
      ]
    },
    {
      "cell_type": "markdown",
      "metadata": {
        "id": "b_nIEJ3OpPl2"
      },
      "source": [
        "  \n",
        "\n",
        "To split the training set and the test set we can use the function:"
      ]
    },
    {
      "cell_type": "code",
      "execution_count": 18,
      "metadata": {
        "colab": {
          "base_uri": "https://localhost:8080/"
        },
        "id": "oL8p8LYdpPl2",
        "outputId": "8838a7df-4dea-4a89-94ff-33b19f9bfbf1"
      },
      "outputs": [
        {
          "output_type": "stream",
          "name": "stdout",
          "text": [
            "X_train (49, 2)\n",
            "X_train (39, 2)\n",
            "X_test (10, 2)\n"
          ]
        }
      ],
      "source": [
        "from sklearn.model_selection import train_test_split\n",
        "x_train, x_test = train_test_split(x_train_and_test, test_size=0.2, random_state=12)\n",
        "print('X_train', x_train_and_test.shape)\n",
        "print('X_train', x_train.shape)\n",
        "print('X_test', x_test.shape)"
      ]
    },
    {
      "cell_type": "markdown",
      "metadata": {
        "id": "xxtmTX1RpPl2"
      },
      "source": [
        "## 2.2 Define the Branin function and visualize it"
      ]
    },
    {
      "cell_type": "markdown",
      "metadata": {
        "id": "ftPOYNFcpPl2"
      },
      "source": [
        "**Branin function**\n",
        "$$\n",
        "\\begin{array}{ccc}\n",
        "f(x_1,x_2) = {\\left(x_{2} - \\frac{5.1}{4\\pi^2} {x_{1}}^2 + \\frac{5}{\\pi} x_{1} - 6\\right)}^2 + 10 \\left[(1 - \\frac{1}{8\\pi}) \\cos(x_{1}) + 10\\right]\n",
        "\\end{array}\n",
        "$$\n",
        "\n",
        "$$x_{1} \\in [-5, 10] \\hspace{2mm} x_{2} \\in [0, 15]$$"
      ]
    },
    {
      "cell_type": "code",
      "execution_count": null,
      "metadata": {
        "id": "TVpCT8pSpPl3"
      },
      "outputs": [],
      "source": [
        "def branin(x):\n",
        "    \"\"\"\n",
        "    This function is the Branin function\n",
        "    Input:\n",
        "    --------\n",
        "    x : 2D array_like (x in [0, 1])\n",
        "    Output\n",
        "    --------\n",
        "    y : array_like\n",
        "    values of Branin function for each x\n",
        "    \"\"\"\n",
        "    if x.shape[1] != 2:\n",
        "        raise UncorrectInputDimension()\n",
        "    #vector x in [0, 1] =>  x1 in [-5, 10] and x2 in [0 15]\n",
        "    x1 = 15 * x[:, 0] - 5\n",
        "    x2 = 15 * x[:, 1]\n",
        "    return (x2 - 5.1 / (4. * (np.pi)**2) * x1**2 + 5. / np.pi * x1 - 6)**2 + \\\n",
        "        10. * (1. - 1. / (8. * np.pi)) * np.cos(x1) + 10\n"
      ]
    },
    {
      "cell_type": "code",
      "execution_count": null,
      "metadata": {
        "id": "tTVPHT48pPl3"
      },
      "outputs": [],
      "source": [
        "from mpl_toolkits.mplot3d import Axes3D\n",
        "import matplotlib.pyplot as plt\n",
        "from matplotlib import cm\n",
        "from matplotlib.ticker import LinearLocator, FormatStrFormatter\n",
        "\n",
        "y_train_and_test = branin(x_train_and_test) # branin's function = function to model\n",
        "x = np.linspace(0,1,50)\n",
        "res = []\n",
        "for x0 in x:\n",
        "    for x1 in x:\n",
        "        res.append(branin(np.array([[x0,x1]])))\n",
        "res = np.array(res)\n",
        "res = res.reshape((50,50)).T\n",
        "X,Y = np.meshgrid(x,x)\n",
        "fig = plt.figure(figsize=(15, 10))\n",
        "ax = fig.add_subplot(projection='3d')\n",
        "ax.scatter(x_train_and_test[:,0],x_train_and_test[:,1],y_train_and_test,zdir='z',marker = '.',c='k',s=100)\n",
        "surf = ax.plot_surface(X, Y, res, cmap=cm.coolwarm,\n",
        "                       linewidth=0, antialiased=False,alpha=0.5)\n",
        "plt.title('Branin function with the DOE points')\n",
        "\n",
        "plt.show()"
      ]
    },
    {
      "cell_type": "markdown",
      "metadata": {
        "id": "Hs7t9gkYpPl3"
      },
      "source": [
        "## 2.3 Case 2: the user do have sample of points"
      ]
    },
    {
      "cell_type": "markdown",
      "metadata": {
        "id": "eqxxXTzDpPl3"
      },
      "source": [
        "If the user has a file with points, he can also use the function 'construct_sample' to construct the samples :"
      ]
    },
    {
      "cell_type": "markdown",
      "metadata": {
        "id": "xIZpnR_-pPl3"
      },
      "source": [
        "<div class=\"alert alert-warning fade in\" id=\"d107\"><h4 id=\"this-is-an-example-alert-message-\">\n",
        "    \n",
        "To read files from google colab\n",
        "\n",
        "url_name='https://raw.githubusercontent.com/dbetteb/early-ML/master/07_DESIGN_EXPERIMENTS/BRANIN_Train.csv\n",
        "\n",
        "xy_train = pd.read_csv(url_name, header=None)\n",
        "\n",
        "url_name='https://raw.githubusercontent.com/dbetteb/early-ML/master/07_DESIGN_EXPERIMENTS/BRANIN_Valid.csv\n",
        "\n",
        "xy_valid = pd.read_csv(url_name, header=None)\n",
        "\n",
        "url_name='https://raw.githubusercontent.com/dbetteb/early-ML/master/07_DESIGN_EXPERIMENTS/BRANIN_Predict.csv\n",
        "\n",
        "xy_to_predict = pd.read_csv(url_name, header=None)\n",
        "\n",
        "</div>"
      ]
    },
    {
      "cell_type": "code",
      "source": [
        "import pandas as pd\n",
        "#To read files from google colab\n",
        "\n",
        "url_name='https://raw.githubusercontent.com/dbetteb/early-ML/master/07_DESIGN_EXPERIMENTS/BRANIN_Train.csv'\n",
        "\n",
        "xy_train = pd.read_csv(url_name, header=None)\n",
        "\n",
        "url_name='https://raw.githubusercontent.com/dbetteb/early-ML/master/07_DESIGN_EXPERIMENTS/BRANIN_Valid.csv'\n",
        "\n",
        "xy_valid = pd.read_csv(url_name, header=None)\n",
        "\n",
        "url_name='https://raw.githubusercontent.com/dbetteb/early-ML/master/07_DESIGN_EXPERIMENTS/BRANIN_Predict.csv'\n",
        "\n",
        "xy_to_predict = pd.read_csv(url_name, header=None)"
      ],
      "metadata": {
        "id": "3peFiQKUsPJK"
      },
      "execution_count": null,
      "outputs": []
    },
    {
      "cell_type": "markdown",
      "source": [
        "#or from local files\n",
        "import pandas as pd\n",
        "\n",
        "file_name = \"BRANIN_Train.csv\"\n",
        "xy_train = pd.read_csv(file_name, header=None)\n",
        "\n",
        "\n",
        "file_name = \"BRANIN_Valid.csv\"\n",
        "xy_valid = pd.read_csv(file_name, header=None)\n",
        "\n",
        "\n",
        "file_name = \"BRANIN_Predict.csv\"\n",
        "xy_to_predict = pd.read_csv(file_name, header=None)"
      ],
      "metadata": {
        "id": "lNb0eRhdsUby"
      }
    },
    {
      "cell_type": "markdown",
      "metadata": {
        "id": "UeZO6aQxpPl4"
      },
      "source": [
        "NB: the form of the `csv` file is very specific. Open one to see how the data is filled in.  \n",
        "Every point is in the first column. One row corresponds to one point. Each component of the point is separated by a comma without space."
      ]
    },
    {
      "cell_type": "markdown",
      "metadata": {
        "id": "MJEJbTggpPl4"
      },
      "source": [
        "We have so far constructed the training points and the validation points."
      ]
    }
  ],
  "metadata": {
    "kernelspec": {
      "display_name": "Python 3",
      "language": "python",
      "name": "python3"
    },
    "language_info": {
      "codemirror_mode": {
        "name": "ipython",
        "version": 3
      },
      "file_extension": ".py",
      "mimetype": "text/x-python",
      "name": "python",
      "nbconvert_exporter": "python",
      "pygments_lexer": "ipython3",
      "version": "3.8.8"
    },
    "colab": {
      "provenance": []
    }
  },
  "nbformat": 4,
  "nbformat_minor": 0
}