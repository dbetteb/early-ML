{
  "cells": [
    {
      "cell_type": "markdown",
      "metadata": {
        "id": "ky4Voy3f7UUe"
      },
      "source": [
        "# Metamodels on SER dataset"
      ]
    },
    {
      "cell_type": "markdown",
      "metadata": {
        "id": "Mf2WjM9Q7UUk"
      },
      "source": [
        "## Goal"
      ]
    },
    {
      "cell_type": "markdown",
      "metadata": {
        "id": "mX_WanRt7UUo"
      },
      "source": [
        "This notebook describes a dataset of EM signatures which can be used to train and compare different metamodels "
      ]
    },
    {
      "cell_type": "markdown",
      "metadata": {
        "id": "29wlLCaL7UUp"
      },
      "source": [
        "## Import modules and data"
      ]
    },
    {
      "cell_type": "code",
      "execution_count": 2,
      "metadata": {
        "id": "-T3z2M2n7UUq"
      },
      "outputs": [],
      "source": [
        "import pandas as pd"
      ]
    },
    {
      "cell_type": "code",
      "execution_count": 3,
      "metadata": {
        "id": "3Gsw9niw7UUr"
      },
      "outputs": [],
      "source": [
        "import numpy as np"
      ]
    },
    {
      "cell_type": "code",
      "execution_count": 4,
      "metadata": {
        "id": "3wTSGG095jf8",
        "outputId": "cf1bb0b1-ed07-4a39-8bc7-b0aa6045d17d",
        "colab": {
          "base_uri": "https://localhost:8080/"
        }
      },
      "outputs": [
        {
          "output_type": "stream",
          "name": "stdout",
          "text": [
            "Populating the interactive namespace from numpy and matplotlib\n"
          ]
        }
      ],
      "source": [
        "%pylab inline"
      ]
    },
    {
      "cell_type": "markdown",
      "metadata": {
        "id": "zWcHnTCd7UUs"
      },
      "source": [
        "We start by importing data, they are stocked in a .csv file with a ; separator - data are already normalized.\n",
        "**2 options, choose the good one**"
      ]
    },
    {
      "cell_type": "markdown",
      "metadata": {
        "id": "aWOyZ9D37UUt"
      },
      "source": [
        "**To read files from google colab**\n",
        "\n",
        "url_name='https://raw.githubusercontent.com/dbetteb/early-ML/master/08_CAS_TEST_SER/data_scaled.csv'\n",
        "\n",
        "xy_tot = pd.read_csv(url_name, header=0,sep=';')"
      ]
    },
    {
      "cell_type": "code",
      "execution_count": 5,
      "metadata": {
        "id": "alU6atlv7mVF"
      },
      "outputs": [],
      "source": [
        "url_name='https://raw.githubusercontent.com/dbetteb/early-ML/master/08_CAS_TEST_SER/data_scaled.csv'\n",
        "xy_tot = pd.read_csv(url_name, header=0,sep=';')"
      ]
    },
    {
      "cell_type": "markdown",
      "metadata": {
        "id": "RBlnOEiVItTo"
      },
      "source": [
        "**If you are on your computer**"
      ]
    },
    {
      "cell_type": "code",
      "execution_count": null,
      "metadata": {
        "id": "0JX88sNC7UUu",
        "outputId": "cdf8faea-be28-412c-85e1-8ab6fb9aa650"
      },
      "outputs": [
        {
          "data": {
            "text/html": [
              "<div>\n",
              "<style scoped>\n",
              "    .dataframe tbody tr th:only-of-type {\n",
              "        vertical-align: middle;\n",
              "    }\n",
              "\n",
              "    .dataframe tbody tr th {\n",
              "        vertical-align: top;\n",
              "    }\n",
              "\n",
              "    .dataframe thead th {\n",
              "        text-align: right;\n",
              "    }\n",
              "</style>\n",
              "<table border=\"1\" class=\"dataframe\">\n",
              "  <thead>\n",
              "    <tr style=\"text-align: right;\">\n",
              "      <th></th>\n",
              "      <th>Logive</th>\n",
              "      <th>Rnez</th>\n",
              "      <th>Lfente</th>\n",
              "      <th>Pfente</th>\n",
              "      <th>Dengin</th>\n",
              "      <th>LBB</th>\n",
              "      <th>Pos</th>\n",
              "      <th>Fleche_BA</th>\n",
              "      <th>Fleche_BF</th>\n",
              "      <th>Corde</th>\n",
              "      <th>H</th>\n",
              "      <th>y</th>\n",
              "    </tr>\n",
              "  </thead>\n",
              "  <tbody>\n",
              "    <tr>\n",
              "      <th>count</th>\n",
              "      <td>111.000000</td>\n",
              "      <td>111.000000</td>\n",
              "      <td>111.000000</td>\n",
              "      <td>111.000000</td>\n",
              "      <td>111.000000</td>\n",
              "      <td>111.000000</td>\n",
              "      <td>111.000000</td>\n",
              "      <td>111.000000</td>\n",
              "      <td>111.000000</td>\n",
              "      <td>111.000000</td>\n",
              "      <td>111.000000</td>\n",
              "      <td>1.110000e+02</td>\n",
              "    </tr>\n",
              "    <tr>\n",
              "      <th>mean</th>\n",
              "      <td>0.497335</td>\n",
              "      <td>0.499360</td>\n",
              "      <td>0.498114</td>\n",
              "      <td>0.500438</td>\n",
              "      <td>0.497902</td>\n",
              "      <td>0.502162</td>\n",
              "      <td>0.496423</td>\n",
              "      <td>0.503372</td>\n",
              "      <td>0.500216</td>\n",
              "      <td>0.500145</td>\n",
              "      <td>0.503438</td>\n",
              "      <td>1.801801e-11</td>\n",
              "    </tr>\n",
              "    <tr>\n",
              "      <th>std</th>\n",
              "      <td>0.291364</td>\n",
              "      <td>0.294132</td>\n",
              "      <td>0.291572</td>\n",
              "      <td>0.290533</td>\n",
              "      <td>0.293118</td>\n",
              "      <td>0.290416</td>\n",
              "      <td>0.292513</td>\n",
              "      <td>0.290781</td>\n",
              "      <td>0.293343</td>\n",
              "      <td>0.290855</td>\n",
              "      <td>0.290823</td>\n",
              "      <td>1.000000e+00</td>\n",
              "    </tr>\n",
              "    <tr>\n",
              "      <th>min</th>\n",
              "      <td>0.000000</td>\n",
              "      <td>0.000000</td>\n",
              "      <td>0.000000</td>\n",
              "      <td>0.000000</td>\n",
              "      <td>0.000000</td>\n",
              "      <td>0.000000</td>\n",
              "      <td>0.000000</td>\n",
              "      <td>0.000000</td>\n",
              "      <td>0.000000</td>\n",
              "      <td>0.000000</td>\n",
              "      <td>0.000000</td>\n",
              "      <td>-2.144837e+00</td>\n",
              "    </tr>\n",
              "    <tr>\n",
              "      <th>25%</th>\n",
              "      <td>0.249340</td>\n",
              "      <td>0.248046</td>\n",
              "      <td>0.251255</td>\n",
              "      <td>0.254569</td>\n",
              "      <td>0.245518</td>\n",
              "      <td>0.259067</td>\n",
              "      <td>0.244946</td>\n",
              "      <td>0.257116</td>\n",
              "      <td>0.250675</td>\n",
              "      <td>0.255086</td>\n",
              "      <td>0.258540</td>\n",
              "      <td>-7.387808e-01</td>\n",
              "    </tr>\n",
              "    <tr>\n",
              "      <th>50%</th>\n",
              "      <td>0.495338</td>\n",
              "      <td>0.501609</td>\n",
              "      <td>0.497895</td>\n",
              "      <td>0.500335</td>\n",
              "      <td>0.498257</td>\n",
              "      <td>0.501992</td>\n",
              "      <td>0.497005</td>\n",
              "      <td>0.503145</td>\n",
              "      <td>0.500258</td>\n",
              "      <td>0.500010</td>\n",
              "      <td>0.504185</td>\n",
              "      <td>1.914246e-02</td>\n",
              "    </tr>\n",
              "    <tr>\n",
              "      <th>75%</th>\n",
              "      <td>0.742680</td>\n",
              "      <td>0.750742</td>\n",
              "      <td>0.749488</td>\n",
              "      <td>0.748856</td>\n",
              "      <td>0.749841</td>\n",
              "      <td>0.745628</td>\n",
              "      <td>0.745938</td>\n",
              "      <td>0.750699</td>\n",
              "      <td>0.751053</td>\n",
              "      <td>0.744964</td>\n",
              "      <td>0.751018</td>\n",
              "      <td>7.946404e-01</td>\n",
              "    </tr>\n",
              "    <tr>\n",
              "      <th>max</th>\n",
              "      <td>1.000000</td>\n",
              "      <td>1.000000</td>\n",
              "      <td>1.000000</td>\n",
              "      <td>1.000000</td>\n",
              "      <td>1.000000</td>\n",
              "      <td>1.000000</td>\n",
              "      <td>1.000000</td>\n",
              "      <td>1.000000</td>\n",
              "      <td>1.000000</td>\n",
              "      <td>1.000000</td>\n",
              "      <td>1.000000</td>\n",
              "      <td>2.625505e+00</td>\n",
              "    </tr>\n",
              "  </tbody>\n",
              "</table>\n",
              "</div>"
            ],
            "text/plain": [
              "           Logive        Rnez      Lfente      Pfente      Dengin         LBB  \\\n",
              "count  111.000000  111.000000  111.000000  111.000000  111.000000  111.000000   \n",
              "mean     0.497335    0.499360    0.498114    0.500438    0.497902    0.502162   \n",
              "std      0.291364    0.294132    0.291572    0.290533    0.293118    0.290416   \n",
              "min      0.000000    0.000000    0.000000    0.000000    0.000000    0.000000   \n",
              "25%      0.249340    0.248046    0.251255    0.254569    0.245518    0.259067   \n",
              "50%      0.495338    0.501609    0.497895    0.500335    0.498257    0.501992   \n",
              "75%      0.742680    0.750742    0.749488    0.748856    0.749841    0.745628   \n",
              "max      1.000000    1.000000    1.000000    1.000000    1.000000    1.000000   \n",
              "\n",
              "              Pos   Fleche_BA   Fleche_BF       Corde           H  \\\n",
              "count  111.000000  111.000000  111.000000  111.000000  111.000000   \n",
              "mean     0.496423    0.503372    0.500216    0.500145    0.503438   \n",
              "std      0.292513    0.290781    0.293343    0.290855    0.290823   \n",
              "min      0.000000    0.000000    0.000000    0.000000    0.000000   \n",
              "25%      0.244946    0.257116    0.250675    0.255086    0.258540   \n",
              "50%      0.497005    0.503145    0.500258    0.500010    0.504185   \n",
              "75%      0.745938    0.750699    0.751053    0.744964    0.751018   \n",
              "max      1.000000    1.000000    1.000000    1.000000    1.000000   \n",
              "\n",
              "                  y  \n",
              "count  1.110000e+02  \n",
              "mean   1.801801e-11  \n",
              "std    1.000000e+00  \n",
              "min   -2.144837e+00  \n",
              "25%   -7.387808e-01  \n",
              "50%    1.914246e-02  \n",
              "75%    7.946404e-01  \n",
              "max    2.625505e+00  "
            ]
          },
          "execution_count": 3,
          "metadata": {},
          "output_type": "execute_result"
        }
      ],
      "source": [
        "file_name=\"data_scaled.csv\"\n",
        "xy_tot=pd.read_csv(file_name,header=0,sep=';')\n",
        "xy_tot.describe()"
      ]
    },
    {
      "cell_type": "markdown",
      "metadata": {
        "id": "W7s_H7AI7UUw"
      },
      "source": [
        "Visualization"
      ]
    },
    {
      "cell_type": "code",
      "execution_count": 6,
      "metadata": {
        "colab": {
          "base_uri": "https://localhost:8080/"
        },
        "id": "HZTc4_cS7UUw",
        "outputId": "ae3b39c6-fead-4f63-cfc8-888cf7cf7cce"
      },
      "outputs": [
        {
          "output_type": "stream",
          "name": "stdout",
          "text": [
            "       Logive      Rnez    Lfente    Pfente    Dengin       LBB       Pos  \\\n",
            "0    0.495338  0.000000  0.497895  0.500335  0.498257  0.501992  0.000000   \n",
            "1    0.839713  0.797224  0.544219  0.117688  0.386605  0.936888  0.859441   \n",
            "2    0.718764  0.462412  0.122786  0.000000  0.148126  0.284999  0.572958   \n",
            "3    0.232614  0.964583  0.208857  0.493698  0.087776  0.514571  0.915970   \n",
            "4    0.328525  0.360263  0.771815  0.737518  0.032510  0.805642  0.444953   \n",
            "..        ...       ...       ...       ...       ...       ...       ...   \n",
            "106  0.893357  0.616894  0.666424  0.040633  0.112727  0.749508  0.408983   \n",
            "107  0.954314  0.544326  0.619205  0.588434  0.649281  0.113298  0.877323   \n",
            "108  0.673615  0.753639  0.953679  0.019827  0.826220  0.468277  0.894760   \n",
            "109  0.655463  0.940585  0.931341  0.540705  0.040912  0.268522  0.286047   \n",
            "110  0.018758  0.603489  0.405507  0.007256  0.637778  0.919163  0.230755   \n",
            "\n",
            "     Fleche_BA  Fleche_BF     Corde         H         y  \n",
            "0     0.503145   0.500258  0.500010  0.504185  1.026548  \n",
            "1     0.194467   0.114811  0.062737  0.516893  0.982029  \n",
            "2     0.379216   0.623774  0.823282  0.887550  0.928365  \n",
            "3     0.275082   0.452346  0.397045  0.031743 -0.995189  \n",
            "4     0.019859   0.754753  0.160963  0.593623  1.025108  \n",
            "..         ...        ...       ...       ...       ...  \n",
            "106   0.107998   0.285757  0.521913  0.072636  0.316804  \n",
            "107   0.332553   0.740613  0.927965  0.388065 -0.399315  \n",
            "108   0.621598   0.656678  0.288987  0.342212 -0.708425  \n",
            "109   0.140695   0.598644  0.711866  0.261593 -0.297182  \n",
            "110   0.371382   0.432367  0.674970  0.733691  1.508639  \n",
            "\n",
            "[111 rows x 12 columns]\n"
          ]
        }
      ],
      "source": [
        "print(xy_tot)"
      ]
    },
    {
      "cell_type": "markdown",
      "metadata": {
        "id": "yt6jFPkz7UU1"
      },
      "source": [
        "Data shape"
      ]
    },
    {
      "cell_type": "code",
      "execution_count": 7,
      "metadata": {
        "colab": {
          "base_uri": "https://localhost:8080/"
        },
        "id": "Vl78PBGJ7UU2",
        "outputId": "90329961-1482-48d3-dd3c-1645acbc28f2"
      },
      "outputs": [
        {
          "output_type": "execute_result",
          "data": {
            "text/plain": [
              "(111, 12)"
            ]
          },
          "metadata": {},
          "execution_count": 7
        }
      ],
      "source": [
        "xy_tot.shape"
      ]
    },
    {
      "cell_type": "markdown",
      "metadata": {
        "id": "VlRXSSx47UU7"
      },
      "source": [
        "## Metamodels"
      ]
    },
    {
      "cell_type": "markdown",
      "metadata": {
        "id": "UP7KSeIm7UU7"
      },
      "source": [
        "**Linear regression model**"
      ]
    },
    {
      "cell_type": "markdown",
      "metadata": {
        "id": "o51K5iFF7UU8"
      },
      "source": [
        "We split inputs and output y"
      ]
    },
    {
      "cell_type": "code",
      "execution_count": 8,
      "metadata": {
        "id": "49uT4znD7UU8"
      },
      "outputs": [],
      "source": [
        "y_tot= xy_tot.pop('y')"
      ]
    },
    {
      "cell_type": "code",
      "execution_count": 9,
      "metadata": {
        "colab": {
          "base_uri": "https://localhost:8080/"
        },
        "id": "qGufh7dI7UU8",
        "outputId": "9548fc2a-66d9-4f0c-cd7a-438ba3837579"
      },
      "outputs": [
        {
          "output_type": "execute_result",
          "data": {
            "text/plain": [
              "(111,)"
            ]
          },
          "metadata": {},
          "execution_count": 9
        }
      ],
      "source": [
        "y_tot.shape"
      ]
    },
    {
      "cell_type": "code",
      "execution_count": 10,
      "metadata": {
        "colab": {
          "base_uri": "https://localhost:8080/"
        },
        "id": "v97UXH7F7UU9",
        "outputId": "26a73e80-b9fa-4704-9671-8f55aea1d392"
      },
      "outputs": [
        {
          "output_type": "execute_result",
          "data": {
            "text/plain": [
              "(111, 11)"
            ]
          },
          "metadata": {},
          "execution_count": 10
        }
      ],
      "source": [
        "xy_tot.shape"
      ]
    },
    {
      "cell_type": "code",
      "execution_count": 11,
      "metadata": {
        "id": "8ZHsH4De7UU-"
      },
      "outputs": [],
      "source": [
        "import sklearn.linear_model as lm\n",
        "linreg = lm.LinearRegression()"
      ]
    },
    {
      "cell_type": "code",
      "execution_count": 12,
      "metadata": {
        "id": "2MWJoTcK7UU-"
      },
      "outputs": [],
      "source": [
        "lr=linreg.fit(xy_tot, y_tot)"
      ]
    },
    {
      "cell_type": "code",
      "execution_count": 13,
      "metadata": {
        "colab": {
          "base_uri": "https://localhost:8080/"
        },
        "id": "eIF4Dr-R7UU-",
        "outputId": "f4c40f5e-d33a-4b72-b72f-c53dba73e384"
      },
      "outputs": [
        {
          "output_type": "execute_result",
          "data": {
            "text/plain": [
              "array([ 0.63524533,  0.0801131 ,  0.0473146 , -0.03260559, -0.22678993,\n",
              "        2.36752092, -0.26686172, -0.8631107 ,  0.28595473,  1.0495401 ,\n",
              "        1.7477699 ])"
            ]
          },
          "metadata": {},
          "execution_count": 13
        }
      ],
      "source": [
        "lr.coef_"
      ]
    },
    {
      "cell_type": "code",
      "execution_count": 14,
      "metadata": {
        "colab": {
          "base_uri": "https://localhost:8080/"
        },
        "id": "0A2A_F8q7UU_",
        "outputId": "52cc2ce8-2766-42a7-c930-ca90cf9fc1d8"
      },
      "outputs": [
        {
          "output_type": "execute_result",
          "data": {
            "text/plain": [
              "0.9469383113421452"
            ]
          },
          "metadata": {},
          "execution_count": 14
        }
      ],
      "source": [
        "linreg.score(xy_tot,y_tot)"
      ]
    },
    {
      "cell_type": "markdown",
      "metadata": {
        "id": "II15rgDB7UU_"
      },
      "source": [
        "Plot with matplotlib"
      ]
    },
    {
      "cell_type": "code",
      "execution_count": 15,
      "metadata": {
        "colab": {
          "base_uri": "https://localhost:8080/",
          "height": 283
        },
        "id": "GJxE1kdE7UVA",
        "outputId": "bfbafcd9-3a5a-4b99-a537-c2c0aa9e6502"
      },
      "outputs": [
        {
          "output_type": "execute_result",
          "data": {
            "text/plain": [
              "[<matplotlib.lines.Line2D at 0x7fcb18e3d3d0>]"
            ]
          },
          "metadata": {},
          "execution_count": 15
        },
        {
          "output_type": "display_data",
          "data": {
            "text/plain": [
              "<Figure size 432x288 with 1 Axes>"
            ],
            "image/png": "[encoded data removed]"
          },
          "metadata": {
            "needs_background": "light"
          }
        }
      ],
      "source": [
        "plt.plot(y_tot,lr.predict(xy_tot),'o')"
      ]
    },
    {
      "cell_type": "markdown",
      "metadata": {
        "id": "vqzFhlIG7UVA"
      },
      "source": [
        "**MLP metamodel SKLEARN**"
      ]
    },
    {
      "cell_type": "markdown",
      "metadata": {
        "id": "BOZTb8zh7UVB"
      },
      "source": [
        "We split into training and test data (20%)"
      ]
    },
    {
      "cell_type": "code",
      "execution_count": 16,
      "metadata": {
        "id": "lNXtccre7UVB"
      },
      "outputs": [],
      "source": [
        "from sklearn.model_selection import train_test_split\n"
      ]
    },
    {
      "cell_type": "code",
      "execution_count": 17,
      "metadata": {
        "id": "PYFxoVRx7UVD"
      },
      "outputs": [],
      "source": [
        "x_train, x_test, y_train, y_test = train_test_split(xy_tot, y_tot, test_size=0.1)"
      ]
    },
    {
      "cell_type": "code",
      "execution_count": 18,
      "metadata": {
        "id": "BsD_x2nx7UVE"
      },
      "outputs": [],
      "source": [
        "from sklearn.neural_network import MLPRegressor"
      ]
    },
    {
      "cell_type": "code",
      "execution_count": 19,
      "metadata": {
        "id": "d59MDCbi7UVF"
      },
      "outputs": [],
      "source": [
        "nnet=MLPRegressor(hidden_layer_sizes=(10,),max_iter=10000,activation='tanh',alpha=0.05,solver='lbfgs')"
      ]
    },
    {
      "cell_type": "code",
      "execution_count": 20,
      "metadata": {
        "colab": {
          "base_uri": "https://localhost:8080/"
        },
        "id": "wybYE_097UVF",
        "outputId": "df4c29ce-f3da-43f3-955a-ab06618019f2"
      },
      "outputs": [
        {
          "output_type": "execute_result",
          "data": {
            "text/plain": [
              "MLPRegressor(activation='tanh', alpha=0.05, hidden_layer_sizes=(10,),\n",
              "             max_iter=10000, solver='lbfgs')"
            ]
          },
          "metadata": {},
          "execution_count": 20
        }
      ],
      "source": [
        "nnet.fit(x_train,y_train)"
      ]
    },
    {
      "cell_type": "code",
      "execution_count": 21,
      "metadata": {
        "id": "uYM0qpIo7UVG"
      },
      "outputs": [],
      "source": [
        "y_pred=nnet.predict(x_test)"
      ]
    },
    {
      "cell_type": "code",
      "execution_count": 22,
      "metadata": {
        "colab": {
          "base_uri": "https://localhost:8080/",
          "height": 283
        },
        "id": "EKm_fqtc7UVG",
        "outputId": "61b4c0da-fe7f-4b39-d06f-2090c049d5f3"
      },
      "outputs": [
        {
          "output_type": "execute_result",
          "data": {
            "text/plain": [
              "[<matplotlib.lines.Line2D at 0x7fcb18938a90>]"
            ]
          },
          "metadata": {},
          "execution_count": 22
        },
        {
          "output_type": "display_data",
          "data": {
            "text/plain": [
              "<Figure size 432x288 with 1 Axes>"
            ],
            "image/png": "[encoded data removed]"
          },
          "metadata": {
            "needs_background": "light"
          }
        }
      ],
      "source": [
        "plt.plot(y_test, y_pred,'o')"
      ]
    },
    {
      "cell_type": "markdown",
      "metadata": {
        "id": "QVKe7k9R7UVH"
      },
      "source": [
        "Estimation of determination coefficient R2"
      ]
    },
    {
      "cell_type": "code",
      "execution_count": 23,
      "metadata": {
        "id": "9EE75hkB7UVH"
      },
      "outputs": [],
      "source": [
        "from sklearn.metrics import r2_score"
      ]
    },
    {
      "cell_type": "code",
      "execution_count": 24,
      "metadata": {
        "colab": {
          "base_uri": "https://localhost:8080/"
        },
        "id": "rAz5VqVF7UVH",
        "outputId": "e49d6220-6965-41f1-ad2a-ff6650133fac"
      },
      "outputs": [
        {
          "output_type": "execute_result",
          "data": {
            "text/plain": [
              "0.9228414370311799"
            ]
          },
          "metadata": {},
          "execution_count": 24
        }
      ],
      "source": [
        "r2_score(y_test,y_pred)"
      ]
    },
    {
      "cell_type": "markdown",
      "metadata": {
        "id": "HTsgau3b7UVJ"
      },
      "source": [
        "**Exercise** : Try other metamodels"
      ]
    },
    {
      "cell_type": "code",
      "execution_count": null,
      "metadata": {
        "id": "vnWyOx0m7UVJ"
      },
      "outputs": [],
      "source": []
    }
  ],
  "metadata": {
    "colab": {
      "collapsed_sections": [],
      "provenance": []
    },
    "kernelspec": {
      "display_name": "Python 3",
      "language": "python",
      "name": "python3"
    },
    "language_info": {
      "codemirror_mode": {
        "name": "ipython",
        "version": 3
      },
      "file_extension": ".py",
      "mimetype": "text/x-python",
      "name": "python",
      "nbconvert_exporter": "python",
      "pygments_lexer": "ipython3",
      "version": "3.6.8"
    }
  },
  "nbformat": 4,
  "nbformat_minor": 0
}