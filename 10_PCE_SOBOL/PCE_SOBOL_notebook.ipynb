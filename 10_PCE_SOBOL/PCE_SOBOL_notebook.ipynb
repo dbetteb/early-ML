{
 "cells": [
  {
   "cell_type": "markdown",
   "metadata": {
    "slideshow": {
     "slide_type": "slide"
    }
   },
   "source": [
    "<div class=\"jumbotron text-left\"><b>\n",
    "This tutorial describes how to use Polynomial Chaos Expansion to perform a global variance-based sensitivity analysis by computing the Sobol indices.</b></div>\n",
    "\n",
    "Nathalie BARTOLI ONERA/DTIS/M2CI \n",
    "\n",
    "Sylvain DUBREUIL ONERA/DTIS/M2CI\n",
    "\n",
    "July 2022\n"
   ]
  },
  {
   "cell_type": "markdown",
   "metadata": {
    "slideshow": {
     "slide_type": "slide"
    }
   },
   "source": [
    "<p class=\"alert alert-success\" style=\"padding:1em\">\n",
    "To use this notebook, openTurns needs to be installed via http://openturns.github.io/openturns/latest/install.html\n",
    "</p>\n",
    "\n",
    "\n",
    "conda config --add channels conda-forge\n",
    "\n",
    "\n",
    "conda install openturns\n",
    "\n",
    "\n",
    "For `google colab`: add a code cell with the following command\n",
    "\n",
    "!pip install openturns"
   ]
  },
  {
   "cell_type": "markdown",
   "metadata": {
    "slideshow": {
     "slide_type": "slide"
    }
   },
   "source": [
    "The objective is to study the sensitivity of the\n",
    "quantity of interest $F$ to the random input parameter $X$ via\n",
    " a global sensitivity analysis by computing variance based\n",
    "sensitivity indices. Consequently, it is assumed that\n",
    "$X$ is a vector of $d$ independent random variables and $F$ is a random variable of unknown probability\n",
    "distribution.\n",
    "$$F: \\mathbb{R}^d \\rightarrow \\mathbb{R}$$\n",
    "\n",
    "For the purpose of explanation the notation $X_i$ indicates the $i$-th element of a random vector ${X}$, meanwhile the short notation $X_{\\sim i}$ is used to indicate all the input variables but $X_i$.\n",
    "The number of input variables, that is the size of $X$, is indicated by $d$; finally $Y = {F}(X)$ represents a scalar output, computed with a generic black box solver indicated as ${F}$."
   ]
  },
  {
   "cell_type": "markdown",
   "metadata": {
    "slideshow": {
     "slide_type": "slide"
    }
   },
   "source": [
    "The first order sensitivity indices are defined: they are the ratio between the reduction in\n",
    "variance when a variable $X_i$ is fixed and the total variance.\n",
    "$$\n",
    "s_i = \\frac{Var_{X_{i}}\\left[E_{X_{\\sim i}}\\left(Y|X_i\\right)\\right]}{Var\\left(Y\\right)}\n",
    "$$\n",
    "where $E$ represents the expected value, ${Var\\left(Y\\right)}$ is the variance, and \n",
    " the term $Var_{X_{i}}\\left[E_{X_{\\sim i}}\\left(Y|X_i\\right)\\right]$ is the estimated reduction in variance when the parameter $X_i$ is fixed. "
   ]
  },
  {
   "cell_type": "markdown",
   "metadata": {
    "slideshow": {
     "slide_type": "slide"
    }
   },
   "source": [
    "The first sensitivity indices  quantify the reduction in variance if the variable $X_i$ is fixed, and vary between 0 and 1 to give an indication about the relative importance of inputs on a given output.\n",
    "\n",
    "- The considerations above can be rephrased saying that if the sum of the first order indices is\n",
    "equal to 1, the model is additive and minor order interactions between variables are meaningless.\n",
    "\n",
    "- On the contrary, if the sum is smaller than one, then the weight of interactions between\n",
    "input variables is not negligible in the total variance of the response and these interactions\n",
    "need to be investigated more precisely."
   ]
  },
  {
   "cell_type": "markdown",
   "metadata": {
    "slideshow": {
     "slide_type": "slide"
    }
   },
   "source": [
    "Since in practice it might be difficult to consider all the\n",
    "orders, the notion of total indices is used. They are defined as\n",
    "\n",
    "$$\n",
    "s_{T_{i}} = \\frac{E_{X_{\\sim i}}\\left[Var_{X_{i}}\\left(Y|X_{\\sim i}\\right)\\right]}{Var\\left(Y\\right)}\n",
    "$$\n",
    "and represent the expected variance that would be left if all inputs but $X_i$ could be fixed. \n",
    "With the help of the total sensitivity indices, it is possible to get the interaction between the\n",
    "input parameters.\n",
    "\n",
    "Classical methods to estimate these sensitivity indices are based on sampling strategies (McKay 1997, Sobol 93,  Cukier 1975). The method described in the following is based on an approximation of the output by polynomial chaos expansion (PCE) and was introduced by Sudret in 2008. Interest of this approach is its efficiency in terms of numerical cost in the context of our study (low number of input variables\n",
    "and smooth mapping between inputs and outputs) compared to sampling strategies.\n",
    "This approach has been further improved in (Blatman and Sudret 2010) using sparse PCE and will be used in\n",
    "the following."
   ]
  },
  {
   "cell_type": "markdown",
   "metadata": {
    "slideshow": {
     "slide_type": "slide"
    }
   },
   "source": [
    "Assuming that $Y=F(X)$ is a second-order\n",
    "random variable, it can be shown (Cameron and Martin 1947) that:\n",
    "$$ Y=F(X) = \\sum_{j=0}^{\\infty}a_j \\Psi_j(X)$$\n",
    "($L^2$ convergence), where $\\{\\Psi_j\\}_{j\\in \\mathbf{N}}$ is a polynomial basis orthogonal with respect\n",
    "to the probability distribution of $X$ and $a_j$ are unknown coefficients."
   ]
  },
  {
   "cell_type": "markdown",
   "metadata": {
    "slideshow": {
     "slide_type": "slide"
    }
   },
   "source": [
    "\n",
    "The polynomial basis depends on the distribution of $X$ (given by Tryoen PhD 2011 and by Openturns documentation)\n",
    "![polynome.PNG](polynome.PNG)\n",
    "![PCE_basis.PNG](PCE_basis.PNG)"
   ]
  },
  {
   "cell_type": "markdown",
   "metadata": {
    "slideshow": {
     "slide_type": "slide"
    }
   },
   "source": [
    "Normally, this sum is truncated to $N+1$ terms\n",
    "$$ \\hat F(X) = \\sum_{j=0}^{N}a_j \\Psi_j(X)$$\n",
    "\n",
    "where $$ N + 1 = \\frac{(p+d)!}{p! d!}$$ \n",
    "if $p$ is the degree of the polynomial basis.\n",
    "\n",
    "The number of terms can also be reduced by using sparce PCE to have\n",
    "\n",
    "$$ \\hat F(X) = \\sum_{\\alpha \\in {\\cal{A}}}a_\\alpha \\Psi_\\alpha(X)$$\n",
    "where $\\mathrm{card}({\\cal{A}}) \\ll N$.\n",
    "\n",
    "Sparse PCE consists in the construction of a sparse polynomial basis $\\{\\Psi_\\alpha\\}_{\\alpha  \\in {\\cal{A}}}$ where $\\alpha = (\\alpha_1, \\cdots, \\alpha_d)$ is a multiindex\n",
    "used to identify the polynomial acting with the power\n",
    "$\\alpha_i$ on the variable $X_i$. We have $\\sum_{i=1}^{d}|\\alpha_i|=p$ where $p$ is the degree of the polynomial $\\Psi_\\alpha$\n",
    "\n",
    "In the present case, this is achieved by Least Angle Regression (LAR),\n",
    "i.e., unknown coefficients $a_i$ are computed by iteratively\n",
    "solving a mean square problem and selecting, at each iteration,\n",
    "the polynomial which is the most correlated with the\n",
    "residual (see Blatman and Sudret (2011) for details).\n",
    "\n",
    "Then by using the basis orthogonality, the quantity $\\hat F(X)$ is completely determined."
   ]
  },
  {
   "cell_type": "markdown",
   "metadata": {
    "slideshow": {
     "slide_type": "slide"
    }
   },
   "source": [
    "It should be noted that in practice, identification of the unknown coefficients by LAR requires the evaluation of the function $F$ on a given design of experiments sampled from the input space.\n",
    "\n",
    "Due to the orthogonality of the polynomial basis $\\{\\Psi_\\alpha\\}$ it is possible to write the expectation and the variance in the following form:\n",
    "\n",
    "$$\n",
    "\\left \\{\n",
    "\\begin{array}{l}\n",
    "E[\\hat F]= a_0\\\\\n",
    "Var[\\hat F] =\\sum_{\\alpha \\in {\\cal{A}}}a^2_\\alpha E[\\Psi^2_\\alpha(X)]\n",
    "\\end{array} \\right.\n",
    "$$\n",
    "where $E [\\hat F]$ is the mean value and $Var[\\hat F]$ is the variance of the output variable $\\hat F$. \n",
    "\n",
    "In addition, the idea pointed out in Sudret (2008) is to identify the PCE with the ANOVA decomposition, from\n",
    "which one can show that, the first-order sensitivity index of the variable $X_i$ reads:\n",
    "$$\n",
    "\t\\hat{S}_i = \\frac{\\sum_{\\alpha \\in L_i}a^2_{\\alpha}E[\\phi_{\\alpha}^2(X)]}{  Var[\\hat{F}]}\n",
    "$$ \n",
    "where $L_i=\\left\\lbrace \\alpha\\in\\mathcal{A},~ \\forall~j\\neq i~\\alpha_j=0 \\right\\rbrace$, i.e. only the polynomials acting exclusively on the variable $X_i$ are considered. \n",
    "\t\n",
    "The total sensitivity index is also available by, \n",
    "\t$$\n",
    "\t\\hat{S}_{T_i} = \\frac{\\sum_{\\alpha \\in L^+_i}a^2_{\\alpha}E[\\phi_{\\alpha}^2(X)]}{Var[\\hat{F}]}\n",
    "\t$$\n",
    "where $L^{+}_i=\\left\\lbrace \\alpha\\in\\mathcal{A},~ \\alpha_i\\neq 0 \\right\\rbrace$ {i.e.} all the polynomials acting on the variable $X_i$ are considered (allows to consider interactions between $X_i$ and the other variables). \n",
    "\t\n",
    "One can note that the approximation of the sensitivity index obtained by sparse PCE relies on an accurate approximation of the model response by the sparse PCE, however the link between the accuracy of the PCE approximation and the accuracy of the approximated sensitivity index is not straightforward. In order to access the quality of the sensitivity index computed by PCE, a bootstrap approach proposed in Dubreuil 2014 is set up and detailed in the next section.\n",
    "\t"
   ]
  },
  {
   "cell_type": "markdown",
   "metadata": {
    "slideshow": {
     "slide_type": "slide"
    }
   },
   "source": [
    "# References\n",
    "\n",
    "Cameron, R. H., & Martin, W. T. (1947). The orthogonal development of non-linear functionals in series of Fourier-Hermite functionals. Annals of Mathematics, 385-392.\n",
    "\n",
    "Cukier, R. I., Schaibly, J. H., & Shuler, K. E. (1975). Study of the sensitivity of coupled reaction systems to uncertainties in rate coefficients. III. Analysis of the approximations. The Journal of Chemical Physics, 63(3), 1140-1149.\n",
    "\n",
    "Sobol, I. M. (1993). Sensitivity estimates for nonlinear mathematical models. Mathematical modelling and computational experiments, 1(4), 407-414.\n",
    "\n",
    "McKay, M. D. (1997). Nonparametric variance-based methods of assessing uncertainty importance. Reliability engineering & system safety, 57(3), 267-279.\n",
    "\n",
    "Saltelli, A., Tarantola, S., Campolongo, F., & Ratto, M. (2004). Sensitivity analysis in practice: a guide to assessing scientific models. Chichester, England.\n",
    "\n",
    "Sudret, B. (2008). Global sensitivity analysis using polynomial chaos expansions. Reliability engineering & system safety, 93(7), 964-979.\n",
    "\n",
    "Blatman, G., & Sudret, B. (2010). Efficient computation of global sensitivity indices using sparse polynomial chaos expansions. Reliability Engineering & System Safety, 95(11), 1216-1229.\n",
    "\n",
    "Tryoen, J. (2011). Méthodes de Galerkin stochastiques adaptatives pour la propagation d'incertitudes paramétriques dans les modèles hyperboliques (Doctoral dissertation, Université Paris-Est).\n"
   ]
  },
  {
   "cell_type": "markdown",
   "metadata": {
    "slideshow": {
     "slide_type": "slide"
    }
   },
   "source": [
    "# 1. Example on the Ishigami function (from OpenTurns documentation)\n",
    "\n",
    "# Create a polynomial chaos for the Ishigami function\n",
    "\n",
    "In this example, we create a polynomial chaos for the Ishigami function. We create a sparse polynomial with maximum total degree equal to 8. \n",
    "For this analytical example, the Sobol indices are known and can be compared with the computed ones from PCE.\n",
    "\n",
    "\n"
   ]
  },
  {
   "cell_type": "markdown",
   "metadata": {
    "slideshow": {
     "slide_type": "slide"
    }
   },
   "source": [
    "Let $a=7$ and $b=0.1$. We consider the function \n",
    "\n",
    "$$\n",
    "g(X_1,X_2,X_3) = \\sin(X_1)+a \\sin (X_2)^2 + b X_3^4 \\sin(X_1)\n",
    "$$\n",
    "\n",
    "for any $X_1,X_2,X_3\\in[-\\pi,\\pi]$ \n",
    "\n",
    "We assume that the random variables $X_1,X_2,X_3$ are independent and have the uniform marginal distribution in the interval from $-\\pi$ to $\\pi$:\n",
    "\n",
    "$$\n",
    "X_1,X_2,X_3\\sim \\mathcal{U}(-\\pi,\\pi).\n",
    "$$\n"
   ]
  },
  {
   "cell_type": "markdown",
   "metadata": {
    "slideshow": {
     "slide_type": "slide"
    }
   },
   "source": [
    "## Analysis \n",
    "\n",
    "The expectation and the variance of $Y$ are \n",
    "\n",
    "$$\n",
    "E(Y)  = \\frac{a}{2}\n",
    "$$\n",
    "\n",
    "and \n",
    "\n",
    "$$\n",
    "V(Y) = \\frac{1}{2} +  \\frac{a^2}{8} +  \\frac{b^2 \\pi^8}{18} +  \\frac{b\\pi^4}{5}.\n",
    "$$\n",
    "\n"
   ]
  },
  {
   "cell_type": "markdown",
   "metadata": {
    "slideshow": {
     "slide_type": "slide"
    }
   },
   "source": [
    "The Sobol' decomposition variances are\n",
    "\n",
    "\\begin{eqnarray*}\n",
    "V_1     &=& \\frac{1}{2} \\left(1 + b\\frac{\\pi^4}{5} \\right)^2 \\\\\n",
    "V_2     &=& \\frac{a^2}{8} \\\\\n",
    "V_{1,3} &=& b^2 \\pi^8 \\frac{8}{225} \\\\\n",
    "\\end{eqnarray*}\n",
    "\n",
    "and $V_3=V_{1,2} = V_{2,3}=V_{1,2,3} = 0$."
   ]
  },
  {
   "cell_type": "markdown",
   "metadata": {
    "slideshow": {
     "slide_type": "slide"
    }
   },
   "source": [
    "This leads to the following first order Sobol' indices:\n",
    "\n",
    "$$\n",
    "S_1 = \\frac{V_1}{V(Y)}, \\qquad S_2 = \\frac{V_2}{V(Y)}, \\qquad S_3 = 0,\n",
    "$$\n",
    "\n",
    "and the following total order indices:\n",
    "\n",
    "$$\n",
    "ST_1 = \\frac{V_1+V_{1,3}}{V(Y)}, \\qquad ST_2 = S_2, \\qquad ST_3 = \\frac{V_{1,3}}{V(Y)}.\n",
    "$$\n"
   ]
  },
  {
   "cell_type": "markdown",
   "metadata": {
    "slideshow": {
     "slide_type": "slide"
    }
   },
   "source": [
    "The third variable $X_3$ has no effect at first order (because $X_3^4$ it is multiplied by $\\sin(X_1)$), but has a total effet because of the interactions with $X_1$. On the other hand, the second variable $X_2$ has no interaction which implies that the first order indice is equal to the total order indice for this input variable."
   ]
  },
  {
   "cell_type": "markdown",
   "metadata": {
    "slideshow": {
     "slide_type": "slide"
    }
   },
   "source": [
    "## References\n",
    "\n",
    "* Ishigami, T., & Homma, T. (1990, December). An importance quantification technique in uncertainty analysis for computer models. In Uncertainty Modeling and Analysis, 1990. Proceedings., First International Symposium on (pp. 398-403). IEEE.\n",
    "\n",
    "* Sobol', I. M., & Levitan, Y. L. (1999). On the use of variance reducing multipliers in Monte Carlo computations of a global sensitivity index. Computer Physics Communications, 117(1), 52-61.\n",
    "\n",
    "* Saltelli, A., Chan, K., & Scott, E. M. (Eds.). (2000). Sensitivity analysis (Vol. 134). New York: Wiley.\n",
    "\n",
    "* Crestaux, T., Martinez, J.-M., Le Maitre, O., & Lafitte, O. (2007). Polynomial chaos expansion for uncertainties quantification and sensitivity analysis. SAMO 2007, http://samo2007.chem.elte.hu/lectures/Crestaux.pdf."
   ]
  },
  {
   "cell_type": "code",
   "execution_count": 1,
   "metadata": {},
   "outputs": [
    {
     "name": "stdout",
     "output_type": "stream",
     "text": [
      "Requirement already satisfied: openturns in d:\\bartoli\\anaconda3\\lib\\site-packages (1.20.post3)\n",
      "Requirement already satisfied: psutil in d:\\bartoli\\anaconda3\\lib\\site-packages (from openturns) (5.9.0)\n",
      "Requirement already satisfied: dill in d:\\bartoli\\anaconda3\\lib\\site-packages (from openturns) (0.3.4)\n"
     ]
    }
   ],
   "source": [
    "!pip install openturns"
   ]
  },
  {
   "cell_type": "markdown",
   "metadata": {
    "slideshow": {
     "slide_type": "slide"
    }
   },
   "source": [
    "## Define the model"
   ]
  },
  {
   "cell_type": "code",
   "execution_count": 2,
   "metadata": {
    "slideshow": {
     "slide_type": "slide"
    }
   },
   "outputs": [],
   "source": [
    "import openturns as ot\n",
    "import numpy as np"
   ]
  },
  {
   "cell_type": "markdown",
   "metadata": {
    "slideshow": {
     "slide_type": "slide"
    }
   },
   "source": [
    "Create the Ishigami test function."
   ]
  },
  {
   "cell_type": "code",
   "execution_count": 3,
   "metadata": {
    "slideshow": {
     "slide_type": "slide"
    }
   },
   "outputs": [],
   "source": [
    "ot.RandomGenerator.SetSeed(0)\n",
    "formula = ['sin(X1) + 7. * sin(X2)^2 + 0.1 * X3^4 * sin(X1)']\n",
    "input_names = ['X1', 'X2', 'X3']\n",
    "g = ot.SymbolicFunction(input_names, formula)"
   ]
  },
  {
   "cell_type": "markdown",
   "metadata": {
    "slideshow": {
     "slide_type": "slide"
    }
   },
   "source": [
    "Create the probabilistic model"
   ]
  },
  {
   "cell_type": "code",
   "execution_count": 4,
   "metadata": {
    "slideshow": {
     "slide_type": "slide"
    }
   },
   "outputs": [],
   "source": [
    "inputDimension = 3\n",
    "distributionList = [ot.Uniform(-np.pi, np.pi)] * inputDimension\n",
    "distribution = ot.ComposedDistribution(distributionList)"
   ]
  },
  {
   "cell_type": "markdown",
   "metadata": {
    "slideshow": {
     "slide_type": "slide"
    }
   },
   "source": [
    "## Sample the  function and create the database"
   ]
  },
  {
   "cell_type": "code",
   "execution_count": 5,
   "metadata": {
    "slideshow": {
     "slide_type": "slide"
    }
   },
   "outputs": [],
   "source": [
    "N = 50\n",
    "inputSample = distribution.getSample(N)\n",
    "outputSample = g(inputSample)"
   ]
  },
  {
   "cell_type": "markdown",
   "metadata": {
    "slideshow": {
     "slide_type": "slide"
    }
   },
   "source": [
    "## Create the chaos.\n",
    "\n",
    "We could use only the input and output training samples: in this case, the distribution of the input samples is computed by selecting the best distribution that fits the data. \n",
    "\n",
    "We will create 3 metamodels from the training set using different techniques in order to compare them at the end on a validation basis\n",
    "\n",
    "\n",
    " \n",
    " "
   ]
  },
  {
   "cell_type": "markdown",
   "metadata": {
    "slideshow": {
     "slide_type": "slide"
    }
   },
   "source": [
    " * model1: a PCE metamodel without specifying the polynomial basis and using sparse least square for the computation of the coefficients.\n",
    " \n",
    " * model2: a PCE metamodel giving the polynomial basis orthogonal with respect to the input distribution.\n",
    " \n",
    " * model3: a PCE metamodel giving the polynomial basis orthogonal with respect to the input distribution and using sparse least square for the computation of the coefficients."
   ]
  },
  {
   "cell_type": "code",
   "execution_count": 6,
   "metadata": {
    "slideshow": {
     "slide_type": "slide"
    }
   },
   "outputs": [
    {
     "name": "stdout",
     "output_type": "stream",
     "text": [
      "Model 1 - Basis size =  68\n"
     ]
    }
   ],
   "source": [
    "#complete metamodel without specifying the polynomial basis\n",
    "chaosalgo_1 = ot.FunctionalChaosAlgorithm(inputSample, outputSample)\n",
    "chaosalgo_1.run()\n",
    "results_1 = chaosalgo_1.getResult()\n",
    "print('Model 1 - Basis size = ',len(np.array(results_1.getCoefficients())))\n",
    "metamodel_1 = results_1.getMetaModel()\n"
   ]
  },
  {
   "cell_type": "code",
   "execution_count": 7,
   "metadata": {
    "slideshow": {
     "slide_type": "slide"
    }
   },
   "outputs": [
    {
     "name": "stdout",
     "output_type": "stream",
     "text": [
      "class=AdaptiveStrategy implementation=class=FixedStrategy derived from class=AdaptiveStrategyImplementation maximumDimension=68\n",
      "class=ProjectionStrategy implementation=class=LeastSquaresStrategy experiment=class=FixedExperiment name=Unnamed sample=class=Sample name=ComposedDistribution implementation=class=SampleImplementation name=ComposedDistribution size=50 dimension=3 description=[X0,X1,X2] data=[[0.816038,-1.77682,0.00821179],[2.40524,0.814707,0.0904902],[-2.29163,0.503618,2.58692],[-2.93737,-0.206793,1.38302],[-0.960969,1.23147,0.546645],[2.94947,1.51487,2.03963],[2.64321,2.74461,1.33298],[0.0191018,2.33388,-2.20727],[-2.74446,-0.671169,2.03611],[-1.30215,0.81209,0.376116],[1.347,2.59828,0.96388],[-0.732858,2.59748,-3.01627],[-0.793142,-2.14014,1.39837],[1.4908,0.279213,1.53625],[2.40962,-1.86201,-1.34499],[-1.28809,2.23553,2.24783],[2.69241,-0.407915,0.155106],[2.01571,-0.869188,2.8642],[1.15972,-3.12835,-1.59375],[2.06106,-1.63719,-1.72058],[-0.880889,-1.5384,2.86803],[2.85725,0.575127,0.650095],[0.556787,-2.07837,-0.0612079],[-1.99781,2.99918,-0.382635],[-2.60259,-0.106867,-2.32225],[1.00988,1.31512,2.68503],[-1.81935,2.87735,-2.50383],[-0.714846,1.2756,-1.09471],[-2.98728,2.01174,-0.625538],[-0.509449,-0.113845,-0.592749],[3.0275,-1.84369,-0.634769],[2.61463,1.5783,2.47638],[2.86264,2.67369,-2.41144],[-0.16996,0.854031,-1.78677],[-1.50884,0.641903,-2.37174],[1.01373,1.26609,-2.21592],[-0.0642485,-2.64261,-0.952468],[-0.197767,-1.55614,0.154282],[-2.44367,1.11197,-2.2469],[-0.97189,-0.889369,-1.30398],[0.980033,-0.501843,0.190456],[1.10011,-1.12246,1.36325],[3.00952,1.87616,-1.59859],[0.919445,0.474772,0.489522],[-2.73814,-1.07619,2.41795],[1.71543,2.96367,-1.29261],[3.10515,0.110757,2.07528],[-2.61963,-2.46414,1.1862],[-1.72871,2.56221,-2.76117],[-1.24018,1.56919,1.90013]] weights=class=Point name=Unnamed dimension=50 values=[0.02,0.02,0.02,0.02,0.02,0.02,0.02,0.02,0.02,0.02,0.02,0.02,0.02,0.02,0.02,0.02,0.02,0.02,0.02,0.02,0.02,0.02,0.02,0.02,0.02,0.02,0.02,0.02,0.02,0.02,0.02,0.02,0.02,0.02,0.02,0.02,0.02,0.02,0.02,0.02,0.02,0.02,0.02,0.02,0.02,0.02,0.02,0.02,0.02,0.02]\n",
      "class=OrthogonalProductPolynomialFactory univariate polynomial collection=[class=OrthogonalUniVariatePolynomialFamily implementation=class=StandardDistributionPolynomialFactory hasSpecificFamily=true specificFamily=class=OrthogonalUniVariatePolynomialFamily implementation=class=LegendreFactory measure=class=Uniform name=Uniform dimension=1 a=-1 b=1,class=OrthogonalUniVariatePolynomialFamily implementation=class=StandardDistributionPolynomialFactory hasSpecificFamily=true specificFamily=class=OrthogonalUniVariatePolynomialFamily implementation=class=LegendreFactory measure=class=Uniform name=Uniform dimension=1 a=-1 b=1,class=OrthogonalUniVariatePolynomialFamily implementation=class=StandardDistributionPolynomialFactory hasSpecificFamily=true specificFamily=class=OrthogonalUniVariatePolynomialFamily implementation=class=LegendreFactory measure=class=Uniform name=Uniform dimension=1 a=-1 b=1] measure=class=ComposedDistribution name=ComposedDistribution dimension=3 copula=class=IndependentCopula name=IndependentCopula dimension=3 marginal[0]=class=Uniform name=Uniform dimension=1 a=-1 b=1 marginal[1]=class=Uniform name=Uniform dimension=1 a=-1 b=1 marginal[2]=class=Uniform name=Uniform dimension=1 a=-1 b=1\n",
      "Model: 2.72306 + 1.12657 * (1.73205 * x0) + 0.220393 * (1.73205 * x1) + 0.301941 * (1.73205 * x2) + 0.0824241 * (-1.11803 + 3.3541 * x0^2) - 0.31251 * (-1.11803 + 3.3541 * x1^2) - 0.843399 * (-1.11803 + 3.3541 * x2^2) - 0.925202 * (-3.96863 * x0 + 6.61438 * x0^3) - 0.0894103 * (-3.96863 * x1 + 6.61438 * x1^3) + 0.642307 * (-3.96863 * x2 + 6.61438 * x2^3) + 0.0942336 * ((1.73205 * x0) * (1.73205 * x1)) + 0.299122 * ((1.73205 * x0) * (1.73205 * x2)) + 0.296772 * ((1.73205 * x1) * (1.73205 * x2)) + 0.360937 * (1.125 - 11.25 * x0^2 + 13.125 * x0^4) - 1.36266 * (1.125 - 11.25 * x1^2 + 13.125 * x1^4) - 0.166328 * (1.125 - 11.25 * x2^2 + 13.125 * x2^4) - 0.152585 * (6.21867 * x0 - 29.0205 * x0^3 + 26.1184 * x0^5) - 0.244943 * (6.21867 * x1 - 29.0205 * x1^3 + 26.1184 * x1^5) + 0.277824 * (6.21867 * x2 - 29.0205 * x2^3 + 26.1184 * x2^5) + 0.0409025 * ((-1.11803 + 3.3541 * x0^2) * (1.73205 * x1)) - 0.0275964 * ((-1.11803 + 3.3541 * x0^2) * (1.73205 * x2)) - 0.436306 * ((1.73205 * x0) * (-1.11803 + 3.3541 * x1^2)) - 0.212283 * ((-1.11803 + 3.3541 * x1^2) * (1.73205 * x2)) + 0.548086 * ((1.73205 * x0) * (-1.11803 + 3.3541 * x2^2)) + 0.207901 * ((1.73205 * x1) * (-1.11803 + 3.3541 * x2^2)) + 0.0578223 * (-1.12673 + 23.6614 * x0^2 - 70.9843 * x0^4 + 52.0551 * x0^6) + 1.41337 * (-1.12673 + 23.6614 * x1^2 - 70.9843 * x1^4 + 52.0551 * x1^6) + 0.0285096 * (-1.12673 + 23.6614 * x2^2 - 70.9843 * x2^4 + 52.0551 * x2^6) + 0.149729 * (-8.47215 * x0 + 76.2494 * x0^3 - 167.749 * x0^5 + 103.844 * x0^7) - 0.101677 * (-8.47215 * x1 + 76.2494 * x1^3 - 167.749 * x1^5 + 103.844 * x1^7) - 0.0106918 * (-8.47215 * x2 + 76.2494 * x2^3 - 167.749 * x2^5 + 103.844 * x2^7) + 0.00107548 * ((-3.96863 * x0 + 6.61438 * x0^3) * (1.73205 * x1)) + 0.210636 * ((-3.96863 * x0 + 6.61438 * x0^3) * (1.73205 * x2)) + 0.144373 * ((1.73205 * x0) * (-3.96863 * x1 + 6.61438 * x1^3)) - 0.0375959 * ((-3.96863 * x1 + 6.61438 * x1^3) * (1.73205 * x2)) + 0.683833 * ((1.73205 * x0) * (-3.96863 * x2 + 6.61438 * x2^3)) + 0.123189 * ((1.73205 * x1) * (-3.96863 * x2 + 6.61438 * x2^3)) - 0.144774 * ((-1.11803 + 3.3541 * x0^2) * (-1.11803 + 3.3541 * x1^2)) + 0.37597 * ((-1.11803 + 3.3541 * x0^2) * (-1.11803 + 3.3541 * x2^2)) - 0.240983 * ((-1.11803 + 3.3541 * x1^2) * (-1.11803 + 3.3541 * x2^2)) - 0.424 * (1.12741 - 40.5868 * x0^2 + 223.228 * x0^4 - 386.928 * x0^6 + 207.283 * x0^8) - 0.601414 * (1.12741 - 40.5868 * x1^2 + 223.228 * x1^4 - 386.928 * x1^6 + 207.283 * x1^8) + 0.135242 * (1.12741 - 40.5868 * x2^2 + 223.228 * x2^4 - 386.928 * x2^6 + 207.283 * x2^8) + 0.0957695 * ((1.73205 * x0) * (1.73205 * x1) * (1.73205 * x2)) + 0.353421 * ((1.125 - 11.25 * x0^2 + 13.125 * x0^4) * (1.73205 * x1)) + 0.116743 * ((1.125 - 11.25 * x0^2 + 13.125 * x0^4) * (1.73205 * x2)) - 0.0256502 * ((1.73205 * x0) * (1.125 - 11.25 * x1^2 + 13.125 * x1^4)) - 0.0255432 * ((1.125 - 11.25 * x1^2 + 13.125 * x1^4) * (1.73205 * x2)) + 0.0252885 * ((1.73205 * x0) * (1.125 - 11.25 * x2^2 + 13.125 * x2^4)) - 0.460613 * ((1.73205 * x1) * (1.125 - 11.25 * x2^2 + 13.125 * x2^4)) + 0.201232 * (10.727 * x0 - 157.329 * x0^3 + 613.583 * x0^5 - 876.547 * x0^7 + 413.925 * x0^9) - 0.0943747 * (10.727 * x1 - 157.329 * x1^3 + 613.583 * x1^5 - 876.547 * x1^7 + 413.925 * x1^9) - 0.420109 * (10.727 * x2 - 157.329 * x2^3 + 613.583 * x2^5 - 876.547 * x2^7 + 413.925 * x2^9) + 0.181452 * ((-3.96863 * x0 + 6.61438 * x0^3) * (-1.11803 + 3.3541 * x1^2)) - 0.701906 * ((-3.96863 * x0 + 6.61438 * x0^3) * (-1.11803 + 3.3541 * x2^2)) + 0.0284271 * ((-1.11803 + 3.3541 * x0^2) * (-3.96863 * x1 + 6.61438 * x1^3)) - 0.23326 * ((-3.96863 * x1 + 6.61438 * x1^3) * (-1.11803 + 3.3541 * x2^2)) + 0.249043 * ((-1.11803 + 3.3541 * x0^2) * (-3.96863 * x2 + 6.61438 * x2^3)) - 0.19551 * ((-1.11803 + 3.3541 * x1^2) * (-3.96863 * x2 + 6.61438 * x2^3)) + 0.0858555 * (-1.12774 + 62.0259 * x0^2 - 537.558 * x0^4 + 1612.67 * x0^6 - 1958.25 * x0^8 + 826.815 * x0^10) + 0.405024 * (-1.12774 + 62.0259 * x1^2 - 537.558 * x1^4 + 1612.67 * x1^6 - 1958.25 * x1^8 + 826.815 * x1^10) - 0.1314 * (-1.12774 + 62.0259 * x2^2 - 537.558 * x2^4 + 1612.67 * x2^6 - 1958.25 * x2^8 + 826.815 * x2^10) + 0.127506 * ((6.21867 * x0 - 29.0205 * x0^3 + 26.1184 * x0^5) * (1.73205 * x1)) + 0.155233 * ((6.21867 * x0 - 29.0205 * x0^3 + 26.1184 * x0^5) * (1.73205 * x2)) + 0.19052 * ((1.73205 * x0) * (6.21867 * x1 - 29.0205 * x1^3 + 26.1184 * x1^5)) + 0.0971589 * ((6.21867 * x1 - 29.0205 * x1^3 + 26.1184 * x1^5) * (1.73205 * x2)) + 0.322878 * ((1.73205 * x0) * (6.21867 * x2 - 29.0205 * x2^3 + 26.1184 * x2^5)) - 0.14589 * ((1.73205 * x1) * (6.21867 * x2 - 29.0205 * x2^3 + 26.1184 * x2^5))\n"
     ]
    }
   ],
   "source": [
    "print(chaosalgo_1.getAdaptiveStrategy())\n",
    "print(chaosalgo_1.getProjectionStrategy())\n",
    "print(results_1.getOrthogonalBasis())\n",
    "print(\"Model:\", results_1.getComposedMetaModel())"
   ]
  },
  {
   "cell_type": "code",
   "execution_count": 9,
   "metadata": {},
   "outputs": [
    {
     "name": "stdout",
     "output_type": "stream",
     "text": [
      "84\n",
      "class=AdaptiveStrategy implementation=class=FixedStrategy derived from class=AdaptiveStrategyImplementation maximumDimension=68\n",
      "class=ProjectionStrategy implementation=class=LeastSquaresStrategy experiment=class=FixedExperiment name=Unnamed sample=class=Sample name=ComposedDistribution implementation=class=SampleImplementation name=ComposedDistribution size=50 dimension=3 description=[X0,X1,X2] data=[[0.816038,-1.77682,0.00821179],[2.40524,0.814707,0.0904902],[-2.29163,0.503618,2.58692],[-2.93737,-0.206793,1.38302],[-0.960969,1.23147,0.546645],[2.94947,1.51487,2.03963],[2.64321,2.74461,1.33298],[0.0191018,2.33388,-2.20727],[-2.74446,-0.671169,2.03611],[-1.30215,0.81209,0.376116],[1.347,2.59828,0.96388],[-0.732858,2.59748,-3.01627],[-0.793142,-2.14014,1.39837],[1.4908,0.279213,1.53625],[2.40962,-1.86201,-1.34499],[-1.28809,2.23553,2.24783],[2.69241,-0.407915,0.155106],[2.01571,-0.869188,2.8642],[1.15972,-3.12835,-1.59375],[2.06106,-1.63719,-1.72058],[-0.880889,-1.5384,2.86803],[2.85725,0.575127,0.650095],[0.556787,-2.07837,-0.0612079],[-1.99781,2.99918,-0.382635],[-2.60259,-0.106867,-2.32225],[1.00988,1.31512,2.68503],[-1.81935,2.87735,-2.50383],[-0.714846,1.2756,-1.09471],[-2.98728,2.01174,-0.625538],[-0.509449,-0.113845,-0.592749],[3.0275,-1.84369,-0.634769],[2.61463,1.5783,2.47638],[2.86264,2.67369,-2.41144],[-0.16996,0.854031,-1.78677],[-1.50884,0.641903,-2.37174],[1.01373,1.26609,-2.21592],[-0.0642485,-2.64261,-0.952468],[-0.197767,-1.55614,0.154282],[-2.44367,1.11197,-2.2469],[-0.97189,-0.889369,-1.30398],[0.980033,-0.501843,0.190456],[1.10011,-1.12246,1.36325],[3.00952,1.87616,-1.59859],[0.919445,0.474772,0.489522],[-2.73814,-1.07619,2.41795],[1.71543,2.96367,-1.29261],[3.10515,0.110757,2.07528],[-2.61963,-2.46414,1.1862],[-1.72871,2.56221,-2.76117],[-1.24018,1.56919,1.90013]] weights=class=Point name=Unnamed dimension=50 values=[0.02,0.02,0.02,0.02,0.02,0.02,0.02,0.02,0.02,0.02,0.02,0.02,0.02,0.02,0.02,0.02,0.02,0.02,0.02,0.02,0.02,0.02,0.02,0.02,0.02,0.02,0.02,0.02,0.02,0.02,0.02,0.02,0.02,0.02,0.02,0.02,0.02,0.02,0.02,0.02,0.02,0.02,0.02,0.02,0.02,0.02,0.02,0.02,0.02,0.02]\n",
      "ComposedDistribution(Uniform(a = -3.10444, b = 3.22231), Uniform(a = -3.24619, b = 3.11702), Uniform(a = -3.12942, b = 2.98119), IndependentCopula(dimension = 3))\n",
      "[0,0,0]\n",
      "[1,0,0]\n",
      "[0,1,0]\n",
      "[0,0,1]\n",
      "[2,0,0]\n",
      "[1,1,0]\n",
      "[1,0,1]\n",
      "[0,2,0]\n",
      "[0,1,1]\n",
      "[0,0,2]\n",
      "[3,0,0]\n",
      "[2,1,0]\n",
      "[2,0,1]\n",
      "[1,2,0]\n",
      "[1,1,1]\n",
      "[1,0,2]\n",
      "[0,3,0]\n",
      "[0,2,1]\n",
      "[0,1,2]\n",
      "[0,0,3]\n",
      "[4,0,0]\n",
      "[3,1,0]\n",
      "[3,0,1]\n",
      "[2,2,0]\n",
      "[2,1,1]\n",
      "[2,0,2]\n",
      "[1,3,0]\n",
      "[1,2,1]\n",
      "[1,1,2]\n",
      "[1,0,3]\n",
      "[0,4,0]\n",
      "[0,3,1]\n",
      "[0,2,2]\n",
      "[0,1,3]\n",
      "[0,0,4]\n",
      "[5,0,0]\n",
      "[4,1,0]\n",
      "[4,0,1]\n",
      "[3,2,0]\n",
      "[3,1,1]\n",
      "[3,0,2]\n",
      "[2,3,0]\n",
      "[2,2,1]\n",
      "[2,1,2]\n",
      "[2,0,3]\n",
      "[1,4,0]\n",
      "[1,3,1]\n",
      "[1,2,2]\n",
      "[1,1,3]\n",
      "[1,0,4]\n",
      "[0,5,0]\n",
      "[0,4,1]\n",
      "[0,3,2]\n",
      "[0,2,3]\n",
      "[0,1,4]\n",
      "[0,0,5]\n",
      "[6,0,0]\n",
      "[5,1,0]\n",
      "[5,0,1]\n",
      "[4,2,0]\n",
      "[4,1,1]\n",
      "[4,0,2]\n",
      "[3,3,0]\n",
      "[3,2,1]\n",
      "[3,1,2]\n",
      "[3,0,3]\n",
      "[2,4,0]\n",
      "[2,3,1]\n"
     ]
    }
   ],
   "source": [
    "#to get more information about Model 1\n",
    "enum_func = ot.LinearEnumerateFunction(inputDimension)\n",
    "Indices = results_1.getIndices()\n",
    "coefficients = results_1.getCoefficients()\n",
    "print(enum_func.getStrataCumulatedCardinal(6))\n",
    "print(chaosalgo_1.getAdaptiveStrategy())\n",
    "print(chaosalgo_1.getProjectionStrategy())\n",
    "print(chaosalgo_1.getDistribution())\n",
    "for i in range(len(np.array(results_1.getCoefficients()))):\n",
    "  print(enum_func(Indices[i]))"
   ]
  },
  {
   "cell_type": "markdown",
   "metadata": {
    "slideshow": {
     "slide_type": "slide"
    }
   },
   "source": [
    "Since the input distribution is known in our particular case, we can create the multivariate basis from the distribution. We also impose the degree in order to have the same as model1.\n"
   ]
  },
  {
   "cell_type": "code",
   "execution_count": 8,
   "metadata": {
    "slideshow": {
     "slide_type": "slide"
    }
   },
   "outputs": [
    {
     "name": "stdout",
     "output_type": "stream",
     "text": [
      "Model 2 - Basis size =  165\n"
     ]
    }
   ],
   "source": [
    "#complete metamodel  giving  the polynomial basis\n",
    "multivariateBasis = ot.OrthogonalProductPolynomialFactory(distributionList)\n",
    "totalDegree = 8\n",
    "enumfunc = multivariateBasis.getEnumerateFunction()\n",
    "P = enumfunc.getStrataCumulatedCardinal(totalDegree)\n",
    "adaptiveStrategy = ot.FixedStrategy(multivariateBasis, P)\n",
    "chaosalgo_2 = ot.FunctionalChaosAlgorithm(inputSample, outputSample, distribution, adaptiveStrategy)\n",
    "chaosalgo_2.run()\n",
    "results_2 = chaosalgo_2.getResult()\n",
    "print('Model 2 - Basis size = ',len(np.array(results_2.getCoefficients())))\n",
    "\n",
    "metamodel_2 = results_2.getMetaModel()"
   ]
  },
  {
   "cell_type": "code",
   "execution_count": 9,
   "metadata": {},
   "outputs": [
    {
     "name": "stdout",
     "output_type": "stream",
     "text": [
      "P number of coefficients =  165\n",
      "1.56836 + 0.809905 * (1.73205 * x0) + 0.0960431 * (1.73205 * x1) + 0.264016 * (1.73205 * x2) - 0.220591 * (-1.11803 + 3.3541 * x0^2) + 0.0609169 * ((1.73205 * x0) * (1.73205 * x1)) + 0.187152 * ((1.73205 * x0) * (1.73205 * x2)) - 0.38128 * (-1.11803 + 3.3541 * x1^2) - 0.0127943 * ((1.73205 * x1) * (1.73205 * x2)) - 0.355086 * (-1.11803 + 3.3541 * x2^2) - 0.480803 * (-3.96863 * x0 + 6.61438 * x0^3) + 0.2013 * ((-1.11803 + 3.3541 * x0^2) * (1.73205 * x1)) - 0.0614896 * ((-1.11803 + 3.3541 * x0^2) * (1.73205 * x2)) - 0.324644 * ((1.73205 * x0) * (-1.11803 + 3.3541 * x1^2)) + 0.243292 * ((1.73205 * x0) * (1.73205 * x1) * (1.73205 * x2)) + 0.138344 * ((1.73205 * x0) * (-1.11803 + 3.3541 * x2^2)) - 0.0727167 * (-3.96863 * x1 + 6.61438 * x1^3) - 0.229851 * ((-1.11803 + 3.3541 * x1^2) * (1.73205 * x2)) + 0.179855 * ((1.73205 * x1) * (-1.11803 + 3.3541 * x2^2)) + 0.263903 * (-3.96863 * x2 + 6.61438 * x2^3) + 0.110594 * (1.125 - 11.25 * x0^2 + 13.125 * x0^4) - 0.0336813 * ((-3.96863 * x0 + 6.61438 * x0^3) * (1.73205 * x1)) - 0.0882737 * ((-3.96863 * x0 + 6.61438 * x0^3) * (1.73205 * x2)) + 0.0404411 * ((-1.11803 + 3.3541 * x0^2) * (-1.11803 + 3.3541 * x1^2)) + 0.00798639 * ((-1.11803 + 3.3541 * x0^2) * (1.73205 * x1) * (1.73205 * x2)) + 0.171203 * ((-1.11803 + 3.3541 * x0^2) * (-1.11803 + 3.3541 * x2^2)) + 0.190129 * ((1.73205 * x0) * (-3.96863 * x1 + 6.61438 * x1^3)) - 0.266197 * ((1.73205 * x0) * (-1.11803 + 3.3541 * x1^2) * (1.73205 * x2)) + 0.204353 * ((1.73205 * x0) * (1.73205 * x1) * (-1.11803 + 3.3541 * x2^2)) + 0.247458 * ((1.73205 * x0) * (-3.96863 * x2 + 6.61438 * x2^3)) - 0.811677 * (1.125 - 11.25 * x1^2 + 13.125 * x1^4) + 0.0930822 * ((-3.96863 * x1 + 6.61438 * x1^3) * (1.73205 * x2)) - 0.135836 * ((-1.11803 + 3.3541 * x1^2) * (-1.11803 + 3.3541 * x2^2)) + 0.0429411 * ((1.73205 * x1) * (-3.96863 * x2 + 6.61438 * x2^3)) - 0.140813 * (1.125 - 11.25 * x2^2 + 13.125 * x2^4) + 0.00645849 * (6.21867 * x0 - 29.0205 * x0^3 + 26.1184 * x0^5) + 0.0541339 * ((1.125 - 11.25 * x0^2 + 13.125 * x0^4) * (1.73205 * x1)) - 0.076472 * ((1.125 - 11.25 * x0^2 + 13.125 * x0^4) * (1.73205 * x2)) + 0.13758 * ((-3.96863 * x0 + 6.61438 * x0^3) * (-1.11803 + 3.3541 * x1^2)) + 0.10282 * ((-3.96863 * x0 + 6.61438 * x0^3) * (1.73205 * x1) * (1.73205 * x2)) - 0.256397 * ((-3.96863 * x0 + 6.61438 * x0^3) * (-1.11803 + 3.3541 * x2^2)) - 0.0907937 * ((-1.11803 + 3.3541 * x0^2) * (-3.96863 * x1 + 6.61438 * x1^3)) + 0.0110043 * ((-1.11803 + 3.3541 * x0^2) * (-1.11803 + 3.3541 * x1^2) * (1.73205 * x2)) - 0.300628 * ((-1.11803 + 3.3541 * x0^2) * (1.73205 * x1) * (-1.11803 + 3.3541 * x2^2)) + 0.256412 * ((-1.11803 + 3.3541 * x0^2) * (-3.96863 * x2 + 6.61438 * x2^3)) - 0.00107483 * ((1.73205 * x0) * (1.125 - 11.25 * x1^2 + 13.125 * x1^4)) - 0.283001 * ((1.73205 * x0) * (-3.96863 * x1 + 6.61438 * x1^3) * (1.73205 * x2)) - 0.12277 * ((1.73205 * x0) * (-1.11803 + 3.3541 * x1^2) * (-1.11803 + 3.3541 * x2^2)) - 0.186057 * ((1.73205 * x0) * (1.73205 * x1) * (-3.96863 * x2 + 6.61438 * x2^3)) - 0.178223 * ((1.73205 * x0) * (1.125 - 11.25 * x2^2 + 13.125 * x2^4)) + 0.166059 * (6.21867 * x1 - 29.0205 * x1^3 + 26.1184 * x1^5) + 0.150605 * ((1.125 - 11.25 * x1^2 + 13.125 * x1^4) * (1.73205 * x2)) - 0.326064 * ((-3.96863 * x1 + 6.61438 * x1^3) * (-1.11803 + 3.3541 * x2^2)) - 0.139054 * ((-1.11803 + 3.3541 * x1^2) * (-3.96863 * x2 + 6.61438 * x2^3)) - 0.206165 * ((1.73205 * x1) * (1.125 - 11.25 * x2^2 + 13.125 * x2^4)) + 0.00607307 * (6.21867 * x2 - 29.0205 * x2^3 + 26.1184 * x2^5) + 0.172559 * (-1.12673 + 23.6614 * x0^2 - 70.9843 * x0^4 + 52.0551 * x0^6) + 0.016023 * ((6.21867 * x0 - 29.0205 * x0^3 + 26.1184 * x0^5) * (1.73205 * x1)) - 0.0799161 * ((6.21867 * x0 - 29.0205 * x0^3 + 26.1184 * x0^5) * (1.73205 * x2)) + 0.127852 * ((1.125 - 11.25 * x0^2 + 13.125 * x0^4) * (-1.11803 + 3.3541 * x1^2)) - 0.191944 * ((1.125 - 11.25 * x0^2 + 13.125 * x0^4) * (1.73205 * x1) * (1.73205 * x2)) - 0.260275 * ((1.125 - 11.25 * x0^2 + 13.125 * x0^4) * (-1.11803 + 3.3541 * x2^2)) - 0.180728 * ((-3.96863 * x0 + 6.61438 * x0^3) * (-3.96863 * x1 + 6.61438 * x1^3)) + 0.182963 * ((-3.96863 * x0 + 6.61438 * x0^3) * (-1.11803 + 3.3541 * x1^2) * (1.73205 * x2)) - 0.0993957 * ((-3.96863 * x0 + 6.61438 * x0^3) * (1.73205 * x1) * (-1.11803 + 3.3541 * x2^2)) - 0.0278433 * ((-3.96863 * x0 + 6.61438 * x0^3) * (-3.96863 * x2 + 6.61438 * x2^3)) + 0.109253 * ((-1.11803 + 3.3541 * x0^2) * (1.125 - 11.25 * x1^2 + 13.125 * x1^4)) + 0.0870336 * ((-1.11803 + 3.3541 * x0^2) * (-3.96863 * x1 + 6.61438 * x1^3) * (1.73205 * x2)) - 0.00704949 * ((-1.11803 + 3.3541 * x0^2) * (-1.11803 + 3.3541 * x1^2) * (-1.11803 + 3.3541 * x2^2)) - 0.077686 * ((-1.11803 + 3.3541 * x0^2) * (1.73205 * x1) * (-3.96863 * x2 + 6.61438 * x2^3)) - 0.0822279 * ((-1.11803 + 3.3541 * x0^2) * (1.125 - 11.25 * x2^2 + 13.125 * x2^4)) - 0.0188685 * ((1.73205 * x0) * (6.21867 * x1 - 29.0205 * x1^3 + 26.1184 * x1^5)) + 0.104387 * ((1.73205 * x0) * (1.125 - 11.25 * x1^2 + 13.125 * x1^4) * (1.73205 * x2)) - 0.236135 * ((1.73205 * x0) * (-3.96863 * x1 + 6.61438 * x1^3) * (-1.11803 + 3.3541 * x2^2)) - 0.0598008 * ((1.73205 * x0) * (-1.11803 + 3.3541 * x1^2) * (-3.96863 * x2 + 6.61438 * x2^3)) - 0.203939 * ((1.73205 * x0) * (1.73205 * x1) * (1.125 - 11.25 * x2^2 + 13.125 * x2^4)) + 0.000132391 * ((1.73205 * x0) * (6.21867 * x2 - 29.0205 * x2^3 + 26.1184 * x2^5)) + 1.05524 * (-1.12673 + 23.6614 * x1^2 - 70.9843 * x1^4 + 52.0551 * x1^6) - 0.0749665 * ((6.21867 * x1 - 29.0205 * x1^3 + 26.1184 * x1^5) * (1.73205 * x2)) + 0.12507 * ((1.125 - 11.25 * x1^2 + 13.125 * x1^4) * (-1.11803 + 3.3541 * x2^2)) - 0.0491321 * ((-3.96863 * x1 + 6.61438 * x1^3) * (-3.96863 * x2 + 6.61438 * x2^3)) + 0.00880425 * ((-1.11803 + 3.3541 * x1^2) * (1.125 - 11.25 * x2^2 + 13.125 * x2^4)) + 0.0193764 * ((1.73205 * x1) * (6.21867 * x2 - 29.0205 * x2^3 + 26.1184 * x2^5)) - 0.0605488 * (-1.12673 + 23.6614 * x2^2 - 70.9843 * x2^4 + 52.0551 * x2^6) + 0.292511 * (-8.47215 * x0 + 76.2494 * x0^3 - 167.749 * x0^5 + 103.844 * x0^7) + 0.026984 * ((-1.12673 + 23.6614 * x0^2 - 70.9843 * x0^4 + 52.0551 * x0^6) * (1.73205 * x1)) + 0.216872 * ((-1.12673 + 23.6614 * x0^2 - 70.9843 * x0^4 + 52.0551 * x0^6) * (1.73205 * x2)) + 0.170199 * ((6.21867 * x0 - 29.0205 * x0^3 + 26.1184 * x0^5) * (-1.11803 + 3.3541 * x1^2)) - 0.243621 * ((6.21867 * x0 - 29.0205 * x0^3 + 26.1184 * x0^5) * (1.73205 * x1) * (1.73205 * x2)) + 0.379979 * ((6.21867 * x0 - 29.0205 * x0^3 + 26.1184 * x0^5) * (-1.11803 + 3.3541 * x2^2)) - 0.199969 * ((1.125 - 11.25 * x0^2 + 13.125 * x0^4) * (-3.96863 * x1 + 6.61438 * x1^3)) - 0.0607967 * ((1.125 - 11.25 * x0^2 + 13.125 * x0^4) * (-1.11803 + 3.3541 * x1^2) * (1.73205 * x2)) + 0.36683 * ((1.125 - 11.25 * x0^2 + 13.125 * x0^4) * (1.73205 * x1) * (-1.11803 + 3.3541 * x2^2)) - 0.122905 * ((1.125 - 11.25 * x0^2 + 13.125 * x0^4) * (-3.96863 * x2 + 6.61438 * x2^3)) - 0.0623534 * ((-3.96863 * x0 + 6.61438 * x0^3) * (1.125 - 11.25 * x1^2 + 13.125 * x1^4)) - 0.251384 * ((-3.96863 * x0 + 6.61438 * x0^3) * (-3.96863 * x1 + 6.61438 * x1^3) * (1.73205 * x2)) + 0.267771 * ((-3.96863 * x0 + 6.61438 * x0^3) * (-1.11803 + 3.3541 * x1^2) * (-1.11803 + 3.3541 * x2^2)) - 0.0388804 * ((-3.96863 * x0 + 6.61438 * x0^3) * (1.73205 * x1) * (-3.96863 * x2 + 6.61438 * x2^3)) + 0.0131991 * ((-3.96863 * x0 + 6.61438 * x0^3) * (1.125 - 11.25 * x2^2 + 13.125 * x2^4)) - 0.18951 * ((-1.11803 + 3.3541 * x0^2) * (6.21867 * x1 - 29.0205 * x1^3 + 26.1184 * x1^5)) + 0.181808 * ((-1.11803 + 3.3541 * x0^2) * (1.125 - 11.25 * x1^2 + 13.125 * x1^4) * (1.73205 * x2)) + 0.286103 * ((-1.11803 + 3.3541 * x0^2) * (-3.96863 * x1 + 6.61438 * x1^3) * (-1.11803 + 3.3541 * x2^2)) - 0.0454836 * ((-1.11803 + 3.3541 * x0^2) * (-1.11803 + 3.3541 * x1^2) * (-3.96863 * x2 + 6.61438 * x2^3)) + 0.0546333 * ((-1.11803 + 3.3541 * x0^2) * (1.73205 * x1) * (1.125 - 11.25 * x2^2 + 13.125 * x2^4)) - 0.420828 * ((-1.11803 + 3.3541 * x0^2) * (6.21867 * x2 - 29.0205 * x2^3 + 26.1184 * x2^5)) + 0.178678 * ((1.73205 * x0) * (-1.12673 + 23.6614 * x1^2 - 70.9843 * x1^4 + 52.0551 * x1^6)) - 0.123397 * ((1.73205 * x0) * (6.21867 * x1 - 29.0205 * x1^3 + 26.1184 * x1^5) * (1.73205 * x2)) + 0.0164575 * ((1.73205 * x0) * (1.125 - 11.25 * x1^2 + 13.125 * x1^4) * (-1.11803 + 3.3541 * x2^2)) + 0.0284221 * ((1.73205 * x0) * (-3.96863 * x1 + 6.61438 * x1^3) * (-3.96863 * x2 + 6.61438 * x2^3)) - 0.0841818 * ((1.73205 * x0) * (-1.11803 + 3.3541 * x1^2) * (1.125 - 11.25 * x2^2 + 13.125 * x2^4)) - 0.0417561 * ((1.73205 * x0) * (1.73205 * x1) * (6.21867 * x2 - 29.0205 * x2^3 + 26.1184 * x2^5)) - 0.314291 * ((1.73205 * x0) * (-1.12673 + 23.6614 * x2^2 - 70.9843 * x2^4 + 52.0551 * x2^6)) - 0.0644645 * (-8.47215 * x1 + 76.2494 * x1^3 - 167.749 * x1^5 + 103.844 * x1^7) - 0.0196795 * ((-1.12673 + 23.6614 * x1^2 - 70.9843 * x1^4 + 52.0551 * x1^6) * (1.73205 * x2)) - 0.178176 * ((6.21867 * x1 - 29.0205 * x1^3 + 26.1184 * x1^5) * (-1.11803 + 3.3541 * x2^2)) - 0.0799921 * ((1.125 - 11.25 * x1^2 + 13.125 * x1^4) * (-3.96863 * x2 + 6.61438 * x2^3)) + 0.240362 * ((-3.96863 * x1 + 6.61438 * x1^3) * (1.125 - 11.25 * x2^2 + 13.125 * x2^4)) + 0.0951612 * ((-1.11803 + 3.3541 * x1^2) * (6.21867 * x2 - 29.0205 * x2^3 + 26.1184 * x2^5)) - 0.195009 * ((1.73205 * x1) * (-1.12673 + 23.6614 * x2^2 - 70.9843 * x2^4 + 52.0551 * x2^6)) - 0.462342 * (-8.47215 * x2 + 76.2494 * x2^3 - 167.749 * x2^5 + 103.844 * x2^7) - 0.379283 * (1.12741 - 40.5868 * x0^2 + 223.228 * x0^4 - 386.928 * x0^6 + 207.283 * x0^8) - 0.119516 * ((-8.47215 * x0 + 76.2494 * x0^3 - 167.749 * x0^5 + 103.844 * x0^7) * (1.73205 * x1)) - 0.121156 * ((-8.47215 * x0 + 76.2494 * x0^3 - 167.749 * x0^5 + 103.844 * x0^7) * (1.73205 * x2)) - 0.0548006 * ((-1.12673 + 23.6614 * x0^2 - 70.9843 * x0^4 + 52.0551 * x0^6) * (-1.11803 + 3.3541 * x1^2)) + 0.102538 * ((-1.12673 + 23.6614 * x0^2 - 70.9843 * x0^4 + 52.0551 * x0^6) * (1.73205 * x1) * (1.73205 * x2)) + 0.0998556 * ((-1.12673 + 23.6614 * x0^2 - 70.9843 * x0^4 + 52.0551 * x0^6) * (-1.11803 + 3.3541 * x2^2)) - 0.0585215 * ((6.21867 * x0 - 29.0205 * x0^3 + 26.1184 * x0^5) * (-3.96863 * x1 + 6.61438 * x1^3)) + 0.0022045 * ((6.21867 * x0 - 29.0205 * x0^3 + 26.1184 * x0^5) * (-1.11803 + 3.3541 * x1^2) * (1.73205 * x2)) + 0.614185 * ((6.21867 * x0 - 29.0205 * x0^3 + 26.1184 * x0^5) * (1.73205 * x1) * (-1.11803 + 3.3541 * x2^2)) - 0.147149 * ((6.21867 * x0 - 29.0205 * x0^3 + 26.1184 * x0^5) * (-3.96863 * x2 + 6.61438 * x2^3)) - 0.322306 * ((1.125 - 11.25 * x0^2 + 13.125 * x0^4) * (1.125 - 11.25 * x1^2 + 13.125 * x1^4)) + 0.00540394 * ((1.125 - 11.25 * x0^2 + 13.125 * x0^4) * (-3.96863 * x1 + 6.61438 * x1^3) * (1.73205 * x2)) + 0.083237 * ((1.125 - 11.25 * x0^2 + 13.125 * x0^4) * (-1.11803 + 3.3541 * x1^2) * (-1.11803 + 3.3541 * x2^2)) + 0.342156 * ((1.125 - 11.25 * x0^2 + 13.125 * x0^4) * (1.73205 * x1) * (-3.96863 * x2 + 6.61438 * x2^3)) + 0.0332351 * ((1.125 - 11.25 * x0^2 + 13.125 * x0^4) * (1.125 - 11.25 * x2^2 + 13.125 * x2^4)) - 0.0517371 * ((-3.96863 * x0 + 6.61438 * x0^3) * (6.21867 * x1 - 29.0205 * x1^3 + 26.1184 * x1^5)) - 0.0510576 * ((-3.96863 * x0 + 6.61438 * x0^3) * (1.125 - 11.25 * x1^2 + 13.125 * x1^4) * (1.73205 * x2)) + 0.220365 * ((-3.96863 * x0 + 6.61438 * x0^3) * (-3.96863 * x1 + 6.61438 * x1^3) * (-1.11803 + 3.3541 * x2^2)) - 0.0825719 * ((-3.96863 * x0 + 6.61438 * x0^3) * (-1.11803 + 3.3541 * x1^2) * (-3.96863 * x2 + 6.61438 * x2^3)) - 0.0640029 * ((-3.96863 * x0 + 6.61438 * x0^3) * (1.73205 * x1) * (1.125 - 11.25 * x2^2 + 13.125 * x2^4)) - 0.589798 * ((-3.96863 * x0 + 6.61438 * x0^3) * (6.21867 * x2 - 29.0205 * x2^3 + 26.1184 * x2^5)) - 0.161264 * ((-1.11803 + 3.3541 * x0^2) * (-1.12673 + 23.6614 * x1^2 - 70.9843 * x1^4 + 52.0551 * x1^6)) - 0.250764 * ((-1.11803 + 3.3541 * x0^2) * (6.21867 * x1 - 29.0205 * x1^3 + 26.1184 * x1^5) * (1.73205 * x2)) - 0.162287 * ((-1.11803 + 3.3541 * x0^2) * (1.125 - 11.25 * x1^2 + 13.125 * x1^4) * (-1.11803 + 3.3541 * x2^2)) + 0.170607 * ((-1.11803 + 3.3541 * x0^2) * (-3.96863 * x1 + 6.61438 * x1^3) * (-3.96863 * x2 + 6.61438 * x2^3)) - 0.0692207 * ((-1.11803 + 3.3541 * x0^2) * (-1.11803 + 3.3541 * x1^2) * (1.125 - 11.25 * x2^2 + 13.125 * x2^4)) - 0.165706 * ((-1.11803 + 3.3541 * x0^2) * (1.73205 * x1) * (6.21867 * x2 - 29.0205 * x2^3 + 26.1184 * x2^5)) - 0.103453 * ((-1.11803 + 3.3541 * x0^2) * (-1.12673 + 23.6614 * x2^2 - 70.9843 * x2^4 + 52.0551 * x2^6)) - 0.345403 * ((1.73205 * x0) * (-8.47215 * x1 + 76.2494 * x1^3 - 167.749 * x1^5 + 103.844 * x1^7)) + 0.031037 * ((1.73205 * x0) * (-1.12673 + 23.6614 * x1^2 - 70.9843 * x1^4 + 52.0551 * x1^6) * (1.73205 * x2)) - 0.11022 * ((1.73205 * x0) * (6.21867 * x1 - 29.0205 * x1^3 + 26.1184 * x1^5) * (-1.11803 + 3.3541 * x2^2)) - 0.254943 * ((1.73205 * x0) * (1.125 - 11.25 * x1^2 + 13.125 * x1^4) * (-3.96863 * x2 + 6.61438 * x2^3)) - 0.00143348 * ((1.73205 * x0) * (-3.96863 * x1 + 6.61438 * x1^3) * (1.125 - 11.25 * x2^2 + 13.125 * x2^4)) + 0.0602069 * ((1.73205 * x0) * (-1.11803 + 3.3541 * x1^2) * (6.21867 * x2 - 29.0205 * x2^3 + 26.1184 * x2^5)) - 0.15659 * ((1.73205 * x0) * (1.73205 * x1) * (-1.12673 + 23.6614 * x2^2 - 70.9843 * x2^4 + 52.0551 * x2^6)) - 0.383956 * ((1.73205 * x0) * (-8.47215 * x2 + 76.2494 * x2^3 - 167.749 * x2^5 + 103.844 * x2^7)) - 0.667923 * (1.12741 - 40.5868 * x1^2 + 223.228 * x1^4 - 386.928 * x1^6 + 207.283 * x1^8) + 0.198217 * ((-8.47215 * x1 + 76.2494 * x1^3 - 167.749 * x1^5 + 103.844 * x1^7) * (1.73205 * x2)) + 0.182999 * ((-1.12673 + 23.6614 * x1^2 - 70.9843 * x1^4 + 52.0551 * x1^6) * (-1.11803 + 3.3541 * x2^2)) - 0.0407166 * ((6.21867 * x1 - 29.0205 * x1^3 + 26.1184 * x1^5) * (-3.96863 * x2 + 6.61438 * x2^3)) + 0.25539 * ((1.125 - 11.25 * x1^2 + 13.125 * x1^4) * (1.125 - 11.25 * x2^2 + 13.125 * x2^4)) + 0.0285103 * ((-3.96863 * x1 + 6.61438 * x1^3) * (6.21867 * x2 - 29.0205 * x2^3 + 26.1184 * x2^5)) + 0.191509 * ((-1.11803 + 3.3541 * x1^2) * (-1.12673 + 23.6614 * x2^2 - 70.9843 * x2^4 + 52.0551 * x2^6)) - 0.162901 * ((1.73205 * x1) * (-8.47215 * x2 + 76.2494 * x2^3 - 167.749 * x2^5 + 103.844 * x2^7)) - 0.13268 * (1.12741 - 40.5868 * x2^2 + 223.228 * x2^4 - 386.928 * x2^6 + 207.283 * x2^8)\n"
     ]
    }
   ],
   "source": [
    "print('P number of coefficients = ',P)\n",
    "print(results_2.getComposedMetaModel())"
   ]
  },
  {
   "cell_type": "markdown",
   "metadata": {
    "slideshow": {
     "slide_type": "slide"
    }
   },
   "source": [
    "We can also compute a sparse basis by penalyzed least square using LAR."
   ]
  },
  {
   "cell_type": "code",
   "execution_count": 10,
   "metadata": {
    "slideshow": {
     "slide_type": "slide"
    }
   },
   "outputs": [
    {
     "name": "stdout",
     "output_type": "stream",
     "text": [
      "Model 3 - Basis size =  30\n"
     ]
    }
   ],
   "source": [
    "#sparse metamodel using a sparse polynomial basis\n",
    "multivariateBasis = ot.OrthogonalProductPolynomialFactory(distributionList)\n",
    "totalDegree = 8\n",
    "enumfunc = multivariateBasis.getEnumerateFunction()\n",
    "P = enumfunc.getStrataCumulatedCardinal(totalDegree)\n",
    "adaptiveStrategy = ot.FixedStrategy(multivariateBasis, P)\n",
    "basisSequenceFactory = ot.LARS()\n",
    "fittingAlgorithm = ot.CorrectedLeaveOneOut()\n",
    "approximationAlgorithm = ot.LeastSquaresMetaModelSelectionFactory(\n",
    "    basisSequenceFactory, fittingAlgorithm)\n",
    "evaluationCoeffStrategy = ot.LeastSquaresStrategy(\n",
    "    ot.MonteCarloExperiment(N), approximationAlgorithm)\n",
    "chaosalgo_3 = ot.FunctionalChaosAlgorithm(\n",
    "    inputSample, outputSample, distribution, adaptiveStrategy, evaluationCoeffStrategy)\n",
    "chaosalgo_3.run()\n",
    "results_3 = chaosalgo_3.getResult()\n",
    "print('Model 3 - Basis size = ',len(np.array(results_3.getCoefficients())))\n",
    "\n",
    "metamodel_3 = results_3.getMetaModel()"
   ]
  },
  {
   "cell_type": "code",
   "execution_count": 11,
   "metadata": {
    "slideshow": {
     "slide_type": "slide"
    }
   },
   "outputs": [
    {
     "name": "stdout",
     "output_type": "stream",
     "text": [
      "3.53063 + 1.36291 * (1.73205 * x0) + 0.0338616 * (1.73205 * x2) - 0.547928 * (-1.11803 + 3.3541 * x1^2) - 1.5216 * (-3.96863 * x0 + 6.61438 * x0^3) + 0.838264 * ((1.73205 * x0) * (-1.11803 + 3.3541 * x2^2)) - 0.020199 * (-3.96863 * x1 + 6.61438 * x1^3) - 0.0101138 * ((-1.11803 + 3.3541 * x0^2) * (1.73205 * x1) * (1.73205 * x2)) - 0.0599151 * ((1.73205 * x0) * (-1.11803 + 3.3541 * x1^2) * (1.73205 * x2)) - 1.83616 * (1.125 - 11.25 * x1^2 + 13.125 * x1^4) - 0.0694632 * (1.125 - 11.25 * x2^2 + 13.125 * x2^4) + 0.0296919 * (6.21867 * x0 - 29.0205 * x0^3 + 26.1184 * x0^5) - 0.0762112 * ((-3.96863 * x0 + 6.61438 * x0^3) * (1.73205 * x1) * (1.73205 * x2)) - 1.41733 * ((-3.96863 * x0 + 6.61438 * x0^3) * (-1.11803 + 3.3541 * x2^2)) - 0.052872 * ((1.73205 * x0) * (-1.11803 + 3.3541 * x1^2) * (-1.11803 + 3.3541 * x2^2)) - 0.0113967 * ((1.73205 * x1) * (1.125 - 11.25 * x2^2 + 13.125 * x2^4)) - 0.0425236 * ((1.125 - 11.25 * x0^2 + 13.125 * x0^4) * (-1.11803 + 3.3541 * x2^2)) + 1.32963 * (-1.12673 + 23.6614 * x1^2 - 70.9843 * x1^4 + 52.0551 * x1^6) - 0.0178705 * ((6.21867 * x1 - 29.0205 * x1^3 + 26.1184 * x1^5) * (1.73205 * x2)) - 0.072082 * ((6.21867 * x0 - 29.0205 * x0^3 + 26.1184 * x0^5) * (1.73205 * x1) * (1.73205 * x2)) - 0.493031 * ((-3.96863 * x0 + 6.61438 * x0^3) * (1.125 - 11.25 * x2^2 + 13.125 * x2^4)) + 0.00695393 * ((-1.11803 + 3.3541 * x0^2) * (-3.96863 * x1 + 6.61438 * x1^3) * (-1.11803 + 3.3541 * x2^2)) - 0.0398561 * ((-1.11803 + 3.3541 * x0^2) * (6.21867 * x2 - 29.0205 * x2^3 + 26.1184 * x2^5)) - 0.19222 * ((1.73205 * x0) * (-1.12673 + 23.6614 * x2^2 - 70.9843 * x2^4 + 52.0551 * x2^6)) + 0.0523447 * ((6.21867 * x0 - 29.0205 * x0^3 + 26.1184 * x0^5) * (1.73205 * x1) * (-1.11803 + 3.3541 * x2^2)) - 0.0572772 * ((1.125 - 11.25 * x0^2 + 13.125 * x0^4) * (-3.96863 * x1 + 6.61438 * x1^3) * (1.73205 * x2)) + 0.0903912 * ((-3.96863 * x0 + 6.61438 * x0^3) * (-1.11803 + 3.3541 * x1^2) * (-3.96863 * x2 + 6.61438 * x2^3)) + 0.0820466 * ((1.73205 * x0) * (-1.12673 + 23.6614 * x1^2 - 70.9843 * x1^4 + 52.0551 * x1^6) * (1.73205 * x2)) - 0.334452 * (1.12741 - 40.5868 * x1^2 + 223.228 * x1^4 - 386.928 * x1^6 + 207.283 * x1^8) - 0.0742123 * ((-1.12673 + 23.6614 * x1^2 - 70.9843 * x1^4 + 52.0551 * x1^6) * (-1.11803 + 3.3541 * x2^2))\n"
     ]
    }
   ],
   "source": [
    "print(results_3.getComposedMetaModel())"
   ]
  },
  {
   "cell_type": "markdown",
   "metadata": {
    "slideshow": {
     "slide_type": "slide"
    }
   },
   "source": [
    "## PCE metamodel validation\n",
    "\n",
    "Comparison of the 3 created metamodels using a  validation set to compute the predictive error: the lowest is the error, the closest to 1 is the predictive factor $Q_2$"
   ]
  },
  {
   "cell_type": "code",
   "execution_count": 12,
   "metadata": {
    "slideshow": {
     "slide_type": "slide"
    }
   },
   "outputs": [
    {
     "name": "stdout",
     "output_type": "stream",
     "text": [
      "model 1 [0.473659]\n",
      "model 2 [-0.0219308]\n",
      "model 3 [0.94863]\n"
     ]
    }
   ],
   "source": [
    "n_valid = 1000\n",
    "inputTest = distribution.getSample(n_valid)\n",
    "outputTest = g(inputTest)\n",
    "val_1 = ot.MetaModelValidation(inputTest, outputTest, metamodel_1)\n",
    "val_2 = ot.MetaModelValidation(inputTest, outputTest, metamodel_2)\n",
    "val_3 = ot.MetaModelValidation(inputTest, outputTest, metamodel_3)\n",
    "Q2_1 = val_1.computePredictivityFactor()\n",
    "Q2_2 = val_2.computePredictivityFactor()\n",
    "Q2_3 = val_3.computePredictivityFactor()\n",
    "print('model 1', Q2_1)\n",
    "print('model 2', Q2_2)\n",
    "print('model 3', Q2_3)"
   ]
  },
  {
   "cell_type": "markdown",
   "metadata": {
    "slideshow": {
     "slide_type": "slide"
    }
   },
   "source": [
    "# Computation of the sensitivity indices"
   ]
  },
  {
   "cell_type": "code",
   "execution_count": 13,
   "metadata": {
    "slideshow": {
     "slide_type": "slide"
    }
   },
   "outputs": [
    {
     "name": "stdout",
     "output_type": "stream",
     "text": [
      "Indices with model 1\n",
      " input dimension: 3\n",
      " output dimension: 1\n",
      " basis size: 68\n",
      " mean: [2.72306]\n",
      " std-dev: [3.38787]\n",
      "------------------------------------------------------------\n",
      "Index   | Multi-indice                  | Part of variance  \n",
      "------------------------------------------------------------\n",
      "     26 | [0,6,0]                       | 0.174043\n",
      "     14 | [0,4,0]                       | 0.161777\n",
      "      1 | [1,0,0]                       | 0.110577\n",
      "      7 | [3,0,0]                       | 0.0745795\n",
      "      6 | [0,0,2]                       | 0.0619743\n",
      "     54 | [3,0,2]                       | 0.0429243\n",
      "     35 | [1,0,3]                       | 0.0407424\n",
      "      9 | [0,0,3]                       | 0.0359444\n",
      "     41 | [0,8,0]                       | 0.0315132\n",
      "     23 | [1,0,2]                       | 0.0261724\n",
      "     49 | [0,1,4]                       | 0.0184849\n",
      "     21 | [1,2,0]                       | 0.0165855\n",
      "     40 | [8,0,0]                       | 0.0156631\n",
      "     52 | [0,0,9]                       | 0.0153769\n",
      "     60 | [0,10,0]                      | 0.0142925\n",
      "     38 | [2,0,2]                       | 0.0123155\n",
      "     13 | [4,0,0]                       | 0.0113504\n",
      "     44 | [4,1,0]                       | 0.0108826\n",
      "------------------------------------------------------------\n",
      "\n",
      "\n",
      "------------------------------------------------------------\n",
      "Component | Sobol index            | Sobol total index      \n",
      "------------------------------------------------------------\n",
      "        0 | 0.221205               | 0.41332               \n",
      "        1 | 0.401968               | 0.493531              \n",
      "        2 | 0.133553               | 0.337223              \n",
      "------------------------------------------------------------\n",
      "\n",
      "\n",
      "######################\n",
      "Indices with model 2\n",
      " input dimension: 3\n",
      " output dimension: 1\n",
      " basis size: 165\n",
      " mean: [1.56836]\n",
      " std-dev: [2.97816]\n",
      "------------------------------------------------------------\n",
      "Index   | Multi-indice                  | Part of variance  \n",
      "------------------------------------------------------------\n",
      "     77 | [0,6,0]                       | 0.125547\n",
      "     30 | [0,4,0]                       | 0.0742798\n",
      "      1 | [1,0,0]                       | 0.0739558\n",
      "    156 | [0,8,0]                       | 0.0502987\n",
      "    128 | [5,1,2]                       | 0.0425307\n",
      "    140 | [3,0,5]                       | 0.0392203\n",
      "     10 | [3,0,0]                       | 0.0260638\n",
      "    119 | [0,0,7]                       | 0.0241008\n",
      "    104 | [2,0,5]                       | 0.019967\n",
      "    155 | [1,0,7]                       | 0.0166214\n",
      "      7 | [0,2,0]                       | 0.0163905\n",
      "     89 | [5,0,2]                       | 0.0162789\n",
      "    120 | [8,0,0]                       | 0.0162193\n",
      "     92 | [4,1,2]                       | 0.0151717\n",
      "      9 | [0,0,2]                       | 0.0142158\n",
      "    148 | [1,7,0]                       | 0.0134511\n",
      "    133 | [4,1,3]                       | 0.0131993\n",
      "     52 | [0,3,2]                       | 0.011987\n",
      "     13 | [1,2,0]                       | 0.0118828\n",
      "    130 | [4,4,0]                       | 0.0117122\n",
      "    111 | [1,0,6]                       | 0.011137\n",
      "     43 | [2,1,2]                       | 0.0101898\n",
      "------------------------------------------------------------\n",
      "\n",
      "\n",
      "------------------------------------------------------------\n",
      "Component | Sobol index            | Sobol total index      \n",
      "------------------------------------------------------------\n",
      "        0 | 0.136113               | 0.593348              \n",
      "        1 | 0.27173                | 0.642526              \n",
      "        2 | 0.0586657              | 0.513889              \n",
      "------------------------------------------------------------\n",
      "\n",
      "\n",
      "######################\n",
      "Indices with model 3\n",
      " input dimension: 3\n",
      " output dimension: 1\n",
      " basis size: 30\n",
      " mean: [3.53063]\n",
      " std-dev: [3.57364]\n",
      "------------------------------------------------------------\n",
      "Index   | Multi-indice                  | Part of variance  \n",
      "------------------------------------------------------------\n",
      "      9 | [0,4,0]                       | 0.263998\n",
      "      4 | [3,0,0]                       | 0.181292\n",
      "     13 | [3,0,2]                       | 0.157298\n",
      "      1 | [1,0,0]                       | 0.145449\n",
      "     17 | [0,6,0]                       | 0.138433\n",
      "      5 | [1,0,2]                       | 0.0550224\n",
      "      3 | [0,2,0]                       | 0.0235085\n",
      "     20 | [3,0,4]                       | 0.0190338\n",
      "------------------------------------------------------------\n",
      "\n",
      "\n",
      "------------------------------------------------------------\n",
      "Component | Sobol index            | Sobol total index      \n",
      "------------------------------------------------------------\n",
      "        0 | 0.326811               | 0.564336              \n",
      "        1 | 0.43473                | 0.438209              \n",
      "        2 | 0.000467606            | 0.238459              \n",
      "------------------------------------------------------------\n",
      "\n",
      "\n"
     ]
    }
   ],
   "source": [
    "SI_1 = ot.FunctionalChaosSobolIndices(results_1)\n",
    "SI_2 = ot.FunctionalChaosSobolIndices(results_2)\n",
    "SI_3 = ot.FunctionalChaosSobolIndices(results_3)\n",
    "print('Indices with model 1')\n",
    "print( SI_1.summary())\n",
    "print ('######################')\n",
    "print('Indices with model 2')\n",
    "print( SI_2.summary())\n",
    "print ('######################')\n",
    "print('Indices with model 3')\n",
    "print(SI_3.summary())"
   ]
  },
  {
   "cell_type": "code",
   "execution_count": 14,
   "metadata": {
    "slideshow": {
     "slide_type": "slide"
    }
   },
   "outputs": [],
   "source": [
    "## To draw Sobol  indices"
   ]
  },
  {
   "cell_type": "code",
   "execution_count": 23,
   "metadata": {},
   "outputs": [
    {
     "data": {
      "image/png": "[encoded data removed]",
      "text/plain": [
       "<Figure size 640x480 with 1 Axes>"
      ]
     },
     "metadata": {},
     "output_type": "display_data"
    }
   ],
   "source": [
    "\n",
    "import openturns.viewer as viewer\n",
    "from matplotlib import pylab as plt\n",
    "\n",
    "first_order = [SI_3 .getSobolIndex(i) for i in range(inputDimension)]\n",
    "total_order = [SI_3 .getSobolTotalIndex(\n",
    "    i) for i in range(inputDimension)]\n",
    "graph = ot.SobolIndicesAlgorithm.DrawSobolIndices(\n",
    "    input_names, first_order, total_order)\n",
    "view = viewer.View(graph)"
   ]
  },
  {
   "cell_type": "markdown",
   "metadata": {
    "slideshow": {
     "slide_type": "slide"
    }
   },
   "source": [
    "We saw that total order indices are close to first order, so the higher order indices must be all quite close to 0"
   ]
  },
  {
   "cell_type": "code",
   "execution_count": 24,
   "metadata": {},
   "outputs": [
    {
     "name": "stdout",
     "output_type": "stream",
     "text": [
      "x2 & x1 : 0.0\n",
      "x3 & x1 : 0.07928953245255237\n",
      "x3 & x2 : 0.0\n"
     ]
    }
   ],
   "source": [
    "for i in range(inputDimension):\n",
    "    for j in range(i):\n",
    "        print(input_names[i] + ' & ' + input_names[j], \":\",\n",
    "              SI_3.getSobolIndex([i, j]))\n",
    "\n",
    "plt.show()"
   ]
  },
  {
   "cell_type": "markdown",
   "metadata": {
    "slideshow": {
     "slide_type": "slide"
    }
   },
   "source": [
    "# Reference results\n",
    "\n",
    "Comparisons of the computed Sobol indices with the reference ones (available for the Ishigami function)"
   ]
  },
  {
   "cell_type": "code",
   "execution_count": 17,
   "metadata": {
    "slideshow": {
     "slide_type": "slide"
    }
   },
   "outputs": [
    {
     "name": "stdout",
     "output_type": "stream",
     "text": [
      "Reference indices\n"
     ]
    },
    {
     "data": {
      "text/plain": [
       "{'expectation': 3.5,\n",
       " 'variance': 13.844587940719254,\n",
       " 'S1': 0.31390519114781146,\n",
       " 'S2': 0.4424111447900409,\n",
       " 'S3': 0,\n",
       " 'S12': 0,\n",
       " 'S23': 0,\n",
       " 'S13': 0.2436836640621477,\n",
       " 'S123': 0,\n",
       " 'ST1': 0.5575888552099592,\n",
       " 'ST2': 0.4424111447900409,\n",
       " 'ST3': 0.2436836640621477}"
      ]
     },
     "execution_count": 17,
     "metadata": {},
     "output_type": "execute_result"
    }
   ],
   "source": [
    "def ishigamiSA(a,b):\n",
    "    '''Exact sensitivity indices of the Ishigami function for given a and b.'''\n",
    "    var = 1.0/2 + a**2/8 + b*np.pi**4/5 + b**2*np.pi**8/18\n",
    "    S1 = (1.0/2 + b*np.pi**4/5+b**2*np.pi**8/50)/var\n",
    "    S2 = (a**2/8)/var\n",
    "    S3 = 0\n",
    "    S13 = b**2*np.pi**8/2*(1.0/9-1.0/25)/var\n",
    "    exact = {\n",
    "            'expectation' : a/2,\n",
    "            'variance' : var,\n",
    "            'S1' : (1.0/2 + b*np.pi**4/5+b**2*np.pi**8.0/50)/var,\n",
    "            'S2' : (a**2/8)/var,\n",
    "            'S3' : 0,\n",
    "            'S12' : 0,\n",
    "            'S23' : 0,\n",
    "            'S13' : S13,\n",
    "            'S123' : 0,\n",
    "            'ST1' : S1 + S13,\n",
    "            'ST2' : S2,\n",
    "            'ST3' : S3 + S13\n",
    "            }\n",
    "    return exact\n",
    "\n",
    "a = 7.\n",
    "b = 0.1\n",
    "exact = ishigamiSA(a,b)\n",
    "print('Reference indices')\n",
    "exact"
   ]
  },
  {
   "cell_type": "markdown",
   "metadata": {
    "slideshow": {
     "slide_type": "slide"
    }
   },
   "source": [
    "# 2. Bootstrap technique to compute error\n",
    "## 2.1 Repetition\n",
    "In order to estimate the coefficient of variation of the PCE estimator of the Sobol indices, some repetitions can be done."
   ]
  },
  {
   "cell_type": "code",
   "execution_count": 18,
   "metadata": {
    "slideshow": {
     "slide_type": "slide"
    }
   },
   "outputs": [],
   "source": [
    "inputDim = 3\n",
    "repet = 700\n",
    "input_names = ['x1', 'x2','x3']\n",
    "\n",
    "#database size\n",
    "N = 50\n",
    "    \n",
    "#Initialization\n",
    "L_First_Order = []\n",
    "L_Total_Index = []\n"
   ]
  },
  {
   "cell_type": "code",
   "execution_count": 19,
   "metadata": {
    "slideshow": {
     "slide_type": "slide"
    }
   },
   "outputs": [],
   "source": [
    "#to choose randomly  the training and validation  set for the bootstrap  \n",
    "for j in range(repet):\n",
    "    \n",
    "    inputSample = distribution.getSample(N)\n",
    "    outputSample = g(inputSample)\n",
    "    basisSequenceFactory = ot.LARS()\n",
    "    fittingAlgorithm = ot.CorrectedLeaveOneOut()\n",
    "    approximationAlgorithm = ot.LeastSquaresMetaModelSelectionFactory(\n",
    "    basisSequenceFactory, fittingAlgorithm)\n",
    "    evaluationCoeffStrategy = ot.LeastSquaresStrategy(\n",
    "    ot.MonteCarloExperiment(N), approximationAlgorithm)\n",
    "    chaosalgo_3 = ot.FunctionalChaosAlgorithm(\n",
    "    inputSample, outputSample, distribution, adaptiveStrategy, evaluationCoeffStrategy)\n",
    "    chaosalgo_3.run()\n",
    "    results_3 = chaosalgo_3.getResult()\n",
    "    SI_3 = ot.FunctionalChaosSobolIndices(results_3)\n",
    "    \n",
    "    first_order = list(map(lambda i: SI_3.getSobolIndex(i), range(inputDim)))\n",
    "    total_index = list(map(lambda i: SI_3.getSobolTotalIndex(i), range(inputDim)))\n",
    "          \n",
    "    L_First_Order.append(first_order)\n",
    "    L_Total_Index.append(total_index)\n",
    "\n",
    "    "
   ]
  },
  {
   "cell_type": "code",
   "execution_count": 20,
   "metadata": {
    "slideshow": {
     "slide_type": "slide"
    }
   },
   "outputs": [
    {
     "name": "stdout",
     "output_type": "stream",
     "text": [
      "###########################\n",
      "\n",
      "Sobol index, first order (coefficient of variation \\%)\n",
      "\n",
      "x1 : 0.26752093362249724 (65.00063261075685\\%) \n",
      "\n",
      "x2 : 0.4644368462091267 (46.98304841026001\\%) \n",
      "\n",
      "x3 : 0.012818779305105978 (454.73518678139345\\%) \n",
      "\n",
      "First order sum = 0.7447765591367299\n",
      "\n",
      "Total Sobol index (coefficient of variation \\%):\n",
      "\n",
      "x1 : 0.483623562140978 (46.523833901028155\\%) \n",
      "\n",
      "x2 : 0.5342237568366135 (41.608412279333876\\%) \n",
      "\n",
      "x3 : 0.26070527110628916 (81.7152079769541\\%) \n",
      "\n",
      "Total Sobol index sum = 1.2785525900838808\n",
      "\n"
     ]
    }
   ],
   "source": [
    "#######post process\n",
    "L_First_Order = np.array(L_First_Order)\n",
    "L_Total_Index = np.array(L_Total_Index)\n",
    "\n",
    "#print('Sensitivity analysis with sparse PCE of degree'+str(degree)+'\\n')\n",
    "#print('training sample of size = '+str(size_data-size_validation)+'\\n')\n",
    "#print('validation sample of size = '+str(size_validation)+'\\n')\n",
    "j=0\n",
    "mean = L_First_Order[j*repet:(j+1)*repet].mean(axis = 0)\n",
    "std =  L_First_Order[j*repet:(j+1)*repet].std(axis = 0)\n",
    "cv = std/mean\n",
    "print(\"###########################\\n\")\n",
    "    \n",
    "print(\"Sobol index, first order (coefficient of variation \\%)\\n\")\n",
    "for i in range(inputDim):\n",
    "        print(input_names[i]+' : '+str(mean[i])+' ('+str(cv[i]*100)+'\\%) \\n')\n",
    "print(\"First order sum = \"+str(np.array(mean).sum())+'\\n')\n",
    "mean = L_Total_Index[j*repet:(j+1)*repet].mean(axis = 0)\n",
    "std =  L_Total_Index[j*repet:(j+1)*repet].std(axis = 0)\n",
    "cv = std/mean      \n",
    "print(\"Total Sobol index (coefficient of variation \\%):\\n\")\n",
    "for i in range(inputDim):\n",
    "        print(input_names[i]+' : '+str(mean[i])+' ('+str(cv[i]*100)+'\\%) \\n')\n",
    "print(\"Total Sobol index sum = \"+str(np.array(mean).sum())+\"\\n\")\n",
    "   "
   ]
  },
  {
   "cell_type": "markdown",
   "metadata": {
    "slideshow": {
     "slide_type": "slide"
    }
   },
   "source": [
    "This approch allows to estimate the variance of our estimator but it is in practice very costly as the PCE has to be rebuild using a new design of experiments at each repetition (evaluation of the numerical model $repet\\times N$). In order to reduce this cost one can estimate the variance using resampling approach known as bootstrap."
   ]
  },
  {
   "cell_type": "markdown",
   "metadata": {
    "slideshow": {
     "slide_type": "slide"
    }
   },
   "source": [
    "## 2.2 Fixed database only once and reused with different training and validation set (Bootstrap approach)"
   ]
  },
  {
   "cell_type": "code",
   "execution_count": 21,
   "metadata": {
    "slideshow": {
     "slide_type": "slide"
    }
   },
   "outputs": [],
   "source": [
    "\n",
    "#database chosen only once\n",
    "inputSample = distribution.getSample(N)\n",
    "outputSample = g(inputSample)\n",
    "X=np.array(inputSample)\n",
    "Y=np.array(outputSample)\n",
    "\n",
    "\n",
    "#Initialization\n",
    "L_First_Order = []\n",
    "L_Total_Index = []\n",
    "\n",
    "\n",
    "\n",
    "#to choose randomly  the training set for the bootstrap  \n",
    "for j in range(repet):\n",
    "    \n",
    "    Ind_train = np.random.choice(N,N,replace=True)\n",
    "    #to choose the training set associated \n",
    "    X_train = X[Ind_train,:]\n",
    "    Y_train = Y[Ind_train].reshape((N,1))\t\n",
    "\n",
    "        \n",
    "    basisSequenceFactory = ot.LARS()\n",
    "    fittingAlgorithm = ot.CorrectedLeaveOneOut()\n",
    "    approximationAlgorithm = ot.LeastSquaresMetaModelSelectionFactory(\n",
    "    basisSequenceFactory, fittingAlgorithm)\n",
    "    evaluationCoeffStrategy = ot.LeastSquaresStrategy(\n",
    "    ot.MonteCarloExperiment(N), approximationAlgorithm)\n",
    "    chaosalgo_3 = ot.FunctionalChaosAlgorithm(\n",
    "    X_train, Y_train, distribution, adaptiveStrategy, evaluationCoeffStrategy)\n",
    "    chaosalgo_3.run()\n",
    "    \n",
    "    #Get the result:\n",
    "    results = chaosalgo_3.getResult()\n",
    "    sensitivityAnalysis = ot.FunctionalChaosSobolIndices(results)\n",
    "    responseSurface = results.getMetaModel()\n",
    "  \n",
    "    sensitivityAnalysis = ot.FunctionalChaosSobolIndices(results)\n",
    "    first_order = list(map(lambda i: sensitivityAnalysis.getSobolIndex(i), range(inputDim)))\n",
    "    total_index = list(map(lambda i: sensitivityAnalysis.getSobolTotalIndex(i), range(inputDim)))\n",
    "         \n",
    "       \n",
    "    L_First_Order.append(first_order)\n",
    "    L_Total_Index.append(total_index)\n",
    "\n",
    "    \n"
   ]
  },
  {
   "cell_type": "code",
   "execution_count": 22,
   "metadata": {
    "slideshow": {
     "slide_type": "slide"
    }
   },
   "outputs": [
    {
     "name": "stdout",
     "output_type": "stream",
     "text": [
      "###########################\n",
      "\n",
      "Sobol index, first order (coefficient of variation \\%)\n",
      "\n",
      "x1 : 0.1187094303825149 (138.88545403041775\\%) \n",
      "\n",
      "x2 : 0.3329395029611098 (90.26928188589707\\%) \n",
      "\n",
      "x3 : 0.01669884440639205 (424.20376252776293\\%) \n",
      "\n",
      "First order sum = 0.4683477777500168\n",
      "\n",
      "Total Sobol index (coefficient of variation \\%):\n",
      "\n",
      "x1 : 0.4776565886751551 (67.5264676406982\\%) \n",
      "\n",
      "x2 : 0.7091100562263952 (43.3478701985658\\%) \n",
      "\n",
      "x3 : 0.47118976053918754 (76.97626281184843\\%) \n",
      "\n",
      "Total Sobol index sum = 1.6579564054407379\n",
      "\n"
     ]
    }
   ],
   "source": [
    "#######post process\n",
    "L_First_Order = np.array(L_First_Order)\n",
    "L_Total_Index = np.array(L_Total_Index)\n",
    "\n",
    "\n",
    "\n",
    "j=0\n",
    "mean = L_First_Order[j*repet:(j+1)*repet].mean(axis = 0)\n",
    "std =  L_First_Order[j*repet:(j+1)*repet].std(axis = 0)\n",
    "cv = std/mean\n",
    "print(\"###########################\\n\")\n",
    "    \n",
    "print(\"Sobol index, first order (coefficient of variation \\%)\\n\")\n",
    "for i in range(inputDim):\n",
    "        print(input_names[i]+' : '+str(mean[i])+' ('+str(cv[i]*100)+'\\%) \\n')\n",
    "print(\"First order sum = \"+str(np.array(mean).sum())+'\\n')\n",
    "mean = L_Total_Index[j*repet:(j+1)*repet].mean(axis = 0)\n",
    "std =  L_Total_Index[j*repet:(j+1)*repet].std(axis = 0)\n",
    "cv = std/mean      \n",
    "print(\"Total Sobol index (coefficient of variation \\%):\\n\")\n",
    "for i in range(inputDim):\n",
    "        print(input_names[i]+' : '+str(mean[i])+' ('+str(cv[i]*100)+'\\%) \\n')\n",
    "print(\"Total Sobol index sum = \"+str(np.array(mean).sum())+\"\\n\")\n",
    "\n"
   ]
  },
  {
   "cell_type": "markdown",
   "metadata": {
    "slideshow": {
     "slide_type": "slide"
    }
   },
   "source": [
    "It can be seen that bootstrap approach offers a correct approximation of the variance of the PCE estimator of the Sobol indices with a design of experiments of size only $N$"
   ]
  },
  {
   "cell_type": "markdown",
   "metadata": {
    "collapsed": true
   },
   "source": [
    "## Try to do the same test and increase the value of N in order to decrease the coefficient of variation\n",
    "With $N= 500$ the error will decrease. "
   ]
  },
  {
   "cell_type": "code",
   "execution_count": null,
   "metadata": {},
   "outputs": [],
   "source": []
  }
 ],
 "metadata": {
  "celltoolbar": "Diaporama",
  "kernelspec": {
   "display_name": "Python 3 (ipykernel)",
   "language": "python",
   "name": "python3"
  },
  "language_info": {
   "codemirror_mode": {
    "name": "ipython",
    "version": 3
   },
   "file_extension": ".py",
   "mimetype": "text/x-python",
   "name": "python",
   "nbconvert_exporter": "python",
   "pygments_lexer": "ipython3",
   "version": "3.9.13"
  }
 },
 "nbformat": 4,
 "nbformat_minor": 2
}
