{
  "cells": [
    {
      "cell_type": "markdown",
      "metadata": {
        "id": "ky4Voy3f7UUe"
      },
      "source": [
        "# Introduction à l'ANOVA et l'Analyse de sensibilité"
      ]
    },
    {
      "cell_type": "markdown",
      "metadata": {
        "id": "Mf2WjM9Q7UUk"
      },
      "source": [
        "## Objectif\n",
        "Ce notebook vise à illustrer la mise en oeuvre de l'ANOVA et de l'Analyse de sensibilité avec OpenTURNS."
      ]
    },
    {
      "cell_type": "markdown",
      "metadata": {
        "id": "mX_WanRt7UUo"
      },
      "source": [
        "Il présente aussi les données d'un cas test de signature EM de corps sur lequel on peut tester différents métamodèles."
      ]
    },
    {
      "cell_type": "markdown",
      "metadata": {
        "id": "29wlLCaL7UUp"
      },
      "source": [
        "## Import modules et data"
      ]
    },
    {
      "cell_type": "code",
      "execution_count": 1,
      "metadata": {
        "id": "-T3z2M2n7UUq"
      },
      "outputs": [],
      "source": [
        "import pandas as pd"
      ]
    },
    {
      "cell_type": "code",
      "execution_count": 2,
      "metadata": {
        "id": "3Gsw9niw7UUr"
      },
      "outputs": [],
      "source": [
        "import numpy as np"
      ]
    },
    {
      "cell_type": "markdown",
      "metadata": {
        "id": "zWcHnTCd7UUs"
      },
      "source": [
        "On commence par charger les données qui sont dans un fichier .csv avec comme séparateur un ;\n",
        "Les données d'entrée sont déjà normalisées"
      ]
    },
    {
      "cell_type": "markdown",
      "metadata": {
        "id": "aWOyZ9D37UUt"
      },
      "source": [
        "To read files from google colab\n",
        "\n",
        "url_name='https://raw.githubusercontent.com/dbetteb/early-ML/master/08_CAS_TEST_SER/data_scaled.csv'\n",
        "\n",
        "xy_tot = pd.read_csv(url_name, header=0,sep=';')"
      ]
    },
    {
      "cell_type": "code",
      "source": [
        "url_name='https://raw.githubusercontent.com/dbetteb/early-ML/master/08_CAS_TEST_SER/data_scaled.csv'\n",
        "xy_tot = pd.read_csv(url_name, header=0,sep=';')"
      ],
      "metadata": {
        "id": "alU6atlv7mVF"
      },
      "execution_count": 3,
      "outputs": []
    },
    {
      "cell_type": "markdown",
      "source": [
        "Sinon en local"
      ],
      "metadata": {
        "id": "RBlnOEiVItTo"
      }
    },
    {
      "cell_type": "code",
      "execution_count": null,
      "metadata": {
        "id": "0JX88sNC7UUu"
      },
      "outputs": [],
      "source": [
        "file_name=\"data_scaled.csv\"\n",
        "xy_tot=pd.read_csv(file_name,header=0,sep=';')\n",
        "xy_tot.describe()"
      ]
    },
    {
      "cell_type": "markdown",
      "metadata": {
        "id": "W7s_H7AI7UUw"
      },
      "source": [
        "Visualisation"
      ]
    },
    {
      "cell_type": "code",
      "execution_count": 5,
      "metadata": {
        "id": "HZTc4_cS7UUw",
        "outputId": "a16302cd-7e5a-4904-d769-134513de47f5",
        "colab": {
          "base_uri": "https://localhost:8080/"
        }
      },
      "outputs": [
        {
          "output_type": "stream",
          "name": "stdout",
          "text": [
            "       Logive      Rnez    Lfente  ...     Corde         H         y\n",
            "0    0.495338  0.000000  0.497895  ...  0.500010  0.504185  1.026548\n",
            "1    0.839713  0.797224  0.544219  ...  0.062737  0.516893  0.982029\n",
            "2    0.718764  0.462412  0.122786  ...  0.823282  0.887550  0.928365\n",
            "3    0.232614  0.964583  0.208857  ...  0.397045  0.031743 -0.995189\n",
            "4    0.328525  0.360263  0.771815  ...  0.160963  0.593623  1.025108\n",
            "..        ...       ...       ...  ...       ...       ...       ...\n",
            "106  0.893357  0.616894  0.666424  ...  0.521913  0.072636  0.316804\n",
            "107  0.954314  0.544326  0.619205  ...  0.927965  0.388065 -0.399315\n",
            "108  0.673615  0.753639  0.953679  ...  0.288987  0.342212 -0.708425\n",
            "109  0.655463  0.940585  0.931341  ...  0.711866  0.261593 -0.297182\n",
            "110  0.018758  0.603489  0.405507  ...  0.674970  0.733691  1.508639\n",
            "\n",
            "[111 rows x 12 columns]\n"
          ]
        }
      ],
      "source": [
        "print(xy_tot)"
      ]
    },
    {
      "cell_type": "markdown",
      "metadata": {
        "id": "yt6jFPkz7UU1"
      },
      "source": [
        "Pour voir le format des données"
      ]
    },
    {
      "cell_type": "code",
      "execution_count": 6,
      "metadata": {
        "id": "Vl78PBGJ7UU2",
        "outputId": "71cd72ac-c87d-4a5d-b023-e46a50ce91b7",
        "colab": {
          "base_uri": "https://localhost:8080/"
        }
      },
      "outputs": [
        {
          "output_type": "execute_result",
          "data": {
            "text/plain": [
              "(111, 12)"
            ]
          },
          "metadata": {},
          "execution_count": 6
        }
      ],
      "source": [
        "xy_tot.shape"
      ]
    },
    {
      "cell_type": "markdown",
      "metadata": {
        "id": "L-SgdHLT7UU4"
      },
      "source": [
        "## ANOVA"
      ]
    },
    {
      "cell_type": "code",
      "execution_count": 7,
      "metadata": {
        "id": "QKMbf_l_7UU4",
        "outputId": "836bda54-6352-46f6-d9d3-22844542c03f",
        "colab": {
          "base_uri": "https://localhost:8080/"
        }
      },
      "outputs": [
        {
          "output_type": "stream",
          "name": "stderr",
          "text": [
            "/usr/local/lib/python3.7/dist-packages/statsmodels/tools/_testing.py:19: FutureWarning: pandas.util.testing is deprecated. Use the functions in the public API at pandas.testing instead.\n",
            "  import pandas.util.testing as tm\n"
          ]
        }
      ],
      "source": [
        "import statsmodels.api as sm\n",
        "from statsmodels.formula.api import ols"
      ]
    },
    {
      "cell_type": "code",
      "execution_count": 8,
      "metadata": {
        "id": "bQ3iawJq7UU6"
      },
      "outputs": [],
      "source": [
        "results = ols('y ~ Logive+Rnez+Lfente+Pfente+Dengin+LBB+Pos+Fleche_BA+Fleche_BF+Corde+H', data=xy_tot).fit()"
      ]
    },
    {
      "cell_type": "code",
      "execution_count": 9,
      "metadata": {
        "id": "npprUagw7UU6",
        "outputId": "c5d6ecaf-d440-46d5-c9ad-19fb21c2993b",
        "colab": {
          "base_uri": "https://localhost:8080/",
          "height": 426
        }
      },
      "outputs": [
        {
          "output_type": "execute_result",
          "data": {
            "text/html": [
              "\n",
              "  <div id=\"df-c807d4b7-edae-408e-a225-6635804c8167\">\n",
              "    <div class=\"colab-df-container\">\n",
              "      <div>\n",
              "<style scoped>\n",
              "    .dataframe tbody tr th:only-of-type {\n",
              "        vertical-align: middle;\n",
              "    }\n",
              "\n",
              "    .dataframe tbody tr th {\n",
              "        vertical-align: top;\n",
              "    }\n",
              "\n",
              "    .dataframe thead th {\n",
              "        text-align: right;\n",
              "    }\n",
              "</style>\n",
              "<table border=\"1\" class=\"dataframe\">\n",
              "  <thead>\n",
              "    <tr style=\"text-align: right;\">\n",
              "      <th></th>\n",
              "      <th>sum_sq</th>\n",
              "      <th>df</th>\n",
              "      <th>F</th>\n",
              "      <th>PR(&gt;F)</th>\n",
              "    </tr>\n",
              "  </thead>\n",
              "  <tbody>\n",
              "    <tr>\n",
              "      <th>Logive</th>\n",
              "      <td>3.764760</td>\n",
              "      <td>1.0</td>\n",
              "      <td>63.855565</td>\n",
              "      <td>2.509619e-12</td>\n",
              "    </tr>\n",
              "    <tr>\n",
              "      <th>Rnez</th>\n",
              "      <td>0.060988</td>\n",
              "      <td>1.0</td>\n",
              "      <td>1.034434</td>\n",
              "      <td>3.115987e-01</td>\n",
              "    </tr>\n",
              "    <tr>\n",
              "      <th>Lfente</th>\n",
              "      <td>0.020915</td>\n",
              "      <td>1.0</td>\n",
              "      <td>0.354749</td>\n",
              "      <td>5.527961e-01</td>\n",
              "    </tr>\n",
              "    <tr>\n",
              "      <th>Pfente</th>\n",
              "      <td>0.009864</td>\n",
              "      <td>1.0</td>\n",
              "      <td>0.167303</td>\n",
              "      <td>6.834035e-01</td>\n",
              "    </tr>\n",
              "    <tr>\n",
              "      <th>Dengin</th>\n",
              "      <td>0.485694</td>\n",
              "      <td>1.0</td>\n",
              "      <td>8.238044</td>\n",
              "      <td>5.016189e-03</td>\n",
              "    </tr>\n",
              "    <tr>\n",
              "      <th>LBB</th>\n",
              "      <td>51.942016</td>\n",
              "      <td>1.0</td>\n",
              "      <td>881.008801</td>\n",
              "      <td>4.402781e-51</td>\n",
              "    </tr>\n",
              "    <tr>\n",
              "      <th>Pos</th>\n",
              "      <td>0.669155</td>\n",
              "      <td>1.0</td>\n",
              "      <td>11.349801</td>\n",
              "      <td>1.076363e-03</td>\n",
              "    </tr>\n",
              "    <tr>\n",
              "      <th>Fleche_BA</th>\n",
              "      <td>6.925141</td>\n",
              "      <td>1.0</td>\n",
              "      <td>117.460019</td>\n",
              "      <td>1.640449e-18</td>\n",
              "    </tr>\n",
              "    <tr>\n",
              "      <th>Fleche_BF</th>\n",
              "      <td>0.772318</td>\n",
              "      <td>1.0</td>\n",
              "      <td>13.099585</td>\n",
              "      <td>4.674633e-04</td>\n",
              "    </tr>\n",
              "    <tr>\n",
              "      <th>Corde</th>\n",
              "      <td>10.236574</td>\n",
              "      <td>1.0</td>\n",
              "      <td>173.626527</td>\n",
              "      <td>1.666877e-23</td>\n",
              "    </tr>\n",
              "    <tr>\n",
              "      <th>H</th>\n",
              "      <td>28.388367</td>\n",
              "      <td>1.0</td>\n",
              "      <td>481.506172</td>\n",
              "      <td>8.284227e-40</td>\n",
              "    </tr>\n",
              "    <tr>\n",
              "      <th>Residual</th>\n",
              "      <td>5.836786</td>\n",
              "      <td>99.0</td>\n",
              "      <td>NaN</td>\n",
              "      <td>NaN</td>\n",
              "    </tr>\n",
              "  </tbody>\n",
              "</table>\n",
              "</div>\n",
              "      <button class=\"colab-df-convert\" onclick=\"convertToInteractive('df-c807d4b7-edae-408e-a225-6635804c8167')\"\n",
              "              title=\"Convert this dataframe to an interactive table.\"\n",
              "              style=\"display:none;\">\n",
              "        \n",
              "  <svg xmlns=\"http://www.w3.org/2000/svg\" height=\"24px\"viewBox=\"0 0 24 24\"\n",
              "       width=\"24px\">\n",
              "    <path d=\"M0 0h24v24H0V0z\" fill=\"none\"/>\n",
              "    <path d=\"M18.56 5.44l.94 2.06.94-2.06 2.06-.94-2.06-.94-.94-2.06-.94 2.06-2.06.94zm-11 1L8.5 8.5l.94-2.06 2.06-.94-2.06-.94L8.5 2.5l-.94 2.06-2.06.94zm10 10l.94 2.06.94-2.06 2.06-.94-2.06-.94-.94-2.06-.94 2.06-2.06.94z\"/><path d=\"M17.41 7.96l-1.37-1.37c-.4-.4-.92-.59-1.43-.59-.52 0-1.04.2-1.43.59L10.3 9.45l-7.72 7.72c-.78.78-.78 2.05 0 2.83L4 21.41c.39.39.9.59 1.41.59.51 0 1.02-.2 1.41-.59l7.78-7.78 2.81-2.81c.8-.78.8-2.07 0-2.86zM5.41 20L4 18.59l7.72-7.72 1.47 1.35L5.41 20z\"/>\n",
              "  </svg>\n",
              "      </button>\n",
              "      \n",
              "  <style>\n",
              "    .colab-df-container {\n",
              "      display:flex;\n",
              "      flex-wrap:wrap;\n",
              "      gap: 12px;\n",
              "    }\n",
              "\n",
              "    .colab-df-convert {\n",
              "      background-color: #E8F0FE;\n",
              "      border: none;\n",
              "      border-radius: 50%;\n",
              "      cursor: pointer;\n",
              "      display: none;\n",
              "      fill: #1967D2;\n",
              "      height: 32px;\n",
              "      padding: 0 0 0 0;\n",
              "      width: 32px;\n",
              "    }\n",
              "\n",
              "    .colab-df-convert:hover {\n",
              "      background-color: #E2EBFA;\n",
              "      box-shadow: 0px 1px 2px rgba(60, 64, 67, 0.3), 0px 1px 3px 1px rgba(60, 64, 67, 0.15);\n",
              "      fill: #174EA6;\n",
              "    }\n",
              "\n",
              "    [theme=dark] .colab-df-convert {\n",
              "      background-color: #3B4455;\n",
              "      fill: #D2E3FC;\n",
              "    }\n",
              "\n",
              "    [theme=dark] .colab-df-convert:hover {\n",
              "      background-color: #434B5C;\n",
              "      box-shadow: 0px 1px 3px 1px rgba(0, 0, 0, 0.15);\n",
              "      filter: drop-shadow(0px 1px 2px rgba(0, 0, 0, 0.3));\n",
              "      fill: #FFFFFF;\n",
              "    }\n",
              "  </style>\n",
              "\n",
              "      <script>\n",
              "        const buttonEl =\n",
              "          document.querySelector('#df-c807d4b7-edae-408e-a225-6635804c8167 button.colab-df-convert');\n",
              "        buttonEl.style.display =\n",
              "          google.colab.kernel.accessAllowed ? 'block' : 'none';\n",
              "\n",
              "        async function convertToInteractive(key) {\n",
              "          const element = document.querySelector('#df-c807d4b7-edae-408e-a225-6635804c8167');\n",
              "          const dataTable =\n",
              "            await google.colab.kernel.invokeFunction('convertToInteractive',\n",
              "                                                     [key], {});\n",
              "          if (!dataTable) return;\n",
              "\n",
              "          const docLinkHtml = 'Like what you see? Visit the ' +\n",
              "            '<a target=\"_blank\" href=https://colab.research.google.com/notebooks/data_table.ipynb>data table notebook</a>'\n",
              "            + ' to learn more about interactive tables.';\n",
              "          element.innerHTML = '';\n",
              "          dataTable['output_type'] = 'display_data';\n",
              "          await google.colab.output.renderOutput(dataTable, element);\n",
              "          const docLink = document.createElement('div');\n",
              "          docLink.innerHTML = docLinkHtml;\n",
              "          element.appendChild(docLink);\n",
              "        }\n",
              "      </script>\n",
              "    </div>\n",
              "  </div>\n",
              "  "
            ],
            "text/plain": [
              "              sum_sq    df           F        PR(>F)\n",
              "Logive      3.764760   1.0   63.855565  2.509619e-12\n",
              "Rnez        0.060988   1.0    1.034434  3.115987e-01\n",
              "Lfente      0.020915   1.0    0.354749  5.527961e-01\n",
              "Pfente      0.009864   1.0    0.167303  6.834035e-01\n",
              "Dengin      0.485694   1.0    8.238044  5.016189e-03\n",
              "LBB        51.942016   1.0  881.008801  4.402781e-51\n",
              "Pos         0.669155   1.0   11.349801  1.076363e-03\n",
              "Fleche_BA   6.925141   1.0  117.460019  1.640449e-18\n",
              "Fleche_BF   0.772318   1.0   13.099585  4.674633e-04\n",
              "Corde      10.236574   1.0  173.626527  1.666877e-23\n",
              "H          28.388367   1.0  481.506172  8.284227e-40\n",
              "Residual    5.836786  99.0         NaN           NaN"
            ]
          },
          "metadata": {},
          "execution_count": 9
        }
      ],
      "source": [
        "aov_table = sm.stats.anova_lm(results, typ=2)\n",
        "aov_table"
      ]
    },
    {
      "cell_type": "markdown",
      "metadata": {
        "id": "VlRXSSx47UU7"
      },
      "source": [
        "## Métamodèles"
      ]
    },
    {
      "cell_type": "markdown",
      "metadata": {
        "id": "UP7KSeIm7UU7"
      },
      "source": [
        "**Modèle de type régression linéaire**"
      ]
    },
    {
      "cell_type": "markdown",
      "metadata": {
        "id": "o51K5iFF7UU8"
      },
      "source": [
        "On sépare input et sortie y"
      ]
    },
    {
      "cell_type": "code",
      "execution_count": 10,
      "metadata": {
        "id": "49uT4znD7UU8"
      },
      "outputs": [],
      "source": [
        "y_tot= xy_tot.pop('y')"
      ]
    },
    {
      "cell_type": "code",
      "execution_count": 11,
      "metadata": {
        "id": "qGufh7dI7UU8",
        "outputId": "35bc2bbc-205e-4d02-fb15-c9688032756a",
        "colab": {
          "base_uri": "https://localhost:8080/"
        }
      },
      "outputs": [
        {
          "output_type": "execute_result",
          "data": {
            "text/plain": [
              "(111,)"
            ]
          },
          "metadata": {},
          "execution_count": 11
        }
      ],
      "source": [
        "y_tot.shape"
      ]
    },
    {
      "cell_type": "code",
      "execution_count": 12,
      "metadata": {
        "id": "v97UXH7F7UU9",
        "outputId": "5f9e7427-db4f-452b-bf40-e5827612f5b7",
        "colab": {
          "base_uri": "https://localhost:8080/"
        }
      },
      "outputs": [
        {
          "output_type": "execute_result",
          "data": {
            "text/plain": [
              "(111, 11)"
            ]
          },
          "metadata": {},
          "execution_count": 12
        }
      ],
      "source": [
        "xy_tot.shape"
      ]
    },
    {
      "cell_type": "code",
      "execution_count": 13,
      "metadata": {
        "id": "8ZHsH4De7UU-"
      },
      "outputs": [],
      "source": [
        "import sklearn.linear_model as lm\n",
        "linreg = lm.LinearRegression()"
      ]
    },
    {
      "cell_type": "code",
      "execution_count": 14,
      "metadata": {
        "id": "2MWJoTcK7UU-"
      },
      "outputs": [],
      "source": [
        "lr=linreg.fit(xy_tot, y_tot)"
      ]
    },
    {
      "cell_type": "code",
      "execution_count": 15,
      "metadata": {
        "id": "eIF4Dr-R7UU-",
        "outputId": "000ac021-b302-4240-9af3-a7b06b556d5b",
        "colab": {
          "base_uri": "https://localhost:8080/"
        }
      },
      "outputs": [
        {
          "output_type": "execute_result",
          "data": {
            "text/plain": [
              "array([ 0.63524533,  0.0801131 ,  0.0473146 , -0.03260559, -0.22678993,\n",
              "        2.36752092, -0.26686172, -0.8631107 ,  0.28595473,  1.0495401 ,\n",
              "        1.7477699 ])"
            ]
          },
          "metadata": {},
          "execution_count": 15
        }
      ],
      "source": [
        "lr.coef_"
      ]
    },
    {
      "cell_type": "code",
      "execution_count": 16,
      "metadata": {
        "id": "0A2A_F8q7UU_",
        "outputId": "68187e62-1b78-4f8a-b79a-5e5c9cc79247",
        "colab": {
          "base_uri": "https://localhost:8080/"
        }
      },
      "outputs": [
        {
          "output_type": "execute_result",
          "data": {
            "text/plain": [
              "0.9469383113421452"
            ]
          },
          "metadata": {},
          "execution_count": 16
        }
      ],
      "source": [
        "linreg.score(xy_tot,y_tot)"
      ]
    },
    {
      "cell_type": "markdown",
      "metadata": {
        "id": "II15rgDB7UU_"
      },
      "source": [
        "Tracés"
      ]
    },
    {
      "cell_type": "code",
      "execution_count": 17,
      "metadata": {
        "id": "oCIkwu-r7UVA",
        "outputId": "8da7230f-a92e-4b04-bae8-f5e2a64b79f5",
        "colab": {
          "base_uri": "https://localhost:8080/"
        }
      },
      "outputs": [
        {
          "output_type": "stream",
          "name": "stdout",
          "text": [
            "Populating the interactive namespace from numpy and matplotlib\n"
          ]
        }
      ],
      "source": [
        "%pylab inline"
      ]
    },
    {
      "cell_type": "code",
      "execution_count": 18,
      "metadata": {
        "id": "GJxE1kdE7UVA",
        "outputId": "a497c1e4-5a75-4a39-f47d-5cf1f4714545",
        "colab": {
          "base_uri": "https://localhost:8080/",
          "height": 283
        }
      },
      "outputs": [
        {
          "output_type": "execute_result",
          "data": {
            "text/plain": [
              "[<matplotlib.lines.Line2D at 0x7fbfa2e63310>]"
            ]
          },
          "metadata": {},
          "execution_count": 18
        },
        {
          "output_type": "display_data",
          "data": {
            "image/png": "[encoded data removed]",
            "text/plain": [
              "<Figure size 432x288 with 1 Axes>"
            ]
          },
          "metadata": {
            "needs_background": "light"
          }
        }
      ],
      "source": [
        "plt.plot(y_tot,lr.predict(xy_tot),'o')"
      ]
    },
    {
      "cell_type": "markdown",
      "metadata": {
        "id": "vqzFhlIG7UVA"
      },
      "source": [
        "**Modèle de type MLP SKLEARN**"
      ]
    },
    {
      "cell_type": "markdown",
      "metadata": {
        "id": "BOZTb8zh7UVB"
      },
      "source": [
        "On sépare les données entre apprentissage et test (20%)"
      ]
    },
    {
      "cell_type": "code",
      "execution_count": 20,
      "metadata": {
        "id": "lNXtccre7UVB"
      },
      "outputs": [],
      "source": [
        "from sklearn.model_selection import train_test_split\n"
      ]
    },
    {
      "cell_type": "code",
      "execution_count": 21,
      "metadata": {
        "id": "PYFxoVRx7UVD"
      },
      "outputs": [],
      "source": [
        "x_train, x_test, y_train, y_test = train_test_split(xy_tot, y_tot, test_size=0.1)"
      ]
    },
    {
      "cell_type": "code",
      "execution_count": 22,
      "metadata": {
        "id": "BsD_x2nx7UVE"
      },
      "outputs": [],
      "source": [
        "from sklearn.neural_network import MLPRegressor"
      ]
    },
    {
      "cell_type": "code",
      "execution_count": 23,
      "metadata": {
        "id": "d59MDCbi7UVF"
      },
      "outputs": [],
      "source": [
        "nnet=MLPRegressor(hidden_layer_sizes=(10,),max_iter=10000,activation='tanh',alpha=0.05,solver='lbfgs')"
      ]
    },
    {
      "cell_type": "code",
      "execution_count": 24,
      "metadata": {
        "id": "wybYE_097UVF",
        "outputId": "58fec824-57b6-41b6-a04e-cee67b5d90b2",
        "colab": {
          "base_uri": "https://localhost:8080/"
        }
      },
      "outputs": [
        {
          "output_type": "execute_result",
          "data": {
            "text/plain": [
              "MLPRegressor(activation='tanh', alpha=0.05, hidden_layer_sizes=(10,),\n",
              "             max_iter=10000, solver='lbfgs')"
            ]
          },
          "metadata": {},
          "execution_count": 24
        }
      ],
      "source": [
        "nnet.fit(x_train,y_train)"
      ]
    },
    {
      "cell_type": "code",
      "execution_count": 25,
      "metadata": {
        "id": "uYM0qpIo7UVG"
      },
      "outputs": [],
      "source": [
        "y_pred=nnet.predict(x_test)"
      ]
    },
    {
      "cell_type": "code",
      "execution_count": 26,
      "metadata": {
        "id": "q1RiHUkc7UVG",
        "outputId": "00af1d78-5090-49fe-ddcd-0a986039f879",
        "colab": {
          "base_uri": "https://localhost:8080/"
        }
      },
      "outputs": [
        {
          "output_type": "stream",
          "name": "stdout",
          "text": [
            "Populating the interactive namespace from numpy and matplotlib\n"
          ]
        }
      ],
      "source": [
        "%pylab inline"
      ]
    },
    {
      "cell_type": "code",
      "execution_count": 27,
      "metadata": {
        "id": "EKm_fqtc7UVG",
        "outputId": "c1c12d75-aba7-4666-978f-77a55d3782b1",
        "colab": {
          "base_uri": "https://localhost:8080/",
          "height": 283
        }
      },
      "outputs": [
        {
          "output_type": "execute_result",
          "data": {
            "text/plain": [
              "[<matplotlib.lines.Line2D at 0x7fbfa292d450>]"
            ]
          },
          "metadata": {},
          "execution_count": 27
        },
        {
          "output_type": "display_data",
          "data": {
            "image/png": "[encoded data removed]",
            "text/plain": [
              "<Figure size 432x288 with 1 Axes>"
            ]
          },
          "metadata": {
            "needs_background": "light"
          }
        }
      ],
      "source": [
        "plt.plot(y_test, y_pred,'o')"
      ]
    },
    {
      "cell_type": "markdown",
      "metadata": {
        "id": "QVKe7k9R7UVH"
      },
      "source": [
        "Calcul du coefficient de détermination R2"
      ]
    },
    {
      "cell_type": "code",
      "execution_count": 28,
      "metadata": {
        "id": "9EE75hkB7UVH"
      },
      "outputs": [],
      "source": [
        "from sklearn.metrics import r2_score"
      ]
    },
    {
      "cell_type": "code",
      "execution_count": 29,
      "metadata": {
        "id": "rAz5VqVF7UVH",
        "outputId": "60af857c-2082-4261-b555-f6d2aabb3435",
        "colab": {
          "base_uri": "https://localhost:8080/"
        }
      },
      "outputs": [
        {
          "output_type": "execute_result",
          "data": {
            "text/plain": [
              "0.966907298720788"
            ]
          },
          "metadata": {},
          "execution_count": 29
        }
      ],
      "source": [
        "r2_score(y_test,y_pred)"
      ]
    },
    {
      "cell_type": "markdown",
      "metadata": {
        "id": "HTsgau3b7UVJ"
      },
      "source": [
        "**Exercice 2** : Tester d'autres métamodèles"
      ]
    },
    {
      "cell_type": "code",
      "execution_count": null,
      "metadata": {
        "id": "vnWyOx0m7UVJ"
      },
      "outputs": [],
      "source": [
        ""
      ]
    },
    {
      "cell_type": "markdown",
      "metadata": {
        "id": "siHnQBSt7UVJ"
      },
      "source": [
        "## Analyse de sensibilité"
      ]
    },
    {
      "cell_type": "markdown",
      "metadata": {
        "id": "ZBB5uisq7UVK"
      },
      "source": [
        "Nous allons utiliser OpenTURNS et les 3 composantes de l'ACP"
      ]
    },
    {
      "cell_type": "code",
      "execution_count": 32,
      "metadata": {
        "id": "eBULY0HT7UVK"
      },
      "outputs": [],
      "source": [
        "import openturns as ot"
      ]
    },
    {
      "cell_type": "markdown",
      "metadata": {
        "id": "HOyGOAte7UVK"
      },
      "source": [
        "Pour Colab"
      ]
    },
    {
      "cell_type": "code",
      "execution_count": 31,
      "metadata": {
        "id": "AYofobkX7UVL",
        "outputId": "7e1c49d3-2d85-4b9d-bb67-2b6ad260deed",
        "colab": {
          "base_uri": "https://localhost:8080/"
        }
      },
      "outputs": [
        {
          "output_type": "stream",
          "name": "stdout",
          "text": [
            "Collecting openturns\n",
            "  Downloading openturns-1.18-cp37-cp37m-manylinux1_x86_64.manylinux_2_5_x86_64.whl (45.5 MB)\n",
            "\u001b[K     |████████████████████████████████| 45.5 MB 1.2 MB/s \n",
            "\u001b[?25hRequirement already satisfied: psutil in /usr/local/lib/python3.7/dist-packages (from openturns) (5.4.8)\n",
            "Requirement already satisfied: dill in /usr/local/lib/python3.7/dist-packages (from openturns) (0.3.4)\n",
            "Installing collected packages: openturns\n",
            "Successfully installed openturns-1.18\n"
          ]
        }
      ],
      "source": [
        "!pip install openturns"
      ]
    },
    {
      "cell_type": "code",
      "execution_count": 33,
      "metadata": {
        "id": "i-zGXRI57UVM"
      },
      "outputs": [],
      "source": [
        "#To read files from google colab\n",
        "url_name='https://raw.githubusercontent.com/dbetteb/early-ML/master/08_CAS_TEST_SER/data_scaled2.csv'\n",
        "xy_tot = pd.read_csv(url_name, header=0,sep=';')"
      ]
    },
    {
      "cell_type": "code",
      "execution_count": null,
      "metadata": {
        "id": "QjyQXhFH7UVN"
      },
      "outputs": [],
      "source": [
        "#from local file\n",
        "file_name=\"data_scaled2.csv\"\n",
        "xy_tot=pd.read_csv(file_name,header=0,sep=';')\n",
        "xy_tot.describe()"
      ]
    },
    {
      "cell_type": "markdown",
      "metadata": {
        "id": "XGUrqRbt7UVO"
      },
      "source": [
        "On extrait les 3 sorties, à savoir les valeurs sur les 3 premières composantes de l'ACP"
      ]
    },
    {
      "cell_type": "code",
      "execution_count": 34,
      "metadata": {
        "id": "Ij0f3R9C7UVO",
        "outputId": "5934a74e-9f46-4916-f49f-267c2e1279e8",
        "colab": {
          "base_uri": "https://localhost:8080/",
          "height": 424
        }
      },
      "outputs": [
        {
          "output_type": "execute_result",
          "data": {
            "text/html": [
              "\n",
              "  <div id=\"df-cdeb26bf-c50b-49d7-8d03-dd810fc9d69d\">\n",
              "    <div class=\"colab-df-container\">\n",
              "      <div>\n",
              "<style scoped>\n",
              "    .dataframe tbody tr th:only-of-type {\n",
              "        vertical-align: middle;\n",
              "    }\n",
              "\n",
              "    .dataframe tbody tr th {\n",
              "        vertical-align: top;\n",
              "    }\n",
              "\n",
              "    .dataframe thead th {\n",
              "        text-align: right;\n",
              "    }\n",
              "</style>\n",
              "<table border=\"1\" class=\"dataframe\">\n",
              "  <thead>\n",
              "    <tr style=\"text-align: right;\">\n",
              "      <th></th>\n",
              "      <th>y1</th>\n",
              "      <th>y2</th>\n",
              "      <th>y3</th>\n",
              "    </tr>\n",
              "  </thead>\n",
              "  <tbody>\n",
              "    <tr>\n",
              "      <th>0</th>\n",
              "      <td>15.082215</td>\n",
              "      <td>-5.248569</td>\n",
              "      <td>0.048376</td>\n",
              "    </tr>\n",
              "    <tr>\n",
              "      <th>1</th>\n",
              "      <td>14.428133</td>\n",
              "      <td>17.671144</td>\n",
              "      <td>1.892574</td>\n",
              "    </tr>\n",
              "    <tr>\n",
              "      <th>2</th>\n",
              "      <td>13.639695</td>\n",
              "      <td>-23.445469</td>\n",
              "      <td>1.156799</td>\n",
              "    </tr>\n",
              "    <tr>\n",
              "      <th>3</th>\n",
              "      <td>-14.621491</td>\n",
              "      <td>0.000358</td>\n",
              "      <td>4.929759</td>\n",
              "    </tr>\n",
              "    <tr>\n",
              "      <th>4</th>\n",
              "      <td>15.061054</td>\n",
              "      <td>1.235525</td>\n",
              "      <td>4.753541</td>\n",
              "    </tr>\n",
              "    <tr>\n",
              "      <th>...</th>\n",
              "      <td>...</td>\n",
              "      <td>...</td>\n",
              "      <td>...</td>\n",
              "    </tr>\n",
              "    <tr>\n",
              "      <th>106</th>\n",
              "      <td>4.654538</td>\n",
              "      <td>7.894375</td>\n",
              "      <td>5.374924</td>\n",
              "    </tr>\n",
              "    <tr>\n",
              "      <th>107</th>\n",
              "      <td>-5.866806</td>\n",
              "      <td>-13.270626</td>\n",
              "      <td>-2.350050</td>\n",
              "    </tr>\n",
              "    <tr>\n",
              "      <th>108</th>\n",
              "      <td>-10.408305</td>\n",
              "      <td>8.893657</td>\n",
              "      <td>-2.098407</td>\n",
              "    </tr>\n",
              "    <tr>\n",
              "      <th>109</th>\n",
              "      <td>-4.366241</td>\n",
              "      <td>-12.467366</td>\n",
              "      <td>4.576693</td>\n",
              "    </tr>\n",
              "    <tr>\n",
              "      <th>110</th>\n",
              "      <td>22.165178</td>\n",
              "      <td>1.701722</td>\n",
              "      <td>-1.998712</td>\n",
              "    </tr>\n",
              "  </tbody>\n",
              "</table>\n",
              "<p>111 rows × 3 columns</p>\n",
              "</div>\n",
              "      <button class=\"colab-df-convert\" onclick=\"convertToInteractive('df-cdeb26bf-c50b-49d7-8d03-dd810fc9d69d')\"\n",
              "              title=\"Convert this dataframe to an interactive table.\"\n",
              "              style=\"display:none;\">\n",
              "        \n",
              "  <svg xmlns=\"http://www.w3.org/2000/svg\" height=\"24px\"viewBox=\"0 0 24 24\"\n",
              "       width=\"24px\">\n",
              "    <path d=\"M0 0h24v24H0V0z\" fill=\"none\"/>\n",
              "    <path d=\"M18.56 5.44l.94 2.06.94-2.06 2.06-.94-2.06-.94-.94-2.06-.94 2.06-2.06.94zm-11 1L8.5 8.5l.94-2.06 2.06-.94-2.06-.94L8.5 2.5l-.94 2.06-2.06.94zm10 10l.94 2.06.94-2.06 2.06-.94-2.06-.94-.94-2.06-.94 2.06-2.06.94z\"/><path d=\"M17.41 7.96l-1.37-1.37c-.4-.4-.92-.59-1.43-.59-.52 0-1.04.2-1.43.59L10.3 9.45l-7.72 7.72c-.78.78-.78 2.05 0 2.83L4 21.41c.39.39.9.59 1.41.59.51 0 1.02-.2 1.41-.59l7.78-7.78 2.81-2.81c.8-.78.8-2.07 0-2.86zM5.41 20L4 18.59l7.72-7.72 1.47 1.35L5.41 20z\"/>\n",
              "  </svg>\n",
              "      </button>\n",
              "      \n",
              "  <style>\n",
              "    .colab-df-container {\n",
              "      display:flex;\n",
              "      flex-wrap:wrap;\n",
              "      gap: 12px;\n",
              "    }\n",
              "\n",
              "    .colab-df-convert {\n",
              "      background-color: #E8F0FE;\n",
              "      border: none;\n",
              "      border-radius: 50%;\n",
              "      cursor: pointer;\n",
              "      display: none;\n",
              "      fill: #1967D2;\n",
              "      height: 32px;\n",
              "      padding: 0 0 0 0;\n",
              "      width: 32px;\n",
              "    }\n",
              "\n",
              "    .colab-df-convert:hover {\n",
              "      background-color: #E2EBFA;\n",
              "      box-shadow: 0px 1px 2px rgba(60, 64, 67, 0.3), 0px 1px 3px 1px rgba(60, 64, 67, 0.15);\n",
              "      fill: #174EA6;\n",
              "    }\n",
              "\n",
              "    [theme=dark] .colab-df-convert {\n",
              "      background-color: #3B4455;\n",
              "      fill: #D2E3FC;\n",
              "    }\n",
              "\n",
              "    [theme=dark] .colab-df-convert:hover {\n",
              "      background-color: #434B5C;\n",
              "      box-shadow: 0px 1px 3px 1px rgba(0, 0, 0, 0.15);\n",
              "      filter: drop-shadow(0px 1px 2px rgba(0, 0, 0, 0.3));\n",
              "      fill: #FFFFFF;\n",
              "    }\n",
              "  </style>\n",
              "\n",
              "      <script>\n",
              "        const buttonEl =\n",
              "          document.querySelector('#df-cdeb26bf-c50b-49d7-8d03-dd810fc9d69d button.colab-df-convert');\n",
              "        buttonEl.style.display =\n",
              "          google.colab.kernel.accessAllowed ? 'block' : 'none';\n",
              "\n",
              "        async function convertToInteractive(key) {\n",
              "          const element = document.querySelector('#df-cdeb26bf-c50b-49d7-8d03-dd810fc9d69d');\n",
              "          const dataTable =\n",
              "            await google.colab.kernel.invokeFunction('convertToInteractive',\n",
              "                                                     [key], {});\n",
              "          if (!dataTable) return;\n",
              "\n",
              "          const docLinkHtml = 'Like what you see? Visit the ' +\n",
              "            '<a target=\"_blank\" href=https://colab.research.google.com/notebooks/data_table.ipynb>data table notebook</a>'\n",
              "            + ' to learn more about interactive tables.';\n",
              "          element.innerHTML = '';\n",
              "          dataTable['output_type'] = 'display_data';\n",
              "          await google.colab.output.renderOutput(dataTable, element);\n",
              "          const docLink = document.createElement('div');\n",
              "          docLink.innerHTML = docLinkHtml;\n",
              "          element.appendChild(docLink);\n",
              "        }\n",
              "      </script>\n",
              "    </div>\n",
              "  </div>\n",
              "  "
            ],
            "text/plain": [
              "            y1         y2        y3\n",
              "0    15.082215  -5.248569  0.048376\n",
              "1    14.428133  17.671144  1.892574\n",
              "2    13.639695 -23.445469  1.156799\n",
              "3   -14.621491   0.000358  4.929759\n",
              "4    15.061054   1.235525  4.753541\n",
              "..         ...        ...       ...\n",
              "106   4.654538   7.894375  5.374924\n",
              "107  -5.866806 -13.270626 -2.350050\n",
              "108 -10.408305   8.893657 -2.098407\n",
              "109  -4.366241 -12.467366  4.576693\n",
              "110  22.165178   1.701722 -1.998712\n",
              "\n",
              "[111 rows x 3 columns]"
            ]
          },
          "metadata": {},
          "execution_count": 34
        }
      ],
      "source": [
        "y_tot = pd.concat([xy_tot.pop(x) for x in ['y1', 'y2','y3']], 1)\n",
        "y_tot"
      ]
    },
    {
      "cell_type": "markdown",
      "metadata": {
        "id": "0cd0RmQp7UVP"
      },
      "source": [
        "On génère des points d'échantillonnages suivant une distribution uniforme indépendante pour chaque variable - Les variables d'entrée du dataset sont normalisées entre 0 et 1"
      ]
    },
    {
      "cell_type": "code",
      "execution_count": 35,
      "metadata": {
        "id": "44mI3VUL7UVP"
      },
      "outputs": [],
      "source": [
        "distribution = ot.ComposedDistribution([ot.Uniform(0.0, 1.0)] * 11)\n",
        "dimension = distribution.getDimension()\n",
        "distribution.setDescription([\"Logive\", \"Rnez\", \"Lfente\", \"Pfente\", \"Dengin\", \"LBB\", \"Pos\",\"Fleche_BA\", \"Fleche_BF\", \"Corde\", \"H\"])"
      ]
    },
    {
      "cell_type": "code",
      "execution_count": 36,
      "metadata": {
        "id": "j7EFqC-C7UVQ",
        "outputId": "e848d1f7-9402-4e4d-cf28-9fe66e0075c7",
        "colab": {
          "base_uri": "https://localhost:8080/"
        }
      },
      "outputs": [
        {
          "output_type": "execute_result",
          "data": {
            "text/plain": [
              "130000"
            ]
          },
          "metadata": {},
          "execution_count": 36
        }
      ],
      "source": [
        "ot.RandomGenerator.SetSeed(0)\n",
        "size = 10000\n",
        "inputDesign = ot.SobolIndicesExperiment(distribution, size, False).generate()\n",
        "inputDesign.getSize()"
      ]
    },
    {
      "cell_type": "markdown",
      "metadata": {
        "id": "soJtjU7O7UVQ"
      },
      "source": [
        "**Explication cf site OpenTURNS** : Sensitivity algorithms rely on the definition of specific designs. The method generates designs that can be used for Saltelli, Jansen, Martinez and MauntzKucherenko methods. This precomputes such input designs using distribution or experiment by generating a MC sample of twice the dimension by duplicating the distribution into a 2d distribution with repeated marginals, in order to also work with non-iid samples such as those generated by LHSExperiment or LowDiscrepancyExperiment. The sampling is done according to the given experiment, then it is split into samples A and B and the columns of these ones are mixed to define the huge sample (design). If computeSecondOrder is set to False, the result design is of size N(d+2) where d is the dimension of the distribution. If computeSecondOrder is set to True, the design size is N(2d+2).\n"
      ]
    },
    {
      "cell_type": "markdown",
      "metadata": {
        "id": "3Ixkreb-7UVS"
      },
      "source": [
        "=> Input pour pick and freeze"
      ]
    },
    {
      "cell_type": "markdown",
      "metadata": {
        "id": "FOdxYu-b7UVS"
      },
      "source": [
        "On va calculer les indices en s'appuyant sur un métamodèle pour calculer les valeurs sur les points d'échantillonnage - ici modèle linéaire **avec interactions**"
      ]
    },
    {
      "cell_type": "code",
      "execution_count": 37,
      "metadata": {
        "id": "ve5thvyc7UVS"
      },
      "outputs": [],
      "source": [
        "import sklearn.linear_model as lm\n",
        "from sklearn.pipeline import Pipeline\n",
        "from sklearn.preprocessing import PolynomialFeatures"
      ]
    },
    {
      "cell_type": "code",
      "execution_count": 38,
      "metadata": {
        "id": "vajruhOQ7UVU"
      },
      "outputs": [],
      "source": [
        "interaction = PolynomialFeatures(degree=2, include_bias=False, interaction_only=True)\n",
        "poly_inter1=Pipeline([\n",
        "             ('poly',interaction),\n",
        "             ('regressor',lm.LinearRegression())])\n",
        "\n"
      ]
    },
    {
      "cell_type": "code",
      "execution_count": 39,
      "metadata": {
        "id": "kIhsjBl8HDOF"
      },
      "outputs": [],
      "source": [
        "\n",
        "poly_inter2=Pipeline([\n",
        "             ('poly',interaction),\n",
        "             ('regressor',lm.LinearRegression())])\n",
        "\n"
      ]
    },
    {
      "cell_type": "code",
      "execution_count": 40,
      "metadata": {
        "id": "UT5tdgN1Gc1y"
      },
      "outputs": [],
      "source": [
        "poly_inter3=Pipeline([\n",
        "             ('poly',interaction),\n",
        "             ('regressor',lm.LinearRegression())])"
      ]
    },
    {
      "cell_type": "markdown",
      "metadata": {
        "id": "SjS6ICV37UVV"
      },
      "source": [
        "**On fitte un modèle linéaire avec interactions par composante**"
      ]
    },
    {
      "cell_type": "code",
      "execution_count": 41,
      "metadata": {
        "id": "cG0PY75B7UVV",
        "outputId": "f3c8891b-c0a1-43b5-dfd7-34ea2c4e8e52",
        "colab": {
          "base_uri": "https://localhost:8080/"
        }
      },
      "outputs": [
        {
          "output_type": "execute_result",
          "data": {
            "text/plain": [
              "Pipeline(steps=[('poly',\n",
              "                 PolynomialFeatures(include_bias=False, interaction_only=True)),\n",
              "                ('regressor', LinearRegression())])"
            ]
          },
          "metadata": {},
          "execution_count": 41
        }
      ],
      "source": [
        "poly_inter1.fit(xy_tot, y_tot['y1'])"
      ]
    },
    {
      "cell_type": "code",
      "execution_count": 42,
      "metadata": {
        "outputId": "dfad35c1-8bf4-40a5-8808-9008c280491b",
        "colab": {
          "base_uri": "https://localhost:8080/"
        },
        "id": "swNt9Nx0G08w"
      },
      "outputs": [
        {
          "output_type": "execute_result",
          "data": {
            "text/plain": [
              "Pipeline(steps=[('poly',\n",
              "                 PolynomialFeatures(include_bias=False, interaction_only=True)),\n",
              "                ('regressor', LinearRegression())])"
            ]
          },
          "metadata": {},
          "execution_count": 42
        }
      ],
      "source": [
        "\n",
        "poly_inter2.fit(xy_tot, y_tot['y2'])\n"
      ]
    },
    {
      "cell_type": "code",
      "execution_count": 43,
      "metadata": {
        "outputId": "955b7d28-3487-4087-cff2-78415bc1edeb",
        "colab": {
          "base_uri": "https://localhost:8080/"
        },
        "id": "xV5smi28G4a1"
      },
      "outputs": [
        {
          "output_type": "execute_result",
          "data": {
            "text/plain": [
              "Pipeline(steps=[('poly',\n",
              "                 PolynomialFeatures(include_bias=False, interaction_only=True)),\n",
              "                ('regressor', LinearRegression())])"
            ]
          },
          "metadata": {},
          "execution_count": 43
        }
      ],
      "source": [
        "\n",
        "poly_inter3.fit(xy_tot, y_tot['y3'])"
      ]
    },
    {
      "cell_type": "markdown",
      "metadata": {
        "id": "rzDO3Duy7UVW"
      },
      "source": [
        "On vérifie la qualité des métamodèles"
      ]
    },
    {
      "cell_type": "code",
      "execution_count": 44,
      "metadata": {
        "id": "SIEQZJvg7UVW",
        "outputId": "1efffe9c-71e0-4edf-d440-28beaf7eda96",
        "colab": {
          "base_uri": "https://localhost:8080/",
          "height": 357
        }
      },
      "outputs": [
        {
          "output_type": "stream",
          "name": "stdout",
          "text": [
            "Populating the interactive namespace from numpy and matplotlib\n"
          ]
        },
        {
          "output_type": "stream",
          "name": "stderr",
          "text": [
            "/usr/local/lib/python3.7/dist-packages/IPython/core/magics/pylab.py:161: UserWarning: pylab import has clobbered these variables: ['size']\n",
            "`%matplotlib` prevents importing * from pylab and numpy\n",
            "  \"\\n`%matplotlib` prevents importing * from pylab and numpy\"\n"
          ]
        },
        {
          "output_type": "execute_result",
          "data": {
            "text/plain": [
              "[<matplotlib.lines.Line2D at 0x7fbf8aa17a90>]"
            ]
          },
          "metadata": {},
          "execution_count": 44
        },
        {
          "output_type": "display_data",
          "data": {
            "image/png": "[encoded data removed]",
            "text/plain": [
              "<Figure size 432x288 with 1 Axes>"
            ]
          },
          "metadata": {
            "needs_background": "light"
          }
        }
      ],
      "source": [
        "import matplotlib.pyplot as plt\n",
        "%pylab inline\n",
        "plt.plot(y_tot['y1'],poly_inter1.predict(xy_tot),'o')"
      ]
    },
    {
      "cell_type": "code",
      "execution_count": 45,
      "metadata": {
        "id": "G800Abc_7UVX",
        "outputId": "c33c8575-68d8-417a-a1f7-53a80bb25f83",
        "colab": {
          "base_uri": "https://localhost:8080/",
          "height": 283
        }
      },
      "outputs": [
        {
          "output_type": "execute_result",
          "data": {
            "text/plain": [
              "[<matplotlib.lines.Line2D at 0x7fbf8a98ce50>]"
            ]
          },
          "metadata": {},
          "execution_count": 45
        },
        {
          "output_type": "display_data",
          "data": {
            "image/png": "[encoded data removed]",
            "text/plain": [
              "<Figure size 432x288 with 1 Axes>"
            ]
          },
          "metadata": {
            "needs_background": "light"
          }
        }
      ],
      "source": [
        "plt.plot(y_tot['y2'],poly_inter2.predict(xy_tot),'o')"
      ]
    },
    {
      "cell_type": "code",
      "execution_count": 46,
      "metadata": {
        "id": "XeEXogOl7UVX",
        "outputId": "22c6e03b-1a40-4436-ff4b-7f3ccfa18b2e",
        "colab": {
          "base_uri": "https://localhost:8080/",
          "height": 283
        }
      },
      "outputs": [
        {
          "output_type": "execute_result",
          "data": {
            "text/plain": [
              "[<matplotlib.lines.Line2D at 0x7fbf8a8f8650>]"
            ]
          },
          "metadata": {},
          "execution_count": 46
        },
        {
          "output_type": "display_data",
          "data": {
            "image/png": "[encoded data removed]",
            "text/plain": [
              "<Figure size 432x288 with 1 Axes>"
            ]
          },
          "metadata": {
            "needs_background": "light"
          }
        }
      ],
      "source": [
        "plt.plot(y_tot['y3'],poly_inter3.predict(xy_tot),'o')"
      ]
    },
    {
      "cell_type": "code",
      "execution_count": 47,
      "metadata": {
        "id": "AA52yc4o7UVY",
        "outputId": "cb3386d5-6d38-4928-d98c-05e97b351b28",
        "colab": {
          "base_uri": "https://localhost:8080/"
        }
      },
      "outputs": [
        {
          "output_type": "execute_result",
          "data": {
            "text/plain": [
              "0.9705232644020921"
            ]
          },
          "metadata": {},
          "execution_count": 47
        }
      ],
      "source": [
        "poly_inter1.score(xy_tot,y_tot['y1'])"
      ]
    },
    {
      "cell_type": "code",
      "execution_count": 48,
      "metadata": {
        "id": "he7kM-7Z7UVY",
        "outputId": "80317b31-9afe-419c-a574-11365dfbb0e8",
        "colab": {
          "base_uri": "https://localhost:8080/"
        }
      },
      "outputs": [
        {
          "output_type": "execute_result",
          "data": {
            "text/plain": [
              "0.9407882932205576"
            ]
          },
          "metadata": {},
          "execution_count": 48
        }
      ],
      "source": [
        "poly_inter2.score(xy_tot,y_tot['y2'])"
      ]
    },
    {
      "cell_type": "code",
      "execution_count": 49,
      "metadata": {
        "id": "sy7-eeQD7UVZ",
        "outputId": "1daca64c-931d-42f0-8afe-8504a2087d5d",
        "colab": {
          "base_uri": "https://localhost:8080/"
        }
      },
      "outputs": [
        {
          "output_type": "execute_result",
          "data": {
            "text/plain": [
              "0.9790872580655986"
            ]
          },
          "metadata": {},
          "execution_count": 49
        }
      ],
      "source": [
        "poly_inter3.score(xy_tot,y_tot['y3'])"
      ]
    },
    {
      "cell_type": "markdown",
      "metadata": {
        "id": "wO1koRGJ7UVa"
      },
      "source": [
        "**On calcule les valeurs prédites pour les points d'échantillonnage**"
      ]
    },
    {
      "cell_type": "code",
      "execution_count": 50,
      "metadata": {
        "id": "2I_FX5OT7UVb",
        "colab": {
          "base_uri": "https://localhost:8080/"
        },
        "outputId": "ccbfdb3a-a8f9-4463-ffed-82e109af8c7e"
      },
      "outputs": [
        {
          "output_type": "stream",
          "name": "stderr",
          "text": [
            "/usr/local/lib/python3.7/dist-packages/sklearn/base.py:451: UserWarning: X does not have valid feature names, but PolynomialFeatures was fitted with feature names\n",
            "  \"X does not have valid feature names, but\"\n",
            "/usr/local/lib/python3.7/dist-packages/sklearn/base.py:451: UserWarning: X does not have valid feature names, but PolynomialFeatures was fitted with feature names\n",
            "  \"X does not have valid feature names, but\"\n",
            "/usr/local/lib/python3.7/dist-packages/sklearn/base.py:451: UserWarning: X does not have valid feature names, but PolynomialFeatures was fitted with feature names\n",
            "  \"X does not have valid feature names, but\"\n"
          ]
        }
      ],
      "source": [
        "outputDesign=np.zeros((np.shape(inputDesign)[0],3))\n",
        "outputDesign[:,0] = poly_inter1.predict(inputDesign)\n",
        "outputDesign[:,1] = poly_inter2.predict(inputDesign)\n",
        "outputDesign[:,2] = poly_inter3.predict(inputDesign)"
      ]
    },
    {
      "cell_type": "code",
      "execution_count": 51,
      "metadata": {
        "id": "xuAP4rlm7UVb"
      },
      "outputs": [],
      "source": [
        "outputDesign1=ot.Sample(outputDesign)"
      ]
    },
    {
      "cell_type": "markdown",
      "metadata": {
        "id": "bgxATPQx7UVc"
      },
      "source": [
        "**On calcule les indices de sensibilité principaux et totaux et les IC associés avec méthode de Martinez pour la première composante**"
      ]
    },
    {
      "cell_type": "markdown",
      "source": [
        "La cellule 57 n'est utile que sous Collab, sous spyder inputDesign est bien reconnu en entrée de ot.MartinezSensitivityAlgorithm"
      ],
      "metadata": {
        "id": "xnxX8sFjJ-7y"
      }
    },
    {
      "cell_type": "code",
      "execution_count": 52,
      "metadata": {
        "id": "vrRUBw8K7UVd"
      },
      "outputs": [],
      "source": [
        "ot.RandomGenerator.SetSeed(0)\n",
        "size = 10000\n",
        "inputDesign = ot.SobolIndicesExperiment(distribution, size, False).generate()"
      ]
    },
    {
      "cell_type": "code",
      "execution_count": 53,
      "metadata": {
        "scrolled": true,
        "id": "9deSF5Xi7UVd"
      },
      "outputs": [],
      "source": [
        "sensitivityAnalysis = ot.MartinezSensitivityAlgorithm(inputDesign, outputDesign1.getMarginal([0]), size)\n",
        "first_indice = sensitivityAnalysis.getFirstOrderIndices()\n",
        "total_indice = sensitivityAnalysis.getTotalOrderIndices()\n",
        "first_indiceIC = sensitivityAnalysis.getFirstOrderIndicesInterval()\n",
        "total_indiceIC = sensitivityAnalysis.getTotalOrderIndicesInterval()\n"
      ]
    },
    {
      "cell_type": "code",
      "execution_count": 54,
      "metadata": {
        "id": "DxHbiYs97UVe",
        "outputId": "f6b8e866-8e49-4f2b-8123-ff2603292c3e",
        "colab": {
          "base_uri": "https://localhost:8080/"
        }
      },
      "outputs": [
        {
          "output_type": "stream",
          "name": "stdout",
          "text": [
            "[0.022531,-0.014248,-0.0140205,-0.0133593,-0.0112318,0.473554,-0.00514327,0.053375,-0.00422653,0.0730302,0.261011]#11\n",
            "[0.0447973,0.0156877,0.00125672,0.00597272,0.00910463,0.491434,0.0130709,0.0731795,0.0187353,0.102983,0.282423]#11\n",
            "[-0.000233452, 0.0461605]\n",
            "[-0.0367245, 0.00939048]\n",
            "[-0.0367918, 0.00911211]\n",
            "[-0.035165, 0.00948617]\n",
            "[-0.0339717, 0.0121772]\n",
            "[0.458676, 0.486185]\n",
            "[-0.0286338, 0.0180825]\n",
            "[0.0299223, 0.0753763]\n",
            "[-0.0279425, 0.0196564]\n",
            "[0.0484278, 0.0971254]\n",
            "[0.239584, 0.281736]\n",
            "[0.0128929, 0.075024]\n",
            "[-0.0159514, 0.0452715]\n",
            "[-0.0298046, 0.0304058]\n",
            "[-0.0251899, 0.0352313]\n",
            "[-0.0223945, 0.0387036]\n",
            "[0.450296, 0.53096]\n",
            "[-0.018276, 0.0426964]\n",
            "[0.0395589, 0.103404]\n",
            "[-0.0126653, 0.048192]\n",
            "[0.0692628, 0.134671]\n",
            "[0.243399, 0.31973]\n"
          ]
        }
      ],
      "source": [
        "print(first_indice)\n",
        "print(total_indice)\n",
        "print(first_indiceIC)\n",
        "print(total_indiceIC)"
      ]
    },
    {
      "cell_type": "code",
      "execution_count": 55,
      "metadata": {
        "id": "ES_du_zW7UVf",
        "outputId": "fdaec6bc-8f01-40b9-b4c4-64c93019ee20",
        "colab": {
          "base_uri": "https://localhost:8080/",
          "height": 417
        }
      },
      "outputs": [
        {
          "output_type": "execute_result",
          "data": {
            "image/png": "[encoded data removed]",
            "text/plain": [
              "class=Graph name=Sobol' indices implementation=class=GraphImplementation name=Sobol' indices title=Sobol' indices - MartinezSensitivityAlgorithm xTitle=inputs yTitle=index value axes=ON grid=ON legendposition=topright legendFontSize=1 drawables=[class=Drawable name=First order implementation=class=Cloud name=First order derived from class=DrawableImplementation name=First order legend=First order data=class=Sample name=Unnamed implementation=class=SampleImplementation name=Unnamed size=11 dimension=2 data=[[1,0.022531],[2,-0.014248],[3,-0.0140205],[4,-0.0133593],[5,-0.0112318],[6,0.473554],[7,-0.00514327],[8,0.053375],[9,-0.00422653],[10,0.0730302],[11,0.261011]] color=red fillStyle=solid lineStyle=solid pointStyle=circle lineWidth=1,class=Drawable name=Total order implementation=class=Cloud name=Total order derived from class=DrawableImplementation name=Total order legend=Total order data=class=Sample name=Unnamed implementation=class=SampleImplementation name=Unnamed size=11 dimension=2 data=[[1.275,0.0447973],[2.275,0.0156877],[3.275,0.00125672],[4.275,0.00597272],[5.275,0.00910463],[6.275,0.491434],[7.275,0.0130709],[8.275,0.0731795],[9.275,0.0187353],[10.275,0.102983],[11.275,0.282423]] color=blue fillStyle=solid lineStyle=solid pointStyle=square lineWidth=1,class=Drawable name=Unnamed implementation=class=Text name=Unnamed derived from class=DrawableImplementation name=Unnamed legend= data=class=Sample name=Unnamed implementation=class=SampleImplementation name=Unnamed size=11 dimension=2 data=[[1.55,0.0336642],[2.55,0.000719867],[3.55,-0.00638191],[4.55,-0.00369329],[5.55,-0.00106359],[6.55,0.482494],[7.55,0.00396383],[8.55,0.0632773],[9.55,0.00725437],[10.55,0.0880065],[11.55,0.271717]] color=black fillStyle=solid lineStyle=solid pointStyle=plus lineWidth=1,class=Drawable name=Unnamed implementation=class=Curve name=Unnamed derived from class=DrawableImplementation name=Unnamed legend= data=class=Sample name=Unnamed implementation=class=SampleImplementation name=Unnamed size=2 dimension=2 data=[[1,-0.000233452],[1,0.0461605]] color=red fillStyle=solid lineStyle=solid pointStyle=none lineWidth=2,class=Drawable name=Unnamed implementation=class=Curve name=Unnamed derived from class=DrawableImplementation name=Unnamed legend= data=class=Sample name=Unnamed implementation=class=SampleImplementation name=Unnamed size=2 dimension=2 data=[[1.275,0.0128929],[1.275,0.075024]] color=blue fillStyle=solid lineStyle=solid pointStyle=none lineWidth=2,class=Drawable name=Unnamed implementation=class=Curve name=Unnamed derived from class=DrawableImplementation name=Unnamed legend= data=class=Sample name=Unnamed implementation=class=SampleImplementation name=Unnamed size=2 dimension=2 data=[[2,-0.0367245],[2,0.00939048]] color=red fillStyle=solid lineStyle=solid pointStyle=none lineWidth=2,class=Drawable name=Unnamed implementation=class=Curve name=Unnamed derived from class=DrawableImplementation name=Unnamed legend= data=class=Sample name=Unnamed implementation=class=SampleImplementation name=Unnamed size=2 dimension=2 data=[[2.275,-0.0159514],[2.275,0.0452715]] color=blue fillStyle=solid lineStyle=solid pointStyle=none lineWidth=2,class=Drawable name=Unnamed implementation=class=Curve name=Unnamed derived from class=DrawableImplementation name=Unnamed legend= data=class=Sample name=Unnamed implementation=class=SampleImplementation name=Unnamed size=2 dimension=2 data=[[3,-0.0367918],[3,0.00911211]] color=red fillStyle=solid lineStyle=solid pointStyle=none lineWidth=2,class=Drawable name=Unnamed implementation=class=Curve name=Unnamed derived from class=DrawableImplementation name=Unnamed legend= data=class=Sample name=Unnamed implementation=class=SampleImplementation name=Unnamed size=2 dimension=2 data=[[3.275,-0.0298046],[3.275,0.0304058]] color=blue fillStyle=solid lineStyle=solid pointStyle=none lineWidth=2,class=Drawable name=Unnamed implementation=class=Curve name=Unnamed derived from class=DrawableImplementation name=Unnamed legend= data=class=Sample name=Unnamed implementation=class=SampleImplementation name=Unnamed size=2 dimension=2 data=[[4,-0.035165],[4,0.00948617]] color=red fillStyle=solid lineStyle=solid pointStyle=none lineWidth=2,class=Drawable name=Unnamed implementation=class=Curve name=Unnamed derived from class=DrawableImplementation name=Unnamed legend= data=class=Sample name=Unnamed implementation=class=SampleImplementation name=Unnamed size=2 dimension=2 data=[[4.275,-0.0251899],[4.275,0.0352313]] color=blue fillStyle=solid lineStyle=solid pointStyle=none lineWidth=2,class=Drawable name=Unnamed implementation=class=Curve name=Unnamed derived from class=DrawableImplementation name=Unnamed legend= data=class=Sample name=Unnamed implementation=class=SampleImplementation name=Unnamed size=2 dimension=2 data=[[5,-0.0339717],[5,0.0121772]] color=red fillStyle=solid lineStyle=solid pointStyle=none lineWidth=2,class=Drawable name=Unnamed implementation=class=Curve name=Unnamed derived from class=DrawableImplementation name=Unnamed legend= data=class=Sample name=Unnamed implementation=class=SampleImplementation name=Unnamed size=2 dimension=2 data=[[5.275,-0.0223945],[5.275,0.0387036]] color=blue fillStyle=solid lineStyle=solid pointStyle=none lineWidth=2,class=Drawable name=Unnamed implementation=class=Curve name=Unnamed derived from class=DrawableImplementation name=Unnamed legend= data=class=Sample name=Unnamed implementation=class=SampleImplementation name=Unnamed size=2 dimension=2 data=[[6,0.458676],[6,0.486185]] color=red fillStyle=solid lineStyle=solid pointStyle=none lineWidth=2,class=Drawable name=Unnamed implementation=class=Curve name=Unnamed derived from class=DrawableImplementation name=Unnamed legend= data=class=Sample name=Unnamed implementation=class=SampleImplementation name=Unnamed size=2 dimension=2 data=[[6.275,0.450296],[6.275,0.53096]] color=blue fillStyle=solid lineStyle=solid pointStyle=none lineWidth=2,class=Drawable name=Unnamed implementation=class=Curve name=Unnamed derived from class=DrawableImplementation name=Unnamed legend= data=class=Sample name=Unnamed implementation=class=SampleImplementation name=Unnamed size=2 dimension=2 data=[[7,-0.0286338],[7,0.0180825]] color=red fillStyle=solid lineStyle=solid pointStyle=none lineWidth=2,class=Drawable name=Unnamed implementation=class=Curve name=Unnamed derived from class=DrawableImplementation name=Unnamed legend= data=class=Sample name=Unnamed implementation=class=SampleImplementation name=Unnamed size=2 dimension=2 data=[[7.275,-0.018276],[7.275,0.0426964]] color=blue fillStyle=solid lineStyle=solid pointStyle=none lineWidth=2,class=Drawable name=Unnamed implementation=class=Curve name=Unnamed derived from class=DrawableImplementation name=Unnamed legend= data=class=Sample name=Unnamed implementation=class=SampleImplementation name=Unnamed size=2 dimension=2 data=[[8,0.0299223],[8,0.0753763]] color=red fillStyle=solid lineStyle=solid pointStyle=none lineWidth=2,class=Drawable name=Unnamed implementation=class=Curve name=Unnamed derived from class=DrawableImplementation name=Unnamed legend= data=class=Sample name=Unnamed implementation=class=SampleImplementation name=Unnamed size=2 dimension=2 data=[[8.275,0.0395589],[8.275,0.103404]] color=blue fillStyle=solid lineStyle=solid pointStyle=none lineWidth=2,class=Drawable name=Unnamed implementation=class=Curve name=Unnamed derived from class=DrawableImplementation name=Unnamed legend= data=class=Sample name=Unnamed implementation=class=SampleImplementation name=Unnamed size=2 dimension=2 data=[[9,-0.0279425],[9,0.0196564]] color=red fillStyle=solid lineStyle=solid pointStyle=none lineWidth=2,class=Drawable name=Unnamed implementation=class=Curve name=Unnamed derived from class=DrawableImplementation name=Unnamed legend= data=class=Sample name=Unnamed implementation=class=SampleImplementation name=Unnamed size=2 dimension=2 data=[[9.275,-0.0126653],[9.275,0.048192]] color=blue fillStyle=solid lineStyle=solid pointStyle=none lineWidth=2,class=Drawable name=Unnamed implementation=class=Curve name=Unnamed derived from class=DrawableImplementation name=Unnamed legend= data=class=Sample name=Unnamed implementation=class=SampleImplementation name=Unnamed size=2 dimension=2 data=[[10,0.0484278],[10,0.0971254]] color=red fillStyle=solid lineStyle=solid pointStyle=none lineWidth=2,class=Drawable name=Unnamed implementation=class=Curve name=Unnamed derived from class=DrawableImplementation name=Unnamed legend= data=class=Sample name=Unnamed implementation=class=SampleImplementation name=Unnamed size=2 dimension=2 data=[[10.275,0.0692628],[10.275,0.134671]] color=blue fillStyle=solid lineStyle=solid pointStyle=none lineWidth=2,class=Drawable name=Unnamed implementation=class=Curve name=Unnamed derived from class=DrawableImplementation name=Unnamed legend= data=class=Sample name=Unnamed implementation=class=SampleImplementation name=Unnamed size=2 dimension=2 data=[[11,0.239584],[11,0.281736]] color=red fillStyle=solid lineStyle=solid pointStyle=none lineWidth=2,class=Drawable name=Unnamed implementation=class=Curve name=Unnamed derived from class=DrawableImplementation name=Unnamed legend= data=class=Sample name=Unnamed implementation=class=SampleImplementation name=Unnamed size=2 dimension=2 data=[[11.275,0.243399],[11.275,0.31973]] color=blue fillStyle=solid lineStyle=solid pointStyle=none lineWidth=2]"
            ]
          },
          "metadata": {},
          "execution_count": 55
        }
      ],
      "source": [
        "sensitivityAnalysis.draw()"
      ]
    },
    {
      "cell_type": "markdown",
      "metadata": {
        "id": "cXdAXpq07UVf"
      },
      "source": [
        "Analyse par composante"
      ]
    },
    {
      "cell_type": "code",
      "execution_count": 56,
      "metadata": {
        "id": "mVo76VTT7UVf"
      },
      "outputs": [],
      "source": [
        "for j in range(1,3):\n",
        "    sensitivityAnalysisb = ot.MartinezSensitivityAlgorithm(inputDesign, outputDesign1.getMarginal([j]), size)\n",
        "    bb = sensitivityAnalysisb.getFirstOrderIndices()\n",
        "    tt = sensitivityAnalysisb.getTotalOrderIndices()\n",
        "    first_indice=np.vstack((first_indice,bb))\n",
        "    total_indice=np.vstack((total_indice,tt))\n"
      ]
    },
    {
      "cell_type": "markdown",
      "metadata": {
        "id": "2axmiL4I7UVg"
      },
      "source": [
        "Tracés"
      ]
    },
    {
      "cell_type": "code",
      "execution_count": 57,
      "metadata": {
        "id": "se0o9Jmy7UVg"
      },
      "outputs": [],
      "source": [
        "variables = [\"Logive\", \"Rnez\", \"Lfente\", \"Pfente\", \"Dengin\", \"LBB\", \"Pos\",\"Fleche_BA\", \"Fleche_BF\", \"Corde\", \"H\"]\n",
        "xxx = np.arange(len(variables))  # the label locations\n",
        "width = 0.2  # the width of the bars\n"
      ]
    },
    {
      "cell_type": "code",
      "execution_count": 58,
      "metadata": {
        "id": "1MPakx367UVh",
        "outputId": "e215603a-891b-4316-e4c1-267af3a43d23",
        "colab": {
          "base_uri": "https://localhost:8080/",
          "height": 284
        }
      },
      "outputs": [
        {
          "output_type": "execute_result",
          "data": {
            "text/plain": [
              "<matplotlib.legend.Legend at 0x7fbf8a7f0f90>"
            ]
          },
          "metadata": {},
          "execution_count": 58
        },
        {
          "output_type": "display_data",
          "data": {
            "image/png": "[encoded data removed]",
            "text/plain": [
              "<Figure size 432x288 with 1 Axes>"
            ]
          },
          "metadata": {
            "needs_background": "light"
          }
        }
      ],
      "source": [
        "fig, ax = plt.subplots()\n",
        "rects1 = ax.bar(xxx - width, first_indice[0,:], width, color='red',label='Composante1')\n",
        "rects2 = ax.bar(xxx , first_indice[1,:], width, color='blue',label='Composante2')\n",
        "rects3 = ax.bar(xxx + width, first_indice[2,:], width, color='green',label='Composante3')\n",
        "\n",
        "# Add some text for labels, title and custom x-axis tick labels, etc.\n",
        "ax.set_ylabel('Indices Principaux')\n",
        "ax.set_xticks(xxx)\n",
        "ax.set_xticklabels(variables)\n",
        "ax.legend()"
      ]
    },
    {
      "cell_type": "code",
      "execution_count": 59,
      "metadata": {
        "id": "a6IZLOFY7UVh",
        "outputId": "b135361e-4b5a-4b7e-aacb-d57cd8b16664",
        "colab": {
          "base_uri": "https://localhost:8080/",
          "height": 284
        }
      },
      "outputs": [
        {
          "output_type": "execute_result",
          "data": {
            "text/plain": [
              "<matplotlib.legend.Legend at 0x7fbf8a70c250>"
            ]
          },
          "metadata": {},
          "execution_count": 59
        },
        {
          "output_type": "display_data",
          "data": {
            "image/png": "[encoded data removed]",
            "text/plain": [
              "<Figure size 432x288 with 1 Axes>"
            ]
          },
          "metadata": {
            "needs_background": "light"
          }
        }
      ],
      "source": [
        "fig, ax = plt.subplots()\n",
        "rects1 = ax.bar(xxx - width, total_indice[0,:], width, color='red',label='Composante1')\n",
        "rects2 = ax.bar(xxx , total_indice[1,:], width, color='blue',label='Composante2')\n",
        "rects3 = ax.bar(xxx + width, total_indice[2,:], width, color='green',label='Composante3')\n",
        "\n",
        "# Add some text for labels, title and custom x-axis tick labels, etc.\n",
        "ax.set_ylabel('Indices Totaux')\n",
        "ax.set_xticks(xxx)\n",
        "ax.set_xticklabels(variables)\n",
        "ax.legend()"
      ]
    },
    {
      "cell_type": "code",
      "execution_count": null,
      "metadata": {
        "id": "F5fpGgz87UVi"
      },
      "outputs": [],
      "source": [
        ""
      ]
    },
    {
      "cell_type": "markdown",
      "metadata": {
        "id": "z7lsiE0U7UVi"
      },
      "source": [
        "**Analyse globale des 3 composantes**"
      ]
    },
    {
      "cell_type": "code",
      "execution_count": 60,
      "metadata": {
        "id": "yYTmZG717UVj"
      },
      "outputs": [],
      "source": [
        "sensitivity_algorithm = ot.MartinezSensitivityAlgorithm(inputDesign, outputDesign1, size)"
      ]
    },
    {
      "cell_type": "code",
      "execution_count": 61,
      "metadata": {
        "id": "E-DPWX_m7UVj",
        "outputId": "decc7284-b403-4f2e-cdbb-9ad2e0824e0e",
        "colab": {
          "base_uri": "https://localhost:8080/"
        }
      },
      "outputs": [
        {
          "output_type": "stream",
          "name": "stdout",
          "text": [
            "[0.0151212,-0.00854355,-0.0104087,-0.0103765,0.0269986,0.416756,-0.00412585,0.0667961,-0.0041967,0.112802,0.200923]#11\n",
            "[0.052845,0.0354414,0.0161217,0.0124949,0.0498801,0.44153,0.0121907,0.088794,0.0367803,0.138965,0.223261]#11\n"
          ]
        }
      ],
      "source": [
        "first_indiceag = sensitivity_algorithm.getAggregatedFirstOrderIndices()\n",
        "total_indiceag = sensitivity_algorithm.getAggregatedTotalOrderIndices()\n",
        "print(first_indiceag)\n",
        "print(total_indiceag)"
      ]
    },
    {
      "cell_type": "markdown",
      "metadata": {
        "id": "y9aN0dA27UVj"
      },
      "source": [
        "Calcul d'intervalles de confiance par bootstrap"
      ]
    },
    {
      "cell_type": "code",
      "execution_count": 62,
      "metadata": {
        "id": "DO6gYzDl7UVk",
        "outputId": "92e6b588-3c67-4b1c-e406-52bc8b0b6df1",
        "colab": {
          "base_uri": "https://localhost:8080/"
        }
      },
      "outputs": [
        {
          "output_type": "stream",
          "name": "stdout",
          "text": [
            "bootstrap intervals\n",
            "Aggregated first order indices interval =  [-0.0012562, 0.0343153]\n",
            "[-0.0260659, 0.0112166]\n",
            "[-0.0273675, 0.00961852]\n",
            "[-0.028188, 0.0105824]\n",
            "[0.00922727, 0.0477072]\n",
            "[0.404945, 0.432543]\n",
            "[-0.0216457, 0.0160362]\n",
            "[0.0478843, 0.0877946]\n",
            "[-0.0213294, 0.0159221]\n",
            "[0.0940227, 0.132184]\n",
            "[0.185767, 0.217862]\n",
            "Aggregated total order indices interval =  [0.0297017, 0.0734331]\n",
            "[0.0122131, 0.0561221]\n",
            "[-0.00589868, 0.0357769]\n",
            "[-0.00965522, 0.0323454]\n",
            "[0.0263733, 0.0708627]\n",
            "[0.408552, 0.470644]\n",
            "[-0.010046, 0.0320897]\n",
            "[0.0646034, 0.109828]\n",
            "[0.0136064, 0.0576918]\n",
            "[0.115469, 0.161093]\n",
            "[0.198225, 0.24455]\n"
          ]
        }
      ],
      "source": [
        "nr_bootstrap = 100\n",
        "confidence_level = 0.95\n",
        "\n",
        "sensitivity_algorithm.setBootstrapSize(nr_bootstrap)\n",
        "sensitivity_algorithm.setConfidenceLevel(confidence_level)\n",
        "sensitivity_algorithm.setUseAsymptoticDistribution(False)\n",
        "interval_fo = sensitivity_algorithm.getFirstOrderIndicesInterval()\n",
        "interval_to = sensitivity_algorithm.getTotalOrderIndicesInterval()\n",
        "print(\"bootstrap intervals\")\n",
        "print(\"Aggregated first order indices interval = \", interval_fo)\n",
        "print(\"Aggregated total order indices interval = \", interval_to)"
      ]
    },
    {
      "cell_type": "markdown",
      "metadata": {
        "id": "DwMSlwSc7UVk"
      },
      "source": [
        "Plot"
      ]
    },
    {
      "cell_type": "code",
      "execution_count": 63,
      "metadata": {
        "id": "Qaia8s3y7UVl",
        "outputId": "6c8c2713-3214-41c5-d613-5b2465b340b8",
        "colab": {
          "base_uri": "https://localhost:8080/",
          "height": 417
        }
      },
      "outputs": [
        {
          "output_type": "execute_result",
          "data": {
            "image/png": "[encoded data removed]",
            "text/plain": [
              "class=Graph name=Sobol' indices implementation=class=GraphImplementation name=Sobol' indices title=Aggregated Sobol' indices - MartinezSensitivityAlgorithm xTitle=inputs yTitle=index value axes=ON grid=ON legendposition=topright legendFontSize=1 drawables=[class=Drawable name=First order implementation=class=Cloud name=First order derived from class=DrawableImplementation name=First order legend=First order data=class=Sample name=Unnamed implementation=class=SampleImplementation name=Unnamed size=11 dimension=2 data=[[1,0.0151212],[2,-0.00854355],[3,-0.0104087],[4,-0.0103765],[5,0.0269986],[6,0.416756],[7,-0.00412585],[8,0.0667961],[9,-0.0041967],[10,0.112802],[11,0.200923]] color=red fillStyle=solid lineStyle=solid pointStyle=circle lineWidth=1,class=Drawable name=Total order implementation=class=Cloud name=Total order derived from class=DrawableImplementation name=Total order legend=Total order data=class=Sample name=Unnamed implementation=class=SampleImplementation name=Unnamed size=11 dimension=2 data=[[1.275,0.052845],[2.275,0.0354414],[3.275,0.0161217],[4.275,0.0124949],[5.275,0.0498801],[6.275,0.44153],[7.275,0.0121907],[8.275,0.088794],[9.275,0.0367803],[10.275,0.138965],[11.275,0.223261]] color=blue fillStyle=solid lineStyle=solid pointStyle=square lineWidth=1,class=Drawable name=Unnamed implementation=class=Text name=Unnamed derived from class=DrawableImplementation name=Unnamed legend= data=class=Sample name=Unnamed implementation=class=SampleImplementation name=Unnamed size=11 dimension=2 data=[[1.55,0.0339831],[2.55,0.0134489],[3.55,0.0028565],[4.55,0.00105924],[5.55,0.0384394],[6.55,0.429143],[7.55,0.00403243],[8.55,0.0777951],[9.55,0.0162918],[10.55,0.125883],[11.55,0.212092]] color=black fillStyle=solid lineStyle=solid pointStyle=plus lineWidth=1,class=Drawable name=Unnamed implementation=class=Curve name=Unnamed derived from class=DrawableImplementation name=Unnamed legend= data=class=Sample name=Unnamed implementation=class=SampleImplementation name=Unnamed size=2 dimension=2 data=[[1,-0.0012562],[1,0.0343153]] color=red fillStyle=solid lineStyle=solid pointStyle=none lineWidth=2,class=Drawable name=Unnamed implementation=class=Curve name=Unnamed derived from class=DrawableImplementation name=Unnamed legend= data=class=Sample name=Unnamed implementation=class=SampleImplementation name=Unnamed size=2 dimension=2 data=[[1.275,0.0297017],[1.275,0.0734331]] color=blue fillStyle=solid lineStyle=solid pointStyle=none lineWidth=2,class=Drawable name=Unnamed implementation=class=Curve name=Unnamed derived from class=DrawableImplementation name=Unnamed legend= data=class=Sample name=Unnamed implementation=class=SampleImplementation name=Unnamed size=2 dimension=2 data=[[2,-0.0260659],[2,0.0112166]] color=red fillStyle=solid lineStyle=solid pointStyle=none lineWidth=2,class=Drawable name=Unnamed implementation=class=Curve name=Unnamed derived from class=DrawableImplementation name=Unnamed legend= data=class=Sample name=Unnamed implementation=class=SampleImplementation name=Unnamed size=2 dimension=2 data=[[2.275,0.0122131],[2.275,0.0561221]] color=blue fillStyle=solid lineStyle=solid pointStyle=none lineWidth=2,class=Drawable name=Unnamed implementation=class=Curve name=Unnamed derived from class=DrawableImplementation name=Unnamed legend= data=class=Sample name=Unnamed implementation=class=SampleImplementation name=Unnamed size=2 dimension=2 data=[[3,-0.0273675],[3,0.00961852]] color=red fillStyle=solid lineStyle=solid pointStyle=none lineWidth=2,class=Drawable name=Unnamed implementation=class=Curve name=Unnamed derived from class=DrawableImplementation name=Unnamed legend= data=class=Sample name=Unnamed implementation=class=SampleImplementation name=Unnamed size=2 dimension=2 data=[[3.275,-0.00589868],[3.275,0.0357769]] color=blue fillStyle=solid lineStyle=solid pointStyle=none lineWidth=2,class=Drawable name=Unnamed implementation=class=Curve name=Unnamed derived from class=DrawableImplementation name=Unnamed legend= data=class=Sample name=Unnamed implementation=class=SampleImplementation name=Unnamed size=2 dimension=2 data=[[4,-0.028188],[4,0.0105824]] color=red fillStyle=solid lineStyle=solid pointStyle=none lineWidth=2,class=Drawable name=Unnamed implementation=class=Curve name=Unnamed derived from class=DrawableImplementation name=Unnamed legend= data=class=Sample name=Unnamed implementation=class=SampleImplementation name=Unnamed size=2 dimension=2 data=[[4.275,-0.00965522],[4.275,0.0323454]] color=blue fillStyle=solid lineStyle=solid pointStyle=none lineWidth=2,class=Drawable name=Unnamed implementation=class=Curve name=Unnamed derived from class=DrawableImplementation name=Unnamed legend= data=class=Sample name=Unnamed implementation=class=SampleImplementation name=Unnamed size=2 dimension=2 data=[[5,0.00922727],[5,0.0477072]] color=red fillStyle=solid lineStyle=solid pointStyle=none lineWidth=2,class=Drawable name=Unnamed implementation=class=Curve name=Unnamed derived from class=DrawableImplementation name=Unnamed legend= data=class=Sample name=Unnamed implementation=class=SampleImplementation name=Unnamed size=2 dimension=2 data=[[5.275,0.0263733],[5.275,0.0708627]] color=blue fillStyle=solid lineStyle=solid pointStyle=none lineWidth=2,class=Drawable name=Unnamed implementation=class=Curve name=Unnamed derived from class=DrawableImplementation name=Unnamed legend= data=class=Sample name=Unnamed implementation=class=SampleImplementation name=Unnamed size=2 dimension=2 data=[[6,0.404945],[6,0.432543]] color=red fillStyle=solid lineStyle=solid pointStyle=none lineWidth=2,class=Drawable name=Unnamed implementation=class=Curve name=Unnamed derived from class=DrawableImplementation name=Unnamed legend= data=class=Sample name=Unnamed implementation=class=SampleImplementation name=Unnamed size=2 dimension=2 data=[[6.275,0.408552],[6.275,0.470644]] color=blue fillStyle=solid lineStyle=solid pointStyle=none lineWidth=2,class=Drawable name=Unnamed implementation=class=Curve name=Unnamed derived from class=DrawableImplementation name=Unnamed legend= data=class=Sample name=Unnamed implementation=class=SampleImplementation name=Unnamed size=2 dimension=2 data=[[7,-0.0216457],[7,0.0160362]] color=red fillStyle=solid lineStyle=solid pointStyle=none lineWidth=2,class=Drawable name=Unnamed implementation=class=Curve name=Unnamed derived from class=DrawableImplementation name=Unnamed legend= data=class=Sample name=Unnamed implementation=class=SampleImplementation name=Unnamed size=2 dimension=2 data=[[7.275,-0.010046],[7.275,0.0320897]] color=blue fillStyle=solid lineStyle=solid pointStyle=none lineWidth=2,class=Drawable name=Unnamed implementation=class=Curve name=Unnamed derived from class=DrawableImplementation name=Unnamed legend= data=class=Sample name=Unnamed implementation=class=SampleImplementation name=Unnamed size=2 dimension=2 data=[[8,0.0478843],[8,0.0877946]] color=red fillStyle=solid lineStyle=solid pointStyle=none lineWidth=2,class=Drawable name=Unnamed implementation=class=Curve name=Unnamed derived from class=DrawableImplementation name=Unnamed legend= data=class=Sample name=Unnamed implementation=class=SampleImplementation name=Unnamed size=2 dimension=2 data=[[8.275,0.0646034],[8.275,0.109828]] color=blue fillStyle=solid lineStyle=solid pointStyle=none lineWidth=2,class=Drawable name=Unnamed implementation=class=Curve name=Unnamed derived from class=DrawableImplementation name=Unnamed legend= data=class=Sample name=Unnamed implementation=class=SampleImplementation name=Unnamed size=2 dimension=2 data=[[9,-0.0213294],[9,0.0159221]] color=red fillStyle=solid lineStyle=solid pointStyle=none lineWidth=2,class=Drawable name=Unnamed implementation=class=Curve name=Unnamed derived from class=DrawableImplementation name=Unnamed legend= data=class=Sample name=Unnamed implementation=class=SampleImplementation name=Unnamed size=2 dimension=2 data=[[9.275,0.0136064],[9.275,0.0576918]] color=blue fillStyle=solid lineStyle=solid pointStyle=none lineWidth=2,class=Drawable name=Unnamed implementation=class=Curve name=Unnamed derived from class=DrawableImplementation name=Unnamed legend= data=class=Sample name=Unnamed implementation=class=SampleImplementation name=Unnamed size=2 dimension=2 data=[[10,0.0940227],[10,0.132184]] color=red fillStyle=solid lineStyle=solid pointStyle=none lineWidth=2,class=Drawable name=Unnamed implementation=class=Curve name=Unnamed derived from class=DrawableImplementation name=Unnamed legend= data=class=Sample name=Unnamed implementation=class=SampleImplementation name=Unnamed size=2 dimension=2 data=[[10.275,0.115469],[10.275,0.161093]] color=blue fillStyle=solid lineStyle=solid pointStyle=none lineWidth=2,class=Drawable name=Unnamed implementation=class=Curve name=Unnamed derived from class=DrawableImplementation name=Unnamed legend= data=class=Sample name=Unnamed implementation=class=SampleImplementation name=Unnamed size=2 dimension=2 data=[[11,0.185767],[11,0.217862]] color=red fillStyle=solid lineStyle=solid pointStyle=none lineWidth=2,class=Drawable name=Unnamed implementation=class=Curve name=Unnamed derived from class=DrawableImplementation name=Unnamed legend= data=class=Sample name=Unnamed implementation=class=SampleImplementation name=Unnamed size=2 dimension=2 data=[[11.275,0.198225],[11.275,0.24455]] color=blue fillStyle=solid lineStyle=solid pointStyle=none lineWidth=2]"
            ]
          },
          "metadata": {},
          "execution_count": 63
        }
      ],
      "source": [
        "graph = sensitivity_algorithm.draw()\n",
        "graph"
      ]
    },
    {
      "cell_type": "code",
      "execution_count": null,
      "metadata": {
        "id": "KKUgXZ-H7UVm"
      },
      "outputs": [],
      "source": [
        ""
      ]
    }
  ],
  "metadata": {
    "kernelspec": {
      "display_name": "Python 3",
      "language": "python",
      "name": "python3"
    },
    "language_info": {
      "codemirror_mode": {
        "name": "ipython",
        "version": 3
      },
      "file_extension": ".py",
      "mimetype": "text/x-python",
      "name": "python",
      "nbconvert_exporter": "python",
      "pygments_lexer": "ipython3",
      "version": "3.7.1"
    },
    "colab": {
      "name": "Copie de ANOVA_modeles_AS.ipynb",
      "provenance": [],
      "collapsed_sections": []
    }
  },
  "nbformat": 4,
  "nbformat_minor": 0
}