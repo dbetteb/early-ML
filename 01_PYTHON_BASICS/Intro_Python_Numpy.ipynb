{
 "cells": [
  {
   "cell_type": "markdown",
   "metadata": {
    "colab_type": "text",
    "id": "ZbrynZlnIjeU"
   },
   "source": [
    "# Introduction au calcul avec Python et les packages numpy et scipy"
   ]
  },
  {
   "cell_type": "markdown",
   "metadata": {
    "colab_type": "text",
    "id": "qJjjF3gkeMBi"
   },
   "source": [
    "## Généralités sur le langage Python"
   ]
  },
  {
   "cell_type": "markdown",
   "metadata": {
    "colab_type": "text",
    "id": "cUxW54U-ePpf"
   },
   "source": [
    "### Histoire\n",
    "\n",
    "La première version officielle du langage Python est sortie en 1991. Son créateur, [Guido Von Rossum](https://fr.wikipedia.org/wiki/Guido_van_Rossum) cherchait à créer un nouveau langage orienté objet inspiré de langages comme Smalltalk.\n",
    "\n",
    "Par rapport aux autres langages, Python s'inscrit dans l'histoire du développement informatique :\n",
    "\n",
    "* Années 50 (approches expérimentales) : FORTRAN, LISP, COBOL, ALGOL…\n",
    "* Années 60 (langages universels) : PL/1, Simula, Smalltalk, Basic…\n",
    "* Années 70 (génie logiciel) : C, PASCAL, ADA, MODULA-1…\n",
    "* Années 80 (programmation objet) : C++, LabView, Eiffel, Perl, VisualBasic…\n",
    "* Années 90 (langages interprétés objet) : Java, tcl/Tk, Ruby, Python…\n",
    "* Années 2000 (langages commerciaux propriétaires) : C#, VB.NET…\n",
    "\n",
    "Ainsi Python appartient à la même \"génération\" de langage que Java et Ruby. Il s'agit d'un langage orienté objet interprété. Bien qu'orienté objet, il n'est pas nécessaire (à la différence de Java) de systématiquement programmer de manière orientée objet.\n",
    "\n"
   ]
  },
  {
   "cell_type": "markdown",
   "metadata": {
    "colab_type": "text",
    "id": "vuzqdFg-jdxD"
   },
   "source": [
    "### Interprété\n",
    "\n",
    "Interprété signifie qu'on ne compile pas les codes Python pour pouvoir les exécuter. A la différence de C, C++ ou FORTRAN, Python exécute directement les lignes de code qu'on lui fournit"
   ]
  },
  {
   "cell_type": "markdown",
   "metadata": {
    "colab_type": "text",
    "id": "n9kcTASzIjeW"
   },
   "source": [
    "## Python pour le calcul scientifique"
   ]
  },
  {
   "cell_type": "markdown",
   "metadata": {
    "colab_type": "text",
    "id": "gA9-4y4rIjeX"
   },
   "source": [
    "Le langage de programmation `Python` est généralement considéré comme un langage simple d'utilisation et d'apprentissage permettant néanmoins d'utiliser des concepts avancés de programmation (e.g la conception orienté objet). Par ailleurs, l'utilisation de certains modules orienté calcul numérique (comme `numpy`, `scipy` ou encore `statsmodels`) ont permis d'utiliser `Python` pour effectuer des manipulations et des calculs avancés sur des tableaux de nombres. Néanmoins, `python` n'est pas réellement considéré comme un langage performant en terme d'utilisation de la mémoire et de calcul, essentiellement car c'est un langage interprété. De manière similaire à Matlab ou R, `python` permet une utilisation façon calculateur avancé où il n'est pas nécessaire de typer les variables ou d'allouer la mémoire (comme on le ferait en `C` ou `C++`). Sa grande force réside dans sa facilité d'utilisation et sa grande versatilité permettant d'écrire des codes rapides dans un grand nombre de styles de programmation. "
   ]
  },
  {
   "cell_type": "markdown",
   "metadata": {
    "colab_type": "text",
    "id": "PR7NV2z7urdR"
   },
   "source": [
    "Par exemple, le code suivant va générer en une ligne les carrés des nombres entiers de `1` à `10`."
   ]
  },
  {
   "cell_type": "code",
   "execution_count": 1,
   "metadata": {
    "colab": {
     "base_uri": "https://localhost:8080/",
     "height": 34
    },
    "colab_type": "code",
    "id": "ExJTqzAFvamT",
    "outputId": "fb11a790-af82-44f7-d1ff-e568330d2ae0"
   },
   "outputs": [
    {
     "data": {
      "text/plain": [
       "[0, 1, 4, 9, 16, 25, 36, 49, 64, 81, 100]"
      ]
     },
     "execution_count": 1,
     "metadata": {},
     "output_type": "execute_result"
    }
   ],
   "source": [
    "[i**2 for i in range(11)]"
   ]
  },
  {
   "cell_type": "markdown",
   "metadata": {
    "colab_type": "text",
    "id": "x5SJ6Ua1vjBq"
   },
   "source": [
    "Le langage Python est reconnu pour sa grande expressivité, permettant souvent une lecture assez simple du code et de ses fonctions."
   ]
  },
  {
   "cell_type": "markdown",
   "metadata": {
    "colab_type": "text",
    "id": "1MUNWWvdvzev"
   },
   "source": [
    "## Environnement d'exécution"
   ]
  },
  {
   "cell_type": "markdown",
   "metadata": {
    "colab_type": "text",
    "id": "Rmt_3kjmv727"
   },
   "source": [
    "Python désigne à la fois un exécutable disponible sous la plupart des OS permettant d'interpréter un code Python enregistré dans un fichier texte et aussi un environnement d'éxécution interactif, comme R ou Matlab. "
   ]
  },
  {
   "cell_type": "markdown",
   "metadata": {
    "colab_type": "text",
    "id": "G_uaGEPGwkVL"
   },
   "source": [
    "Dans le cadre de ce notebook, on utilise la version interactive. Par exemple"
   ]
  },
  {
   "cell_type": "code",
   "execution_count": 2,
   "metadata": {
    "colab": {
     "base_uri": "https://localhost:8080/",
     "height": 34
    },
    "colab_type": "code",
    "id": "lZTCcfrzwtxa",
    "outputId": "f983d1e4-b3a1-437d-b7d2-892e38f3e968"
   },
   "outputs": [
    {
     "name": "stdout",
     "output_type": "stream",
     "text": [
      "Hello World !\n"
     ]
    }
   ],
   "source": [
    "print(\"Hello World !\")"
   ]
  },
  {
   "cell_type": "markdown",
   "metadata": {
    "colab_type": "text",
    "id": "7Pa7s5OkxPOP"
   },
   "source": [
    "Dans la version non interactive, on enregistre les commandes dans un fichier texte `test.py` (on parle de script Python) et on lance le script de la manière suivante. On commence par créer un fichier `test.py`."
   ]
  },
  {
   "cell_type": "code",
   "execution_count": 3,
   "metadata": {
    "colab": {},
    "colab_type": "code",
    "id": "H_KoMP2zyvaA"
   },
   "outputs": [
    {
     "name": "stderr",
     "output_type": "stream",
     "text": [
      "'touch' n'est pas reconnu en tant que commande interne\n",
      "ou externe, un programme ex‚cutable ou un fichier de commandes.\n"
     ]
    }
   ],
   "source": [
    "!touch test.py"
   ]
  },
  {
   "cell_type": "code",
   "execution_count": 4,
   "metadata": {
    "colab": {},
    "colab_type": "code",
    "id": "85QVOxoPy1MV"
   },
   "outputs": [],
   "source": [
    "!echo \"print(\\\"Hello World! !\\\")\" > test.py"
   ]
  },
  {
   "cell_type": "code",
   "execution_count": 5,
   "metadata": {
    "colab": {
     "base_uri": "https://localhost:8080/",
     "height": 34
    },
    "colab_type": "code",
    "id": "aR1c6s3BxSEV",
    "outputId": "7dcd5ced-d24e-4cc1-dcd4-87ffd91b7308"
   },
   "outputs": [],
   "source": [
    "!python test.py"
   ]
  },
  {
   "cell_type": "markdown",
   "metadata": {
    "colab_type": "text",
    "id": "zDVZ4O3e031Y"
   },
   "source": [
    "*Note*: Dans Google Colab, on peut éditer et modifier des fichiers textes. Si par exemple, on veut modifier le fichier `test.py`, on le trouvera dans l'arborescence de fichier (coté gauche) dans le répertoire `content` et double-cliquer sur `test.py`; ce qui ouvre un éditeur de texte."
   ]
  },
  {
   "cell_type": "markdown",
   "metadata": {
    "colab_type": "text",
    "id": "5PUIk6Gw38_h"
   },
   "source": [
    "On peut utiliser l'interpréteur Python comme un calculateur"
   ]
  },
  {
   "cell_type": "code",
   "execution_count": 6,
   "metadata": {
    "colab": {
     "base_uri": "https://localhost:8080/",
     "height": 34
    },
    "colab_type": "code",
    "id": "hNhvjnqy4B7d",
    "outputId": "ab6baa32-22f9-48e7-c438-c2895db3d23b"
   },
   "outputs": [
    {
     "data": {
      "text/plain": [
       "28.361702127659576"
      ]
     },
     "execution_count": 6,
     "metadata": {},
     "output_type": "execute_result"
    }
   ],
   "source": [
    "5**2+(158/47)"
   ]
  },
  {
   "cell_type": "markdown",
   "metadata": {
    "colab_type": "text",
    "id": "5p4MJky94RDE"
   },
   "source": [
    "La déclaration de variables se fait de la manière suivante (sans avoir à typer)"
   ]
  },
  {
   "cell_type": "code",
   "execution_count": 7,
   "metadata": {
    "colab": {
     "base_uri": "https://localhost:8080/",
     "height": 34
    },
    "colab_type": "code",
    "id": "DkarmVn_4WlZ",
    "outputId": "eeb88d41-ff34-4daf-c442-202f46bc4760"
   },
   "outputs": [
    {
     "name": "stdout",
     "output_type": "stream",
     "text": [
      "25\n"
     ]
    }
   ],
   "source": [
    "a = 5\n",
    "b = a**2\n",
    "print(b)"
   ]
  },
  {
   "cell_type": "markdown",
   "metadata": {
    "colab_type": "text",
    "id": "lwV5SKvshfEa"
   },
   "source": [
    "## Premier exemple : tracé d'une courbe"
   ]
  },
  {
   "cell_type": "markdown",
   "metadata": {
    "colab_type": "text",
    "id": "hFSezYDvhhNo"
   },
   "source": [
    "On va calculer et tracer une fonction linéaire de la forme \n",
    "\n",
    "$$ y = ax+b$$\n",
    "\n",
    "Par exemple, on va prendre $a=1.5$ et $b=-2$ et on va calculer et tracer la fonction sur l'intervalle $[-1,1]$."
   ]
  },
  {
   "cell_type": "markdown",
   "metadata": {
    "colab_type": "text",
    "id": "JJsah3zDh8Ad"
   },
   "source": [
    "On commence par importer le modèle `numpy` qui va permettre de créer et de manipuler facilement des tableaux de nombres multidimensionnels."
   ]
  },
  {
   "cell_type": "code",
   "execution_count": 8,
   "metadata": {
    "colab": {},
    "colab_type": "code",
    "id": "ZPMb2j_iiDzZ"
   },
   "outputs": [],
   "source": [
    "import numpy as np"
   ]
  },
  {
   "cell_type": "markdown",
   "metadata": {
    "colab_type": "text",
    "id": "rDgB2aoXiIah"
   },
   "source": [
    "On crée ensuite un vecteur (un tableau) de nombre représentant $x$"
   ]
  },
  {
   "cell_type": "code",
   "execution_count": 9,
   "metadata": {
    "colab": {},
    "colab_type": "code",
    "id": "gwjQPL_EiMda"
   },
   "outputs": [],
   "source": [
    "x = np.array([-1,-0.9,-0.8,-0.7,-0.6,-0.5,-0.4,-0.3,-0.2,-0.1,0.0,0.1,0.2,0.3,0.4,0.5,0.6,0.7,0.8,0.9,1.])"
   ]
  },
  {
   "cell_type": "markdown",
   "metadata": {
    "colab_type": "text",
    "id": "13jynHGVi02f"
   },
   "source": [
    "On verra dans le deuxième exemple qu'il existe des fonctions pour générer automatiquement ce genre de tableau"
   ]
  },
  {
   "cell_type": "markdown",
   "metadata": {
    "colab_type": "text",
    "id": "BAwlU16Li64y"
   },
   "source": [
    "On calcule ensuite la fonction"
   ]
  },
  {
   "cell_type": "code",
   "execution_count": 10,
   "metadata": {
    "colab": {},
    "colab_type": "code",
    "id": "HH8p-DR8i9YS"
   },
   "outputs": [],
   "source": [
    "a = 1.5\n",
    "b = -2.\n",
    "\n",
    "y = a*x+b"
   ]
  },
  {
   "cell_type": "markdown",
   "metadata": {
    "colab_type": "text",
    "id": "vBJdxvMZjFTx"
   },
   "source": [
    "On vérifie que y a bien la forme attendue (même taille que x)"
   ]
  },
  {
   "cell_type": "code",
   "execution_count": 11,
   "metadata": {
    "colab": {
     "base_uri": "https://localhost:8080/",
     "height": 68
    },
    "colab_type": "code",
    "id": "34q_xRw_jJ_c",
    "outputId": "e528a380-21a7-4bea-85a4-c04dcb33c037"
   },
   "outputs": [
    {
     "data": {
      "text/plain": [
       "array([-3.5 , -3.35, -3.2 , -3.05, -2.9 , -2.75, -2.6 , -2.45, -2.3 ,\n",
       "       -2.15, -2.  , -1.85, -1.7 , -1.55, -1.4 , -1.25, -1.1 , -0.95,\n",
       "       -0.8 , -0.65, -0.5 ])"
      ]
     },
     "execution_count": 11,
     "metadata": {},
     "output_type": "execute_result"
    }
   ],
   "source": [
    "y"
   ]
  },
  {
   "cell_type": "markdown",
   "metadata": {
    "colab_type": "text",
    "id": "1C-n2j0pjRGc"
   },
   "source": [
    "On trace ensuite la fonction de la manière suivante "
   ]
  },
  {
   "cell_type": "code",
   "execution_count": 12,
   "metadata": {
    "colab": {
     "base_uri": "https://localhost:8080/",
     "height": 299
    },
    "colab_type": "code",
    "id": "rG6P9x1MjUVi",
    "outputId": "98664f7a-f57c-442c-847f-e91e9c131e54"
   },
   "outputs": [
    {
     "name": "stdout",
     "output_type": "stream",
     "text": [
      "Populating the interactive namespace from numpy and matplotlib\n"
     ]
    },
    {
     "data": {
      "text/plain": [
       "[<matplotlib.lines.Line2D at 0x17bf2dd1b50>]"
      ]
     },
     "execution_count": 12,
     "metadata": {},
     "output_type": "execute_result"
    },
    {
     "data": {
      "image/png": "[encoded data removed]",
      "text/plain": [
       "<Figure size 432x288 with 1 Axes>"
      ]
     },
     "metadata": {
      "needs_background": "light"
     },
     "output_type": "display_data"
    }
   ],
   "source": [
    "%pylab inline\n",
    "plt.plot(x, y)"
   ]
  },
  {
   "cell_type": "markdown",
   "metadata": {
    "colab_type": "text",
    "id": "rlv4J5IlpISx"
   },
   "source": [
    "## Exercice 1"
   ]
  },
  {
   "cell_type": "markdown",
   "metadata": {
    "colab_type": "text",
    "id": "FLH8tgwWpLyT"
   },
   "source": [
    "\n",
    "\n",
    "1.   Tracer la fonction $x \\rightarrow x^2$ sur l'intervalle $[0,2]$ en reprenant le code précédent\n",
    "2.   Tracer les fonctions $x \\rightarrow 2x+2$ et $x \\rightarrow -5x+1$ sur le même graphe (NB: pour superposer des plots sur un même graphique, il suffit d'enchaîner les `plt.plot`)\n",
    "\n"
   ]
  },
  {
   "cell_type": "markdown",
   "metadata": {
    "colab_type": "text",
    "id": "Dvw71jhzqoKV"
   },
   "source": [
    "## Types et variables en Python\n",
    "\n",
    "### Les différents types\n",
    "\n",
    "On va trouver en Python, les types classiques de variables sans qu'il soit nécessaire de les définir\n"
   ]
  },
  {
   "cell_type": "markdown",
   "metadata": {
    "colab_type": "text",
    "id": "PewcVMavrEzZ"
   },
   "source": [
    "#### Entier et flottant"
   ]
  },
  {
   "cell_type": "code",
   "execution_count": 13,
   "metadata": {
    "colab": {
     "base_uri": "https://localhost:8080/",
     "height": 34
    },
    "colab_type": "code",
    "id": "v-4iG-83rGxV",
    "outputId": "f57569a8-3a4b-47b9-f9c4-814ff5af29ee"
   },
   "outputs": [
    {
     "data": {
      "text/plain": [
       "int"
      ]
     },
     "execution_count": 13,
     "metadata": {},
     "output_type": "execute_result"
    }
   ],
   "source": [
    "a = 1\n",
    "type(a)"
   ]
  },
  {
   "cell_type": "code",
   "execution_count": 14,
   "metadata": {
    "colab": {
     "base_uri": "https://localhost:8080/",
     "height": 34
    },
    "colab_type": "code",
    "id": "6iSs1D5mrK9-",
    "outputId": "b351270c-3bfd-4dd3-8be8-ba8aa7586e01"
   },
   "outputs": [
    {
     "data": {
      "text/plain": [
       "float"
      ]
     },
     "execution_count": 14,
     "metadata": {},
     "output_type": "execute_result"
    }
   ],
   "source": [
    "b = 1.\n",
    "type(b)"
   ]
  },
  {
   "cell_type": "code",
   "execution_count": 15,
   "metadata": {
    "colab": {
     "base_uri": "https://localhost:8080/",
     "height": 34
    },
    "colab_type": "code",
    "id": "wqoNwnIorV8w",
    "outputId": "811b8bb8-81e4-4b38-d17b-0c2f10125b5f"
   },
   "outputs": [
    {
     "data": {
      "text/plain": [
       "float"
      ]
     },
     "execution_count": 15,
     "metadata": {},
     "output_type": "execute_result"
    }
   ],
   "source": [
    "c = a + b\n",
    "type(c)"
   ]
  },
  {
   "cell_type": "markdown",
   "metadata": {
    "colab_type": "text",
    "id": "TmXOPiTLrcov"
   },
   "source": [
    "#### Chaînes de caractère\n",
    "\n",
    "On peut aussi manipuler des `strings` ou chaînes de caractères\n"
   ]
  },
  {
   "cell_type": "code",
   "execution_count": 16,
   "metadata": {
    "colab": {
     "base_uri": "https://localhost:8080/",
     "height": 34
    },
    "colab_type": "code",
    "id": "N_-DLs7urmbd",
    "outputId": "2b237a86-da16-45f1-b663-dc59e541d4ec"
   },
   "outputs": [
    {
     "data": {
      "text/plain": [
       "str"
      ]
     },
     "execution_count": 16,
     "metadata": {},
     "output_type": "execute_result"
    }
   ],
   "source": [
    "a = 't'\n",
    "type(a)"
   ]
  },
  {
   "cell_type": "markdown",
   "metadata": {
    "colab_type": "text",
    "id": "8bZk9QJarp0O"
   },
   "source": [
    "qu'on peut additionner ou multiplier "
   ]
  },
  {
   "cell_type": "code",
   "execution_count": 17,
   "metadata": {
    "colab": {
     "base_uri": "https://localhost:8080/",
     "height": 35
    },
    "colab_type": "code",
    "id": "Tvx-BnRrruN_",
    "outputId": "8d7f5f71-8fa4-4109-ab1a-d8200de92e74"
   },
   "outputs": [
    {
     "data": {
      "text/plain": [
       "'tt'"
      ]
     },
     "execution_count": 17,
     "metadata": {},
     "output_type": "execute_result"
    }
   ],
   "source": [
    "a + a"
   ]
  },
  {
   "cell_type": "code",
   "execution_count": 18,
   "metadata": {
    "colab": {
     "base_uri": "https://localhost:8080/",
     "height": 35
    },
    "colab_type": "code",
    "id": "BI8I5ZhArwH_",
    "outputId": "a2229fe8-f953-4f1f-bb78-ba9d21646321"
   },
   "outputs": [
    {
     "data": {
      "text/plain": [
       "'tttttttttt'"
      ]
     },
     "execution_count": 18,
     "metadata": {},
     "output_type": "execute_result"
    }
   ],
   "source": [
    "a*10"
   ]
  },
  {
   "cell_type": "markdown",
   "metadata": {
    "colab_type": "text",
    "id": "xY954RqXr30Y"
   },
   "source": [
    "#### Les listes\n",
    "\n",
    "La liste est un objet représentant une séquence de variable pouvant être de type différent"
   ]
  },
  {
   "cell_type": "code",
   "execution_count": 19,
   "metadata": {
    "colab": {},
    "colab_type": "code",
    "id": "tldep0Bcr_Qf"
   },
   "outputs": [],
   "source": [
    "li =[1,1,1]"
   ]
  },
  {
   "cell_type": "code",
   "execution_count": 20,
   "metadata": {
    "colab": {
     "base_uri": "https://localhost:8080/",
     "height": 34
    },
    "colab_type": "code",
    "id": "UrVH9uDbsCSJ",
    "outputId": "22ebd250-b44e-4359-f240-857009f5ff55"
   },
   "outputs": [
    {
     "data": {
      "text/plain": [
       "list"
      ]
     },
     "execution_count": 20,
     "metadata": {},
     "output_type": "execute_result"
    }
   ],
   "source": [
    "li = [1,'s']\n",
    "type(li)"
   ]
  },
  {
   "cell_type": "code",
   "execution_count": 21,
   "metadata": {
    "colab": {
     "base_uri": "https://localhost:8080/",
     "height": 34
    },
    "colab_type": "code",
    "id": "vfxBS1DmsRQu",
    "outputId": "510542fa-021e-4552-da00-f28458a297c4"
   },
   "outputs": [
    {
     "data": {
      "text/plain": [
       "[1, 's', 1.0]"
      ]
     },
     "execution_count": 21,
     "metadata": {},
     "output_type": "execute_result"
    }
   ],
   "source": [
    "li.append(1.)\n",
    "li"
   ]
  },
  {
   "cell_type": "markdown",
   "metadata": {
    "colab_type": "text",
    "id": "gwHZR9ebtAvB"
   },
   "source": [
    "#### Compréhension de listes"
   ]
  },
  {
   "cell_type": "markdown",
   "metadata": {
    "colab_type": "text",
    "id": "bS3C8i6EsodY"
   },
   "source": [
    "Python permet de combiner les listes et les boucles en utilisant la compréhension de liste "
   ]
  },
  {
   "cell_type": "code",
   "execution_count": 22,
   "metadata": {
    "colab": {
     "base_uri": "https://localhost:8080/",
     "height": 34
    },
    "colab_type": "code",
    "id": "VKq6g-V3s7dI",
    "outputId": "c770878c-1b9c-47ca-81c8-4b66299027c2"
   },
   "outputs": [
    {
     "data": {
      "text/plain": [
       "[0, 2, 4, 6, 8, 10, 12, 14, 16, 18]"
      ]
     },
     "execution_count": 22,
     "metadata": {},
     "output_type": "execute_result"
    }
   ],
   "source": [
    "[i*2 for i in range(10)]"
   ]
  },
  {
   "cell_type": "markdown",
   "metadata": {
    "colab_type": "text",
    "id": "tvyY8k5HtMfR"
   },
   "source": [
    "#### Boucles et conditionnelle\n",
    "\n",
    "En Python, la syntaxe des fonctions, conditionnel et boucle est stricte de manière à forcer l'indentation de 4 espaces.\n",
    "\n",
    "Pour la boucle `for` \n",
    "\n",
    "```python\n",
    "for i in range(10):\n",
    "    a = ...  \n",
    "```\n",
    "\n",
    "Pour les conditions `if` \n",
    "```python\n",
    "if a == True:\n",
    "     b = ...\n",
    "else:\n",
    "     b = ...  \n",
    "```\n",
    "\n",
    "Enfin pour la boucle `while` \n",
    "```python\n",
    "while a == True:\n",
    "    b = \n",
    "```"
   ]
  },
  {
   "cell_type": "code",
   "execution_count": 23,
   "metadata": {
    "colab": {
     "base_uri": "https://localhost:8080/",
     "height": 187
    },
    "colab_type": "code",
    "id": "X4-E9VPDtj3i",
    "outputId": "cb9f0506-dd7f-42d9-e7e5-3bab5982d87a"
   },
   "outputs": [
    {
     "name": "stdout",
     "output_type": "stream",
     "text": [
      "0\n",
      "1\n",
      "2\n",
      "3\n",
      "4\n",
      "5\n",
      "6\n",
      "7\n",
      "8\n",
      "9\n"
     ]
    }
   ],
   "source": [
    "for i in range(10):\n",
    "    print(i)"
   ]
  },
  {
   "cell_type": "markdown",
   "metadata": {
    "colab_type": "text",
    "id": "fUQsCJtm-USs"
   },
   "source": [
    "Enfin pour définir une fonction \n",
    "\n",
    "```python\n",
    "def MyFunc(x):\n",
    "    y = ....\n",
    "    return y\n",
    "```"
   ]
  },
  {
   "cell_type": "markdown",
   "metadata": {
    "colab_type": "text",
    "id": "KlbJkxQj-hOK"
   },
   "source": [
    "## Exercice 2\n",
    "\n",
    "\n",
    "\n",
    "1.   Ecrire une fonction Python qui renvoie le maximum entre deux nombres\n",
    "2.   Ecrire une fonction Python qui vérifie si un élément `a` est présent dans une liste `l`\n",
    "\n",
    "\n"
   ]
  },
  {
   "cell_type": "markdown",
   "metadata": {
    "colab_type": "text",
    "id": "NZsoL3ppBlwQ"
   },
   "source": [
    "## Exercice 3\n",
    "\n",
    "Créer une fonction Python qui prend en entrée une liste d'entier et réalise la moyenne en sortie\n"
   ]
  },
  {
   "cell_type": "markdown",
   "metadata": {
    "colab_type": "text",
    "id": "3MrGP8Xp2ymq"
   },
   "source": [
    "## Deuxième exemple"
   ]
  },
  {
   "cell_type": "markdown",
   "metadata": {
    "colab_type": "text",
    "id": "pLRanpYWIjeY"
   },
   "source": [
    "A titre d'exemple, considérons la fonction suivante (dite de Hankel)"
   ]
  },
  {
   "cell_type": "markdown",
   "metadata": {
    "colab_type": "text",
    "id": "yVLs8TCZIjeZ"
   },
   "source": [
    "$$H^{(1)}_v(z) = \\frac{2}{\\imath\\pi} \\exp(-\\imath \\pi v/2) K_v(z \\exp(-\\imath\\pi/2))$$"
   ]
  },
  {
   "cell_type": "markdown",
   "metadata": {
    "colab_type": "text",
    "id": "QUWhrGlyIjea"
   },
   "source": [
    "Il existe souvent une fonction `Python` simple permettant le calcul de fonctions complexes similaires"
   ]
  },
  {
   "cell_type": "code",
   "execution_count": 24,
   "metadata": {
    "colab": {},
    "colab_type": "code",
    "id": "_NCBGPhsIjeb"
   },
   "outputs": [],
   "source": [
    "from scipy.special import hankel1"
   ]
  },
  {
   "cell_type": "markdown",
   "metadata": {
    "colab_type": "text",
    "id": "32oSwWKOIjee"
   },
   "source": [
    "Nous avons trouvé la fonction, allons maintenant voir sa syntaxe"
   ]
  },
  {
   "cell_type": "code",
   "execution_count": 25,
   "metadata": {
    "colab": {},
    "colab_type": "code",
    "id": "TkCeU-TkIjee"
   },
   "outputs": [],
   "source": [
    "?hankel1"
   ]
  },
  {
   "cell_type": "markdown",
   "metadata": {
    "colab_type": "text",
    "id": "D6nxKKLnIjeg"
   },
   "source": [
    "*Note* : On peut aussi entrer `help(hankel1)` mais qui nous renseignera assez peu sur la fonction."
   ]
  },
  {
   "cell_type": "markdown",
   "metadata": {
    "colab_type": "text",
    "id": "J3GtLesGIjeh"
   },
   "source": [
    "Imaginons que nous voulons calculer $H_{\\nu}^{(1)}(z)$ avec $\\nu = 1$ et pour $z \\in [-1,1]$ "
   ]
  },
  {
   "cell_type": "markdown",
   "metadata": {
    "colab_type": "text",
    "id": "q1TtehMrIjei"
   },
   "source": [
    "On commence par créer un vecteur discrétisé de $[-1,1]$ avec le module `numpy`. Principal module pour manipuler des tableaux de nombres, la bibliothèque `numpy` permet d'effectuer des calculs efficacement en Python, plus d'infos sur [le site du module numpy](http://www.numpy.org/)."
   ]
  },
  {
   "cell_type": "code",
   "execution_count": null,
   "metadata": {
    "colab": {},
    "colab_type": "code",
    "id": "KrrYYbIeIjei"
   },
   "outputs": [],
   "source": [
    "import numpy as np"
   ]
  },
  {
   "cell_type": "markdown",
   "metadata": {
    "colab_type": "text",
    "id": "3GDZPWCUIjek"
   },
   "source": [
    "*Note* : En `python` on le découvrira au fur et à mesure tout est objet (y compris les modules). Quand on importe un module, on importe donc toutes les méthodes qu'il contient. Afin de ne pas confondre les méthodes d'un module avec un autre il est courant de donner un alias au module (on parle de `namespace` ou nom de domaine). Certains alias sont très classiques et sont souvent très court mais clair, typiquement pour `numpy`, on emploie quasiment tout le temps l'alias `np`."
   ]
  },
  {
   "cell_type": "code",
   "execution_count": null,
   "metadata": {
    "colab": {},
    "colab_type": "code",
    "id": "amdz992iIjek",
    "outputId": "c67da0e7-e4d7-4488-a197-0acad9f077a4"
   },
   "outputs": [
    {
     "name": "stdout",
     "output_type": "stream",
     "text": [
      "Help on function linspace in module numpy.core.function_base:\n",
      "\n",
      "linspace(start, stop, num=50, endpoint=True, retstep=False, dtype=None)\n",
      "    Return evenly spaced numbers over a specified interval.\n",
      "    \n",
      "    Returns `num` evenly spaced samples, calculated over the\n",
      "    interval [`start`, `stop`].\n",
      "    \n",
      "    The endpoint of the interval can optionally be excluded.\n",
      "    \n",
      "    Parameters\n",
      "    ----------\n",
      "    start : scalar\n",
      "        The starting value of the sequence.\n",
      "    stop : scalar\n",
      "        The end value of the sequence, unless `endpoint` is set to False.\n",
      "        In that case, the sequence consists of all but the last of ``num + 1``\n",
      "        evenly spaced samples, so that `stop` is excluded.  Note that the step\n",
      "        size changes when `endpoint` is False.\n",
      "    num : int, optional\n",
      "        Number of samples to generate. Default is 50. Must be non-negative.\n",
      "    endpoint : bool, optional\n",
      "        If True, `stop` is the last sample. Otherwise, it is not included.\n",
      "        Default is True.\n",
      "    retstep : bool, optional\n",
      "        If True, return (`samples`, `step`), where `step` is the spacing\n",
      "        between samples.\n",
      "    dtype : dtype, optional\n",
      "        The type of the output array.  If `dtype` is not given, infer the data\n",
      "        type from the other input arguments.\n",
      "    \n",
      "        .. versionadded:: 1.9.0\n",
      "    \n",
      "    Returns\n",
      "    -------\n",
      "    samples : ndarray\n",
      "        There are `num` equally spaced samples in the closed interval\n",
      "        ``[start, stop]`` or the half-open interval ``[start, stop)``\n",
      "        (depending on whether `endpoint` is True or False).\n",
      "    step : float, optional\n",
      "        Only returned if `retstep` is True\n",
      "    \n",
      "        Size of spacing between samples.\n",
      "    \n",
      "    \n",
      "    See Also\n",
      "    --------\n",
      "    arange : Similar to `linspace`, but uses a step size (instead of the\n",
      "             number of samples).\n",
      "    logspace : Samples uniformly distributed in log space.\n",
      "    \n",
      "    Examples\n",
      "    --------\n",
      "    >>> np.linspace(2.0, 3.0, num=5)\n",
      "    array([ 2.  ,  2.25,  2.5 ,  2.75,  3.  ])\n",
      "    >>> np.linspace(2.0, 3.0, num=5, endpoint=False)\n",
      "    array([ 2. ,  2.2,  2.4,  2.6,  2.8])\n",
      "    >>> np.linspace(2.0, 3.0, num=5, retstep=True)\n",
      "    (array([ 2.  ,  2.25,  2.5 ,  2.75,  3.  ]), 0.25)\n",
      "    \n",
      "    Graphical illustration:\n",
      "    \n",
      "    >>> import matplotlib.pyplot as plt\n",
      "    >>> N = 8\n",
      "    >>> y = np.zeros(N)\n",
      "    >>> x1 = np.linspace(0, 10, N, endpoint=True)\n",
      "    >>> x2 = np.linspace(0, 10, N, endpoint=False)\n",
      "    >>> plt.plot(x1, y, 'o')\n",
      "    [<matplotlib.lines.Line2D object at 0x...>]\n",
      "    >>> plt.plot(x2, y + 0.5, 'o')\n",
      "    [<matplotlib.lines.Line2D object at 0x...>]\n",
      "    >>> plt.ylim([-0.5, 1])\n",
      "    (-0.5, 1)\n",
      "    >>> plt.show()\n",
      "\n"
     ]
    }
   ],
   "source": [
    "help(np.linspace)"
   ]
  },
  {
   "cell_type": "code",
   "execution_count": null,
   "metadata": {
    "colab": {},
    "colab_type": "code",
    "id": "doMYemhZIjem"
   },
   "outputs": [],
   "source": [
    "z = np.linspace(-1,1,50)"
   ]
  },
  {
   "cell_type": "code",
   "execution_count": null,
   "metadata": {
    "colab": {},
    "colab_type": "code",
    "id": "uwqG7p0xIjeo",
    "outputId": "f06d0528-323e-4b14-cdcf-2998dfd55d3c"
   },
   "outputs": [
    {
     "data": {
      "text/plain": [
       "array([0.44005059 +0.78121282j, 0.42651107 +0.81746486j,\n",
       "       0.41244592 +0.85541641j, 0.39787186 +0.89536659j,\n",
       "       0.38280632 +0.93767875j, 0.36726738 +0.98279692j,\n",
       "       0.35127381 +1.03126783j, 0.33484498 +1.08377026j,\n",
       "       0.31800088 +1.14115534j, 0.30076207 +1.20450237j,\n",
       "       0.28314965 +1.27519789j, 0.26518523 +1.35505j   ,\n",
       "       0.24689094 +1.44645783j, 0.22828933 +1.55266958j,\n",
       "       0.2094034  +1.67818853j, 0.19025652 +1.82943611j,\n",
       "       0.17087246 +2.015884j  , 0.15127527 +2.25209367j,\n",
       "       0.13148934 +2.5616416j , 0.1115393  +2.98533216j,\n",
       "       0.09145    +3.60037279j, 0.07124651 +4.57244881j,\n",
       "       0.05095403 +6.33285859j, 0.0305979 +10.46452352j,\n",
       "       0.01020355+31.22364997j, 0.01020355-31.22364997j,\n",
       "       0.0305979 -10.46452352j, 0.05095403 -6.33285859j,\n",
       "       0.07124651 -4.57244881j, 0.09145    -3.60037279j,\n",
       "       0.1115393  -2.98533216j, 0.13148934 -2.5616416j ,\n",
       "       0.15127527 -2.25209367j, 0.17087246 -2.015884j  ,\n",
       "       0.19025652 -1.82943611j, 0.2094034  -1.67818853j,\n",
       "       0.22828933 -1.55266958j, 0.24689094 -1.44645783j,\n",
       "       0.26518523 -1.35505j   , 0.28314965 -1.27519789j,\n",
       "       0.30076207 -1.20450237j, 0.31800088 -1.14115534j,\n",
       "       0.33484498 -1.08377026j, 0.35127381 -1.03126783j,\n",
       "       0.36726738 -0.98279692j, 0.38280632 -0.93767875j,\n",
       "       0.39787186 -0.89536659j, 0.41244592 -0.85541641j,\n",
       "       0.42651107 -0.81746486j, 0.44005059 -0.78121282j])"
      ]
     },
     "execution_count": 6,
     "metadata": {
      "tags": []
     },
     "output_type": "execute_result"
    }
   ],
   "source": [
    "hankel1(1,z)"
   ]
  },
  {
   "cell_type": "markdown",
   "metadata": {
    "colab_type": "text",
    "id": "73LZ0f7AIjet"
   },
   "source": [
    "Comme on le voit, la fonction `hankel1` accepte des entrées vectorielles. De nombreuses fonctions des modules `numpy` ou `scipy` sont vectorisées ainsi. Le langage `Python` est donc parfaitement adapté à du calcul scientifique efficace, à l'instar du langage Matlab ou encore de Fortran90."
   ]
  },
  {
   "cell_type": "markdown",
   "metadata": {
    "colab_type": "text",
    "id": "20YjHXTVIjeu"
   },
   "source": [
    "On finit cette section par tracer la partie réelle de la fonction de Hankel"
   ]
  },
  {
   "cell_type": "code",
   "execution_count": null,
   "metadata": {
    "colab": {},
    "colab_type": "code",
    "id": "v68iz__GIjev",
    "outputId": "aa6c61db-9b9d-4cf9-fc92-c374ccc817e9"
   },
   "outputs": [
    {
     "name": "stdout",
     "output_type": "stream",
     "text": [
      "Populating the interactive namespace from numpy and matplotlib\n"
     ]
    }
   ],
   "source": [
    "%pylab inline"
   ]
  },
  {
   "cell_type": "markdown",
   "metadata": {
    "colab_type": "text",
    "id": "L0Mlz-JqIjew"
   },
   "source": [
    "*Note* : la commande précédente est propre au notebook Jupyter et à Google Colab. Elle permet en une ligne d'importer `numpy` et `matplotlib` et d'intégrer des graphiques au notebook."
   ]
  },
  {
   "cell_type": "code",
   "execution_count": null,
   "metadata": {
    "colab": {},
    "colab_type": "code",
    "id": "k1zjGaF1Ijex",
    "outputId": "63805960-5ed3-4f9b-8346-283f8943a920"
   },
   "outputs": [
    {
     "data": {
      "text/plain": [
       "[<matplotlib.lines.Line2D at 0x874b630>]"
      ]
     },
     "execution_count": 8,
     "metadata": {
      "tags": []
     },
     "output_type": "execute_result"
    },
    {
     "data": {
      "image/png": "[encoded data removed]",
      "text/plain": [
       "<Figure size 432x288 with 1 Axes>"
      ]
     },
     "metadata": {
      "needs_background": "light",
      "tags": []
     },
     "output_type": "display_data"
    }
   ],
   "source": [
    "plt.plot(z, np.real(hankel1(1,z)),linewidth=4)"
   ]
  },
  {
   "cell_type": "markdown",
   "metadata": {
    "colab_type": "text",
    "id": "EN2-BPe02n3R"
   },
   "source": [
    "## Exercice 4"
   ]
  },
  {
   "cell_type": "markdown",
   "metadata": {
    "colab_type": "text",
    "id": "--tj5kkfIjez"
   },
   "source": [
    " Tracer la partie imaginaire de $H_{2}^{(1)}$ pour $-2 \\leq z \\leq 2$ (la \n",
    "partie imaginaire se calcule avec `np.imag` )"
   ]
  },
  {
   "cell_type": "code",
   "execution_count": null,
   "metadata": {
    "colab": {},
    "colab_type": "code",
    "id": "Y3bgLTqWIjez"
   },
   "outputs": [],
   "source": []
  },
  {
   "cell_type": "markdown",
   "metadata": {
    "colab_type": "text",
    "id": "f9-10fulqS3o"
   },
   "source": [
    "## Exercice 5"
   ]
  },
  {
   "cell_type": "markdown",
   "metadata": {
    "colab_type": "text",
    "id": "REZKh8z9Ije1"
   },
   "source": [
    "Ecrire une fonction `python` qui prend en entrée $\\nu$ et renvoie le tracé de $|H_v^{(1)}(z)|$ pour $z \\in [-1,1]$\n",
    "\n",
    "*Note* : une fonction en `Python` a la syntaxe suivante\n",
    "```python\n",
    "def my_fonction(entree1, entree2,...):\n",
    "    # calcul\n",
    "    return sortie\n",
    "```    "
   ]
  },
  {
   "cell_type": "code",
   "execution_count": null,
   "metadata": {
    "colab": {},
    "colab_type": "code",
    "id": "C5hVIO5lIje1"
   },
   "outputs": [],
   "source": []
  },
  {
   "cell_type": "markdown",
   "metadata": {
    "colab_type": "text",
    "id": "M4dNUL_sqZBk"
   },
   "source": [
    "## Exercice 6"
   ]
  },
  {
   "cell_type": "markdown",
   "metadata": {
    "colab_type": "text",
    "id": "9BqG8xB4Ije5"
   },
   "source": [
    "Améliorations esthétiques de la fonction précédente, chercher dans la documentation en ligne (ou sur le Web) à\n",
    "- ajouter une légende\n",
    "- ajouter un titre\n",
    "- superposer $Re(H_v^{(1)})$ sur le graphique\n",
    "- ..."
   ]
  },
  {
   "cell_type": "markdown",
   "metadata": {
    "colab_type": "text",
    "id": "RdJntxNGIje5"
   },
   "source": [
    "## Références\n"
   ]
  },
  {
   "cell_type": "markdown",
   "metadata": {
    "colab_type": "text",
    "id": "9ilicgMg_vW1"
   },
   "source": [
    "La vidéo suivante est une introduction au langage Python"
   ]
  },
  {
   "cell_type": "code",
   "execution_count": null,
   "metadata": {
    "colab": {
     "base_uri": "https://localhost:8080/",
     "height": 321
    },
    "colab_type": "code",
    "id": "49erVyxhs2YD",
    "outputId": "c0b639a5-678f-4a50-dfdb-e384db855ddc"
   },
   "outputs": [
    {
     "data": {
      "image/jpeg": "[encoded data removed]",
      "text/html": [
       "\n",
       "        <iframe\n",
       "            width=\"400\"\n",
       "            height=\"300\"\n",
       "            src=\"https://www.youtube.com/embed/woVJ4N5nl_s\"\n",
       "            frameborder=\"0\"\n",
       "            allowfullscreen\n",
       "        ></iframe>\n",
       "        "
      ],
      "text/plain": [
       "<IPython.lib.display.YouTubeVideo at 0x7f2cc7d0b748>"
      ]
     },
     "execution_count": 36,
     "metadata": {
      "tags": []
     },
     "output_type": "execute_result"
    }
   ],
   "source": [
    "from IPython.display import YouTubeVideo\n",
    "YouTubeVideo(\"woVJ4N5nl_s\")"
   ]
  },
  {
   "cell_type": "code",
   "execution_count": null,
   "metadata": {
    "colab": {},
    "colab_type": "code",
    "id": "TkOIzd5tAWdI"
   },
   "outputs": [],
   "source": []
  }
 ],
 "metadata": {
  "colab": {
   "name": "Intro_Python_Numpy.ipynb",
   "provenance": [],
   "toc_visible": true
  },
  "kernelspec": {
   "display_name": "Python 3",
   "language": "python",
   "name": "python3"
  },
  "language_info": {
   "codemirror_mode": {
    "name": "ipython",
    "version": 3
   },
   "file_extension": ".py",
   "mimetype": "text/x-python",
   "name": "python",
   "nbconvert_exporter": "python",
   "pygments_lexer": "ipython3",
   "version": "3.8.3"
  }
 },
 "nbformat": 4,
 "nbformat_minor": 1
}
