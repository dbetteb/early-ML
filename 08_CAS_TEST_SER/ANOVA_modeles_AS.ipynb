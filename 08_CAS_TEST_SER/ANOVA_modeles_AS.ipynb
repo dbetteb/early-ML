{
 "cells": [
  {
   "cell_type": "markdown",
   "metadata": {},
   "source": [
    "# Introduction à l'ANOVA et l'Analyse de sensibilité"
   ]
  },
  {
   "cell_type": "markdown",
   "metadata": {},
   "source": [
    "## Objectif\n",
    "Ce notebook vise à illustrer la mise en oeuvre de l'ANOVA et de l'Analyse de sensibilité avec OpenTURNS."
   ]
  },
  {
   "cell_type": "markdown",
   "metadata": {},
   "source": [
    "Il présente aussi les données d'un cas test de signature EM de corps sur lequel on peut tester différents métamodèles."
   ]
  },
  {
   "cell_type": "markdown",
   "metadata": {},
   "source": [
    "## Import modules et data"
   ]
  },
  {
   "cell_type": "code",
   "execution_count": 2,
   "metadata": {},
   "outputs": [],
   "source": [
    "import pandas as pd"
   ]
  },
  {
   "cell_type": "code",
   "execution_count": 3,
   "metadata": {},
   "outputs": [],
   "source": [
    "import numpy as np"
   ]
  },
  {
   "cell_type": "markdown",
   "metadata": {},
   "source": [
    "On commence par charger les données qui sont dans un fichier .csv avec comme séparateur un ;\n",
    "Elles sont déjà normalisées"
   ]
  },
  {
   "cell_type": "markdown",
   "metadata": {},
   "source": [
    "To read files from google colab\n",
    "\n",
    "url_name='https://raw.githubusercontent.com/dbetteb/early-ML/master/08_CAS_TEST_SER/data_scaled.csv\n",
    "\n",
    "xy_tot = pd.read_csv(url_name, header=0,sep=';')"
   ]
  },
  {
   "cell_type": "code",
   "execution_count": 4,
   "metadata": {},
   "outputs": [
    {
     "data": {
      "text/html": [
       "<div>\n",
       "<style scoped>\n",
       "    .dataframe tbody tr th:only-of-type {\n",
       "        vertical-align: middle;\n",
       "    }\n",
       "\n",
       "    .dataframe tbody tr th {\n",
       "        vertical-align: top;\n",
       "    }\n",
       "\n",
       "    .dataframe thead th {\n",
       "        text-align: right;\n",
       "    }\n",
       "</style>\n",
       "<table border=\"1\" class=\"dataframe\">\n",
       "  <thead>\n",
       "    <tr style=\"text-align: right;\">\n",
       "      <th></th>\n",
       "      <th>Logive</th>\n",
       "      <th>Rnez</th>\n",
       "      <th>Lfente</th>\n",
       "      <th>Pfente</th>\n",
       "      <th>Dengin</th>\n",
       "      <th>LBB</th>\n",
       "      <th>Pos</th>\n",
       "      <th>Fleche_BA</th>\n",
       "      <th>Fleche_BF</th>\n",
       "      <th>Corde</th>\n",
       "      <th>H</th>\n",
       "      <th>y</th>\n",
       "    </tr>\n",
       "  </thead>\n",
       "  <tbody>\n",
       "    <tr>\n",
       "      <th>count</th>\n",
       "      <td>111.000000</td>\n",
       "      <td>111.000000</td>\n",
       "      <td>111.000000</td>\n",
       "      <td>111.000000</td>\n",
       "      <td>111.000000</td>\n",
       "      <td>111.000000</td>\n",
       "      <td>111.000000</td>\n",
       "      <td>111.000000</td>\n",
       "      <td>111.000000</td>\n",
       "      <td>111.000000</td>\n",
       "      <td>111.000000</td>\n",
       "      <td>1.110000e+02</td>\n",
       "    </tr>\n",
       "    <tr>\n",
       "      <th>mean</th>\n",
       "      <td>0.497335</td>\n",
       "      <td>0.499360</td>\n",
       "      <td>0.498114</td>\n",
       "      <td>0.500438</td>\n",
       "      <td>0.497902</td>\n",
       "      <td>0.502162</td>\n",
       "      <td>0.496423</td>\n",
       "      <td>0.503372</td>\n",
       "      <td>0.500216</td>\n",
       "      <td>0.500145</td>\n",
       "      <td>0.503438</td>\n",
       "      <td>2.560514e-16</td>\n",
       "    </tr>\n",
       "    <tr>\n",
       "      <th>std</th>\n",
       "      <td>0.291364</td>\n",
       "      <td>0.294132</td>\n",
       "      <td>0.291572</td>\n",
       "      <td>0.290533</td>\n",
       "      <td>0.293118</td>\n",
       "      <td>0.290416</td>\n",
       "      <td>0.292513</td>\n",
       "      <td>0.290781</td>\n",
       "      <td>0.293343</td>\n",
       "      <td>0.290855</td>\n",
       "      <td>0.290823</td>\n",
       "      <td>1.469217e+01</td>\n",
       "    </tr>\n",
       "    <tr>\n",
       "      <th>min</th>\n",
       "      <td>0.000000</td>\n",
       "      <td>0.000000</td>\n",
       "      <td>0.000000</td>\n",
       "      <td>0.000000</td>\n",
       "      <td>0.000000</td>\n",
       "      <td>0.000000</td>\n",
       "      <td>0.000000</td>\n",
       "      <td>0.000000</td>\n",
       "      <td>0.000000</td>\n",
       "      <td>0.000000</td>\n",
       "      <td>0.000000</td>\n",
       "      <td>-3.151231e+01</td>\n",
       "    </tr>\n",
       "    <tr>\n",
       "      <th>25%</th>\n",
       "      <td>0.249340</td>\n",
       "      <td>0.248046</td>\n",
       "      <td>0.251255</td>\n",
       "      <td>0.254569</td>\n",
       "      <td>0.245518</td>\n",
       "      <td>0.259067</td>\n",
       "      <td>0.244946</td>\n",
       "      <td>0.257116</td>\n",
       "      <td>0.250675</td>\n",
       "      <td>0.255086</td>\n",
       "      <td>0.258540</td>\n",
       "      <td>-1.085429e+01</td>\n",
       "    </tr>\n",
       "    <tr>\n",
       "      <th>50%</th>\n",
       "      <td>0.495338</td>\n",
       "      <td>0.501609</td>\n",
       "      <td>0.497895</td>\n",
       "      <td>0.500335</td>\n",
       "      <td>0.498257</td>\n",
       "      <td>0.501992</td>\n",
       "      <td>0.497005</td>\n",
       "      <td>0.503145</td>\n",
       "      <td>0.500258</td>\n",
       "      <td>0.500010</td>\n",
       "      <td>0.504185</td>\n",
       "      <td>2.812443e-01</td>\n",
       "    </tr>\n",
       "    <tr>\n",
       "      <th>75%</th>\n",
       "      <td>0.742680</td>\n",
       "      <td>0.750742</td>\n",
       "      <td>0.749488</td>\n",
       "      <td>0.748856</td>\n",
       "      <td>0.749841</td>\n",
       "      <td>0.745628</td>\n",
       "      <td>0.745938</td>\n",
       "      <td>0.750699</td>\n",
       "      <td>0.751053</td>\n",
       "      <td>0.744964</td>\n",
       "      <td>0.751018</td>\n",
       "      <td>1.167499e+01</td>\n",
       "    </tr>\n",
       "    <tr>\n",
       "      <th>max</th>\n",
       "      <td>1.000000</td>\n",
       "      <td>1.000000</td>\n",
       "      <td>1.000000</td>\n",
       "      <td>1.000000</td>\n",
       "      <td>1.000000</td>\n",
       "      <td>1.000000</td>\n",
       "      <td>1.000000</td>\n",
       "      <td>1.000000</td>\n",
       "      <td>1.000000</td>\n",
       "      <td>1.000000</td>\n",
       "      <td>1.000000</td>\n",
       "      <td>3.857436e+01</td>\n",
       "    </tr>\n",
       "  </tbody>\n",
       "</table>\n",
       "</div>"
      ],
      "text/plain": [
       "           Logive        Rnez      Lfente      Pfente      Dengin         LBB  \\\n",
       "count  111.000000  111.000000  111.000000  111.000000  111.000000  111.000000   \n",
       "mean     0.497335    0.499360    0.498114    0.500438    0.497902    0.502162   \n",
       "std      0.291364    0.294132    0.291572    0.290533    0.293118    0.290416   \n",
       "min      0.000000    0.000000    0.000000    0.000000    0.000000    0.000000   \n",
       "25%      0.249340    0.248046    0.251255    0.254569    0.245518    0.259067   \n",
       "50%      0.495338    0.501609    0.497895    0.500335    0.498257    0.501992   \n",
       "75%      0.742680    0.750742    0.749488    0.748856    0.749841    0.745628   \n",
       "max      1.000000    1.000000    1.000000    1.000000    1.000000    1.000000   \n",
       "\n",
       "              Pos   Fleche_BA   Fleche_BF       Corde           H  \\\n",
       "count  111.000000  111.000000  111.000000  111.000000  111.000000   \n",
       "mean     0.496423    0.503372    0.500216    0.500145    0.503438   \n",
       "std      0.292513    0.290781    0.293343    0.290855    0.290823   \n",
       "min      0.000000    0.000000    0.000000    0.000000    0.000000   \n",
       "25%      0.244946    0.257116    0.250675    0.255086    0.258540   \n",
       "50%      0.497005    0.503145    0.500258    0.500010    0.504185   \n",
       "75%      0.745938    0.750699    0.751053    0.744964    0.751018   \n",
       "max      1.000000    1.000000    1.000000    1.000000    1.000000   \n",
       "\n",
       "                  y  \n",
       "count  1.110000e+02  \n",
       "mean   2.560514e-16  \n",
       "std    1.469217e+01  \n",
       "min   -3.151231e+01  \n",
       "25%   -1.085429e+01  \n",
       "50%    2.812443e-01  \n",
       "75%    1.167499e+01  \n",
       "max    3.857436e+01  "
      ]
     },
     "execution_count": 4,
     "metadata": {},
     "output_type": "execute_result"
    }
   ],
   "source": [
    "file_name=\"data_scaled.csv\"\n",
    "xy_tot=pd.read_csv(file_name,header=0,sep=';')\n",
    "xy_tot.describe()"
   ]
  },
  {
   "cell_type": "markdown",
   "metadata": {},
   "source": [
    "Visualisation"
   ]
  },
  {
   "cell_type": "code",
   "execution_count": 5,
   "metadata": {},
   "outputs": [
    {
     "name": "stdout",
     "output_type": "stream",
     "text": [
      "       Logive      Rnez    Lfente    Pfente    Dengin       LBB       Pos  \\\n",
      "0    0.495338  0.000000  0.497895  0.500335  0.498257  0.501992  0.000000   \n",
      "1    0.839713  0.797224  0.544219  0.117688  0.386605  0.936888  0.859441   \n",
      "2    0.718764  0.462412  0.122786  0.000000  0.148126  0.284999  0.572958   \n",
      "3    0.232614  0.964583  0.208857  0.493698  0.087776  0.514571  0.915970   \n",
      "4    0.328525  0.360263  0.771815  0.737518  0.032510  0.805642  0.444953   \n",
      "5    0.115392  0.806505  0.539120  0.338852  0.657285  0.818903  0.985513   \n",
      "6    0.926719  0.652285  0.798143  0.929660  0.591207  0.783432  0.497005   \n",
      "7    0.715883  0.747846  0.257191  0.405066  0.204779  0.790137  0.153351   \n",
      "8    0.072779  0.420483  0.282936  0.561204  0.715837  0.892136  0.664640   \n",
      "9    0.545483  0.765949  0.323389  0.805734  0.706332  0.363896  0.959004   \n",
      "10   0.023926  0.721776  0.646024  0.433742  0.513990  0.264178  0.628038   \n",
      "11   0.106651  0.821900  0.757006  0.242379  0.722840  0.205118  0.179186   \n",
      "12   0.522494  0.013886  0.601880  0.136771  0.047012  0.700972  0.592866   \n",
      "13   0.000000  0.864926  0.160825  0.462652  0.341186  0.604257  0.410482   \n",
      "14   0.463220  0.912008  0.441763  0.754879  0.426218  0.454704  0.006420   \n",
      "15   0.085715  0.039080  0.448260  0.170105  0.272339  0.076813  0.312915   \n",
      "16   0.122788  0.846862  0.023386  0.643011  0.792130  0.306171  0.225785   \n",
      "17   0.633288  0.670179  0.034756  0.145932  0.237586  0.349378  0.652064   \n",
      "18   0.877981  0.335181  0.367996  0.263735  0.303447  0.053447  0.943493   \n",
      "19   0.336137  0.649765  0.872892  0.056468  0.618365  0.635425  0.069596   \n",
      "20   0.791478  0.778264  0.975979  0.756720  0.330373  0.195682  0.118184   \n",
      "21   0.704389  0.218933  0.514785  0.930684  0.796120  0.386923  0.614135   \n",
      "22   0.602825  0.577617  0.642941  0.115820  0.817924  0.000000  0.237971   \n",
      "23   0.358909  0.570218  0.049143  0.724995  0.840786  0.770000  0.773673   \n",
      "24   0.694084  0.995675  0.709792  0.178788  0.990737  0.589219  0.729138   \n",
      "25   0.302553  0.533131  0.172130  0.575309  0.354656  0.983977  0.086840   \n",
      "26   0.424451  0.353711  1.000000  0.130996  0.533671  0.365892  0.260178   \n",
      "27   0.772752  0.392837  0.411292  0.847478  0.308545  0.839832  0.389020   \n",
      "28   0.217347  0.190043  0.972654  0.669541  0.360912  0.310093  0.491497   \n",
      "29   0.903542  0.859143  0.705440  0.572428  0.158678  0.382693  0.710736   \n",
      "..        ...       ...       ...       ...       ...       ...       ...   \n",
      "81   0.079931  0.507284  0.146656  0.290813  0.610638  0.432866  0.559239   \n",
      "82   0.473529  0.240924  0.754643  0.664439  0.744500  0.847302  0.909016   \n",
      "83   0.418840  0.883163  0.828096  0.628188  0.229878  0.922855  0.336384   \n",
      "84   0.459240  0.089313  0.114334  0.390950  0.809733  0.803369  0.448360   \n",
      "85   0.891503  0.295804  0.101242  0.192938  0.868599  0.598904  0.697771   \n",
      "86   0.397199  0.255168  0.132219  0.951577  0.556870  0.236590  0.739292   \n",
      "87   0.506827  0.557855  0.850159  0.471369  0.026527  0.222304  0.937449   \n",
      "88   0.294466  0.030806  0.679578  0.822320  0.975596  0.339675  0.684752   \n",
      "89   0.592934  0.158395  0.818662  0.301471  0.481693  0.662758  0.851463   \n",
      "90   0.140652  0.263622  0.195667  0.368152  0.006535  0.399698  0.164240   \n",
      "91   0.306370  0.901446  0.800788  0.077928  0.349004  0.043532  0.762313   \n",
      "92   0.177993  0.560819  0.900406  0.415166  0.215375  0.407483  0.809413   \n",
      "93   0.760919  0.395943  0.780627  0.449929  0.732847  0.065903  0.607685   \n",
      "94   0.639869  0.605981  0.272681  0.716813  0.188563  0.144631  0.466991   \n",
      "95   0.848474  0.237349  0.744334  0.319379  0.060335  0.148492  0.093821   \n",
      "96   0.526016  0.019565  0.245318  0.897022  0.197641  0.830748  0.752584   \n",
      "97   0.967900  0.114722  0.910817  0.229920  0.682772  0.489241  0.421021   \n",
      "98   0.444618  1.000000  0.586261  0.280539  0.631144  0.120101  0.431679   \n",
      "99   0.735619  0.175124  0.961708  0.704618  0.412583  0.584112  0.702799   \n",
      "100  0.536323  0.980526  0.306413  0.083471  0.492781  0.411413  0.341912   \n",
      "101  0.254631  0.788863  0.066682  0.329317  0.936024  0.087235  0.527044   \n",
      "102  0.479453  0.007996  0.350208  0.505738  0.983655  0.498499  0.269301   \n",
      "103  0.736811  0.194393  0.330351  0.048160  0.772096  0.741749  0.132528   \n",
      "104  0.244050  0.683201  0.881246  0.521157  0.852382  0.536023  0.578420   \n",
      "105  0.389662  0.154477  0.000000  0.090749  0.401696  0.957564  0.531844   \n",
      "106  0.893357  0.616894  0.666424  0.040633  0.112727  0.749508  0.408983   \n",
      "107  0.954314  0.544326  0.619205  0.588434  0.649281  0.113298  0.877323   \n",
      "108  0.673615  0.753639  0.953679  0.019827  0.826220  0.468277  0.894760   \n",
      "109  0.655463  0.940585  0.931341  0.540705  0.040912  0.268522  0.286047   \n",
      "110  0.018758  0.603489  0.405507  0.007256  0.637778  0.919163  0.230755   \n",
      "\n",
      "     Fleche_BA  Fleche_BF     Corde         H          y  \n",
      "0     0.503145   0.500258  0.500010  0.504185  15.082215  \n",
      "1     0.194467   0.114811  0.062737  0.516893  14.428133  \n",
      "2     0.379216   0.623774  0.823282  0.887550  13.639695  \n",
      "3     0.275082   0.452346  0.397045  0.031743 -14.621491  \n",
      "4     0.019859   0.754753  0.160963  0.593623  15.061054  \n",
      "5     0.532088   0.499689  0.944224  0.988103  25.807668  \n",
      "6     0.748368   0.684801  0.552540  0.938951  23.531258  \n",
      "7     0.859377   0.000000  0.270287  0.628936   6.219236  \n",
      "8     0.734483   0.840313  0.298262  0.049194  -8.030760  \n",
      "9     0.051060   1.000000  0.594249  0.583784   3.667738  \n",
      "10    0.996987   0.815561  0.106816  0.669290 -25.385887  \n",
      "11    0.231890   0.103383  0.856002  0.121779 -18.109585  \n",
      "12    0.834909   0.522264  0.070723  0.325336  -7.415439  \n",
      "13    0.776702   0.577751  0.970393  0.291705  -1.892957  \n",
      "14    0.306431   0.184410  0.098351  0.973352   6.662982  \n",
      "15    0.593836   0.323826  0.271171  0.639508 -19.011805  \n",
      "16    0.163633   0.531474  0.306245  0.685509  -3.696731  \n",
      "17    0.473681   0.061727  0.933989  0.171315  -8.068619  \n",
      "18    0.760625   0.798307  0.673660  0.299264 -17.679583  \n",
      "19    0.812439   0.305493  0.178217  0.225841 -12.575708  \n",
      "20    0.355836   0.461242  0.494438  0.803520   4.133068  \n",
      "21    0.816741   0.912920  0.804765  0.420862  -4.049510  \n",
      "22    0.871944   0.564909  0.440302  0.913406 -14.537127  \n",
      "23    0.177679   0.769593  0.915000  0.111077   2.794810  \n",
      "24    0.291318   0.359501  0.664828  0.604625  10.011944  \n",
      "25    0.390086   0.243673  0.092863  0.277492   6.116435  \n",
      "26    0.188256   0.874549  0.388682  0.531688  -0.660125  \n",
      "27    1.000000   0.411628  0.359025  0.106968  -2.891440  \n",
      "28    0.846798   0.257677  0.819860  0.139164 -18.544970  \n",
      "29    0.667315   0.208891  0.153456  0.840337  -2.316941  \n",
      "..         ...        ...       ...       ...        ...  \n",
      "81    0.135200   0.038538  0.045166  0.812337  -3.518928  \n",
      "82    0.608187   0.946030  0.037521  0.847003  10.402309  \n",
      "83    0.648625   0.482386  0.877035  0.451248  19.102320  \n",
      "84    0.327090   0.128627  0.604405  0.216041   3.132885  \n",
      "85    0.430464   0.573820  0.084468  0.188079  -8.971308  \n",
      "86    0.918483   0.694914  0.121249  0.599787 -22.682182  \n",
      "87    0.798400   0.051035  0.632734  0.921029  -3.129293  \n",
      "88    0.422602   0.342585  0.328676  0.943267  -1.259672  \n",
      "89    0.400883   0.687993  0.794303  0.000000  -4.587775  \n",
      "90    0.688812   0.884897  0.431386  0.193913 -14.305521  \n",
      "91    0.439706   0.919863  0.750066  0.726647  -4.211883  \n",
      "92    0.362830   0.396123  0.000000  0.135436 -22.724123  \n",
      "93    0.032627   0.236943  0.731281  0.714433   0.281244  \n",
      "94    0.792668   0.938009  0.022409  0.471452 -21.806348  \n",
      "95    0.501339   0.381805  0.984241  0.565682   2.510444  \n",
      "96    0.167925   0.347447  0.836564  0.546893  21.155656  \n",
      "97    0.954595   0.369816  0.323259  0.759728   2.510444  \n",
      "98    0.489479   0.782512  0.422277  0.009103   2.510444  \n",
      "99    0.097101   0.016115  0.415107  0.337541   2.510444  \n",
      "100   0.949696   0.288134  0.864059  0.869175   5.038344  \n",
      "101   0.683228   0.401496  0.131453  0.416059 -29.002561  \n",
      "102   0.987170   0.717361  0.723762  0.086302 -15.073987  \n",
      "103   0.258271   0.898376  0.144574  0.663351  14.605300  \n",
      "104   0.114489   0.891684  0.474160  0.955815  16.589916  \n",
      "105   0.884997   0.616929  0.490839  0.964360  20.693799  \n",
      "106   0.107998   0.285757  0.521913  0.072636   4.654538  \n",
      "107   0.332553   0.740613  0.927965  0.388065  -5.866806  \n",
      "108   0.621598   0.656678  0.288987  0.342212 -10.408305  \n",
      "109   0.140695   0.598644  0.711866  0.261593  -4.366241  \n",
      "110   0.371382   0.432367  0.674970  0.733691  22.165178  \n",
      "\n",
      "[111 rows x 12 columns]\n"
     ]
    }
   ],
   "source": [
    "print(xy_tot)"
   ]
  },
  {
   "cell_type": "markdown",
   "metadata": {},
   "source": [
    "Pour voir le format des données"
   ]
  },
  {
   "cell_type": "code",
   "execution_count": 6,
   "metadata": {},
   "outputs": [
    {
     "data": {
      "text/plain": [
       "(111, 12)"
      ]
     },
     "execution_count": 6,
     "metadata": {},
     "output_type": "execute_result"
    }
   ],
   "source": [
    "xy_tot.shape"
   ]
  },
  {
   "cell_type": "markdown",
   "metadata": {},
   "source": [
    "## ANOVA"
   ]
  },
  {
   "cell_type": "code",
   "execution_count": 7,
   "metadata": {},
   "outputs": [],
   "source": [
    "import statsmodels.api as sm\n",
    "from statsmodels.formula.api import ols"
   ]
  },
  {
   "cell_type": "code",
   "execution_count": 8,
   "metadata": {},
   "outputs": [],
   "source": [
    "results = ols('y ~ Logive+Rnez+Lfente+Pfente+Dengin+LBB+Pos+Fleche_BA+Fleche_BF+Corde+H', data=xy_tot).fit()"
   ]
  },
  {
   "cell_type": "code",
   "execution_count": 9,
   "metadata": {},
   "outputs": [
    {
     "data": {
      "text/html": [
       "<div>\n",
       "<style scoped>\n",
       "    .dataframe tbody tr th:only-of-type {\n",
       "        vertical-align: middle;\n",
       "    }\n",
       "\n",
       "    .dataframe tbody tr th {\n",
       "        vertical-align: top;\n",
       "    }\n",
       "\n",
       "    .dataframe thead th {\n",
       "        text-align: right;\n",
       "    }\n",
       "</style>\n",
       "<table border=\"1\" class=\"dataframe\">\n",
       "  <thead>\n",
       "    <tr style=\"text-align: right;\">\n",
       "      <th></th>\n",
       "      <th>sum_sq</th>\n",
       "      <th>df</th>\n",
       "      <th>F</th>\n",
       "      <th>PR(&gt;F)</th>\n",
       "    </tr>\n",
       "  </thead>\n",
       "  <tbody>\n",
       "    <tr>\n",
       "      <th>Logive</th>\n",
       "      <td>812.660368</td>\n",
       "      <td>1.0</td>\n",
       "      <td>63.855565</td>\n",
       "      <td>2.509619e-12</td>\n",
       "    </tr>\n",
       "    <tr>\n",
       "      <th>Rnez</th>\n",
       "      <td>13.164762</td>\n",
       "      <td>1.0</td>\n",
       "      <td>1.034434</td>\n",
       "      <td>3.115987e-01</td>\n",
       "    </tr>\n",
       "    <tr>\n",
       "      <th>Lfente</th>\n",
       "      <td>4.514731</td>\n",
       "      <td>1.0</td>\n",
       "      <td>0.354749</td>\n",
       "      <td>5.527961e-01</td>\n",
       "    </tr>\n",
       "    <tr>\n",
       "      <th>Pfente</th>\n",
       "      <td>2.129187</td>\n",
       "      <td>1.0</td>\n",
       "      <td>0.167303</td>\n",
       "      <td>6.834035e-01</td>\n",
       "    </tr>\n",
       "    <tr>\n",
       "      <th>Dengin</th>\n",
       "      <td>104.841788</td>\n",
       "      <td>1.0</td>\n",
       "      <td>8.238044</td>\n",
       "      <td>5.016189e-03</td>\n",
       "    </tr>\n",
       "    <tr>\n",
       "      <th>LBB</th>\n",
       "      <td>11212.193305</td>\n",
       "      <td>1.0</td>\n",
       "      <td>881.008803</td>\n",
       "      <td>4.402781e-51</td>\n",
       "    </tr>\n",
       "    <tr>\n",
       "      <th>Pos</th>\n",
       "      <td>144.443696</td>\n",
       "      <td>1.0</td>\n",
       "      <td>11.349801</td>\n",
       "      <td>1.076363e-03</td>\n",
       "    </tr>\n",
       "    <tr>\n",
       "      <th>Fleche_BA</th>\n",
       "      <td>1494.859576</td>\n",
       "      <td>1.0</td>\n",
       "      <td>117.460020</td>\n",
       "      <td>1.640449e-18</td>\n",
       "    </tr>\n",
       "    <tr>\n",
       "      <th>Fleche_BF</th>\n",
       "      <td>166.712389</td>\n",
       "      <td>1.0</td>\n",
       "      <td>13.099585</td>\n",
       "      <td>4.674632e-04</td>\n",
       "    </tr>\n",
       "    <tr>\n",
       "      <th>Corde</th>\n",
       "      <td>2209.664849</td>\n",
       "      <td>1.0</td>\n",
       "      <td>173.626527</td>\n",
       "      <td>1.666877e-23</td>\n",
       "    </tr>\n",
       "    <tr>\n",
       "      <th>H</th>\n",
       "      <td>6127.907315</td>\n",
       "      <td>1.0</td>\n",
       "      <td>481.506173</td>\n",
       "      <td>8.284227e-40</td>\n",
       "    </tr>\n",
       "    <tr>\n",
       "      <th>Residual</th>\n",
       "      <td>1259.927408</td>\n",
       "      <td>99.0</td>\n",
       "      <td>NaN</td>\n",
       "      <td>NaN</td>\n",
       "    </tr>\n",
       "  </tbody>\n",
       "</table>\n",
       "</div>"
      ],
      "text/plain": [
       "                 sum_sq    df           F        PR(>F)\n",
       "Logive       812.660368   1.0   63.855565  2.509619e-12\n",
       "Rnez          13.164762   1.0    1.034434  3.115987e-01\n",
       "Lfente         4.514731   1.0    0.354749  5.527961e-01\n",
       "Pfente         2.129187   1.0    0.167303  6.834035e-01\n",
       "Dengin       104.841788   1.0    8.238044  5.016189e-03\n",
       "LBB        11212.193305   1.0  881.008803  4.402781e-51\n",
       "Pos          144.443696   1.0   11.349801  1.076363e-03\n",
       "Fleche_BA   1494.859576   1.0  117.460020  1.640449e-18\n",
       "Fleche_BF    166.712389   1.0   13.099585  4.674632e-04\n",
       "Corde       2209.664849   1.0  173.626527  1.666877e-23\n",
       "H           6127.907315   1.0  481.506173  8.284227e-40\n",
       "Residual    1259.927408  99.0         NaN           NaN"
      ]
     },
     "execution_count": 9,
     "metadata": {},
     "output_type": "execute_result"
    }
   ],
   "source": [
    "aov_table = sm.stats.anova_lm(results, typ=2)\n",
    "aov_table"
   ]
  },
  {
   "cell_type": "markdown",
   "metadata": {},
   "source": [
    "## Métamodèles"
   ]
  },
  {
   "cell_type": "markdown",
   "metadata": {},
   "source": [
    "**Modèle de type régression linéaire**"
   ]
  },
  {
   "cell_type": "markdown",
   "metadata": {},
   "source": [
    "On sépare input et sortie y"
   ]
  },
  {
   "cell_type": "code",
   "execution_count": 10,
   "metadata": {},
   "outputs": [],
   "source": [
    "y_tot= xy_tot.pop('y')"
   ]
  },
  {
   "cell_type": "code",
   "execution_count": 11,
   "metadata": {},
   "outputs": [
    {
     "data": {
      "text/plain": [
       "(111,)"
      ]
     },
     "execution_count": 11,
     "metadata": {},
     "output_type": "execute_result"
    }
   ],
   "source": [
    "y_tot.shape"
   ]
  },
  {
   "cell_type": "code",
   "execution_count": 12,
   "metadata": {},
   "outputs": [
    {
     "data": {
      "text/plain": [
       "(111, 11)"
      ]
     },
     "execution_count": 12,
     "metadata": {},
     "output_type": "execute_result"
    }
   ],
   "source": [
    "xy_tot.shape"
   ]
  },
  {
   "cell_type": "code",
   "execution_count": 13,
   "metadata": {},
   "outputs": [],
   "source": [
    "import sklearn.linear_model as lm\n",
    "linreg = lm.LinearRegression()"
   ]
  },
  {
   "cell_type": "code",
   "execution_count": 14,
   "metadata": {},
   "outputs": [],
   "source": [
    "lr=linreg.fit(xy_tot, y_tot)"
   ]
  },
  {
   "cell_type": "code",
   "execution_count": 15,
   "metadata": {},
   "outputs": [
    {
     "data": {
      "text/plain": [
       "array([  9.33313115,   1.17703508,   0.69515402,  -0.47904674,\n",
       "        -3.33203568,  34.78401512,  -3.92077723, -12.68096741,\n",
       "         4.20129498,  15.42001942,  25.67852894])"
      ]
     },
     "execution_count": 15,
     "metadata": {},
     "output_type": "execute_result"
    }
   ],
   "source": [
    "lr.coef_"
   ]
  },
  {
   "cell_type": "code",
   "execution_count": 16,
   "metadata": {},
   "outputs": [
    {
     "data": {
      "text/plain": [
       "0.9469383114183838"
      ]
     },
     "execution_count": 16,
     "metadata": {},
     "output_type": "execute_result"
    }
   ],
   "source": [
    "linreg.score(xy_tot,y_tot)"
   ]
  },
  {
   "cell_type": "markdown",
   "metadata": {},
   "source": [
    "Tracés"
   ]
  },
  {
   "cell_type": "code",
   "execution_count": 17,
   "metadata": {},
   "outputs": [
    {
     "name": "stdout",
     "output_type": "stream",
     "text": [
      "Populating the interactive namespace from numpy and matplotlib\n"
     ]
    }
   ],
   "source": [
    "%pylab inline"
   ]
  },
  {
   "cell_type": "code",
   "execution_count": 18,
   "metadata": {},
   "outputs": [
    {
     "data": {
      "text/plain": [
       "[<matplotlib.lines.Line2D at 0x27dbd12d128>]"
      ]
     },
     "execution_count": 18,
     "metadata": {},
     "output_type": "execute_result"
    },
    {
     "data": {
      "image/png": "[encoded data removed]",
      "text/plain": [
       "<Figure size 432x288 with 1 Axes>"
      ]
     },
     "metadata": {
      "needs_background": "light"
     },
     "output_type": "display_data"
    }
   ],
   "source": [
    "plt.plot(y_tot,lr.predict(xy_tot),'o')"
   ]
  },
  {
   "cell_type": "markdown",
   "metadata": {},
   "source": [
    "**Modèle de type MLP**"
   ]
  },
  {
   "cell_type": "markdown",
   "metadata": {},
   "source": [
    "On sépare les données entre apprentissage et test (20%)"
   ]
  },
  {
   "cell_type": "code",
   "execution_count": 19,
   "metadata": {},
   "outputs": [],
   "source": [
    "from sklearn.model_selection import train_test_split"
   ]
  },
  {
   "cell_type": "code",
   "execution_count": 20,
   "metadata": {},
   "outputs": [],
   "source": [
    "x_train, x_test, y_train, y_test = train_test_split(xy_tot, y_tot, test_size=0.2)"
   ]
  },
  {
   "cell_type": "code",
   "execution_count": 21,
   "metadata": {},
   "outputs": [],
   "source": [
    "from sklearn.neural_network import MLPRegressor"
   ]
  },
  {
   "cell_type": "code",
   "execution_count": 23,
   "metadata": {},
   "outputs": [],
   "source": [
    "nnet=MLPRegressor(hidden_layer_sizes=(11,),max_iter=5000,activation='tanh',alpha=0.05,solver='lbfgs')"
   ]
  },
  {
   "cell_type": "code",
   "execution_count": 24,
   "metadata": {},
   "outputs": [
    {
     "data": {
      "text/plain": [
       "MLPRegressor(activation='tanh', alpha=0.05, batch_size='auto', beta_1=0.9,\n",
       "       beta_2=0.999, early_stopping=False, epsilon=1e-08,\n",
       "       hidden_layer_sizes=(11,), learning_rate='constant',\n",
       "       learning_rate_init=0.001, max_iter=5000, momentum=0.9,\n",
       "       n_iter_no_change=10, nesterovs_momentum=True, power_t=0.5,\n",
       "       random_state=None, shuffle=True, solver='lbfgs', tol=0.0001,\n",
       "       validation_fraction=0.1, verbose=False, warm_start=False)"
      ]
     },
     "execution_count": 24,
     "metadata": {},
     "output_type": "execute_result"
    }
   ],
   "source": [
    "nnet.fit(x_train,y_train)"
   ]
  },
  {
   "cell_type": "code",
   "execution_count": 25,
   "metadata": {},
   "outputs": [],
   "source": [
    "y_pred=nnet.predict(x_test)"
   ]
  },
  {
   "cell_type": "code",
   "execution_count": 26,
   "metadata": {},
   "outputs": [
    {
     "name": "stdout",
     "output_type": "stream",
     "text": [
      "Populating the interactive namespace from numpy and matplotlib\n"
     ]
    }
   ],
   "source": [
    "%pylab inline"
   ]
  },
  {
   "cell_type": "code",
   "execution_count": 27,
   "metadata": {},
   "outputs": [
    {
     "data": {
      "text/plain": [
       "[<matplotlib.lines.Line2D at 0x27dbd32e0f0>]"
      ]
     },
     "execution_count": 27,
     "metadata": {},
     "output_type": "execute_result"
    },
    {
     "data": {
      "image/png": "[encoded data removed]",
      "text/plain": [
       "<Figure size 432x288 with 1 Axes>"
      ]
     },
     "metadata": {
      "needs_background": "light"
     },
     "output_type": "display_data"
    }
   ],
   "source": [
    "plt.plot(y_test, y_pred,'o')"
   ]
  },
  {
   "cell_type": "markdown",
   "metadata": {},
   "source": [
    "Calcul du coefficient de détermination R2"
   ]
  },
  {
   "cell_type": "code",
   "execution_count": 28,
   "metadata": {},
   "outputs": [],
   "source": [
    "from sklearn.metrics import r2_score"
   ]
  },
  {
   "cell_type": "code",
   "execution_count": 29,
   "metadata": {},
   "outputs": [
    {
     "data": {
      "text/plain": [
       "0.8733690459775137"
      ]
     },
     "execution_count": 29,
     "metadata": {},
     "output_type": "execute_result"
    }
   ],
   "source": [
    "r2_score(y_test,y_pred)"
   ]
  },
  {
   "cell_type": "markdown",
   "metadata": {},
   "source": [
    "**Exercice 1** : Tester avec d'autres paramètres"
   ]
  },
  {
   "cell_type": "code",
   "execution_count": null,
   "metadata": {},
   "outputs": [],
   "source": []
  },
  {
   "cell_type": "markdown",
   "metadata": {},
   "source": [
    "**Exercice 2** : Tester d'autres métamodèles"
   ]
  },
  {
   "cell_type": "code",
   "execution_count": null,
   "metadata": {},
   "outputs": [],
   "source": []
  },
  {
   "cell_type": "markdown",
   "metadata": {},
   "source": [
    "## Analyse de sensibilité"
   ]
  },
  {
   "cell_type": "markdown",
   "metadata": {},
   "source": [
    "Nous allons utiliser OpenTURNS et les 3 composantes de l'ACP"
   ]
  },
  {
   "cell_type": "code",
   "execution_count": 35,
   "metadata": {},
   "outputs": [],
   "source": [
    "import openturns as ot"
   ]
  },
  {
   "cell_type": "markdown",
   "metadata": {},
   "source": [
    "Pour Colab"
   ]
  },
  {
   "cell_type": "code",
   "execution_count": 31,
   "metadata": {},
   "outputs": [
    {
     "name": "stdout",
     "output_type": "stream",
     "text": [
      "Collecting openturns\n",
      "  Downloading https://files.pythonhosted.org/packages/0e/23/71c3d294984c69dddd2d7dc5e4997a8fa74896e11d44722b5cdfa329c6d2/openturns-1.17-cp37-cp37m-win_amd64.whl (45.8MB)\n",
      "Installing collected packages: openturns\n",
      "Successfully installed openturns-1.17\n"
     ]
    }
   ],
   "source": [
    "!pip install openturns"
   ]
  },
  {
   "cell_type": "code",
   "execution_count": null,
   "metadata": {},
   "outputs": [],
   "source": [
    "#To read files from google colab\n",
    "url_name='https://raw.githubusercontent.com/dbetteb/early-ML/master/08_CAS_TEST_SER/data_scaled2.csv'\n",
    "xy_tot = pd.read_csv(url_name, header=0,sep=';')"
   ]
  },
  {
   "cell_type": "code",
   "execution_count": 32,
   "metadata": {},
   "outputs": [
    {
     "data": {
      "text/html": [
       "<div>\n",
       "<style scoped>\n",
       "    .dataframe tbody tr th:only-of-type {\n",
       "        vertical-align: middle;\n",
       "    }\n",
       "\n",
       "    .dataframe tbody tr th {\n",
       "        vertical-align: top;\n",
       "    }\n",
       "\n",
       "    .dataframe thead th {\n",
       "        text-align: right;\n",
       "    }\n",
       "</style>\n",
       "<table border=\"1\" class=\"dataframe\">\n",
       "  <thead>\n",
       "    <tr style=\"text-align: right;\">\n",
       "      <th></th>\n",
       "      <th>Logive</th>\n",
       "      <th>Rnez</th>\n",
       "      <th>Lfente</th>\n",
       "      <th>Pfente</th>\n",
       "      <th>Dengin</th>\n",
       "      <th>LBB</th>\n",
       "      <th>Pos</th>\n",
       "      <th>Fleche_BA</th>\n",
       "      <th>Fleche_BF</th>\n",
       "      <th>Corde</th>\n",
       "      <th>H</th>\n",
       "      <th>y1</th>\n",
       "      <th>y2</th>\n",
       "      <th>y3</th>\n",
       "    </tr>\n",
       "  </thead>\n",
       "  <tbody>\n",
       "    <tr>\n",
       "      <th>count</th>\n",
       "      <td>111.000000</td>\n",
       "      <td>111.000000</td>\n",
       "      <td>111.000000</td>\n",
       "      <td>111.000000</td>\n",
       "      <td>111.000000</td>\n",
       "      <td>111.000000</td>\n",
       "      <td>111.000000</td>\n",
       "      <td>111.000000</td>\n",
       "      <td>111.000000</td>\n",
       "      <td>111.000000</td>\n",
       "      <td>111.000000</td>\n",
       "      <td>1.110000e+02</td>\n",
       "      <td>1.110000e+02</td>\n",
       "      <td>1.110000e+02</td>\n",
       "    </tr>\n",
       "    <tr>\n",
       "      <th>mean</th>\n",
       "      <td>0.497335</td>\n",
       "      <td>0.499360</td>\n",
       "      <td>0.498114</td>\n",
       "      <td>0.500438</td>\n",
       "      <td>0.497902</td>\n",
       "      <td>0.502162</td>\n",
       "      <td>0.496423</td>\n",
       "      <td>0.503372</td>\n",
       "      <td>0.500216</td>\n",
       "      <td>0.500145</td>\n",
       "      <td>0.503438</td>\n",
       "      <td>2.560514e-16</td>\n",
       "      <td>6.621330e-16</td>\n",
       "      <td>1.720346e-16</td>\n",
       "    </tr>\n",
       "    <tr>\n",
       "      <th>std</th>\n",
       "      <td>0.291364</td>\n",
       "      <td>0.294132</td>\n",
       "      <td>0.291572</td>\n",
       "      <td>0.290533</td>\n",
       "      <td>0.293118</td>\n",
       "      <td>0.290416</td>\n",
       "      <td>0.292513</td>\n",
       "      <td>0.290781</td>\n",
       "      <td>0.293343</td>\n",
       "      <td>0.290855</td>\n",
       "      <td>0.290823</td>\n",
       "      <td>1.469217e+01</td>\n",
       "      <td>1.172201e+01</td>\n",
       "      <td>3.007738e+00</td>\n",
       "    </tr>\n",
       "    <tr>\n",
       "      <th>min</th>\n",
       "      <td>0.000000</td>\n",
       "      <td>0.000000</td>\n",
       "      <td>0.000000</td>\n",
       "      <td>0.000000</td>\n",
       "      <td>0.000000</td>\n",
       "      <td>0.000000</td>\n",
       "      <td>0.000000</td>\n",
       "      <td>0.000000</td>\n",
       "      <td>0.000000</td>\n",
       "      <td>0.000000</td>\n",
       "      <td>0.000000</td>\n",
       "      <td>-3.151231e+01</td>\n",
       "      <td>-2.468260e+01</td>\n",
       "      <td>-5.644749e+00</td>\n",
       "    </tr>\n",
       "    <tr>\n",
       "      <th>25%</th>\n",
       "      <td>0.249340</td>\n",
       "      <td>0.248046</td>\n",
       "      <td>0.251255</td>\n",
       "      <td>0.254569</td>\n",
       "      <td>0.245518</td>\n",
       "      <td>0.259067</td>\n",
       "      <td>0.244946</td>\n",
       "      <td>0.257116</td>\n",
       "      <td>0.250675</td>\n",
       "      <td>0.255086</td>\n",
       "      <td>0.258540</td>\n",
       "      <td>-1.085429e+01</td>\n",
       "      <td>-8.704975e+00</td>\n",
       "      <td>-2.317673e+00</td>\n",
       "    </tr>\n",
       "    <tr>\n",
       "      <th>50%</th>\n",
       "      <td>0.495338</td>\n",
       "      <td>0.501609</td>\n",
       "      <td>0.497895</td>\n",
       "      <td>0.500335</td>\n",
       "      <td>0.498257</td>\n",
       "      <td>0.501992</td>\n",
       "      <td>0.497005</td>\n",
       "      <td>0.503145</td>\n",
       "      <td>0.500258</td>\n",
       "      <td>0.500010</td>\n",
       "      <td>0.504185</td>\n",
       "      <td>2.812443e-01</td>\n",
       "      <td>-2.277762e-01</td>\n",
       "      <td>7.869673e-02</td>\n",
       "    </tr>\n",
       "    <tr>\n",
       "      <th>75%</th>\n",
       "      <td>0.742680</td>\n",
       "      <td>0.750742</td>\n",
       "      <td>0.749488</td>\n",
       "      <td>0.748856</td>\n",
       "      <td>0.749841</td>\n",
       "      <td>0.745628</td>\n",
       "      <td>0.745938</td>\n",
       "      <td>0.750699</td>\n",
       "      <td>0.751053</td>\n",
       "      <td>0.744964</td>\n",
       "      <td>0.751018</td>\n",
       "      <td>1.167499e+01</td>\n",
       "      <td>9.396469e+00</td>\n",
       "      <td>2.829186e+00</td>\n",
       "    </tr>\n",
       "    <tr>\n",
       "      <th>max</th>\n",
       "      <td>1.000000</td>\n",
       "      <td>1.000000</td>\n",
       "      <td>1.000000</td>\n",
       "      <td>1.000000</td>\n",
       "      <td>1.000000</td>\n",
       "      <td>1.000000</td>\n",
       "      <td>1.000000</td>\n",
       "      <td>1.000000</td>\n",
       "      <td>1.000000</td>\n",
       "      <td>1.000000</td>\n",
       "      <td>1.000000</td>\n",
       "      <td>3.857436e+01</td>\n",
       "      <td>2.597075e+01</td>\n",
       "      <td>7.005887e+00</td>\n",
       "    </tr>\n",
       "  </tbody>\n",
       "</table>\n",
       "</div>"
      ],
      "text/plain": [
       "           Logive        Rnez      Lfente      Pfente      Dengin         LBB  \\\n",
       "count  111.000000  111.000000  111.000000  111.000000  111.000000  111.000000   \n",
       "mean     0.497335    0.499360    0.498114    0.500438    0.497902    0.502162   \n",
       "std      0.291364    0.294132    0.291572    0.290533    0.293118    0.290416   \n",
       "min      0.000000    0.000000    0.000000    0.000000    0.000000    0.000000   \n",
       "25%      0.249340    0.248046    0.251255    0.254569    0.245518    0.259067   \n",
       "50%      0.495338    0.501609    0.497895    0.500335    0.498257    0.501992   \n",
       "75%      0.742680    0.750742    0.749488    0.748856    0.749841    0.745628   \n",
       "max      1.000000    1.000000    1.000000    1.000000    1.000000    1.000000   \n",
       "\n",
       "              Pos   Fleche_BA   Fleche_BF       Corde           H  \\\n",
       "count  111.000000  111.000000  111.000000  111.000000  111.000000   \n",
       "mean     0.496423    0.503372    0.500216    0.500145    0.503438   \n",
       "std      0.292513    0.290781    0.293343    0.290855    0.290823   \n",
       "min      0.000000    0.000000    0.000000    0.000000    0.000000   \n",
       "25%      0.244946    0.257116    0.250675    0.255086    0.258540   \n",
       "50%      0.497005    0.503145    0.500258    0.500010    0.504185   \n",
       "75%      0.745938    0.750699    0.751053    0.744964    0.751018   \n",
       "max      1.000000    1.000000    1.000000    1.000000    1.000000   \n",
       "\n",
       "                 y1            y2            y3  \n",
       "count  1.110000e+02  1.110000e+02  1.110000e+02  \n",
       "mean   2.560514e-16  6.621330e-16  1.720346e-16  \n",
       "std    1.469217e+01  1.172201e+01  3.007738e+00  \n",
       "min   -3.151231e+01 -2.468260e+01 -5.644749e+00  \n",
       "25%   -1.085429e+01 -8.704975e+00 -2.317673e+00  \n",
       "50%    2.812443e-01 -2.277762e-01  7.869673e-02  \n",
       "75%    1.167499e+01  9.396469e+00  2.829186e+00  \n",
       "max    3.857436e+01  2.597075e+01  7.005887e+00  "
      ]
     },
     "execution_count": 32,
     "metadata": {},
     "output_type": "execute_result"
    }
   ],
   "source": [
    "#from local file\n",
    "file_name=\"data_scaled2.csv\"\n",
    "xy_tot=pd.read_csv(file_name,header=0,sep=';')\n",
    "xy_tot.describe()"
   ]
  },
  {
   "cell_type": "markdown",
   "metadata": {},
   "source": [
    "On extrait les 3 sorties, à savoir les valeurs sur les 3 premières composantes de l'ACP"
   ]
  },
  {
   "cell_type": "code",
   "execution_count": 33,
   "metadata": {},
   "outputs": [
    {
     "data": {
      "text/html": [
       "<div>\n",
       "<style scoped>\n",
       "    .dataframe tbody tr th:only-of-type {\n",
       "        vertical-align: middle;\n",
       "    }\n",
       "\n",
       "    .dataframe tbody tr th {\n",
       "        vertical-align: top;\n",
       "    }\n",
       "\n",
       "    .dataframe thead th {\n",
       "        text-align: right;\n",
       "    }\n",
       "</style>\n",
       "<table border=\"1\" class=\"dataframe\">\n",
       "  <thead>\n",
       "    <tr style=\"text-align: right;\">\n",
       "      <th></th>\n",
       "      <th>y1</th>\n",
       "      <th>y2</th>\n",
       "      <th>y3</th>\n",
       "    </tr>\n",
       "  </thead>\n",
       "  <tbody>\n",
       "    <tr>\n",
       "      <th>0</th>\n",
       "      <td>15.082215</td>\n",
       "      <td>-5.248569</td>\n",
       "      <td>0.048376</td>\n",
       "    </tr>\n",
       "    <tr>\n",
       "      <th>1</th>\n",
       "      <td>14.428133</td>\n",
       "      <td>17.671144</td>\n",
       "      <td>1.892574</td>\n",
       "    </tr>\n",
       "    <tr>\n",
       "      <th>2</th>\n",
       "      <td>13.639695</td>\n",
       "      <td>-23.445469</td>\n",
       "      <td>1.156799</td>\n",
       "    </tr>\n",
       "    <tr>\n",
       "      <th>3</th>\n",
       "      <td>-14.621491</td>\n",
       "      <td>0.000358</td>\n",
       "      <td>4.929759</td>\n",
       "    </tr>\n",
       "    <tr>\n",
       "      <th>4</th>\n",
       "      <td>15.061054</td>\n",
       "      <td>1.235525</td>\n",
       "      <td>4.753541</td>\n",
       "    </tr>\n",
       "    <tr>\n",
       "      <th>5</th>\n",
       "      <td>25.807668</td>\n",
       "      <td>-9.829462</td>\n",
       "      <td>-3.863466</td>\n",
       "    </tr>\n",
       "    <tr>\n",
       "      <th>6</th>\n",
       "      <td>23.531258</td>\n",
       "      <td>10.713016</td>\n",
       "      <td>-2.285297</td>\n",
       "    </tr>\n",
       "    <tr>\n",
       "      <th>7</th>\n",
       "      <td>6.219236</td>\n",
       "      <td>16.677622</td>\n",
       "      <td>3.517117</td>\n",
       "    </tr>\n",
       "    <tr>\n",
       "      <th>8</th>\n",
       "      <td>-8.030760</td>\n",
       "      <td>19.209484</td>\n",
       "      <td>-0.108838</td>\n",
       "    </tr>\n",
       "    <tr>\n",
       "      <th>9</th>\n",
       "      <td>3.667738</td>\n",
       "      <td>-12.163948</td>\n",
       "      <td>-2.651874</td>\n",
       "    </tr>\n",
       "    <tr>\n",
       "      <th>10</th>\n",
       "      <td>-25.385887</td>\n",
       "      <td>6.921369</td>\n",
       "      <td>-0.923274</td>\n",
       "    </tr>\n",
       "    <tr>\n",
       "      <th>11</th>\n",
       "      <td>-18.109585</td>\n",
       "      <td>-6.272211</td>\n",
       "      <td>-2.593582</td>\n",
       "    </tr>\n",
       "    <tr>\n",
       "      <th>12</th>\n",
       "      <td>-7.415439</td>\n",
       "      <td>12.167604</td>\n",
       "      <td>7.005887</td>\n",
       "    </tr>\n",
       "    <tr>\n",
       "      <th>13</th>\n",
       "      <td>-1.892957</td>\n",
       "      <td>-4.404403</td>\n",
       "      <td>1.694402</td>\n",
       "    </tr>\n",
       "    <tr>\n",
       "      <th>14</th>\n",
       "      <td>6.662982</td>\n",
       "      <td>-2.197304</td>\n",
       "      <td>0.226222</td>\n",
       "    </tr>\n",
       "    <tr>\n",
       "      <th>15</th>\n",
       "      <td>-19.011805</td>\n",
       "      <td>-8.906402</td>\n",
       "      <td>0.919327</td>\n",
       "    </tr>\n",
       "    <tr>\n",
       "      <th>16</th>\n",
       "      <td>-3.696731</td>\n",
       "      <td>-8.084839</td>\n",
       "      <td>-3.063323</td>\n",
       "    </tr>\n",
       "    <tr>\n",
       "      <th>17</th>\n",
       "      <td>-8.068619</td>\n",
       "      <td>-8.045960</td>\n",
       "      <td>2.773495</td>\n",
       "    </tr>\n",
       "    <tr>\n",
       "      <th>18</th>\n",
       "      <td>-17.679583</td>\n",
       "      <td>-6.853342</td>\n",
       "      <td>1.101581</td>\n",
       "    </tr>\n",
       "    <tr>\n",
       "      <th>19</th>\n",
       "      <td>-12.575708</td>\n",
       "      <td>16.784550</td>\n",
       "      <td>0.521026</td>\n",
       "    </tr>\n",
       "    <tr>\n",
       "      <th>20</th>\n",
       "      <td>4.133068</td>\n",
       "      <td>-13.822580</td>\n",
       "      <td>0.358419</td>\n",
       "    </tr>\n",
       "    <tr>\n",
       "      <th>21</th>\n",
       "      <td>-4.049510</td>\n",
       "      <td>-0.227776</td>\n",
       "      <td>-2.717663</td>\n",
       "    </tr>\n",
       "    <tr>\n",
       "      <th>22</th>\n",
       "      <td>-14.537127</td>\n",
       "      <td>-3.968990</td>\n",
       "      <td>-4.846054</td>\n",
       "    </tr>\n",
       "    <tr>\n",
       "      <th>23</th>\n",
       "      <td>2.794810</td>\n",
       "      <td>4.126051</td>\n",
       "      <td>-2.072995</td>\n",
       "    </tr>\n",
       "    <tr>\n",
       "      <th>24</th>\n",
       "      <td>10.011944</td>\n",
       "      <td>-0.213646</td>\n",
       "      <td>-4.667042</td>\n",
       "    </tr>\n",
       "    <tr>\n",
       "      <th>25</th>\n",
       "      <td>6.116435</td>\n",
       "      <td>20.334460</td>\n",
       "      <td>3.171829</td>\n",
       "    </tr>\n",
       "    <tr>\n",
       "      <th>26</th>\n",
       "      <td>-0.660125</td>\n",
       "      <td>-6.717393</td>\n",
       "      <td>-0.263610</td>\n",
       "    </tr>\n",
       "    <tr>\n",
       "      <th>27</th>\n",
       "      <td>-2.891440</td>\n",
       "      <td>21.818792</td>\n",
       "      <td>3.890964</td>\n",
       "    </tr>\n",
       "    <tr>\n",
       "      <th>28</th>\n",
       "      <td>-18.544970</td>\n",
       "      <td>-2.712193</td>\n",
       "      <td>1.235653</td>\n",
       "    </tr>\n",
       "    <tr>\n",
       "      <th>29</th>\n",
       "      <td>-2.316941</td>\n",
       "      <td>1.150433</td>\n",
       "      <td>3.075732</td>\n",
       "    </tr>\n",
       "    <tr>\n",
       "      <th>...</th>\n",
       "      <td>...</td>\n",
       "      <td>...</td>\n",
       "      <td>...</td>\n",
       "    </tr>\n",
       "    <tr>\n",
       "      <th>81</th>\n",
       "      <td>-3.518928</td>\n",
       "      <td>-4.669416</td>\n",
       "      <td>-1.020607</td>\n",
       "    </tr>\n",
       "    <tr>\n",
       "      <th>82</th>\n",
       "      <td>10.402309</td>\n",
       "      <td>16.726614</td>\n",
       "      <td>-2.195761</td>\n",
       "    </tr>\n",
       "    <tr>\n",
       "      <th>83</th>\n",
       "      <td>19.102320</td>\n",
       "      <td>5.126239</td>\n",
       "      <td>2.626096</td>\n",
       "    </tr>\n",
       "    <tr>\n",
       "      <th>84</th>\n",
       "      <td>3.132885</td>\n",
       "      <td>10.295284</td>\n",
       "      <td>-1.424803</td>\n",
       "    </tr>\n",
       "    <tr>\n",
       "      <th>85</th>\n",
       "      <td>-8.971308</td>\n",
       "      <td>17.590611</td>\n",
       "      <td>-1.658669</td>\n",
       "    </tr>\n",
       "    <tr>\n",
       "      <th>86</th>\n",
       "      <td>-22.682182</td>\n",
       "      <td>6.331654</td>\n",
       "      <td>-0.764240</td>\n",
       "    </tr>\n",
       "    <tr>\n",
       "      <th>87</th>\n",
       "      <td>-3.129293</td>\n",
       "      <td>-16.021407</td>\n",
       "      <td>2.990539</td>\n",
       "    </tr>\n",
       "    <tr>\n",
       "      <th>88</th>\n",
       "      <td>-1.259672</td>\n",
       "      <td>-6.353499</td>\n",
       "      <td>-5.644749</td>\n",
       "    </tr>\n",
       "    <tr>\n",
       "      <th>89</th>\n",
       "      <td>-4.587775</td>\n",
       "      <td>4.464419</td>\n",
       "      <td>1.652787</td>\n",
       "    </tr>\n",
       "    <tr>\n",
       "      <th>90</th>\n",
       "      <td>-14.305521</td>\n",
       "      <td>-1.540778</td>\n",
       "      <td>5.299388</td>\n",
       "    </tr>\n",
       "    <tr>\n",
       "      <th>91</th>\n",
       "      <td>-4.211883</td>\n",
       "      <td>-23.413668</td>\n",
       "      <td>-0.983279</td>\n",
       "    </tr>\n",
       "    <tr>\n",
       "      <th>92</th>\n",
       "      <td>-22.724123</td>\n",
       "      <td>5.064466</td>\n",
       "      <td>3.406509</td>\n",
       "    </tr>\n",
       "    <tr>\n",
       "      <th>93</th>\n",
       "      <td>0.281244</td>\n",
       "      <td>-20.996964</td>\n",
       "      <td>-3.597579</td>\n",
       "    </tr>\n",
       "    <tr>\n",
       "      <th>94</th>\n",
       "      <td>-21.806348</td>\n",
       "      <td>3.434910</td>\n",
       "      <td>3.004875</td>\n",
       "    </tr>\n",
       "    <tr>\n",
       "      <th>95</th>\n",
       "      <td>2.510444</td>\n",
       "      <td>-20.181632</td>\n",
       "      <td>2.884877</td>\n",
       "    </tr>\n",
       "    <tr>\n",
       "      <th>96</th>\n",
       "      <td>21.155656</td>\n",
       "      <td>-6.036555</td>\n",
       "      <td>2.464411</td>\n",
       "    </tr>\n",
       "    <tr>\n",
       "      <th>97</th>\n",
       "      <td>2.510444</td>\n",
       "      <td>-20.181632</td>\n",
       "      <td>2.884877</td>\n",
       "    </tr>\n",
       "    <tr>\n",
       "      <th>98</th>\n",
       "      <td>2.510444</td>\n",
       "      <td>-20.181632</td>\n",
       "      <td>2.884877</td>\n",
       "    </tr>\n",
       "    <tr>\n",
       "      <th>99</th>\n",
       "      <td>2.510444</td>\n",
       "      <td>-20.181632</td>\n",
       "      <td>2.884877</td>\n",
       "    </tr>\n",
       "    <tr>\n",
       "      <th>100</th>\n",
       "      <td>5.038344</td>\n",
       "      <td>-6.300189</td>\n",
       "      <td>-1.067100</td>\n",
       "    </tr>\n",
       "    <tr>\n",
       "      <th>101</th>\n",
       "      <td>-29.002561</td>\n",
       "      <td>6.368195</td>\n",
       "      <td>-4.906125</td>\n",
       "    </tr>\n",
       "    <tr>\n",
       "      <th>102</th>\n",
       "      <td>-15.073987</td>\n",
       "      <td>12.165706</td>\n",
       "      <td>-3.557411</td>\n",
       "    </tr>\n",
       "    <tr>\n",
       "      <th>103</th>\n",
       "      <td>14.605300</td>\n",
       "      <td>13.288926</td>\n",
       "      <td>-2.474625</td>\n",
       "    </tr>\n",
       "    <tr>\n",
       "      <th>104</th>\n",
       "      <td>16.589916</td>\n",
       "      <td>-11.271121</td>\n",
       "      <td>-4.816536</td>\n",
       "    </tr>\n",
       "    <tr>\n",
       "      <th>105</th>\n",
       "      <td>20.693799</td>\n",
       "      <td>13.456612</td>\n",
       "      <td>0.029398</td>\n",
       "    </tr>\n",
       "    <tr>\n",
       "      <th>106</th>\n",
       "      <td>4.654538</td>\n",
       "      <td>7.894375</td>\n",
       "      <td>5.374924</td>\n",
       "    </tr>\n",
       "    <tr>\n",
       "      <th>107</th>\n",
       "      <td>-5.866806</td>\n",
       "      <td>-13.270626</td>\n",
       "      <td>-2.350050</td>\n",
       "    </tr>\n",
       "    <tr>\n",
       "      <th>108</th>\n",
       "      <td>-10.408305</td>\n",
       "      <td>8.893657</td>\n",
       "      <td>-2.098407</td>\n",
       "    </tr>\n",
       "    <tr>\n",
       "      <th>109</th>\n",
       "      <td>-4.366241</td>\n",
       "      <td>-12.467366</td>\n",
       "      <td>4.576693</td>\n",
       "    </tr>\n",
       "    <tr>\n",
       "      <th>110</th>\n",
       "      <td>22.165178</td>\n",
       "      <td>1.701722</td>\n",
       "      <td>-1.998712</td>\n",
       "    </tr>\n",
       "  </tbody>\n",
       "</table>\n",
       "<p>111 rows × 3 columns</p>\n",
       "</div>"
      ],
      "text/plain": [
       "            y1         y2        y3\n",
       "0    15.082215  -5.248569  0.048376\n",
       "1    14.428133  17.671144  1.892574\n",
       "2    13.639695 -23.445469  1.156799\n",
       "3   -14.621491   0.000358  4.929759\n",
       "4    15.061054   1.235525  4.753541\n",
       "5    25.807668  -9.829462 -3.863466\n",
       "6    23.531258  10.713016 -2.285297\n",
       "7     6.219236  16.677622  3.517117\n",
       "8    -8.030760  19.209484 -0.108838\n",
       "9     3.667738 -12.163948 -2.651874\n",
       "10  -25.385887   6.921369 -0.923274\n",
       "11  -18.109585  -6.272211 -2.593582\n",
       "12   -7.415439  12.167604  7.005887\n",
       "13   -1.892957  -4.404403  1.694402\n",
       "14    6.662982  -2.197304  0.226222\n",
       "15  -19.011805  -8.906402  0.919327\n",
       "16   -3.696731  -8.084839 -3.063323\n",
       "17   -8.068619  -8.045960  2.773495\n",
       "18  -17.679583  -6.853342  1.101581\n",
       "19  -12.575708  16.784550  0.521026\n",
       "20    4.133068 -13.822580  0.358419\n",
       "21   -4.049510  -0.227776 -2.717663\n",
       "22  -14.537127  -3.968990 -4.846054\n",
       "23    2.794810   4.126051 -2.072995\n",
       "24   10.011944  -0.213646 -4.667042\n",
       "25    6.116435  20.334460  3.171829\n",
       "26   -0.660125  -6.717393 -0.263610\n",
       "27   -2.891440  21.818792  3.890964\n",
       "28  -18.544970  -2.712193  1.235653\n",
       "29   -2.316941   1.150433  3.075732\n",
       "..         ...        ...       ...\n",
       "81   -3.518928  -4.669416 -1.020607\n",
       "82   10.402309  16.726614 -2.195761\n",
       "83   19.102320   5.126239  2.626096\n",
       "84    3.132885  10.295284 -1.424803\n",
       "85   -8.971308  17.590611 -1.658669\n",
       "86  -22.682182   6.331654 -0.764240\n",
       "87   -3.129293 -16.021407  2.990539\n",
       "88   -1.259672  -6.353499 -5.644749\n",
       "89   -4.587775   4.464419  1.652787\n",
       "90  -14.305521  -1.540778  5.299388\n",
       "91   -4.211883 -23.413668 -0.983279\n",
       "92  -22.724123   5.064466  3.406509\n",
       "93    0.281244 -20.996964 -3.597579\n",
       "94  -21.806348   3.434910  3.004875\n",
       "95    2.510444 -20.181632  2.884877\n",
       "96   21.155656  -6.036555  2.464411\n",
       "97    2.510444 -20.181632  2.884877\n",
       "98    2.510444 -20.181632  2.884877\n",
       "99    2.510444 -20.181632  2.884877\n",
       "100   5.038344  -6.300189 -1.067100\n",
       "101 -29.002561   6.368195 -4.906125\n",
       "102 -15.073987  12.165706 -3.557411\n",
       "103  14.605300  13.288926 -2.474625\n",
       "104  16.589916 -11.271121 -4.816536\n",
       "105  20.693799  13.456612  0.029398\n",
       "106   4.654538   7.894375  5.374924\n",
       "107  -5.866806 -13.270626 -2.350050\n",
       "108 -10.408305   8.893657 -2.098407\n",
       "109  -4.366241 -12.467366  4.576693\n",
       "110  22.165178   1.701722 -1.998712\n",
       "\n",
       "[111 rows x 3 columns]"
      ]
     },
     "execution_count": 33,
     "metadata": {},
     "output_type": "execute_result"
    }
   ],
   "source": [
    "y_tot = pd.concat([xy_tot.pop(x) for x in ['y1', 'y2','y3']], 1)\n",
    "y_tot"
   ]
  },
  {
   "cell_type": "markdown",
   "metadata": {},
   "source": [
    "On génère des points d'échantillonnages suivant une distribution uniforme indépendante pour chaque variable - Les variables d'entrée du dataset sont normalisées entre 0 et 1"
   ]
  },
  {
   "cell_type": "code",
   "execution_count": 36,
   "metadata": {},
   "outputs": [],
   "source": [
    "distribution = ot.ComposedDistribution([ot.Uniform(0.0, 1.0)] * 11)\n",
    "dimension = distribution.getDimension()\n",
    "distribution.setDescription([\"Logive\", \"Rnez\", \"Lfente\", \"Pfente\", \"Dengin\", \"LBB\", \"Pos\",\"Fleche_BA\", \"Fleche_BF\", \"Corde\", \"H\"])"
   ]
  },
  {
   "cell_type": "code",
   "execution_count": 37,
   "metadata": {},
   "outputs": [
    {
     "data": {
      "text/plain": [
       "130000"
      ]
     },
     "execution_count": 37,
     "metadata": {},
     "output_type": "execute_result"
    }
   ],
   "source": [
    "ot.RandomGenerator.SetSeed(0)\n",
    "size = 10000\n",
    "inputDesign = ot.SobolIndicesExperiment(distribution, size, False).generate()\n",
    "inputDesign.getSize()"
   ]
  },
  {
   "cell_type": "markdown",
   "metadata": {},
   "source": [
    "**Explication cf site OpenTURNS** : Sensitivity algorithms rely on the definition of specific designs. The method generates designs that can be used for Saltelli, Jansen, Martinez and MauntzKucherenko methods. This precomputes such input designs using distribution or experiment by generating a MC sample of twice the dimension by duplicating the distribution into a 2d distribution with repeated marginals, in order to also work with non-iid samples such as those generated by LHSExperiment or LowDiscrepancyExperiment. The sampling is done according to the given experiment, then it is split into samples A and B and the columns of these ones are mixed to define the huge sample (design). If computeSecondOrder is set to False, the result design is of size N(d+2) where d is the dimension of the distribution. If computeSecondOrder is set to True, the design size is N(2d+2).\n"
   ]
  },
  {
   "cell_type": "markdown",
   "metadata": {},
   "source": [
    "=> Input pour pick and freeze"
   ]
  },
  {
   "cell_type": "markdown",
   "metadata": {},
   "source": [
    "On va calculer les indices en s'appuyant sur un métamodèle pour calculer les valeurs sur les points d'échantillonnage - ici modèle linéaire **avec interactions**"
   ]
  },
  {
   "cell_type": "code",
   "execution_count": 38,
   "metadata": {},
   "outputs": [],
   "source": [
    "import sklearn.linear_model as lm\n",
    "from sklearn.preprocessing import PolynomialFeatures"
   ]
  },
  {
   "cell_type": "code",
   "execution_count": 39,
   "metadata": {},
   "outputs": [],
   "source": [
    "interaction = PolynomialFeatures(degree=2, include_bias=False, interaction_only=True)\n",
    "X_inter = interaction.fit_transform(xy_tot)"
   ]
  },
  {
   "cell_type": "markdown",
   "metadata": {},
   "source": [
    "**On fitte un modèle linéaire avec interactions par composante**"
   ]
  },
  {
   "cell_type": "code",
   "execution_count": 40,
   "metadata": {},
   "outputs": [
    {
     "data": {
      "text/plain": [
       "LinearRegression(copy_X=True, fit_intercept=True, n_jobs=None,\n",
       "         normalize=False)"
      ]
     },
     "execution_count": 40,
     "metadata": {},
     "output_type": "execute_result"
    }
   ],
   "source": [
    "linreg1 = lm.LinearRegression()\n",
    "linreg1.fit(X_inter, y_tot['y1'])\n",
    "linreg2 = lm.LinearRegression()\n",
    "linreg2.fit(X_inter, y_tot['y2'])\n",
    "linreg3 = lm.LinearRegression()\n",
    "linreg3.fit(X_inter, y_tot['y3'])"
   ]
  },
  {
   "cell_type": "markdown",
   "metadata": {},
   "source": [
    "On vérifie la qualité des métamodèles"
   ]
  },
  {
   "cell_type": "code",
   "execution_count": 41,
   "metadata": {},
   "outputs": [
    {
     "name": "stdout",
     "output_type": "stream",
     "text": [
      "Populating the interactive namespace from numpy and matplotlib\n"
     ]
    },
    {
     "name": "stderr",
     "output_type": "stream",
     "text": [
      "C:\\Users\\lefebvre\\Anaconda3\\lib\\site-packages\\IPython\\core\\magics\\pylab.py:160: UserWarning: pylab import has clobbered these variables: ['size']\n",
      "`%matplotlib` prevents importing * from pylab and numpy\n",
      "  \"\\n`%matplotlib` prevents importing * from pylab and numpy\"\n"
     ]
    },
    {
     "data": {
      "text/plain": [
       "[<matplotlib.lines.Line2D at 0x27dbf7c7978>]"
      ]
     },
     "execution_count": 41,
     "metadata": {},
     "output_type": "execute_result"
    },
    {
     "data": {
      "image/png": "[encoded data removed]",
      "text/plain": [
       "<Figure size 432x288 with 1 Axes>"
      ]
     },
     "metadata": {
      "needs_background": "light"
     },
     "output_type": "display_data"
    }
   ],
   "source": [
    "import matplotlib.pyplot as plt\n",
    "%pylab inline\n",
    "plt.plot(y_tot['y1'],linreg1.predict(X_inter),'o')"
   ]
  },
  {
   "cell_type": "code",
   "execution_count": 42,
   "metadata": {},
   "outputs": [
    {
     "data": {
      "text/plain": [
       "[<matplotlib.lines.Line2D at 0x27dbf82c6d8>]"
      ]
     },
     "execution_count": 42,
     "metadata": {},
     "output_type": "execute_result"
    },
    {
     "data": {
      "image/png": "[encoded data removed]",
      "text/plain": [
       "<Figure size 432x288 with 1 Axes>"
      ]
     },
     "metadata": {
      "needs_background": "light"
     },
     "output_type": "display_data"
    }
   ],
   "source": [
    "plt.plot(y_tot['y2'],linreg2.predict(X_inter),'o')"
   ]
  },
  {
   "cell_type": "code",
   "execution_count": 43,
   "metadata": {},
   "outputs": [
    {
     "data": {
      "text/plain": [
       "[<matplotlib.lines.Line2D at 0x27dbf8819b0>]"
      ]
     },
     "execution_count": 43,
     "metadata": {},
     "output_type": "execute_result"
    },
    {
     "data": {
      "image/png": "[encoded data removed]",
      "text/plain": [
       "<Figure size 432x288 with 1 Axes>"
      ]
     },
     "metadata": {
      "needs_background": "light"
     },
     "output_type": "display_data"
    }
   ],
   "source": [
    "plt.plot(y_tot['y3'],linreg3.predict(X_inter),'o')"
   ]
  },
  {
   "cell_type": "code",
   "execution_count": 44,
   "metadata": {},
   "outputs": [
    {
     "data": {
      "text/plain": [
       "0.970523264402092"
      ]
     },
     "execution_count": 44,
     "metadata": {},
     "output_type": "execute_result"
    }
   ],
   "source": [
    "linreg1.score(X_inter,y_tot['y1'])"
   ]
  },
  {
   "cell_type": "code",
   "execution_count": 45,
   "metadata": {},
   "outputs": [
    {
     "data": {
      "text/plain": [
       "0.9407882932205576"
      ]
     },
     "execution_count": 45,
     "metadata": {},
     "output_type": "execute_result"
    }
   ],
   "source": [
    "linreg2.score(X_inter,y_tot['y2'])"
   ]
  },
  {
   "cell_type": "code",
   "execution_count": 46,
   "metadata": {},
   "outputs": [
    {
     "data": {
      "text/plain": [
       "0.9790872580655986"
      ]
     },
     "execution_count": 46,
     "metadata": {},
     "output_type": "execute_result"
    }
   ],
   "source": [
    "linreg3.score(X_inter,y_tot['y3'])"
   ]
  },
  {
   "cell_type": "markdown",
   "metadata": {},
   "source": [
    "**On calcule les valeurs prédites pour les points d'échantillonnage**"
   ]
  },
  {
   "cell_type": "code",
   "execution_count": 47,
   "metadata": {},
   "outputs": [],
   "source": [
    "inputDesignb = interaction.fit_transform(inputDesign)"
   ]
  },
  {
   "cell_type": "code",
   "execution_count": 48,
   "metadata": {},
   "outputs": [],
   "source": [
    "outputDesign=np.zeros((np.shape(inputDesignb)[0],3))\n",
    "outputDesign[:,0] = linreg1.predict(inputDesignb)\n",
    "outputDesign[:,1] = linreg2.predict(inputDesignb)\n",
    "outputDesign[:,2] = linreg3.predict(inputDesignb)"
   ]
  },
  {
   "cell_type": "code",
   "execution_count": 49,
   "metadata": {},
   "outputs": [],
   "source": [
    "outputDesign1=ot.Sample(outputDesign)"
   ]
  },
  {
   "cell_type": "markdown",
   "metadata": {},
   "source": [
    "**On calcule les indices de sensibilité principaux et totaux et les IC associés avec méthode de Martinez pour la première composante**"
   ]
  },
  {
   "cell_type": "code",
   "execution_count": 50,
   "metadata": {},
   "outputs": [],
   "source": [
    "ot.RandomGenerator.SetSeed(0)\n",
    "size = 10000\n",
    "inputDesign = ot.SobolIndicesExperiment(distribution, size, False).generate()"
   ]
  },
  {
   "cell_type": "code",
   "execution_count": 51,
   "metadata": {
    "scrolled": true
   },
   "outputs": [],
   "source": [
    "sensitivityAnalysis = ot.MartinezSensitivityAlgorithm(inputDesign, outputDesign1.getMarginal([0]), size)\n",
    "first_indice = sensitivityAnalysis.getFirstOrderIndices()\n",
    "total_indice = sensitivityAnalysis.getTotalOrderIndices()\n",
    "first_indiceIC = sensitivityAnalysis.getFirstOrderIndicesInterval()\n",
    "total_indiceIC = sensitivityAnalysis.getTotalOrderIndicesInterval()\n"
   ]
  },
  {
   "cell_type": "code",
   "execution_count": 52,
   "metadata": {},
   "outputs": [
    {
     "name": "stdout",
     "output_type": "stream",
     "text": [
      "[0.022531,-0.014248,-0.0140205,-0.0133593,-0.0112318,0.473554,-0.00514327,0.053375,-0.00422653,0.0730302,0.261011]#11\n",
      "[0.0447973,0.0156877,0.00125672,0.00597272,0.00910463,0.491434,0.0130709,0.0731795,0.0187353,0.102983,0.282423]#11\n",
      "[-0.000233452, 0.0461605]\r\n",
      "[-0.0367245, 0.00939048]\r\n",
      "[-0.0367918, 0.00911211]\r\n",
      "[-0.035165, 0.00948617]\r\n",
      "[-0.0339717, 0.0121772]\r\n",
      "[0.458676, 0.486185]\r\n",
      "[-0.0286338, 0.0180825]\r\n",
      "[0.0299223, 0.0753763]\r\n",
      "[-0.0279425, 0.0196564]\r\n",
      "[0.0484278, 0.0971254]\r\n",
      "[0.239584, 0.281736]\n",
      "[0.0128929, 0.075024]\r\n",
      "[-0.0159514, 0.0452715]\r\n",
      "[-0.0298046, 0.0304058]\r\n",
      "[-0.0251899, 0.0352313]\r\n",
      "[-0.0223945, 0.0387036]\r\n",
      "[0.450296, 0.53096]\r\n",
      "[-0.018276, 0.0426964]\r\n",
      "[0.0395589, 0.103404]\r\n",
      "[-0.0126653, 0.048192]\r\n",
      "[0.0692628, 0.134671]\r\n",
      "[0.243399, 0.31973]\n"
     ]
    }
   ],
   "source": [
    "print(first_indice)\n",
    "print(total_indice)\n",
    "print(first_indiceIC)\n",
    "print(total_indiceIC)"
   ]
  },
  {
   "cell_type": "code",
   "execution_count": 53,
   "metadata": {},
   "outputs": [
    {
     "data": {
      "image/png": "[encoded data removed]",
      "text/plain": [
       "class=Graph name=Sobol' indices implementation=class=GraphImplementation name=Sobol' indices title=Sobol' indices - MartinezSensitivityAlgorithm xTitle=inputs yTitle=index value axes=ON grid=ON legendposition=topright legendFontSize=1 drawables=[class=Drawable name=First order implementation=class=Cloud name=First order derived from class=DrawableImplementation name=First order legend=First order data=class=Sample name=Unnamed implementation=class=SampleImplementation name=Unnamed size=11 dimension=2 data=[[1,0.022531],[2,-0.014248],[3,-0.0140205],[4,-0.0133593],[5,-0.0112318],[6,0.473554],[7,-0.00514327],[8,0.053375],[9,-0.00422653],[10,0.0730302],[11,0.261011]] color=red fillStyle=solid lineStyle=solid pointStyle=circle lineWidth=1,class=Drawable name=Total order implementation=class=Cloud name=Total order derived from class=DrawableImplementation name=Total order legend=Total order data=class=Sample name=Unnamed implementation=class=SampleImplementation name=Unnamed size=11 dimension=2 data=[[1.275,0.0447973],[2.275,0.0156877],[3.275,0.00125672],[4.275,0.00597272],[5.275,0.00910463],[6.275,0.491434],[7.275,0.0130709],[8.275,0.0731795],[9.275,0.0187353],[10.275,0.102983],[11.275,0.282423]] color=blue fillStyle=solid lineStyle=solid pointStyle=square lineWidth=1,class=Drawable name=Unnamed implementation=class=Text name=Unnamed derived from class=DrawableImplementation name=Unnamed legend= data=class=Sample name=Unnamed implementation=class=SampleImplementation name=Unnamed size=11 dimension=2 data=[[1.55,0.0336642],[2.55,0.000719867],[3.55,-0.00638191],[4.55,-0.00369329],[5.55,-0.00106359],[6.55,0.482494],[7.55,0.00396383],[8.55,0.0632773],[9.55,0.00725437],[10.55,0.0880065],[11.55,0.271717]] color=black fillStyle=solid lineStyle=solid pointStyle=plus lineWidth=1,class=Drawable name=Unnamed implementation=class=Curve name=Unnamed derived from class=DrawableImplementation name=Unnamed legend= data=class=Sample name=Unnamed implementation=class=SampleImplementation name=Unnamed size=2 dimension=2 data=[[1,-0.000233452],[1,0.0461605]] color=red fillStyle=solid lineStyle=solid pointStyle=none lineWidth=2,class=Drawable name=Unnamed implementation=class=Curve name=Unnamed derived from class=DrawableImplementation name=Unnamed legend= data=class=Sample name=Unnamed implementation=class=SampleImplementation name=Unnamed size=2 dimension=2 data=[[1.275,0.0128929],[1.275,0.075024]] color=blue fillStyle=solid lineStyle=solid pointStyle=none lineWidth=2,class=Drawable name=Unnamed implementation=class=Curve name=Unnamed derived from class=DrawableImplementation name=Unnamed legend= data=class=Sample name=Unnamed implementation=class=SampleImplementation name=Unnamed size=2 dimension=2 data=[[2,-0.0367245],[2,0.00939048]] color=red fillStyle=solid lineStyle=solid pointStyle=none lineWidth=2,class=Drawable name=Unnamed implementation=class=Curve name=Unnamed derived from class=DrawableImplementation name=Unnamed legend= data=class=Sample name=Unnamed implementation=class=SampleImplementation name=Unnamed size=2 dimension=2 data=[[2.275,-0.0159514],[2.275,0.0452715]] color=blue fillStyle=solid lineStyle=solid pointStyle=none lineWidth=2,class=Drawable name=Unnamed implementation=class=Curve name=Unnamed derived from class=DrawableImplementation name=Unnamed legend= data=class=Sample name=Unnamed implementation=class=SampleImplementation name=Unnamed size=2 dimension=2 data=[[3,-0.0367918],[3,0.00911211]] color=red fillStyle=solid lineStyle=solid pointStyle=none lineWidth=2,class=Drawable name=Unnamed implementation=class=Curve name=Unnamed derived from class=DrawableImplementation name=Unnamed legend= data=class=Sample name=Unnamed implementation=class=SampleImplementation name=Unnamed size=2 dimension=2 data=[[3.275,-0.0298046],[3.275,0.0304058]] color=blue fillStyle=solid lineStyle=solid pointStyle=none lineWidth=2,class=Drawable name=Unnamed implementation=class=Curve name=Unnamed derived from class=DrawableImplementation name=Unnamed legend= data=class=Sample name=Unnamed implementation=class=SampleImplementation name=Unnamed size=2 dimension=2 data=[[4,-0.035165],[4,0.00948617]] color=red fillStyle=solid lineStyle=solid pointStyle=none lineWidth=2,class=Drawable name=Unnamed implementation=class=Curve name=Unnamed derived from class=DrawableImplementation name=Unnamed legend= data=class=Sample name=Unnamed implementation=class=SampleImplementation name=Unnamed size=2 dimension=2 data=[[4.275,-0.0251899],[4.275,0.0352313]] color=blue fillStyle=solid lineStyle=solid pointStyle=none lineWidth=2,class=Drawable name=Unnamed implementation=class=Curve name=Unnamed derived from class=DrawableImplementation name=Unnamed legend= data=class=Sample name=Unnamed implementation=class=SampleImplementation name=Unnamed size=2 dimension=2 data=[[5,-0.0339717],[5,0.0121772]] color=red fillStyle=solid lineStyle=solid pointStyle=none lineWidth=2,class=Drawable name=Unnamed implementation=class=Curve name=Unnamed derived from class=DrawableImplementation name=Unnamed legend= data=class=Sample name=Unnamed implementation=class=SampleImplementation name=Unnamed size=2 dimension=2 data=[[5.275,-0.0223945],[5.275,0.0387036]] color=blue fillStyle=solid lineStyle=solid pointStyle=none lineWidth=2,class=Drawable name=Unnamed implementation=class=Curve name=Unnamed derived from class=DrawableImplementation name=Unnamed legend= data=class=Sample name=Unnamed implementation=class=SampleImplementation name=Unnamed size=2 dimension=2 data=[[6,0.458676],[6,0.486185]] color=red fillStyle=solid lineStyle=solid pointStyle=none lineWidth=2,class=Drawable name=Unnamed implementation=class=Curve name=Unnamed derived from class=DrawableImplementation name=Unnamed legend= data=class=Sample name=Unnamed implementation=class=SampleImplementation name=Unnamed size=2 dimension=2 data=[[6.275,0.450296],[6.275,0.53096]] color=blue fillStyle=solid lineStyle=solid pointStyle=none lineWidth=2,class=Drawable name=Unnamed implementation=class=Curve name=Unnamed derived from class=DrawableImplementation name=Unnamed legend= data=class=Sample name=Unnamed implementation=class=SampleImplementation name=Unnamed size=2 dimension=2 data=[[7,-0.0286338],[7,0.0180825]] color=red fillStyle=solid lineStyle=solid pointStyle=none lineWidth=2,class=Drawable name=Unnamed implementation=class=Curve name=Unnamed derived from class=DrawableImplementation name=Unnamed legend= data=class=Sample name=Unnamed implementation=class=SampleImplementation name=Unnamed size=2 dimension=2 data=[[7.275,-0.018276],[7.275,0.0426964]] color=blue fillStyle=solid lineStyle=solid pointStyle=none lineWidth=2,class=Drawable name=Unnamed implementation=class=Curve name=Unnamed derived from class=DrawableImplementation name=Unnamed legend= data=class=Sample name=Unnamed implementation=class=SampleImplementation name=Unnamed size=2 dimension=2 data=[[8,0.0299223],[8,0.0753763]] color=red fillStyle=solid lineStyle=solid pointStyle=none lineWidth=2,class=Drawable name=Unnamed implementation=class=Curve name=Unnamed derived from class=DrawableImplementation name=Unnamed legend= data=class=Sample name=Unnamed implementation=class=SampleImplementation name=Unnamed size=2 dimension=2 data=[[8.275,0.0395589],[8.275,0.103404]] color=blue fillStyle=solid lineStyle=solid pointStyle=none lineWidth=2,class=Drawable name=Unnamed implementation=class=Curve name=Unnamed derived from class=DrawableImplementation name=Unnamed legend= data=class=Sample name=Unnamed implementation=class=SampleImplementation name=Unnamed size=2 dimension=2 data=[[9,-0.0279425],[9,0.0196564]] color=red fillStyle=solid lineStyle=solid pointStyle=none lineWidth=2,class=Drawable name=Unnamed implementation=class=Curve name=Unnamed derived from class=DrawableImplementation name=Unnamed legend= data=class=Sample name=Unnamed implementation=class=SampleImplementation name=Unnamed size=2 dimension=2 data=[[9.275,-0.0126653],[9.275,0.048192]] color=blue fillStyle=solid lineStyle=solid pointStyle=none lineWidth=2,class=Drawable name=Unnamed implementation=class=Curve name=Unnamed derived from class=DrawableImplementation name=Unnamed legend= data=class=Sample name=Unnamed implementation=class=SampleImplementation name=Unnamed size=2 dimension=2 data=[[10,0.0484278],[10,0.0971254]] color=red fillStyle=solid lineStyle=solid pointStyle=none lineWidth=2,class=Drawable name=Unnamed implementation=class=Curve name=Unnamed derived from class=DrawableImplementation name=Unnamed legend= data=class=Sample name=Unnamed implementation=class=SampleImplementation name=Unnamed size=2 dimension=2 data=[[10.275,0.0692628],[10.275,0.134671]] color=blue fillStyle=solid lineStyle=solid pointStyle=none lineWidth=2,class=Drawable name=Unnamed implementation=class=Curve name=Unnamed derived from class=DrawableImplementation name=Unnamed legend= data=class=Sample name=Unnamed implementation=class=SampleImplementation name=Unnamed size=2 dimension=2 data=[[11,0.239584],[11,0.281736]] color=red fillStyle=solid lineStyle=solid pointStyle=none lineWidth=2,class=Drawable name=Unnamed implementation=class=Curve name=Unnamed derived from class=DrawableImplementation name=Unnamed legend= data=class=Sample name=Unnamed implementation=class=SampleImplementation name=Unnamed size=2 dimension=2 data=[[11.275,0.243399],[11.275,0.31973]] color=blue fillStyle=solid lineStyle=solid pointStyle=none lineWidth=2]"
      ]
     },
     "execution_count": 53,
     "metadata": {},
     "output_type": "execute_result"
    }
   ],
   "source": [
    "sensitivityAnalysis.draw()"
   ]
  },
  {
   "cell_type": "markdown",
   "metadata": {},
   "source": [
    "Analyse par composante"
   ]
  },
  {
   "cell_type": "code",
   "execution_count": 54,
   "metadata": {},
   "outputs": [],
   "source": [
    "for j in range(1,3):\n",
    "    sensitivityAnalysisb = ot.MartinezSensitivityAlgorithm(inputDesign, outputDesign1.getMarginal([j]), size)\n",
    "    bb = sensitivityAnalysisb.getFirstOrderIndices()\n",
    "    tt = sensitivityAnalysisb.getTotalOrderIndices()\n",
    "    first_indice=np.vstack((first_indice,bb))\n",
    "    total_indice=np.vstack((total_indice,tt))\n"
   ]
  },
  {
   "cell_type": "markdown",
   "metadata": {},
   "source": [
    "Tracés"
   ]
  },
  {
   "cell_type": "code",
   "execution_count": 55,
   "metadata": {},
   "outputs": [],
   "source": [
    "variables = [\"Logive\", \"Rnez\", \"Lfente\", \"Pfente\", \"Dengin\", \"LBB\", \"Pos\",\"Fleche_BA\", \"Fleche_BF\", \"Corde\", \"H\"]\n",
    "xxx = np.arange(len(variables))  # the label locations\n",
    "width = 0.2  # the width of the bars\n"
   ]
  },
  {
   "cell_type": "code",
   "execution_count": 56,
   "metadata": {},
   "outputs": [
    {
     "data": {
      "text/plain": [
       "<matplotlib.legend.Legend at 0x27dc0c427b8>"
      ]
     },
     "execution_count": 56,
     "metadata": {},
     "output_type": "execute_result"
    },
    {
     "data": {
      "image/png": "[encoded data removed]",
      "text/plain": [
       "<Figure size 432x288 with 1 Axes>"
      ]
     },
     "metadata": {
      "needs_background": "light"
     },
     "output_type": "display_data"
    }
   ],
   "source": [
    "fig, ax = plt.subplots()\n",
    "rects1 = ax.bar(xxx - width, first_indice[0,:], width, color='red',label='Composante1')\n",
    "rects2 = ax.bar(xxx , first_indice[1,:], width, color='blue',label='Composante2')\n",
    "rects3 = ax.bar(xxx + width, first_indice[2,:], width, color='green',label='Composante3')\n",
    "\n",
    "# Add some text for labels, title and custom x-axis tick labels, etc.\n",
    "ax.set_ylabel('Indices Principaux')\n",
    "ax.set_xticks(xxx)\n",
    "ax.set_xticklabels(variables)\n",
    "ax.legend()"
   ]
  },
  {
   "cell_type": "code",
   "execution_count": 57,
   "metadata": {},
   "outputs": [
    {
     "data": {
      "text/plain": [
       "<matplotlib.legend.Legend at 0x27dc0d027f0>"
      ]
     },
     "execution_count": 57,
     "metadata": {},
     "output_type": "execute_result"
    },
    {
     "data": {
      "image/png": "[encoded data removed]",
      "text/plain": [
       "<Figure size 432x288 with 1 Axes>"
      ]
     },
     "metadata": {
      "needs_background": "light"
     },
     "output_type": "display_data"
    }
   ],
   "source": [
    "fig, ax = plt.subplots()\n",
    "rects1 = ax.bar(xxx - width, total_indice[0,:], width, color='red',label='Composante1')\n",
    "rects2 = ax.bar(xxx , total_indice[1,:], width, color='blue',label='Composante2')\n",
    "rects3 = ax.bar(xxx + width, total_indice[2,:], width, color='green',label='Composante3')\n",
    "\n",
    "# Add some text for labels, title and custom x-axis tick labels, etc.\n",
    "ax.set_ylabel('Indices Totaux')\n",
    "ax.set_xticks(xxx)\n",
    "ax.set_xticklabels(variables)\n",
    "ax.legend()"
   ]
  },
  {
   "cell_type": "code",
   "execution_count": null,
   "metadata": {},
   "outputs": [],
   "source": []
  },
  {
   "cell_type": "markdown",
   "metadata": {},
   "source": [
    "**Analyse globale des 3 composantes**"
   ]
  },
  {
   "cell_type": "code",
   "execution_count": 58,
   "metadata": {},
   "outputs": [],
   "source": [
    "sensitivity_algorithm = ot.MartinezSensitivityAlgorithm(inputDesign, outputDesign1, size)"
   ]
  },
  {
   "cell_type": "code",
   "execution_count": 59,
   "metadata": {},
   "outputs": [
    {
     "name": "stdout",
     "output_type": "stream",
     "text": [
      "[0.0151212,-0.00854355,-0.0104087,-0.0103765,0.0269986,0.416756,-0.00412585,0.0667961,-0.0041967,0.112802,0.200923]#11\n",
      "[0.052845,0.0354414,0.0161217,0.0124949,0.0498801,0.44153,0.0121907,0.088794,0.0367803,0.138965,0.223261]#11\n"
     ]
    }
   ],
   "source": [
    "first_indiceag = sensitivity_algorithm.getAggregatedFirstOrderIndices()\n",
    "total_indiceag = sensitivity_algorithm.getAggregatedTotalOrderIndices()\n",
    "print(first_indiceag)\n",
    "print(total_indiceag)"
   ]
  },
  {
   "cell_type": "markdown",
   "metadata": {},
   "source": [
    "Calcul d'intervalles de confiance par bootstrap"
   ]
  },
  {
   "cell_type": "code",
   "execution_count": 60,
   "metadata": {},
   "outputs": [
    {
     "name": "stdout",
     "output_type": "stream",
     "text": [
      "bootstrap intervals\n",
      "Aggregated first order indices interval =  [-0.0012562, 0.0343153]\r\n",
      "[-0.0260659, 0.0112166]\r\n",
      "[-0.0273675, 0.00961852]\r\n",
      "[-0.028188, 0.0105824]\r\n",
      "[0.00922727, 0.0477072]\r\n",
      "[0.404945, 0.432543]\r\n",
      "[-0.0216457, 0.0160362]\r\n",
      "[0.0478843, 0.0877946]\r\n",
      "[-0.0213294, 0.0159221]\r\n",
      "[0.0940227, 0.132184]\r\n",
      "[0.185767, 0.217862]\n",
      "Aggregated total order indices interval =  [0.0297017, 0.0734331]\r\n",
      "[0.0122131, 0.0561221]\r\n",
      "[-0.00589868, 0.0357769]\r\n",
      "[-0.00965522, 0.0323454]\r\n",
      "[0.0263733, 0.0708627]\r\n",
      "[0.408552, 0.470644]\r\n",
      "[-0.010046, 0.0320897]\r\n",
      "[0.0646034, 0.109828]\r\n",
      "[0.0136064, 0.0576918]\r\n",
      "[0.115469, 0.161093]\r\n",
      "[0.198225, 0.24455]\n"
     ]
    }
   ],
   "source": [
    "nr_bootstrap = 100\n",
    "confidence_level = 0.95\n",
    "\n",
    "sensitivity_algorithm.setBootstrapSize(nr_bootstrap)\n",
    "sensitivity_algorithm.setConfidenceLevel(confidence_level)\n",
    "sensitivity_algorithm.setUseAsymptoticDistribution(False)\n",
    "interval_fo = sensitivity_algorithm.getFirstOrderIndicesInterval()\n",
    "interval_to = sensitivity_algorithm.getTotalOrderIndicesInterval()\n",
    "print(\"bootstrap intervals\")\n",
    "print(\"Aggregated first order indices interval = \", interval_fo)\n",
    "print(\"Aggregated total order indices interval = \", interval_to)"
   ]
  },
  {
   "cell_type": "markdown",
   "metadata": {},
   "source": [
    "Plot"
   ]
  },
  {
   "cell_type": "code",
   "execution_count": 61,
   "metadata": {},
   "outputs": [
    {
     "data": {
      "image/png": "[encoded data removed]",
      "text/plain": [
       "class=Graph name=Sobol' indices implementation=class=GraphImplementation name=Sobol' indices title=Aggregated Sobol' indices - MartinezSensitivityAlgorithm xTitle=inputs yTitle=index value axes=ON grid=ON legendposition=topright legendFontSize=1 drawables=[class=Drawable name=First order implementation=class=Cloud name=First order derived from class=DrawableImplementation name=First order legend=First order data=class=Sample name=Unnamed implementation=class=SampleImplementation name=Unnamed size=11 dimension=2 data=[[1,0.0151212],[2,-0.00854355],[3,-0.0104087],[4,-0.0103765],[5,0.0269986],[6,0.416756],[7,-0.00412585],[8,0.0667961],[9,-0.0041967],[10,0.112802],[11,0.200923]] color=red fillStyle=solid lineStyle=solid pointStyle=circle lineWidth=1,class=Drawable name=Total order implementation=class=Cloud name=Total order derived from class=DrawableImplementation name=Total order legend=Total order data=class=Sample name=Unnamed implementation=class=SampleImplementation name=Unnamed size=11 dimension=2 data=[[1.275,0.052845],[2.275,0.0354414],[3.275,0.0161217],[4.275,0.0124949],[5.275,0.0498801],[6.275,0.44153],[7.275,0.0121907],[8.275,0.088794],[9.275,0.0367803],[10.275,0.138965],[11.275,0.223261]] color=blue fillStyle=solid lineStyle=solid pointStyle=square lineWidth=1,class=Drawable name=Unnamed implementation=class=Text name=Unnamed derived from class=DrawableImplementation name=Unnamed legend= data=class=Sample name=Unnamed implementation=class=SampleImplementation name=Unnamed size=11 dimension=2 data=[[1.55,0.0339831],[2.55,0.0134489],[3.55,0.0028565],[4.55,0.00105924],[5.55,0.0384394],[6.55,0.429143],[7.55,0.00403243],[8.55,0.0777951],[9.55,0.0162918],[10.55,0.125883],[11.55,0.212092]] color=black fillStyle=solid lineStyle=solid pointStyle=plus lineWidth=1,class=Drawable name=Unnamed implementation=class=Curve name=Unnamed derived from class=DrawableImplementation name=Unnamed legend= data=class=Sample name=Unnamed implementation=class=SampleImplementation name=Unnamed size=2 dimension=2 data=[[1,-0.0012562],[1,0.0343153]] color=red fillStyle=solid lineStyle=solid pointStyle=none lineWidth=2,class=Drawable name=Unnamed implementation=class=Curve name=Unnamed derived from class=DrawableImplementation name=Unnamed legend= data=class=Sample name=Unnamed implementation=class=SampleImplementation name=Unnamed size=2 dimension=2 data=[[1.275,0.0297017],[1.275,0.0734331]] color=blue fillStyle=solid lineStyle=solid pointStyle=none lineWidth=2,class=Drawable name=Unnamed implementation=class=Curve name=Unnamed derived from class=DrawableImplementation name=Unnamed legend= data=class=Sample name=Unnamed implementation=class=SampleImplementation name=Unnamed size=2 dimension=2 data=[[2,-0.0260659],[2,0.0112166]] color=red fillStyle=solid lineStyle=solid pointStyle=none lineWidth=2,class=Drawable name=Unnamed implementation=class=Curve name=Unnamed derived from class=DrawableImplementation name=Unnamed legend= data=class=Sample name=Unnamed implementation=class=SampleImplementation name=Unnamed size=2 dimension=2 data=[[2.275,0.0122131],[2.275,0.0561221]] color=blue fillStyle=solid lineStyle=solid pointStyle=none lineWidth=2,class=Drawable name=Unnamed implementation=class=Curve name=Unnamed derived from class=DrawableImplementation name=Unnamed legend= data=class=Sample name=Unnamed implementation=class=SampleImplementation name=Unnamed size=2 dimension=2 data=[[3,-0.0273675],[3,0.00961852]] color=red fillStyle=solid lineStyle=solid pointStyle=none lineWidth=2,class=Drawable name=Unnamed implementation=class=Curve name=Unnamed derived from class=DrawableImplementation name=Unnamed legend= data=class=Sample name=Unnamed implementation=class=SampleImplementation name=Unnamed size=2 dimension=2 data=[[3.275,-0.00589868],[3.275,0.0357769]] color=blue fillStyle=solid lineStyle=solid pointStyle=none lineWidth=2,class=Drawable name=Unnamed implementation=class=Curve name=Unnamed derived from class=DrawableImplementation name=Unnamed legend= data=class=Sample name=Unnamed implementation=class=SampleImplementation name=Unnamed size=2 dimension=2 data=[[4,-0.028188],[4,0.0105824]] color=red fillStyle=solid lineStyle=solid pointStyle=none lineWidth=2,class=Drawable name=Unnamed implementation=class=Curve name=Unnamed derived from class=DrawableImplementation name=Unnamed legend= data=class=Sample name=Unnamed implementation=class=SampleImplementation name=Unnamed size=2 dimension=2 data=[[4.275,-0.00965522],[4.275,0.0323454]] color=blue fillStyle=solid lineStyle=solid pointStyle=none lineWidth=2,class=Drawable name=Unnamed implementation=class=Curve name=Unnamed derived from class=DrawableImplementation name=Unnamed legend= data=class=Sample name=Unnamed implementation=class=SampleImplementation name=Unnamed size=2 dimension=2 data=[[5,0.00922727],[5,0.0477072]] color=red fillStyle=solid lineStyle=solid pointStyle=none lineWidth=2,class=Drawable name=Unnamed implementation=class=Curve name=Unnamed derived from class=DrawableImplementation name=Unnamed legend= data=class=Sample name=Unnamed implementation=class=SampleImplementation name=Unnamed size=2 dimension=2 data=[[5.275,0.0263733],[5.275,0.0708627]] color=blue fillStyle=solid lineStyle=solid pointStyle=none lineWidth=2,class=Drawable name=Unnamed implementation=class=Curve name=Unnamed derived from class=DrawableImplementation name=Unnamed legend= data=class=Sample name=Unnamed implementation=class=SampleImplementation name=Unnamed size=2 dimension=2 data=[[6,0.404945],[6,0.432543]] color=red fillStyle=solid lineStyle=solid pointStyle=none lineWidth=2,class=Drawable name=Unnamed implementation=class=Curve name=Unnamed derived from class=DrawableImplementation name=Unnamed legend= data=class=Sample name=Unnamed implementation=class=SampleImplementation name=Unnamed size=2 dimension=2 data=[[6.275,0.408552],[6.275,0.470644]] color=blue fillStyle=solid lineStyle=solid pointStyle=none lineWidth=2,class=Drawable name=Unnamed implementation=class=Curve name=Unnamed derived from class=DrawableImplementation name=Unnamed legend= data=class=Sample name=Unnamed implementation=class=SampleImplementation name=Unnamed size=2 dimension=2 data=[[7,-0.0216457],[7,0.0160362]] color=red fillStyle=solid lineStyle=solid pointStyle=none lineWidth=2,class=Drawable name=Unnamed implementation=class=Curve name=Unnamed derived from class=DrawableImplementation name=Unnamed legend= data=class=Sample name=Unnamed implementation=class=SampleImplementation name=Unnamed size=2 dimension=2 data=[[7.275,-0.010046],[7.275,0.0320897]] color=blue fillStyle=solid lineStyle=solid pointStyle=none lineWidth=2,class=Drawable name=Unnamed implementation=class=Curve name=Unnamed derived from class=DrawableImplementation name=Unnamed legend= data=class=Sample name=Unnamed implementation=class=SampleImplementation name=Unnamed size=2 dimension=2 data=[[8,0.0478843],[8,0.0877946]] color=red fillStyle=solid lineStyle=solid pointStyle=none lineWidth=2,class=Drawable name=Unnamed implementation=class=Curve name=Unnamed derived from class=DrawableImplementation name=Unnamed legend= data=class=Sample name=Unnamed implementation=class=SampleImplementation name=Unnamed size=2 dimension=2 data=[[8.275,0.0646034],[8.275,0.109828]] color=blue fillStyle=solid lineStyle=solid pointStyle=none lineWidth=2,class=Drawable name=Unnamed implementation=class=Curve name=Unnamed derived from class=DrawableImplementation name=Unnamed legend= data=class=Sample name=Unnamed implementation=class=SampleImplementation name=Unnamed size=2 dimension=2 data=[[9,-0.0213294],[9,0.0159221]] color=red fillStyle=solid lineStyle=solid pointStyle=none lineWidth=2,class=Drawable name=Unnamed implementation=class=Curve name=Unnamed derived from class=DrawableImplementation name=Unnamed legend= data=class=Sample name=Unnamed implementation=class=SampleImplementation name=Unnamed size=2 dimension=2 data=[[9.275,0.0136064],[9.275,0.0576918]] color=blue fillStyle=solid lineStyle=solid pointStyle=none lineWidth=2,class=Drawable name=Unnamed implementation=class=Curve name=Unnamed derived from class=DrawableImplementation name=Unnamed legend= data=class=Sample name=Unnamed implementation=class=SampleImplementation name=Unnamed size=2 dimension=2 data=[[10,0.0940227],[10,0.132184]] color=red fillStyle=solid lineStyle=solid pointStyle=none lineWidth=2,class=Drawable name=Unnamed implementation=class=Curve name=Unnamed derived from class=DrawableImplementation name=Unnamed legend= data=class=Sample name=Unnamed implementation=class=SampleImplementation name=Unnamed size=2 dimension=2 data=[[10.275,0.115469],[10.275,0.161093]] color=blue fillStyle=solid lineStyle=solid pointStyle=none lineWidth=2,class=Drawable name=Unnamed implementation=class=Curve name=Unnamed derived from class=DrawableImplementation name=Unnamed legend= data=class=Sample name=Unnamed implementation=class=SampleImplementation name=Unnamed size=2 dimension=2 data=[[11,0.185767],[11,0.217862]] color=red fillStyle=solid lineStyle=solid pointStyle=none lineWidth=2,class=Drawable name=Unnamed implementation=class=Curve name=Unnamed derived from class=DrawableImplementation name=Unnamed legend= data=class=Sample name=Unnamed implementation=class=SampleImplementation name=Unnamed size=2 dimension=2 data=[[11.275,0.198225],[11.275,0.24455]] color=blue fillStyle=solid lineStyle=solid pointStyle=none lineWidth=2]"
      ]
     },
     "execution_count": 61,
     "metadata": {},
     "output_type": "execute_result"
    }
   ],
   "source": [
    "graph = sensitivity_algorithm.draw()\n",
    "graph"
   ]
  },
  {
   "cell_type": "code",
   "execution_count": null,
   "metadata": {},
   "outputs": [],
   "source": []
  }
 ],
 "metadata": {
  "kernelspec": {
   "display_name": "Python 3",
   "language": "python",
   "name": "python3"
  },
  "language_info": {
   "codemirror_mode": {
    "name": "ipython",
    "version": 3
   },
   "file_extension": ".py",
   "mimetype": "text/x-python",
   "name": "python",
   "nbconvert_exporter": "python",
   "pygments_lexer": "ipython3",
   "version": "3.7.1"
  }
 },
 "nbformat": 4,
 "nbformat_minor": 2
}
